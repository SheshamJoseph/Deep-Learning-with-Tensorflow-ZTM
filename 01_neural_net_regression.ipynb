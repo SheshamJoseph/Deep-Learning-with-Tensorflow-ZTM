{
  "nbformat": 4,
  "nbformat_minor": 0,
  "metadata": {
    "colab": {
      "provenance": [],
      "mount_file_id": "1MuI-piQr-CMv0TkNvYt0PVaiv4ZjCcqN",
      "authorship_tag": "ABX9TyOWUy+hf9mpIcRyDm3S2KI+",
      "include_colab_link": true
    },
    "kernelspec": {
      "name": "python3",
      "display_name": "Python 3"
    },
    "language_info": {
      "name": "python"
    }
  },
  "cells": [
    {
      "cell_type": "markdown",
      "metadata": {
        "id": "view-in-github",
        "colab_type": "text"
      },
      "source": [
        "<a href=\"https://colab.research.google.com/github/SheshamJoseph/Deep-Learning-with-Tensorflow-ZTM/blob/main/01_neural_net_regression.ipynb\" target=\"_parent\"><img src=\"https://colab.research.google.com/assets/colab-badge.svg\" alt=\"Open In Colab\"/></a>"
      ]
    },
    {
      "cell_type": "markdown",
      "source": [
        "# introduction to Regression with Neural Networks in TensorFlow\n",
        "There are many definitions for a regrssion problem but in our case, we're going to simplify it: predicting numerical variable based on some other combination of variables"
      ],
      "metadata": {
        "id": "5wGtg3kLILRk"
      }
    },
    {
      "cell_type": "code",
      "source": [
        "import tensorflow as tf\n",
        "print(tf.__version__)"
      ],
      "metadata": {
        "colab": {
          "base_uri": "https://localhost:8080/"
        },
        "id": "KJEWZV3JI_IJ",
        "outputId": "800bb6fa-0542-40dd-96ba-fe6a95cf9a54"
      },
      "execution_count": null,
      "outputs": [
        {
          "output_type": "stream",
          "name": "stdout",
          "text": [
            "2.14.0\n"
          ]
        }
      ]
    },
    {
      "cell_type": "markdown",
      "source": [
        "# Creating data to view and fit"
      ],
      "metadata": {
        "id": "ElqQvU0hJJea"
      }
    },
    {
      "cell_type": "code",
      "source": [
        "import numpy as np\n",
        "import matplotlib.pyplot as plt\n",
        "\n",
        "# create features\n",
        "X = np.array([-7.0, -4.0, -1.0, 2.0, 5.0, 8.0, 11.0, 14.0])\n",
        "\n",
        "# create labels\n",
        "y = np.array([3.0, 6.0, 9.0, 12.0, 15.0, 18.0, 21.0, 24.0])\n",
        "\n",
        "# visuale it\n",
        "plt.scatter(X, y)"
      ],
      "metadata": {
        "colab": {
          "base_uri": "https://localhost:8080/",
          "height": 453
        },
        "id": "UKwReYCuJSaw",
        "outputId": "b906edc4-5034-4046-f89d-2b9b1d870a45"
      },
      "execution_count": null,
      "outputs": [
        {
          "output_type": "execute_result",
          "data": {
            "text/plain": [
              "<matplotlib.collections.PathCollection at 0x7a96737fe710>"
            ]
          },
          "metadata": {},
          "execution_count": 4
        },
        {
          "output_type": "display_data",
          "data": {
            "text/plain": [
              "<Figure size 640x480 with 1 Axes>"
            ],
            "image/png": "[encoded data removed]"
          },
          "metadata": {}
        }
      ]
    },
    {
      "cell_type": "code",
      "source": [
        "y == X + 10"
      ],
      "metadata": {
        "colab": {
          "base_uri": "https://localhost:8080/"
        },
        "id": "-Vd35G4WKSjR",
        "outputId": "c0b0dbeb-05e6-44ea-87ab-7955902e2f33"
      },
      "execution_count": null,
      "outputs": [
        {
          "output_type": "execute_result",
          "data": {
            "text/plain": [
              "array([ True,  True,  True,  True,  True,  True,  True,  True])"
            ]
          },
          "metadata": {},
          "execution_count": 5
        }
      ]
    },
    {
      "cell_type": "markdown",
      "source": [
        "## Input and output shapes"
      ],
      "metadata": {
        "id": "VlQ6ZBNiKbUD"
      }
    },
    {
      "cell_type": "code",
      "source": [
        "# create a demo tensor for our housing price prediction problem\n",
        "house_info = tf.constant([\"bedroom\", \"bathroom\", \"garage\"])\n",
        "house_price = tf.constant([939700])\n",
        "house_info, house_price"
      ],
      "metadata": {
        "colab": {
          "base_uri": "https://localhost:8080/"
        },
        "id": "XyrWQL7NKwsf",
        "outputId": "3ac36c8d-52fc-43b9-97d0-782ff0de4623"
      },
      "execution_count": null,
      "outputs": [
        {
          "output_type": "execute_result",
          "data": {
            "text/plain": [
              "(<tf.Tensor: shape=(3,), dtype=string, numpy=array([b'bedroom', b'bathroom', b'garage'], dtype=object)>,\n",
              " <tf.Tensor: shape=(1,), dtype=int32, numpy=array([939700], dtype=int32)>)"
            ]
          },
          "metadata": {},
          "execution_count": 6
        }
      ]
    },
    {
      "cell_type": "code",
      "source": [
        "# turn our numpy arrays into tensors\n",
        "X = tf.constant(X)\n",
        "y = tf.constant(y)\n",
        "X, y"
      ],
      "metadata": {
        "colab": {
          "base_uri": "https://localhost:8080/"
        },
        "id": "uoxF7FTDLWQK",
        "outputId": "445ef157-68cc-46ea-e0fa-7f54fe7a0c19"
      },
      "execution_count": null,
      "outputs": [
        {
          "output_type": "execute_result",
          "data": {
            "text/plain": [
              "(<tf.Tensor: shape=(8,), dtype=float64, numpy=array([-7., -4., -1.,  2.,  5.,  8., 11., 14.])>,\n",
              " <tf.Tensor: shape=(8,), dtype=float64, numpy=array([ 3.,  6.,  9., 12., 15., 18., 21., 24.])>)"
            ]
          },
          "metadata": {},
          "execution_count": 7
        }
      ]
    },
    {
      "cell_type": "markdown",
      "source": [
        "## Steps in modelling with tensorflow\n",
        "1. **Creating a model** - define the input and output layers, as well as the hidden layers of a deep learning model\n",
        "2. **Compiling a model** - define the loss function (the function which tells our model how wrong it is), the optimizer(tells our model how to imporve the patterns its learning) and evaluation metrics( what we can use to interprete the performance of our model)\n",
        "3. **Fitting a model**- letting the model find paterns between X and y"
      ],
      "metadata": {
        "id": "JE_8HA0gMebE"
      }
    },
    {
      "cell_type": "code",
      "source": [
        "# set random seed\n",
        "tf.random.set_seed(42)\n",
        "\n",
        "# 1. Create a model using the Sequential API\n",
        "model = tf.keras.Sequential([\n",
        "    tf.keras.layers.Dense(1)\n",
        "])\n",
        "\n",
        "# 2. Compile the  model\n",
        "model.compile(loss=tf.keras.losses.mae,\n",
        "              optimizer=tf.keras.optimizers.SGD(),\n",
        "              metrics=['mae'])\n",
        "\n",
        "# 3. Fit the model\n",
        "model.fit(tf.expand_dims(X, axis=-1), y, epochs=5)"
      ],
      "metadata": {
        "colab": {
          "base_uri": "https://localhost:8080/"
        },
        "id": "ahpy9aW8OS9W",
        "outputId": "9870d443-5d46-4da4-fa82-57a67884717f"
      },
      "execution_count": null,
      "outputs": [
        {
          "output_type": "stream",
          "name": "stdout",
          "text": [
            "Epoch 1/5\n",
            "1/1 [==============================] - 0s 462ms/step - loss: 8.0669 - mae: 8.0669\n",
            "Epoch 2/5\n",
            "1/1 [==============================] - 0s 8ms/step - loss: 7.9344 - mae: 7.9344\n",
            "Epoch 3/5\n",
            "1/1 [==============================] - 0s 12ms/step - loss: 7.8019 - mae: 7.8019\n",
            "Epoch 4/5\n",
            "1/1 [==============================] - 0s 11ms/step - loss: 7.6694 - mae: 7.6694\n",
            "Epoch 5/5\n",
            "1/1 [==============================] - 0s 11ms/step - loss: 7.5369 - mae: 7.5369\n"
          ]
        },
        {
          "output_type": "execute_result",
          "data": {
            "text/plain": [
              "<keras.src.callbacks.History at 0x7a966e6bcfa0>"
            ]
          },
          "metadata": {},
          "execution_count": 8
        }
      ]
    },
    {
      "cell_type": "code",
      "source": [
        "# Check out X and y\n",
        "X, y"
      ],
      "metadata": {
        "colab": {
          "base_uri": "https://localhost:8080/"
        },
        "id": "ZZYRj-bTky1u",
        "outputId": "d7a711f6-7328-4a97-9193-385cca7bb8e5"
      },
      "execution_count": null,
      "outputs": [
        {
          "output_type": "execute_result",
          "data": {
            "text/plain": [
              "(<tf.Tensor: shape=(8,), dtype=float64, numpy=array([-7., -4., -1.,  2.,  5.,  8., 11., 14.])>,\n",
              " <tf.Tensor: shape=(8,), dtype=float64, numpy=array([ 3.,  6.,  9., 12., 15., 18., 21., 24.])>)"
            ]
          },
          "metadata": {},
          "execution_count": 9
        }
      ]
    },
    {
      "cell_type": "code",
      "source": [
        "# make a prrediction\n",
        "y_pred = model.predict([17.0])\n",
        "y_pred"
      ],
      "metadata": {
        "colab": {
          "base_uri": "https://localhost:8080/"
        },
        "id": "dIyXQNwjljxL",
        "outputId": "a016c8c4-bf71-4e42-dec9-d0a187954655"
      },
      "execution_count": null,
      "outputs": [
        {
          "output_type": "stream",
          "name": "stdout",
          "text": [
            "1/1 [==============================] - 0s 96ms/step\n"
          ]
        },
        {
          "output_type": "execute_result",
          "data": {
            "text/plain": [
              "array([[29.414171]], dtype=float32)"
            ]
          },
          "metadata": {},
          "execution_count": 10
        }
      ]
    },
    {
      "cell_type": "markdown",
      "source": [
        "## Improving our model\n",
        "We can improve our model by altering the steps we took in creating it\n",
        "1. **Creating a model** - Here we might add more layers, increase the number of hidden units(neurons) within each of the hidden layers, change the activtation function of each layer\n",
        "2. **Compiling a model** - Here we might change the optimization function or the learning rate of the optimization function\n",
        "3. **Fitting a model** - Here we might fit a model for more epochs, or on more data"
      ],
      "metadata": {
        "id": "pcYk4gWelxXh"
      }
    },
    {
      "cell_type": "code",
      "source": [
        "# Rebuild model\n",
        "model = tf.keras.Sequential([\n",
        "    tf.keras.layers.Dense(1)\n",
        "])\n",
        "\n",
        "# compile\n",
        "model.compile(loss=tf.keras.metrics.mae,\n",
        "              optimizer=tf.keras.optimizers.SGD(),\n",
        "              metrics=[\"mae\"])\n",
        "\n",
        "# fit the model, this time train for longer\n",
        "model.fit(tf.expand_dims(X, axis=-1), y, epochs=100)"
      ],
      "metadata": {
        "colab": {
          "base_uri": "https://localhost:8080/"
        },
        "id": "rEMbCewBmE09",
        "outputId": "1a3b10e8-e3ea-44e7-9c06-8c0a99fab098"
      },
      "execution_count": null,
      "outputs": [
        {
          "output_type": "stream",
          "name": "stdout",
          "text": [
            "Epoch 1/100\n",
            "1/1 [==============================] - 0s 317ms/step - loss: 16.4419 - mae: 16.4419\n",
            "Epoch 2/100\n",
            "1/1 [==============================] - 0s 10ms/step - loss: 16.1607 - mae: 16.1607\n",
            "Epoch 3/100\n",
            "1/1 [==============================] - 0s 9ms/step - loss: 15.8794 - mae: 15.8794\n",
            "Epoch 4/100\n",
            "1/1 [==============================] - 0s 9ms/step - loss: 15.5982 - mae: 15.5982\n",
            "Epoch 5/100\n",
            "1/1 [==============================] - 0s 9ms/step - loss: 15.3169 - mae: 15.3169\n",
            "Epoch 6/100\n",
            "1/1 [==============================] - 0s 10ms/step - loss: 15.0357 - mae: 15.0357\n",
            "Epoch 7/100\n",
            "1/1 [==============================] - 0s 9ms/step - loss: 14.8138 - mae: 14.8138\n",
            "Epoch 8/100\n",
            "1/1 [==============================] - 0s 11ms/step - loss: 14.6813 - mae: 14.6813\n",
            "Epoch 9/100\n",
            "1/1 [==============================] - 0s 10ms/step - loss: 14.5488 - mae: 14.5488\n",
            "Epoch 10/100\n",
            "1/1 [==============================] - 0s 10ms/step - loss: 14.4163 - mae: 14.4163\n",
            "Epoch 11/100\n",
            "1/1 [==============================] - 0s 9ms/step - loss: 14.2838 - mae: 14.2838\n",
            "Epoch 12/100\n",
            "1/1 [==============================] - 0s 10ms/step - loss: 14.1513 - mae: 14.1513\n",
            "Epoch 13/100\n",
            "1/1 [==============================] - 0s 8ms/step - loss: 14.0188 - mae: 14.0188\n",
            "Epoch 14/100\n",
            "1/1 [==============================] - 0s 10ms/step - loss: 13.8863 - mae: 13.8863\n",
            "Epoch 15/100\n",
            "1/1 [==============================] - 0s 9ms/step - loss: 13.7538 - mae: 13.7538\n",
            "Epoch 16/100\n",
            "1/1 [==============================] - 0s 9ms/step - loss: 13.6213 - mae: 13.6213\n",
            "Epoch 17/100\n",
            "1/1 [==============================] - 0s 9ms/step - loss: 13.4888 - mae: 13.4888\n",
            "Epoch 18/100\n",
            "1/1 [==============================] - 0s 9ms/step - loss: 13.3563 - mae: 13.3563\n",
            "Epoch 19/100\n",
            "1/1 [==============================] - 0s 9ms/step - loss: 13.2238 - mae: 13.2238\n",
            "Epoch 20/100\n",
            "1/1 [==============================] - 0s 13ms/step - loss: 13.0913 - mae: 13.0913\n",
            "Epoch 21/100\n",
            "1/1 [==============================] - 0s 11ms/step - loss: 12.9588 - mae: 12.9588\n",
            "Epoch 22/100\n",
            "1/1 [==============================] - 0s 9ms/step - loss: 12.8263 - mae: 12.8263\n",
            "Epoch 23/100\n",
            "1/1 [==============================] - 0s 17ms/step - loss: 12.6938 - mae: 12.6938\n",
            "Epoch 24/100\n",
            "1/1 [==============================] - 0s 15ms/step - loss: 12.5613 - mae: 12.5613\n",
            "Epoch 25/100\n",
            "1/1 [==============================] - 0s 8ms/step - loss: 12.4288 - mae: 12.4288\n",
            "Epoch 26/100\n",
            "1/1 [==============================] - 0s 15ms/step - loss: 12.2963 - mae: 12.2963\n",
            "Epoch 27/100\n",
            "1/1 [==============================] - 0s 9ms/step - loss: 12.1638 - mae: 12.1638\n",
            "Epoch 28/100\n",
            "1/1 [==============================] - 0s 9ms/step - loss: 12.0313 - mae: 12.0313\n",
            "Epoch 29/100\n",
            "1/1 [==============================] - 0s 10ms/step - loss: 11.8988 - mae: 11.8988\n",
            "Epoch 30/100\n",
            "1/1 [==============================] - 0s 9ms/step - loss: 11.7663 - mae: 11.7663\n",
            "Epoch 31/100\n",
            "1/1 [==============================] - 0s 10ms/step - loss: 11.6338 - mae: 11.6338\n",
            "Epoch 32/100\n",
            "1/1 [==============================] - 0s 9ms/step - loss: 11.5013 - mae: 11.5013\n",
            "Epoch 33/100\n",
            "1/1 [==============================] - 0s 10ms/step - loss: 11.3688 - mae: 11.3688\n",
            "Epoch 34/100\n",
            "1/1 [==============================] - 0s 14ms/step - loss: 11.2363 - mae: 11.2363\n",
            "Epoch 35/100\n",
            "1/1 [==============================] - 0s 11ms/step - loss: 11.1038 - mae: 11.1038\n",
            "Epoch 36/100\n",
            "1/1 [==============================] - 0s 13ms/step - loss: 10.9713 - mae: 10.9713\n",
            "Epoch 37/100\n",
            "1/1 [==============================] - 0s 11ms/step - loss: 10.8388 - mae: 10.8388\n",
            "Epoch 38/100\n",
            "1/1 [==============================] - 0s 10ms/step - loss: 10.7063 - mae: 10.7063\n",
            "Epoch 39/100\n",
            "1/1 [==============================] - 0s 14ms/step - loss: 10.5738 - mae: 10.5738\n",
            "Epoch 40/100\n",
            "1/1 [==============================] - 0s 9ms/step - loss: 10.4413 - mae: 10.4413\n",
            "Epoch 41/100\n",
            "1/1 [==============================] - 0s 9ms/step - loss: 10.3088 - mae: 10.3088\n",
            "Epoch 42/100\n",
            "1/1 [==============================] - 0s 13ms/step - loss: 10.1763 - mae: 10.1763\n",
            "Epoch 43/100\n",
            "1/1 [==============================] - 0s 9ms/step - loss: 10.0438 - mae: 10.0438\n",
            "Epoch 44/100\n",
            "1/1 [==============================] - 0s 11ms/step - loss: 9.9113 - mae: 9.9113\n",
            "Epoch 45/100\n",
            "1/1 [==============================] - 0s 10ms/step - loss: 9.7788 - mae: 9.7788\n",
            "Epoch 46/100\n",
            "1/1 [==============================] - 0s 8ms/step - loss: 9.6463 - mae: 9.6463\n",
            "Epoch 47/100\n",
            "1/1 [==============================] - 0s 9ms/step - loss: 9.5138 - mae: 9.5138\n",
            "Epoch 48/100\n",
            "1/1 [==============================] - 0s 13ms/step - loss: 9.3813 - mae: 9.3813\n",
            "Epoch 49/100\n",
            "1/1 [==============================] - 0s 11ms/step - loss: 9.2488 - mae: 9.2488\n",
            "Epoch 50/100\n",
            "1/1 [==============================] - 0s 10ms/step - loss: 9.1163 - mae: 9.1163\n",
            "Epoch 51/100\n",
            "1/1 [==============================] - 0s 10ms/step - loss: 8.9838 - mae: 8.9838\n",
            "Epoch 52/100\n",
            "1/1 [==============================] - 0s 9ms/step - loss: 8.8513 - mae: 8.8513\n",
            "Epoch 53/100\n",
            "1/1 [==============================] - 0s 10ms/step - loss: 8.7188 - mae: 8.7188\n",
            "Epoch 54/100\n",
            "1/1 [==============================] - 0s 9ms/step - loss: 8.5863 - mae: 8.5863\n",
            "Epoch 55/100\n",
            "1/1 [==============================] - 0s 9ms/step - loss: 8.4538 - mae: 8.4538\n",
            "Epoch 56/100\n",
            "1/1 [==============================] - 0s 9ms/step - loss: 8.3213 - mae: 8.3213\n",
            "Epoch 57/100\n",
            "1/1 [==============================] - 0s 9ms/step - loss: 8.1888 - mae: 8.1888\n",
            "Epoch 58/100\n",
            "1/1 [==============================] - 0s 9ms/step - loss: 8.0563 - mae: 8.0563\n",
            "Epoch 59/100\n",
            "1/1 [==============================] - 0s 9ms/step - loss: 7.9238 - mae: 7.9238\n",
            "Epoch 60/100\n",
            "1/1 [==============================] - 0s 9ms/step - loss: 7.7913 - mae: 7.7913\n",
            "Epoch 61/100\n",
            "1/1 [==============================] - 0s 9ms/step - loss: 7.6588 - mae: 7.6588\n",
            "Epoch 62/100\n",
            "1/1 [==============================] - 0s 8ms/step - loss: 7.5263 - mae: 7.5263\n",
            "Epoch 63/100\n",
            "1/1 [==============================] - 0s 11ms/step - loss: 7.3938 - mae: 7.3938\n",
            "Epoch 64/100\n",
            "1/1 [==============================] - 0s 9ms/step - loss: 7.2613 - mae: 7.2613\n",
            "Epoch 65/100\n",
            "1/1 [==============================] - 0s 11ms/step - loss: 7.1288 - mae: 7.1288\n",
            "Epoch 66/100\n",
            "1/1 [==============================] - 0s 11ms/step - loss: 7.0238 - mae: 7.0238\n",
            "Epoch 67/100\n",
            "1/1 [==============================] - 0s 12ms/step - loss: 7.0181 - mae: 7.0181\n",
            "Epoch 68/100\n",
            "1/1 [==============================] - 0s 9ms/step - loss: 7.0125 - mae: 7.0125\n",
            "Epoch 69/100\n",
            "1/1 [==============================] - 0s 8ms/step - loss: 7.0069 - mae: 7.0069\n",
            "Epoch 70/100\n",
            "1/1 [==============================] - 0s 8ms/step - loss: 7.0013 - mae: 7.0013\n",
            "Epoch 71/100\n",
            "1/1 [==============================] - 0s 8ms/step - loss: 6.9956 - mae: 6.9956\n",
            "Epoch 72/100\n",
            "1/1 [==============================] - 0s 8ms/step - loss: 6.9900 - mae: 6.9900\n",
            "Epoch 73/100\n",
            "1/1 [==============================] - 0s 9ms/step - loss: 6.9844 - mae: 6.9844\n",
            "Epoch 74/100\n",
            "1/1 [==============================] - 0s 10ms/step - loss: 6.9788 - mae: 6.9788\n",
            "Epoch 75/100\n",
            "1/1 [==============================] - 0s 10ms/step - loss: 6.9731 - mae: 6.9731\n",
            "Epoch 76/100\n",
            "1/1 [==============================] - 0s 8ms/step - loss: 6.9675 - mae: 6.9675\n",
            "Epoch 77/100\n",
            "1/1 [==============================] - 0s 8ms/step - loss: 6.9619 - mae: 6.9619\n",
            "Epoch 78/100\n",
            "1/1 [==============================] - 0s 9ms/step - loss: 6.9563 - mae: 6.9563\n",
            "Epoch 79/100\n",
            "1/1 [==============================] - 0s 9ms/step - loss: 6.9506 - mae: 6.9506\n",
            "Epoch 80/100\n",
            "1/1 [==============================] - 0s 9ms/step - loss: 6.9450 - mae: 6.9450\n",
            "Epoch 81/100\n",
            "1/1 [==============================] - 0s 9ms/step - loss: 6.9394 - mae: 6.9394\n",
            "Epoch 82/100\n",
            "1/1 [==============================] - 0s 12ms/step - loss: 6.9338 - mae: 6.9338\n",
            "Epoch 83/100\n",
            "1/1 [==============================] - 0s 8ms/step - loss: 6.9281 - mae: 6.9281\n",
            "Epoch 84/100\n",
            "1/1 [==============================] - 0s 8ms/step - loss: 6.9225 - mae: 6.9225\n",
            "Epoch 85/100\n",
            "1/1 [==============================] - 0s 10ms/step - loss: 6.9169 - mae: 6.9169\n",
            "Epoch 86/100\n",
            "1/1 [==============================] - 0s 9ms/step - loss: 6.9113 - mae: 6.9113\n",
            "Epoch 87/100\n",
            "1/1 [==============================] - 0s 9ms/step - loss: 6.9056 - mae: 6.9056\n",
            "Epoch 88/100\n",
            "1/1 [==============================] - 0s 13ms/step - loss: 6.9000 - mae: 6.9000\n",
            "Epoch 89/100\n",
            "1/1 [==============================] - 0s 9ms/step - loss: 6.8944 - mae: 6.8944\n",
            "Epoch 90/100\n",
            "1/1 [==============================] - 0s 9ms/step - loss: 6.8888 - mae: 6.8888\n",
            "Epoch 91/100\n",
            "1/1 [==============================] - 0s 10ms/step - loss: 6.8831 - mae: 6.8831\n",
            "Epoch 92/100\n",
            "1/1 [==============================] - 0s 8ms/step - loss: 6.8775 - mae: 6.8775\n",
            "Epoch 93/100\n",
            "1/1 [==============================] - 0s 8ms/step - loss: 6.8719 - mae: 6.8719\n",
            "Epoch 94/100\n",
            "1/1 [==============================] - 0s 8ms/step - loss: 6.8663 - mae: 6.8663\n",
            "Epoch 95/100\n",
            "1/1 [==============================] - 0s 9ms/step - loss: 6.8606 - mae: 6.8606\n",
            "Epoch 96/100\n",
            "1/1 [==============================] - 0s 8ms/step - loss: 6.8550 - mae: 6.8550\n",
            "Epoch 97/100\n",
            "1/1 [==============================] - 0s 8ms/step - loss: 6.8494 - mae: 6.8494\n",
            "Epoch 98/100\n",
            "1/1 [==============================] - 0s 11ms/step - loss: 6.8438 - mae: 6.8438\n",
            "Epoch 99/100\n",
            "1/1 [==============================] - 0s 11ms/step - loss: 6.8381 - mae: 6.8381\n",
            "Epoch 100/100\n",
            "1/1 [==============================] - 0s 9ms/step - loss: 6.8325 - mae: 6.8325\n"
          ]
        },
        {
          "output_type": "execute_result",
          "data": {
            "text/plain": [
              "<keras.src.callbacks.History at 0x7a966edef460>"
            ]
          },
          "metadata": {},
          "execution_count": 11
        }
      ]
    },
    {
      "cell_type": "code",
      "source": [
        "X, y"
      ],
      "metadata": {
        "colab": {
          "base_uri": "https://localhost:8080/"
        },
        "id": "W2aVv6TqigZb",
        "outputId": "2c15731f-8f29-4ab2-8ebd-a44949966b09"
      },
      "execution_count": null,
      "outputs": [
        {
          "output_type": "execute_result",
          "data": {
            "text/plain": [
              "(<tf.Tensor: shape=(8,), dtype=float64, numpy=array([-7., -4., -1.,  2.,  5.,  8., 11., 14.])>,\n",
              " <tf.Tensor: shape=(8,), dtype=float64, numpy=array([ 3.,  6.,  9., 12., 15., 18., 21., 24.])>)"
            ]
          },
          "metadata": {},
          "execution_count": 12
        }
      ]
    },
    {
      "cell_type": "code",
      "source": [
        "# make a prediction to check\n",
        "model.predict([17])"
      ],
      "metadata": {
        "colab": {
          "base_uri": "https://localhost:8080/"
        },
        "id": "D2Y0Zq7Fi1vN",
        "outputId": "23ecdf75-89bc-4705-854a-6a1fc785059c"
      },
      "execution_count": null,
      "outputs": [
        {
          "output_type": "stream",
          "name": "stdout",
          "text": [
            "1/1 [==============================] - 0s 61ms/step\n"
          ]
        },
        {
          "output_type": "execute_result",
          "data": {
            "text/plain": [
              "array([[29.402645]], dtype=float32)"
            ]
          },
          "metadata": {},
          "execution_count": 13
        }
      ]
    },
    {
      "cell_type": "code",
      "source": [
        "# making a few changes to the model to see if it improves\n",
        "# Rebuild model\n",
        "model = tf.keras.Sequential([\n",
        "    tf.keras.layers.Dense(100, activation=\"relu\"),\n",
        "    tf.keras.layers.Dense(1)\n",
        "])\n",
        "\n",
        "# changing the optimizer\n",
        "model.compile(loss=\"mae\",\n",
        "              optimizer=tf.keras.optimizers.Adam(learning_rate=0.01),\n",
        "              metrics=[\"mae\"])\n",
        "\n",
        "# fit the model, this time train for longer\n",
        "model.fit(tf.expand_dims(X, axis=-1), y, epochs=100)"
      ],
      "metadata": {
        "colab": {
          "base_uri": "https://localhost:8080/"
        },
        "id": "7djyEmcci8yf",
        "outputId": "267376b1-3101-4aeb-9102-f3089fe43cfb"
      },
      "execution_count": null,
      "outputs": [
        {
          "output_type": "stream",
          "name": "stdout",
          "text": [
            "Epoch 1/100\n",
            "1/1 [==============================] - 1s 554ms/step - loss: 13.2293 - mae: 13.2293\n",
            "Epoch 2/100\n",
            "1/1 [==============================] - 0s 8ms/step - loss: 12.2913 - mae: 12.2913\n",
            "Epoch 3/100\n",
            "1/1 [==============================] - 0s 9ms/step - loss: 11.3488 - mae: 11.3488\n",
            "Epoch 4/100\n",
            "1/1 [==============================] - 0s 10ms/step - loss: 10.3958 - mae: 10.3958\n",
            "Epoch 5/100\n",
            "1/1 [==============================] - 0s 8ms/step - loss: 9.4270 - mae: 9.4270\n",
            "Epoch 6/100\n",
            "1/1 [==============================] - 0s 9ms/step - loss: 8.5195 - mae: 8.5195\n",
            "Epoch 7/100\n",
            "1/1 [==============================] - 0s 9ms/step - loss: 7.7060 - mae: 7.7060\n",
            "Epoch 8/100\n",
            "1/1 [==============================] - 0s 9ms/step - loss: 6.8629 - mae: 6.8629\n",
            "Epoch 9/100\n",
            "1/1 [==============================] - 0s 11ms/step - loss: 5.9864 - mae: 5.9864\n",
            "Epoch 10/100\n",
            "1/1 [==============================] - 0s 10ms/step - loss: 5.0760 - mae: 5.0760\n",
            "Epoch 11/100\n",
            "1/1 [==============================] - 0s 8ms/step - loss: 4.1299 - mae: 4.1299\n",
            "Epoch 12/100\n",
            "1/1 [==============================] - 0s 8ms/step - loss: 3.7481 - mae: 3.7481\n",
            "Epoch 13/100\n",
            "1/1 [==============================] - 0s 8ms/step - loss: 3.9480 - mae: 3.9480\n",
            "Epoch 14/100\n",
            "1/1 [==============================] - 0s 9ms/step - loss: 4.2333 - mae: 4.2333\n",
            "Epoch 15/100\n",
            "1/1 [==============================] - 0s 9ms/step - loss: 4.6077 - mae: 4.6077\n",
            "Epoch 16/100\n",
            "1/1 [==============================] - 0s 9ms/step - loss: 4.8546 - mae: 4.8546\n",
            "Epoch 17/100\n",
            "1/1 [==============================] - 0s 14ms/step - loss: 4.9883 - mae: 4.9883\n",
            "Epoch 18/100\n",
            "1/1 [==============================] - 0s 12ms/step - loss: 5.0228 - mae: 5.0228\n",
            "Epoch 19/100\n",
            "1/1 [==============================] - 0s 9ms/step - loss: 4.9726 - mae: 4.9726\n",
            "Epoch 20/100\n",
            "1/1 [==============================] - 0s 10ms/step - loss: 4.8502 - mae: 4.8502\n",
            "Epoch 21/100\n",
            "1/1 [==============================] - 0s 10ms/step - loss: 4.6672 - mae: 4.6672\n",
            "Epoch 22/100\n",
            "1/1 [==============================] - 0s 11ms/step - loss: 4.4351 - mae: 4.4351\n",
            "Epoch 23/100\n",
            "1/1 [==============================] - 0s 9ms/step - loss: 4.1630 - mae: 4.1630\n",
            "Epoch 24/100\n",
            "1/1 [==============================] - 0s 11ms/step - loss: 3.8662 - mae: 3.8662\n",
            "Epoch 25/100\n",
            "1/1 [==============================] - 0s 9ms/step - loss: 3.7463 - mae: 3.7463\n",
            "Epoch 26/100\n",
            "1/1 [==============================] - 0s 9ms/step - loss: 3.6276 - mae: 3.6276\n",
            "Epoch 27/100\n",
            "1/1 [==============================] - 0s 9ms/step - loss: 3.5078 - mae: 3.5078\n",
            "Epoch 28/100\n",
            "1/1 [==============================] - 0s 11ms/step - loss: 3.5117 - mae: 3.5117\n",
            "Epoch 29/100\n",
            "1/1 [==============================] - 0s 9ms/step - loss: 3.5694 - mae: 3.5694\n",
            "Epoch 30/100\n",
            "1/1 [==============================] - 0s 10ms/step - loss: 3.5987 - mae: 3.5987\n",
            "Epoch 31/100\n",
            "1/1 [==============================] - 0s 11ms/step - loss: 3.6335 - mae: 3.6335\n",
            "Epoch 32/100\n",
            "1/1 [==============================] - 0s 13ms/step - loss: 3.5647 - mae: 3.5647\n",
            "Epoch 33/100\n",
            "1/1 [==============================] - 0s 13ms/step - loss: 3.4400 - mae: 3.4400\n",
            "Epoch 34/100\n",
            "1/1 [==============================] - 0s 16ms/step - loss: 3.3175 - mae: 3.3175\n",
            "Epoch 35/100\n",
            "1/1 [==============================] - 0s 14ms/step - loss: 3.1761 - mae: 3.1761\n",
            "Epoch 36/100\n",
            "1/1 [==============================] - 0s 10ms/step - loss: 3.0677 - mae: 3.0677\n",
            "Epoch 37/100\n",
            "1/1 [==============================] - 0s 14ms/step - loss: 3.0982 - mae: 3.0982\n",
            "Epoch 38/100\n",
            "1/1 [==============================] - 0s 14ms/step - loss: 3.0890 - mae: 3.0890\n",
            "Epoch 39/100\n",
            "1/1 [==============================] - 0s 12ms/step - loss: 3.0208 - mae: 3.0208\n",
            "Epoch 40/100\n",
            "1/1 [==============================] - 0s 13ms/step - loss: 2.9852 - mae: 2.9852\n",
            "Epoch 41/100\n",
            "1/1 [==============================] - 0s 14ms/step - loss: 2.9410 - mae: 2.9410\n",
            "Epoch 42/100\n",
            "1/1 [==============================] - 0s 10ms/step - loss: 2.8820 - mae: 2.8820\n",
            "Epoch 43/100\n",
            "1/1 [==============================] - 0s 10ms/step - loss: 2.8089 - mae: 2.8089\n",
            "Epoch 44/100\n",
            "1/1 [==============================] - 0s 9ms/step - loss: 2.7299 - mae: 2.7299\n",
            "Epoch 45/100\n",
            "1/1 [==============================] - 0s 9ms/step - loss: 2.6426 - mae: 2.6426\n",
            "Epoch 46/100\n",
            "1/1 [==============================] - 0s 9ms/step - loss: 2.5451 - mae: 2.5451\n",
            "Epoch 47/100\n",
            "1/1 [==============================] - 0s 9ms/step - loss: 2.4423 - mae: 2.4423\n",
            "Epoch 48/100\n",
            "1/1 [==============================] - 0s 9ms/step - loss: 2.3287 - mae: 2.3287\n",
            "Epoch 49/100\n",
            "1/1 [==============================] - 0s 9ms/step - loss: 2.2360 - mae: 2.2360\n",
            "Epoch 50/100\n",
            "1/1 [==============================] - 0s 9ms/step - loss: 2.1549 - mae: 2.1549\n",
            "Epoch 51/100\n",
            "1/1 [==============================] - 0s 8ms/step - loss: 2.0208 - mae: 2.0208\n",
            "Epoch 52/100\n",
            "1/1 [==============================] - 0s 10ms/step - loss: 1.9409 - mae: 1.9409\n",
            "Epoch 53/100\n",
            "1/1 [==============================] - 0s 9ms/step - loss: 1.8528 - mae: 1.8528\n",
            "Epoch 54/100\n",
            "1/1 [==============================] - 0s 9ms/step - loss: 1.7572 - mae: 1.7572\n",
            "Epoch 55/100\n",
            "1/1 [==============================] - 0s 9ms/step - loss: 1.6540 - mae: 1.6540\n",
            "Epoch 56/100\n",
            "1/1 [==============================] - 0s 9ms/step - loss: 1.5350 - mae: 1.5350\n",
            "Epoch 57/100\n",
            "1/1 [==============================] - 0s 9ms/step - loss: 1.3974 - mae: 1.3974\n",
            "Epoch 58/100\n",
            "1/1 [==============================] - 0s 9ms/step - loss: 1.2389 - mae: 1.2389\n",
            "Epoch 59/100\n",
            "1/1 [==============================] - 0s 8ms/step - loss: 1.0701 - mae: 1.0701\n",
            "Epoch 60/100\n",
            "1/1 [==============================] - 0s 8ms/step - loss: 0.9633 - mae: 0.9633\n",
            "Epoch 61/100\n",
            "1/1 [==============================] - 0s 8ms/step - loss: 0.8297 - mae: 0.8297\n",
            "Epoch 62/100\n",
            "1/1 [==============================] - 0s 8ms/step - loss: 0.6224 - mae: 0.6224\n",
            "Epoch 63/100\n",
            "1/1 [==============================] - 0s 9ms/step - loss: 0.5481 - mae: 0.5481\n",
            "Epoch 64/100\n",
            "1/1 [==============================] - 0s 10ms/step - loss: 0.4311 - mae: 0.4311\n",
            "Epoch 65/100\n",
            "1/1 [==============================] - 0s 9ms/step - loss: 0.2775 - mae: 0.2775\n",
            "Epoch 66/100\n",
            "1/1 [==============================] - 0s 9ms/step - loss: 0.5276 - mae: 0.5276\n",
            "Epoch 67/100\n",
            "1/1 [==============================] - 0s 8ms/step - loss: 0.4722 - mae: 0.4722\n",
            "Epoch 68/100\n",
            "1/1 [==============================] - 0s 9ms/step - loss: 0.3531 - mae: 0.3531\n",
            "Epoch 69/100\n",
            "1/1 [==============================] - 0s 9ms/step - loss: 0.7688 - mae: 0.7688\n",
            "Epoch 70/100\n",
            "1/1 [==============================] - 0s 9ms/step - loss: 0.6738 - mae: 0.6738\n",
            "Epoch 71/100\n",
            "1/1 [==============================] - 0s 9ms/step - loss: 0.6056 - mae: 0.6056\n",
            "Epoch 72/100\n",
            "1/1 [==============================] - 0s 8ms/step - loss: 0.6711 - mae: 0.6711\n",
            "Epoch 73/100\n",
            "1/1 [==============================] - 0s 9ms/step - loss: 0.5295 - mae: 0.5295\n",
            "Epoch 74/100\n",
            "1/1 [==============================] - 0s 9ms/step - loss: 0.4267 - mae: 0.4267\n",
            "Epoch 75/100\n",
            "1/1 [==============================] - 0s 10ms/step - loss: 0.7179 - mae: 0.7179\n",
            "Epoch 76/100\n",
            "1/1 [==============================] - 0s 11ms/step - loss: 0.7890 - mae: 0.7890\n",
            "Epoch 77/100\n",
            "1/1 [==============================] - 0s 9ms/step - loss: 0.5724 - mae: 0.5724\n",
            "Epoch 78/100\n",
            "1/1 [==============================] - 0s 9ms/step - loss: 0.2677 - mae: 0.2677\n",
            "Epoch 79/100\n",
            "1/1 [==============================] - 0s 9ms/step - loss: 0.4414 - mae: 0.4414\n",
            "Epoch 80/100\n",
            "1/1 [==============================] - 0s 8ms/step - loss: 0.4503 - mae: 0.4503\n",
            "Epoch 81/100\n",
            "1/1 [==============================] - 0s 8ms/step - loss: 0.2882 - mae: 0.2882\n",
            "Epoch 82/100\n",
            "1/1 [==============================] - 0s 11ms/step - loss: 0.5034 - mae: 0.5034\n",
            "Epoch 83/100\n",
            "1/1 [==============================] - 0s 9ms/step - loss: 0.4814 - mae: 0.4814\n",
            "Epoch 84/100\n",
            "1/1 [==============================] - 0s 9ms/step - loss: 0.2326 - mae: 0.2326\n",
            "Epoch 85/100\n",
            "1/1 [==============================] - 0s 11ms/step - loss: 0.3812 - mae: 0.3812\n",
            "Epoch 86/100\n",
            "1/1 [==============================] - 0s 9ms/step - loss: 0.4916 - mae: 0.4916\n",
            "Epoch 87/100\n",
            "1/1 [==============================] - 0s 9ms/step - loss: 0.3543 - mae: 0.3543\n",
            "Epoch 88/100\n",
            "1/1 [==============================] - 0s 9ms/step - loss: 0.3501 - mae: 0.3501\n",
            "Epoch 89/100\n",
            "1/1 [==============================] - 0s 9ms/step - loss: 0.4971 - mae: 0.4971\n",
            "Epoch 90/100\n",
            "1/1 [==============================] - 0s 9ms/step - loss: 0.4940 - mae: 0.4940\n",
            "Epoch 91/100\n",
            "1/1 [==============================] - 0s 9ms/step - loss: 0.3701 - mae: 0.3701\n",
            "Epoch 92/100\n",
            "1/1 [==============================] - 0s 9ms/step - loss: 0.3096 - mae: 0.3096\n",
            "Epoch 93/100\n",
            "1/1 [==============================] - 0s 9ms/step - loss: 0.4222 - mae: 0.4222\n",
            "Epoch 94/100\n",
            "1/1 [==============================] - 0s 13ms/step - loss: 0.3206 - mae: 0.3206\n",
            "Epoch 95/100\n",
            "1/1 [==============================] - 0s 11ms/step - loss: 0.2605 - mae: 0.2605\n",
            "Epoch 96/100\n",
            "1/1 [==============================] - 0s 10ms/step - loss: 0.3644 - mae: 0.3644\n",
            "Epoch 97/100\n",
            "1/1 [==============================] - 0s 12ms/step - loss: 0.2852 - mae: 0.2852\n",
            "Epoch 98/100\n",
            "1/1 [==============================] - 0s 18ms/step - loss: 0.1518 - mae: 0.1518\n",
            "Epoch 99/100\n",
            "1/1 [==============================] - 0s 14ms/step - loss: 0.3283 - mae: 0.3283\n",
            "Epoch 100/100\n",
            "1/1 [==============================] - 0s 8ms/step - loss: 0.2813 - mae: 0.2813\n"
          ]
        },
        {
          "output_type": "execute_result",
          "data": {
            "text/plain": [
              "<keras.src.callbacks.History at 0x7a966ededed0>"
            ]
          },
          "metadata": {},
          "execution_count": 14
        }
      ]
    },
    {
      "cell_type": "code",
      "source": [
        "model.predict([17.0])"
      ],
      "metadata": {
        "colab": {
          "base_uri": "https://localhost:8080/"
        },
        "id": "BJFXDIf_j9ih",
        "outputId": "28ea10c8-9bd6-4bce-90fb-d3397193b2db"
      },
      "execution_count": null,
      "outputs": [
        {
          "output_type": "stream",
          "name": "stdout",
          "text": [
            "1/1 [==============================] - 0s 104ms/step\n"
          ]
        },
        {
          "output_type": "execute_result",
          "data": {
            "text/plain": [
              "array([[27.43594]], dtype=float32)"
            ]
          },
          "metadata": {},
          "execution_count": 15
        }
      ]
    },
    {
      "cell_type": "markdown",
      "source": [
        "## Evaluating a model\n",
        "In practice, a typical workflow in building neural networks is:\n",
        "```\n",
        "Build a model -> fit it -> evaluate it -> tweak a model -> fit it -> evaluate it...\n",
        "```"
      ],
      "metadata": {
        "id": "LNNQnRRjkEgn"
      }
    },
    {
      "cell_type": "markdown",
      "source": [
        "When it comes to evaluation, it's a good idea to visualize\n",
        "* The data - what data are we working with? What does it look like?\n",
        "* The model itself - what does our model look like?\n",
        "* The training of a model - how does the model perform while it learns?\n",
        "* The predictions of the model - how do the preedictions of a model line up against the ground true"
      ],
      "metadata": {
        "id": "-r-n3FxSnT58"
      }
    },
    {
      "cell_type": "code",
      "source": [
        "# Make a bigger dataset\n",
        "X = tf.range(-100, 100, 4)\n",
        "X"
      ],
      "metadata": {
        "colab": {
          "base_uri": "https://localhost:8080/"
        },
        "id": "5txlycu2WdqV",
        "outputId": "aad352c9-e338-4445-a80b-8358a5aee37b"
      },
      "execution_count": null,
      "outputs": [
        {
          "output_type": "execute_result",
          "data": {
            "text/plain": [
              "<tf.Tensor: shape=(50,), dtype=int32, numpy=\n",
              "array([-100,  -96,  -92,  -88,  -84,  -80,  -76,  -72,  -68,  -64,  -60,\n",
              "        -56,  -52,  -48,  -44,  -40,  -36,  -32,  -28,  -24,  -20,  -16,\n",
              "        -12,   -8,   -4,    0,    4,    8,   12,   16,   20,   24,   28,\n",
              "         32,   36,   40,   44,   48,   52,   56,   60,   64,   68,   72,\n",
              "         76,   80,   84,   88,   92,   96], dtype=int32)>"
            ]
          },
          "metadata": {},
          "execution_count": 16
        }
      ]
    },
    {
      "cell_type": "code",
      "source": [
        "# Make labels for X\n",
        "y = X + 10\n",
        "y"
      ],
      "metadata": {
        "colab": {
          "base_uri": "https://localhost:8080/"
        },
        "id": "bdbu5EE7WpCu",
        "outputId": "ddbe3a7f-f4c7-42ae-9d5f-6df1da1c8cb6"
      },
      "execution_count": null,
      "outputs": [
        {
          "output_type": "execute_result",
          "data": {
            "text/plain": [
              "<tf.Tensor: shape=(50,), dtype=int32, numpy=\n",
              "array([-90, -86, -82, -78, -74, -70, -66, -62, -58, -54, -50, -46, -42,\n",
              "       -38, -34, -30, -26, -22, -18, -14, -10,  -6,  -2,   2,   6,  10,\n",
              "        14,  18,  22,  26,  30,  34,  38,  42,  46,  50,  54,  58,  62,\n",
              "        66,  70,  74,  78,  82,  86,  90,  94,  98, 102, 106], dtype=int32)>"
            ]
          },
          "metadata": {},
          "execution_count": 17
        }
      ]
    },
    {
      "cell_type": "code",
      "source": [
        "# visualize the data\n",
        "import matplotlib.pyplot as plt\n",
        "plt.plot(X, y)"
      ],
      "metadata": {
        "colab": {
          "base_uri": "https://localhost:8080/",
          "height": 448
        },
        "id": "0Nai4vNsWwS-",
        "outputId": "94e65277-5a90-47ab-8d8b-caa7f6d878bd"
      },
      "execution_count": null,
      "outputs": [
        {
          "output_type": "execute_result",
          "data": {
            "text/plain": [
              "[<matplotlib.lines.Line2D at 0x7a966ec28070>]"
            ]
          },
          "metadata": {},
          "execution_count": 18
        },
        {
          "output_type": "display_data",
          "data": {
            "text/plain": [
              "<Figure size 640x480 with 1 Axes>"
            ],
            "image/png": "[encoded data removed]"
          },
          "metadata": {}
        }
      ]
    },
    {
      "cell_type": "markdown",
      "source": [
        "### The 3 sets...\n",
        "* Training set: the model learns from this data, which is typically 70-80% of the total data available\n",
        "* Validation set: the model gets tuned on this data, which is typically 10-15% of the data available\n",
        "* Test set: the model gets evaluated on this data to test what it has learned, this set  is typically 10-15% of the data available"
      ],
      "metadata": {
        "id": "Z5_7OelpW-jE"
      }
    },
    {
      "cell_type": "code",
      "source": [
        "# check the lenght of our samples\n",
        "len(X)"
      ],
      "metadata": {
        "colab": {
          "base_uri": "https://localhost:8080/"
        },
        "id": "_y2IzlP-YRaZ",
        "outputId": "e0c6c6ac-5bd4-47dc-c518-0fec68afc5f4"
      },
      "execution_count": null,
      "outputs": [
        {
          "output_type": "execute_result",
          "data": {
            "text/plain": [
              "50"
            ]
          },
          "metadata": {},
          "execution_count": 19
        }
      ]
    },
    {
      "cell_type": "code",
      "source": [
        "# split the data into traain and test sets\n",
        "X_train = X[:40]\n",
        "y_train = y[:40]\n",
        "X_test = X[40:]\n",
        "y_test = y[40:]\n",
        "len(X_train), len(X_test)"
      ],
      "metadata": {
        "colab": {
          "base_uri": "https://localhost:8080/"
        },
        "id": "cqkY3B78YlfM",
        "outputId": "1f53170e-12e1-4f9c-d497-4fb9d2130d68"
      },
      "execution_count": null,
      "outputs": [
        {
          "output_type": "execute_result",
          "data": {
            "text/plain": [
              "(40, 10)"
            ]
          },
          "metadata": {},
          "execution_count": 20
        }
      ]
    },
    {
      "cell_type": "code",
      "source": [
        "# Visualizing\n",
        "plt.figure(figsize=(10, 7))\n",
        "# plot training data in blue\n",
        "plt.scatter(X_train, y_train, c=\"b\", label=\"Training Data\")\n",
        "# plot testing data in green\n",
        "plt.scatter(X_test, y_test, c=\"g\", label=\"Testing Data\")\n",
        "plt.legend()"
      ],
      "metadata": {
        "colab": {
          "base_uri": "https://localhost:8080/",
          "height": 545
        },
        "id": "AgNIT-LCZWa1",
        "outputId": "63ad85e5-33e6-4bae-f714-15d9aefdfbcd"
      },
      "execution_count": null,
      "outputs": [
        {
          "output_type": "execute_result",
          "data": {
            "text/plain": [
              "<matplotlib.legend.Legend at 0x7a966ebd62f0>"
            ]
          },
          "metadata": {},
          "execution_count": 21
        },
        {
          "output_type": "display_data",
          "data": {
            "text/plain": [
              "<Figure size 1000x700 with 1 Axes>"
            ],
            "image/png": "[encoded data removed]"
          },
          "metadata": {}
        }
      ]
    },
    {
      "cell_type": "code",
      "source": [
        "# building a neural network for our data\n",
        "model = tf.keras.Sequential([\n",
        "    tf.keras.layers.Dense(100, name=\"input_layer\"),\n",
        "    tf.keras.layers.Dense(1, name=\"output_layer\")\n",
        "], name=\"My_model.\")\n",
        "\n",
        "# compile\n",
        "model.compile(loss=tf.keras.losses.mae,\n",
        "              optimizer=tf.keras.optimizers.Adam(learning_rate=0.01),\n",
        "              metrics=[\"mae\"])\n",
        "\n",
        "# # fit\n",
        "# model.fit(X_train, y_train, epochs=100)"
      ],
      "metadata": {
        "id": "8gXEaehBaNyP"
      },
      "execution_count": null,
      "outputs": []
    },
    {
      "cell_type": "markdown",
      "source": [
        "## Visualizing the model"
      ],
      "metadata": {
        "id": "7Uo_ZyFobVpU"
      }
    },
    {
      "cell_type": "code",
      "source": [
        "# model.summary()"
      ],
      "metadata": {
        "id": "m8Q2DJJxbeRo"
      },
      "execution_count": null,
      "outputs": []
    },
    {
      "cell_type": "code",
      "source": [
        "X[0]"
      ],
      "metadata": {
        "colab": {
          "base_uri": "https://localhost:8080/"
        },
        "id": "m2oBfQCAfVCy",
        "outputId": "ba93b944-8e3c-48fc-9cb0-f7e399928cd7"
      },
      "execution_count": null,
      "outputs": [
        {
          "output_type": "execute_result",
          "data": {
            "text/plain": [
              "<tf.Tensor: shape=(), dtype=int32, numpy=-100>"
            ]
          },
          "metadata": {},
          "execution_count": 24
        }
      ]
    },
    {
      "cell_type": "code",
      "source": [
        "# create a model that builds automatically by defining the input shape argument\n",
        "# in the first layer\n",
        "# tf.random.set_seed(42)\n",
        "# # create a model\n",
        "# model = tf.keras.Sequential([\n",
        "#     tf.keras.layers.Dense(1)\n",
        "# ])\n",
        "\n",
        "# model.compile(loss=tf.keras.losses.mae,\n",
        "#               optimizer=tf.keras.optimizers.SGD(),\n",
        "#               metrics=[\"mae\"])\n",
        "# xx = tf.ones((1, 4))\n",
        "# yy = model(xx)\n",
        "# # model.summary()"
      ],
      "metadata": {
        "id": "3yd5equLbkKO"
      },
      "execution_count": null,
      "outputs": []
    },
    {
      "cell_type": "code",
      "source": [
        "# model.summary()"
      ],
      "metadata": {
        "id": "rCkCCO0OeUI8"
      },
      "execution_count": null,
      "outputs": []
    },
    {
      "cell_type": "markdown",
      "source": [
        "* Total params - total number of parameters in the model\n",
        "* Trainable parameters - the parameters(pattern) the model can update as it trains\n",
        "* Non-trainable params - these parameters aren't updated during training(this is typical when you bring in already learned patterns or parametersfrom other models during **Transfer Learning**)\n"
      ],
      "metadata": {
        "id": "OI64cTlfn8n9"
      }
    },
    {
      "cell_type": "code",
      "source": [
        "# fit the model with training data\n",
        "model.fit(tf.expand_dims(X_train, axis=-1), y_train, epochs=100, verbose=0)"
      ],
      "metadata": {
        "colab": {
          "base_uri": "https://localhost:8080/"
        },
        "id": "RimpJRk0qliZ",
        "outputId": "911bd6aa-cd98-4f49-be86-25d9917f7f98"
      },
      "execution_count": null,
      "outputs": [
        {
          "output_type": "execute_result",
          "data": {
            "text/plain": [
              "<keras.src.callbacks.History at 0x7a966edeebc0>"
            ]
          },
          "metadata": {},
          "execution_count": 27
        }
      ]
    },
    {
      "cell_type": "code",
      "source": [
        "model.summary()"
      ],
      "metadata": {
        "id": "CE6m51uzq7Ik",
        "colab": {
          "base_uri": "https://localhost:8080/"
        },
        "outputId": "3133eeef-ac48-4964-b872-1ce80ffc92db"
      },
      "execution_count": null,
      "outputs": [
        {
          "output_type": "stream",
          "name": "stdout",
          "text": [
            "Model: \"My_model.\"\n",
            "_________________________________________________________________\n",
            " Layer (type)                Output Shape              Param #   \n",
            "=================================================================\n",
            " input_layer (Dense)         (None, 100)               200       \n",
            "                                                                 \n",
            " output_layer (Dense)        (None, 1)                 101       \n",
            "                                                                 \n",
            "=================================================================\n",
            "Total params: 301 (1.18 KB)\n",
            "Trainable params: 301 (1.18 KB)\n",
            "Non-trainable params: 0 (0.00 Byte)\n",
            "_________________________________________________________________\n"
          ]
        }
      ]
    },
    {
      "cell_type": "code",
      "source": [
        "from tensorflow.keras.utils import plot_model\n",
        "plot_model(model, show_shapes=True)\n"
      ],
      "metadata": {
        "colab": {
          "base_uri": "https://localhost:8080/",
          "height": 312
        },
        "id": "Z8QI807rCxyP",
        "outputId": "43d10737-d7d8-4c46-b41a-de3b525e3d41"
      },
      "execution_count": null,
      "outputs": [
        {
          "output_type": "execute_result",
          "data": {
            "image/png": "[encoded data removed]",
            "text/plain": [
              "<IPython.core.display.Image object>"
            ]
          },
          "metadata": {},
          "execution_count": 29
        }
      ]
    },
    {
      "cell_type": "markdown",
      "source": [
        "## Visualizing our model's predictions\n",
        "To visualize predictions, it's a good idea to plot them against the ground truth labels.\n",
        "Often you'll see this  in the form of `y_test` or `y_true` versus `y_pred`"
      ],
      "metadata": {
        "id": "7K42CfMyEcqG"
      }
    },
    {
      "cell_type": "code",
      "source": [
        "# Make some predictions\n",
        "y_pred = model.predict(X_test)\n",
        "y_pred"
      ],
      "metadata": {
        "colab": {
          "base_uri": "https://localhost:8080/"
        },
        "id": "I6SdMx8wUaRc",
        "outputId": "c3d2980c-2811-4539-9005-734c01faac83"
      },
      "execution_count": null,
      "outputs": [
        {
          "output_type": "stream",
          "name": "stdout",
          "text": [
            "1/1 [==============================] - 0s 48ms/step\n"
          ]
        },
        {
          "output_type": "execute_result",
          "data": {
            "text/plain": [
              "array([[ 66.98333 ],\n",
              "       [ 70.78085 ],\n",
              "       [ 74.57837 ],\n",
              "       [ 78.37588 ],\n",
              "       [ 82.1734  ],\n",
              "       [ 85.970924],\n",
              "       [ 89.76844 ],\n",
              "       [ 93.565956],\n",
              "       [ 97.363464],\n",
              "       [101.16098 ]], dtype=float32)"
            ]
          },
          "metadata": {},
          "execution_count": 30
        }
      ]
    },
    {
      "cell_type": "code",
      "source": [
        "y_test"
      ],
      "metadata": {
        "colab": {
          "base_uri": "https://localhost:8080/"
        },
        "id": "y26XoTk7Ukda",
        "outputId": "43ad574d-897b-43fe-a3af-e5740a730ad2"
      },
      "execution_count": null,
      "outputs": [
        {
          "output_type": "execute_result",
          "data": {
            "text/plain": [
              "<tf.Tensor: shape=(10,), dtype=int32, numpy=array([ 70,  74,  78,  82,  86,  90,  94,  98, 102, 106], dtype=int32)>"
            ]
          },
          "metadata": {},
          "execution_count": 31
        }
      ]
    },
    {
      "cell_type": "code",
      "source": [
        "# Let's create a plotting function\n",
        "def plot_prediction(predictions, train_data=X_train, train_labels=y_train,\n",
        "                    test_data=X_test, test_labels=y_test):\n",
        "    \"\"\"\n",
        "    Plots training data, test data and compares predictions to ground true\n",
        "    \"\"\"\n",
        "    plt.figure(figsize=(10, 7))\n",
        "    # ploting the training data\n",
        "    plt.scatter(train_data, train_labels, c='b', label=\"Training data\")\n",
        "    # plotting the testing data\n",
        "    plt.scatter(test_data, test_labels, c='g', label=\"Testing data\")\n",
        "    # plot models predictions in red\n",
        "    plt.scatter(test_data, predictions, c='r', label=\"Predictions\")\n",
        "    plt.legend()"
      ],
      "metadata": {
        "id": "tlGIwYlhUnBZ"
      },
      "execution_count": null,
      "outputs": []
    },
    {
      "cell_type": "code",
      "source": [
        "plot_prediction()"
      ],
      "metadata": {
        "colab": {
          "base_uri": "https://localhost:8080/",
          "height": 527
        },
        "id": "DhQLNloOW_Vo",
        "outputId": "abab1e2f-3fad-4566-c5ae-3145b170baa1"
      },
      "execution_count": null,
      "outputs": [
        {
          "output_type": "display_data",
          "data": {
            "text/plain": [
              "<Figure size 1000x700 with 1 Axes>"
            ],
            "image/png": "[encoded data removed]"
          },
          "metadata": {}
        }
      ]
    },
    {
      "cell_type": "markdown",
      "source": [
        "### Evaluating our model's metrics with regression evaluation metrics\n",
        "Depending on the problem you're working on, there will be different evaluation metrics to evaluate your model's performance\n",
        "Since we're working on a regression problem, two of the main metrics are:\n",
        "* MAE - mean absolute error\n",
        "* MSE- mean square error"
      ],
      "metadata": {
        "id": "tGQLxgFGXHPB"
      }
    },
    {
      "cell_type": "code",
      "source": [
        "# Evaluate teh model on the test set\n",
        "model.evaluate(X_test, y_test)"
      ],
      "metadata": {
        "colab": {
          "base_uri": "https://localhost:8080/"
        },
        "id": "HASvTImQYIMj",
        "outputId": "8b8d7705-cdfc-4c31-c6dd-49454d8cc421"
      },
      "execution_count": null,
      "outputs": [
        {
          "output_type": "stream",
          "name": "stdout",
          "text": [
            "1/1 [==============================] - 0s 146ms/step - loss: 3.9278 - mae: 3.9278\n"
          ]
        },
        {
          "output_type": "execute_result",
          "data": {
            "text/plain": [
              "[3.9278388023376465, 3.9278388023376465]"
            ]
          },
          "metadata": {},
          "execution_count": 34
        }
      ]
    },
    {
      "cell_type": "code",
      "source": [
        "# calculate the mean absolute error\n",
        "mae = tf.losses.mean_absolute_error(y_true=y_test,\n",
        "                              y_pred=tf.squeeze(y_pred))\n",
        "mae"
      ],
      "metadata": {
        "colab": {
          "base_uri": "https://localhost:8080/"
        },
        "id": "_gIqaoIFt5f3",
        "outputId": "6ea7947f-43b5-4a32-8508-ed39a95bef1d"
      },
      "execution_count": null,
      "outputs": [
        {
          "output_type": "execute_result",
          "data": {
            "text/plain": [
              "<tf.Tensor: shape=(), dtype=float32, numpy=3.9278405>"
            ]
          },
          "metadata": {},
          "execution_count": 35
        }
      ]
    },
    {
      "cell_type": "code",
      "source": [
        "# Calculate the mean squared error\n",
        "mse = tf.losses.mean_squared_error(y_true=y_test,\n",
        "                            y_pred=tf.squeeze(y_pred))\n",
        "mse"
      ],
      "metadata": {
        "colab": {
          "base_uri": "https://localhost:8080/"
        },
        "id": "mu8UJE19uR7k",
        "outputId": "816e618c-4aec-467a-d747-09c669e46bd0"
      },
      "execution_count": null,
      "outputs": [
        {
          "output_type": "execute_result",
          "data": {
            "text/plain": [
              "<tf.Tensor: shape=(), dtype=float32, numpy=15.766176>"
            ]
          },
          "metadata": {},
          "execution_count": 36
        }
      ]
    },
    {
      "cell_type": "code",
      "source": [
        "def mae(y_true, y_pred):\n",
        "    return tf.metrics.mean_absolute_error(y_true=y_true,\n",
        "                                          y_pred=tf.squeeze(y_pred))\n",
        "\n",
        "def mse(y_true, y_pred):\n",
        "    return tf.metrics.mean_squared_error(y_true=y_true,\n",
        "                                          y_pred=tf.squeeze(y_pred))"
      ],
      "metadata": {
        "id": "8ip3i882v2a1"
      },
      "execution_count": null,
      "outputs": []
    },
    {
      "cell_type": "markdown",
      "source": [
        "### Running experiments to improve our model\n",
        "1. Get more data\n",
        "2. Make your model larger(using a more complex model)\n",
        "3. Train for longer"
      ],
      "metadata": {
        "id": "rC7h2u4fB9Qw"
      }
    },
    {
      "cell_type": "markdown",
      "source": [
        "### **Build `model_1`**"
      ],
      "metadata": {
        "id": "Kyy9GhjnCspC"
      }
    },
    {
      "cell_type": "code",
      "source": [
        "# set random seed\n",
        "tf.random.set_seed(42)\n",
        "# 1.create the model\n",
        "model_1 = tf.keras.Sequential([\n",
        "    tf.keras.layers.Dense(1)\n",
        "])\n",
        "\n",
        "# 2. compile\n",
        "model_1.compile(loss=tf.keras.losses.mae,\n",
        "              optimizer=tf.keras.optimizers.SGD(),\n",
        "              metrics=[\"mae\"])\n",
        "# 3. Fit the model\n",
        "model_1.fit(tf.expand_dims(X_train, axis=-1), y_train, epochs=100)"
      ],
      "metadata": {
        "colab": {
          "base_uri": "https://localhost:8080/"
        },
        "id": "ETge9fUKD8-c",
        "outputId": "00af16d7-83b5-42c4-e5ac-21edf0533da2"
      },
      "execution_count": null,
      "outputs": [
        {
          "output_type": "stream",
          "name": "stdout",
          "text": [
            "Epoch 1/100\n",
            "2/2 [==============================] - 0s 16ms/step - loss: 28.0456 - mae: 28.0456\n",
            "Epoch 2/100\n",
            "2/2 [==============================] - 0s 7ms/step - loss: 8.9051 - mae: 8.9051\n",
            "Epoch 3/100\n",
            "2/2 [==============================] - 0s 8ms/step - loss: 9.7717 - mae: 9.7717\n",
            "Epoch 4/100\n",
            "2/2 [==============================] - 0s 11ms/step - loss: 11.9443 - mae: 11.9443\n",
            "Epoch 5/100\n",
            "2/2 [==============================] - 0s 11ms/step - loss: 11.0085 - mae: 11.0085\n",
            "Epoch 6/100\n",
            "2/2 [==============================] - 0s 9ms/step - loss: 10.1704 - mae: 10.1704\n",
            "Epoch 7/100\n",
            "2/2 [==============================] - 0s 9ms/step - loss: 9.1894 - mae: 9.1894\n",
            "Epoch 8/100\n",
            "2/2 [==============================] - 0s 8ms/step - loss: 9.1294 - mae: 9.1294\n",
            "Epoch 9/100\n",
            "2/2 [==============================] - 0s 7ms/step - loss: 11.7344 - mae: 11.7344\n",
            "Epoch 10/100\n",
            "2/2 [==============================] - 0s 8ms/step - loss: 13.6506 - mae: 13.6506\n",
            "Epoch 11/100\n",
            "2/2 [==============================] - 0s 10ms/step - loss: 11.7118 - mae: 11.7118\n",
            "Epoch 12/100\n",
            "2/2 [==============================] - 0s 7ms/step - loss: 16.4822 - mae: 16.4822\n",
            "Epoch 13/100\n",
            "2/2 [==============================] - 0s 7ms/step - loss: 11.9962 - mae: 11.9962\n",
            "Epoch 14/100\n",
            "2/2 [==============================] - 0s 7ms/step - loss: 13.9437 - mae: 13.9437\n",
            "Epoch 15/100\n",
            "2/2 [==============================] - 0s 8ms/step - loss: 11.3348 - mae: 11.3348\n",
            "Epoch 16/100\n",
            "2/2 [==============================] - 0s 7ms/step - loss: 8.5628 - mae: 8.5628\n",
            "Epoch 17/100\n",
            "2/2 [==============================] - 0s 7ms/step - loss: 13.6872 - mae: 13.6872\n",
            "Epoch 18/100\n",
            "2/2 [==============================] - 0s 11ms/step - loss: 11.5280 - mae: 11.5280\n",
            "Epoch 19/100\n",
            "2/2 [==============================] - 0s 9ms/step - loss: 17.8396 - mae: 17.8396\n",
            "Epoch 20/100\n",
            "2/2 [==============================] - 0s 6ms/step - loss: 14.9748 - mae: 14.9748\n",
            "Epoch 21/100\n",
            "2/2 [==============================] - 0s 6ms/step - loss: 10.8535 - mae: 10.8535\n",
            "Epoch 22/100\n",
            "2/2 [==============================] - 0s 6ms/step - loss: 8.6052 - mae: 8.6052\n",
            "Epoch 23/100\n",
            "2/2 [==============================] - 0s 7ms/step - loss: 9.7042 - mae: 9.7042\n",
            "Epoch 24/100\n",
            "2/2 [==============================] - 0s 7ms/step - loss: 10.9671 - mae: 10.9671\n",
            "Epoch 25/100\n",
            "2/2 [==============================] - 0s 6ms/step - loss: 9.1651 - mae: 9.1651\n",
            "Epoch 26/100\n",
            "2/2 [==============================] - 0s 7ms/step - loss: 13.2058 - mae: 13.2058\n",
            "Epoch 27/100\n",
            "2/2 [==============================] - 0s 7ms/step - loss: 10.6734 - mae: 10.6734\n",
            "Epoch 28/100\n",
            "2/2 [==============================] - 0s 8ms/step - loss: 12.8982 - mae: 12.8982\n",
            "Epoch 29/100\n",
            "2/2 [==============================] - 0s 7ms/step - loss: 9.5125 - mae: 9.5125\n",
            "Epoch 30/100\n",
            "2/2 [==============================] - 0s 7ms/step - loss: 16.4295 - mae: 16.4295\n",
            "Epoch 31/100\n",
            "2/2 [==============================] - 0s 7ms/step - loss: 23.5627 - mae: 23.5627\n",
            "Epoch 32/100\n",
            "2/2 [==============================] - 0s 7ms/step - loss: 7.6074 - mae: 7.6074\n",
            "Epoch 33/100\n",
            "2/2 [==============================] - 0s 6ms/step - loss: 9.3037 - mae: 9.3037\n",
            "Epoch 34/100\n",
            "2/2 [==============================] - 0s 7ms/step - loss: 13.6704 - mae: 13.6704\n",
            "Epoch 35/100\n",
            "2/2 [==============================] - 0s 7ms/step - loss: 11.1617 - mae: 11.1617\n",
            "Epoch 36/100\n",
            "2/2 [==============================] - 0s 7ms/step - loss: 13.3908 - mae: 13.3908\n",
            "Epoch 37/100\n",
            "2/2 [==============================] - 0s 8ms/step - loss: 9.4483 - mae: 9.4483\n",
            "Epoch 38/100\n",
            "2/2 [==============================] - 0s 7ms/step - loss: 10.0987 - mae: 10.0987\n",
            "Epoch 39/100\n",
            "2/2 [==============================] - 0s 7ms/step - loss: 8.9751 - mae: 8.9751\n",
            "Epoch 40/100\n",
            "2/2 [==============================] - 0s 7ms/step - loss: 9.6035 - mae: 9.6035\n",
            "Epoch 41/100\n",
            "2/2 [==============================] - 0s 7ms/step - loss: 10.5650 - mae: 10.5650\n",
            "Epoch 42/100\n",
            "2/2 [==============================] - 0s 6ms/step - loss: 10.6190 - mae: 10.6190\n",
            "Epoch 43/100\n",
            "2/2 [==============================] - 0s 6ms/step - loss: 7.2075 - mae: 7.2075\n",
            "Epoch 44/100\n",
            "2/2 [==============================] - 0s 6ms/step - loss: 8.0166 - mae: 8.0166\n",
            "Epoch 45/100\n",
            "2/2 [==============================] - 0s 6ms/step - loss: 9.8195 - mae: 9.8195\n",
            "Epoch 46/100\n",
            "2/2 [==============================] - 0s 7ms/step - loss: 8.9002 - mae: 8.9002\n",
            "Epoch 47/100\n",
            "2/2 [==============================] - 0s 7ms/step - loss: 7.5619 - mae: 7.5619\n",
            "Epoch 48/100\n",
            "2/2 [==============================] - 0s 7ms/step - loss: 8.5243 - mae: 8.5243\n",
            "Epoch 49/100\n",
            "2/2 [==============================] - 0s 7ms/step - loss: 10.0317 - mae: 10.0317\n",
            "Epoch 50/100\n",
            "2/2 [==============================] - 0s 7ms/step - loss: 8.9700 - mae: 8.9700\n",
            "Epoch 51/100\n",
            "2/2 [==============================] - 0s 7ms/step - loss: 10.7094 - mae: 10.7094\n",
            "Epoch 52/100\n",
            "2/2 [==============================] - 0s 7ms/step - loss: 15.2519 - mae: 15.2519\n",
            "Epoch 53/100\n",
            "2/2 [==============================] - 0s 7ms/step - loss: 14.2840 - mae: 14.2840\n",
            "Epoch 54/100\n",
            "2/2 [==============================] - 0s 6ms/step - loss: 21.5300 - mae: 21.5300\n",
            "Epoch 55/100\n",
            "2/2 [==============================] - 0s 6ms/step - loss: 16.0566 - mae: 16.0566\n",
            "Epoch 56/100\n",
            "2/2 [==============================] - 0s 7ms/step - loss: 10.2350 - mae: 10.2350\n",
            "Epoch 57/100\n",
            "2/2 [==============================] - 0s 7ms/step - loss: 9.7962 - mae: 9.7962\n",
            "Epoch 58/100\n",
            "2/2 [==============================] - 0s 7ms/step - loss: 9.0776 - mae: 9.0776\n",
            "Epoch 59/100\n",
            "2/2 [==============================] - 0s 7ms/step - loss: 8.2825 - mae: 8.2825\n",
            "Epoch 60/100\n",
            "2/2 [==============================] - 0s 7ms/step - loss: 9.3735 - mae: 9.3735\n",
            "Epoch 61/100\n",
            "2/2 [==============================] - 0s 7ms/step - loss: 11.2055 - mae: 11.2055\n",
            "Epoch 62/100\n",
            "2/2 [==============================] - 0s 10ms/step - loss: 12.0213 - mae: 12.0213\n",
            "Epoch 63/100\n",
            "2/2 [==============================] - 0s 10ms/step - loss: 7.2697 - mae: 7.2697\n",
            "Epoch 64/100\n",
            "2/2 [==============================] - 0s 8ms/step - loss: 12.4688 - mae: 12.4688\n",
            "Epoch 65/100\n",
            "2/2 [==============================] - 0s 11ms/step - loss: 10.5414 - mae: 10.5414\n",
            "Epoch 66/100\n",
            "2/2 [==============================] - 0s 11ms/step - loss: 15.5539 - mae: 15.5539\n",
            "Epoch 67/100\n",
            "2/2 [==============================] - 0s 12ms/step - loss: 9.9696 - mae: 9.9696\n",
            "Epoch 68/100\n",
            "2/2 [==============================] - 0s 12ms/step - loss: 8.7018 - mae: 8.7018\n",
            "Epoch 69/100\n",
            "2/2 [==============================] - 0s 11ms/step - loss: 13.4294 - mae: 13.4294\n",
            "Epoch 70/100\n",
            "2/2 [==============================] - 0s 9ms/step - loss: 7.4652 - mae: 7.4652\n",
            "Epoch 71/100\n",
            "2/2 [==============================] - 0s 8ms/step - loss: 12.2683 - mae: 12.2683\n",
            "Epoch 72/100\n",
            "2/2 [==============================] - 0s 8ms/step - loss: 8.4993 - mae: 8.4993\n",
            "Epoch 73/100\n",
            "2/2 [==============================] - 0s 9ms/step - loss: 6.8652 - mae: 6.8652\n",
            "Epoch 74/100\n",
            "2/2 [==============================] - 0s 8ms/step - loss: 11.1423 - mae: 11.1423\n",
            "Epoch 75/100\n",
            "2/2 [==============================] - 0s 7ms/step - loss: 9.3653 - mae: 9.3653\n",
            "Epoch 76/100\n",
            "2/2 [==============================] - 0s 7ms/step - loss: 10.8266 - mae: 10.8266\n",
            "Epoch 77/100\n",
            "2/2 [==============================] - 0s 7ms/step - loss: 14.7008 - mae: 14.7008\n",
            "Epoch 78/100\n",
            "2/2 [==============================] - 0s 8ms/step - loss: 11.1567 - mae: 11.1567\n",
            "Epoch 79/100\n",
            "2/2 [==============================] - 0s 7ms/step - loss: 14.7165 - mae: 14.7165\n",
            "Epoch 80/100\n",
            "2/2 [==============================] - 0s 6ms/step - loss: 8.9201 - mae: 8.9201\n",
            "Epoch 81/100\n",
            "2/2 [==============================] - 0s 7ms/step - loss: 10.7586 - mae: 10.7586\n",
            "Epoch 82/100\n",
            "2/2 [==============================] - 0s 6ms/step - loss: 8.4010 - mae: 8.4010\n",
            "Epoch 83/100\n",
            "2/2 [==============================] - 0s 8ms/step - loss: 9.2174 - mae: 9.2174\n",
            "Epoch 84/100\n",
            "2/2 [==============================] - 0s 8ms/step - loss: 8.9404 - mae: 8.9404\n",
            "Epoch 85/100\n",
            "2/2 [==============================] - 0s 7ms/step - loss: 13.1827 - mae: 13.1827\n",
            "Epoch 86/100\n",
            "2/2 [==============================] - 0s 6ms/step - loss: 13.7160 - mae: 13.7160\n",
            "Epoch 87/100\n",
            "2/2 [==============================] - 0s 8ms/step - loss: 13.2007 - mae: 13.2007\n",
            "Epoch 88/100\n",
            "2/2 [==============================] - 0s 10ms/step - loss: 11.5274 - mae: 11.5274\n",
            "Epoch 89/100\n",
            "2/2 [==============================] - 0s 7ms/step - loss: 7.8088 - mae: 7.8088\n",
            "Epoch 90/100\n",
            "2/2 [==============================] - 0s 9ms/step - loss: 10.9413 - mae: 10.9413\n",
            "Epoch 91/100\n",
            "2/2 [==============================] - 0s 9ms/step - loss: 6.7505 - mae: 6.7505\n",
            "Epoch 92/100\n",
            "2/2 [==============================] - 0s 8ms/step - loss: 10.1341 - mae: 10.1341\n",
            "Epoch 93/100\n",
            "2/2 [==============================] - 0s 9ms/step - loss: 7.6038 - mae: 7.6038\n",
            "Epoch 94/100\n",
            "2/2 [==============================] - 0s 6ms/step - loss: 9.2357 - mae: 9.2357\n",
            "Epoch 95/100\n",
            "2/2 [==============================] - 0s 7ms/step - loss: 10.8201 - mae: 10.8201\n",
            "Epoch 96/100\n",
            "2/2 [==============================] - 0s 9ms/step - loss: 10.3070 - mae: 10.3070\n",
            "Epoch 97/100\n",
            "2/2 [==============================] - 0s 6ms/step - loss: 7.6738 - mae: 7.6738\n",
            "Epoch 98/100\n",
            "2/2 [==============================] - 0s 6ms/step - loss: 8.6101 - mae: 8.6101\n",
            "Epoch 99/100\n",
            "2/2 [==============================] - 0s 6ms/step - loss: 9.3877 - mae: 9.3877\n",
            "Epoch 100/100\n",
            "2/2 [==============================] - 0s 6ms/step - loss: 8.8360 - mae: 8.8360\n"
          ]
        },
        {
          "output_type": "execute_result",
          "data": {
            "text/plain": [
              "<keras.src.callbacks.History at 0x7a966e1d2e90>"
            ]
          },
          "metadata": {},
          "execution_count": 45
        }
      ]
    },
    {
      "cell_type": "code",
      "source": [
        "# Make and plot predictions\n",
        "y_preds_1 = model_1.predict(X_test)\n",
        "plot_prediction(predictions=y_preds_1)"
      ],
      "metadata": {
        "colab": {
          "base_uri": "https://localhost:8080/",
          "height": 578
        },
        "id": "eMffK-1DEu1p",
        "outputId": "77dfbb07-cab8-4144-812d-21aaa15964df"
      },
      "execution_count": null,
      "outputs": [
        {
          "output_type": "stream",
          "name": "stderr",
          "text": [
            "WARNING:tensorflow:5 out of the last 5 calls to <function Model.make_predict_function.<locals>.predict_function at 0x7a966e378af0> triggered tf.function retracing. Tracing is expensive and the excessive number of tracings could be due to (1) creating @tf.function repeatedly in a loop, (2) passing tensors with different shapes, (3) passing Python objects instead of tensors. For (1), please define your @tf.function outside of the loop. For (2), @tf.function has reduce_retracing=True option that can avoid unnecessary retracing. For (3), please refer to https://www.tensorflow.org/guide/function#controlling_retracing and https://www.tensorflow.org/api_docs/python/tf/function for  more details.\n"
          ]
        },
        {
          "output_type": "stream",
          "name": "stdout",
          "text": [
            "1/1 [==============================] - 0s 46ms/step\n"
          ]
        },
        {
          "output_type": "display_data",
          "data": {
            "text/plain": [
              "<Figure size 1000x700 with 1 Axes>"
            ],
            "image/png": "[encoded data removed]"
          },
          "metadata": {}
        }
      ]
    },
    {
      "cell_type": "code",
      "source": [
        "# calculate model_1 evaluation metrics\n",
        "mae_1 = mae(y_test, y_preds_1)\n",
        "mse_1 = mse(y_test, y_preds_1)\n",
        "mae_1, mse_1"
      ],
      "metadata": {
        "colab": {
          "base_uri": "https://localhost:8080/"
        },
        "id": "bDB6b_nMImbG",
        "outputId": "b894f6a4-78c3-4920-9166-13fee5c53678"
      },
      "execution_count": null,
      "outputs": [
        {
          "output_type": "execute_result",
          "data": {
            "text/plain": [
              "(<tf.Tensor: shape=(), dtype=float32, numpy=8.589047>,\n",
              " <tf.Tensor: shape=(), dtype=float32, numpy=80.25698>)"
            ]
          },
          "metadata": {},
          "execution_count": 51
        }
      ]
    },
    {
      "cell_type": "markdown",
      "source": [
        "**Build model_2** - 2 dense layers, trained for 100 epochs"
      ],
      "metadata": {
        "id": "AeV5ioFjJSIN"
      }
    },
    {
      "cell_type": "code",
      "source": [
        "tf.random.set_seed(42)\n",
        "\n",
        "model_2 = tf.keras.Sequential([\n",
        "    tf.keras.layers.Dense(40),\n",
        "    tf.keras.layers.Dense(1)\n",
        "])\n",
        "# compile\n",
        "model_2.compile(loss=tf.keras.losses.mae,\n",
        "                optimizer=tf.keras.optimizers.SGD(),\n",
        "                metrics=[\"mae\"])\n",
        "# fit the model\n",
        "model_2.fit(tf.expand_dims(X_train, axis=-1), y_train, epochs=100)"
      ],
      "metadata": {
        "colab": {
          "base_uri": "https://localhost:8080/"
        },
        "id": "bPYi6R9fKy-z",
        "outputId": "ed8afbd6-4487-441b-e97f-06aac8af2b5b"
      },
      "execution_count": null,
      "outputs": [
        {
          "output_type": "stream",
          "name": "stdout",
          "text": [
            "Epoch 1/100\n",
            "2/2 [==============================] - 1s 54ms/step - loss: 30.9225 - mae: 30.9225\n",
            "Epoch 2/100\n",
            "2/2 [==============================] - 0s 10ms/step - loss: 26.9508 - mae: 26.9508\n",
            "Epoch 3/100\n",
            "2/2 [==============================] - 0s 20ms/step - loss: 31.5285 - mae: 31.5285\n",
            "Epoch 4/100\n",
            "2/2 [==============================] - 0s 10ms/step - loss: 15.8413 - mae: 15.8413\n",
            "Epoch 5/100\n",
            "2/2 [==============================] - 0s 13ms/step - loss: 22.3599 - mae: 22.3599\n",
            "Epoch 6/100\n",
            "2/2 [==============================] - 0s 15ms/step - loss: 12.2975 - mae: 12.2975\n",
            "Epoch 7/100\n",
            "2/2 [==============================] - 0s 10ms/step - loss: 13.8703 - mae: 13.8703\n",
            "Epoch 8/100\n",
            "2/2 [==============================] - 0s 13ms/step - loss: 13.1581 - mae: 13.1581\n",
            "Epoch 9/100\n",
            "2/2 [==============================] - 0s 14ms/step - loss: 34.9362 - mae: 34.9362\n",
            "Epoch 10/100\n",
            "2/2 [==============================] - 0s 10ms/step - loss: 24.2856 - mae: 24.2856\n",
            "Epoch 11/100\n",
            "2/2 [==============================] - 0s 7ms/step - loss: 11.8319 - mae: 11.8319\n",
            "Epoch 12/100\n",
            "2/2 [==============================] - 0s 8ms/step - loss: 23.6795 - mae: 23.6795\n",
            "Epoch 13/100\n",
            "2/2 [==============================] - 0s 11ms/step - loss: 21.1722 - mae: 21.1722\n",
            "Epoch 14/100\n",
            "2/2 [==============================] - 0s 17ms/step - loss: 23.6320 - mae: 23.6320\n",
            "Epoch 15/100\n",
            "2/2 [==============================] - 0s 25ms/step - loss: 15.7260 - mae: 15.7260\n",
            "Epoch 16/100\n",
            "2/2 [==============================] - 0s 37ms/step - loss: 10.4254 - mae: 10.4254\n",
            "Epoch 17/100\n",
            "2/2 [==============================] - 0s 25ms/step - loss: 19.6449 - mae: 19.6449\n",
            "Epoch 18/100\n",
            "2/2 [==============================] - 0s 31ms/step - loss: 13.2842 - mae: 13.2842\n",
            "Epoch 19/100\n",
            "2/2 [==============================] - 0s 22ms/step - loss: 16.0533 - mae: 16.0533\n",
            "Epoch 20/100\n",
            "2/2 [==============================] - 0s 36ms/step - loss: 10.2054 - mae: 10.2054\n",
            "Epoch 21/100\n",
            "2/2 [==============================] - 0s 21ms/step - loss: 13.7517 - mae: 13.7517\n",
            "Epoch 22/100\n",
            "2/2 [==============================] - 0s 24ms/step - loss: 21.9684 - mae: 21.9684\n",
            "Epoch 23/100\n",
            "2/2 [==============================] - 0s 20ms/step - loss: 10.4568 - mae: 10.4568\n",
            "Epoch 24/100\n",
            "2/2 [==============================] - 0s 23ms/step - loss: 15.7439 - mae: 15.7439\n",
            "Epoch 25/100\n",
            "2/2 [==============================] - 0s 31ms/step - loss: 14.8987 - mae: 14.8987\n",
            "Epoch 26/100\n",
            "2/2 [==============================] - 0s 27ms/step - loss: 19.5170 - mae: 19.5170\n",
            "Epoch 27/100\n",
            "2/2 [==============================] - 0s 41ms/step - loss: 20.5493 - mae: 20.5493\n",
            "Epoch 28/100\n",
            "2/2 [==============================] - 0s 31ms/step - loss: 14.9213 - mae: 14.9213\n",
            "Epoch 29/100\n",
            "2/2 [==============================] - 0s 19ms/step - loss: 9.2689 - mae: 9.2689\n",
            "Epoch 30/100\n",
            "2/2 [==============================] - 0s 44ms/step - loss: 30.2927 - mae: 30.2927\n",
            "Epoch 31/100\n",
            "2/2 [==============================] - 0s 23ms/step - loss: 55.0373 - mae: 55.0373\n",
            "Epoch 32/100\n",
            "2/2 [==============================] - 0s 50ms/step - loss: 9.6934 - mae: 9.6934\n",
            "Epoch 33/100\n",
            "2/2 [==============================] - 0s 31ms/step - loss: 12.3019 - mae: 12.3019\n",
            "Epoch 34/100\n",
            "2/2 [==============================] - 0s 25ms/step - loss: 24.4198 - mae: 24.4198\n",
            "Epoch 35/100\n",
            "2/2 [==============================] - 0s 17ms/step - loss: 11.9687 - mae: 11.9687\n",
            "Epoch 36/100\n",
            "2/2 [==============================] - 0s 27ms/step - loss: 22.2147 - mae: 22.2147\n",
            "Epoch 37/100\n",
            "2/2 [==============================] - 0s 24ms/step - loss: 17.3836 - mae: 17.3836\n",
            "Epoch 38/100\n",
            "2/2 [==============================] - 0s 22ms/step - loss: 10.6771 - mae: 10.6771\n",
            "Epoch 39/100\n",
            "2/2 [==============================] - 0s 17ms/step - loss: 11.1929 - mae: 11.1929\n",
            "Epoch 40/100\n",
            "2/2 [==============================] - 0s 9ms/step - loss: 17.9946 - mae: 17.9946\n",
            "Epoch 41/100\n",
            "2/2 [==============================] - 0s 18ms/step - loss: 10.4129 - mae: 10.4129\n",
            "Epoch 42/100\n",
            "2/2 [==============================] - 0s 10ms/step - loss: 7.2771 - mae: 7.2771\n",
            "Epoch 43/100\n",
            "2/2 [==============================] - 0s 11ms/step - loss: 18.9548 - mae: 18.9548\n",
            "Epoch 44/100\n",
            "2/2 [==============================] - 0s 9ms/step - loss: 20.1108 - mae: 20.1108\n",
            "Epoch 45/100\n",
            "2/2 [==============================] - 0s 15ms/step - loss: 10.1294 - mae: 10.1294\n",
            "Epoch 46/100\n",
            "2/2 [==============================] - 0s 12ms/step - loss: 11.3918 - mae: 11.3918\n",
            "Epoch 47/100\n",
            "2/2 [==============================] - 0s 7ms/step - loss: 9.8220 - mae: 9.8220\n",
            "Epoch 48/100\n",
            "2/2 [==============================] - 0s 8ms/step - loss: 17.6087 - mae: 17.6087\n",
            "Epoch 49/100\n",
            "2/2 [==============================] - 0s 8ms/step - loss: 9.3413 - mae: 9.3413\n",
            "Epoch 50/100\n",
            "2/2 [==============================] - 0s 8ms/step - loss: 13.3916 - mae: 13.3916\n",
            "Epoch 51/100\n",
            "2/2 [==============================] - 0s 8ms/step - loss: 11.4433 - mae: 11.4433\n",
            "Epoch 52/100\n",
            "2/2 [==============================] - 0s 8ms/step - loss: 29.4196 - mae: 29.4196\n",
            "Epoch 53/100\n",
            "2/2 [==============================] - 0s 7ms/step - loss: 16.7629 - mae: 16.7629\n",
            "Epoch 54/100\n",
            "2/2 [==============================] - 0s 8ms/step - loss: 21.7442 - mae: 21.7442\n",
            "Epoch 55/100\n",
            "2/2 [==============================] - 0s 12ms/step - loss: 22.1945 - mae: 22.1945\n",
            "Epoch 56/100\n",
            "2/2 [==============================] - 0s 8ms/step - loss: 11.2552 - mae: 11.2552\n",
            "Epoch 57/100\n",
            "2/2 [==============================] - 0s 8ms/step - loss: 13.2365 - mae: 13.2365\n",
            "Epoch 58/100\n",
            "2/2 [==============================] - 0s 8ms/step - loss: 9.8839 - mae: 9.8839\n",
            "Epoch 59/100\n",
            "2/2 [==============================] - 0s 10ms/step - loss: 13.4274 - mae: 13.4274\n",
            "Epoch 60/100\n",
            "2/2 [==============================] - 0s 7ms/step - loss: 10.9504 - mae: 10.9504\n",
            "Epoch 61/100\n",
            "2/2 [==============================] - 0s 8ms/step - loss: 13.5749 - mae: 13.5749\n",
            "Epoch 62/100\n",
            "2/2 [==============================] - 0s 8ms/step - loss: 17.8961 - mae: 17.8961\n",
            "Epoch 63/100\n",
            "2/2 [==============================] - 0s 7ms/step - loss: 8.7493 - mae: 8.7493\n",
            "Epoch 64/100\n",
            "2/2 [==============================] - 0s 7ms/step - loss: 16.1547 - mae: 16.1547\n",
            "Epoch 65/100\n",
            "2/2 [==============================] - 0s 7ms/step - loss: 10.7590 - mae: 10.7590\n",
            "Epoch 66/100\n",
            "2/2 [==============================] - 0s 7ms/step - loss: 22.2060 - mae: 22.2060\n",
            "Epoch 67/100\n",
            "2/2 [==============================] - 0s 7ms/step - loss: 10.2816 - mae: 10.2816\n",
            "Epoch 68/100\n",
            "2/2 [==============================] - 0s 6ms/step - loss: 13.4844 - mae: 13.4844\n",
            "Epoch 69/100\n",
            "2/2 [==============================] - 0s 6ms/step - loss: 11.4474 - mae: 11.4474\n",
            "Epoch 70/100\n",
            "2/2 [==============================] - 0s 13ms/step - loss: 13.6338 - mae: 13.6338\n",
            "Epoch 71/100\n",
            "2/2 [==============================] - 0s 10ms/step - loss: 15.6432 - mae: 15.6432\n",
            "Epoch 72/100\n",
            "2/2 [==============================] - 0s 9ms/step - loss: 11.8668 - mae: 11.8668\n",
            "Epoch 73/100\n",
            "2/2 [==============================] - 0s 9ms/step - loss: 16.6437 - mae: 16.6437\n",
            "Epoch 74/100\n",
            "2/2 [==============================] - 0s 7ms/step - loss: 24.1664 - mae: 24.1664\n",
            "Epoch 75/100\n",
            "2/2 [==============================] - 0s 7ms/step - loss: 9.6445 - mae: 9.6445\n",
            "Epoch 76/100\n",
            "2/2 [==============================] - 0s 7ms/step - loss: 12.4977 - mae: 12.4977\n",
            "Epoch 77/100\n",
            "2/2 [==============================] - 0s 7ms/step - loss: 16.7339 - mae: 16.7339\n",
            "Epoch 78/100\n",
            "2/2 [==============================] - 0s 7ms/step - loss: 9.0953 - mae: 9.0953\n",
            "Epoch 79/100\n",
            "2/2 [==============================] - 0s 8ms/step - loss: 24.0551 - mae: 24.0551\n",
            "Epoch 80/100\n",
            "2/2 [==============================] - 0s 7ms/step - loss: 26.8539 - mae: 26.8539\n",
            "Epoch 81/100\n",
            "2/2 [==============================] - 0s 7ms/step - loss: 11.7436 - mae: 11.7436\n",
            "Epoch 82/100\n",
            "2/2 [==============================] - 0s 7ms/step - loss: 12.0036 - mae: 12.0036\n",
            "Epoch 83/100\n",
            "2/2 [==============================] - 0s 7ms/step - loss: 17.3961 - mae: 17.3961\n",
            "Epoch 84/100\n",
            "2/2 [==============================] - 0s 9ms/step - loss: 7.2797 - mae: 7.2797\n",
            "Epoch 85/100\n",
            "2/2 [==============================] - 0s 7ms/step - loss: 14.9515 - mae: 14.9515\n",
            "Epoch 86/100\n",
            "2/2 [==============================] - 0s 7ms/step - loss: 15.2778 - mae: 15.2778\n",
            "Epoch 87/100\n",
            "2/2 [==============================] - 0s 7ms/step - loss: 19.0803 - mae: 19.0803\n",
            "Epoch 88/100\n",
            "2/2 [==============================] - 0s 7ms/step - loss: 29.9053 - mae: 29.9053\n",
            "Epoch 89/100\n",
            "2/2 [==============================] - 0s 8ms/step - loss: 10.2093 - mae: 10.2093\n",
            "Epoch 90/100\n",
            "2/2 [==============================] - 0s 6ms/step - loss: 21.5862 - mae: 21.5862\n",
            "Epoch 91/100\n",
            "2/2 [==============================] - 0s 6ms/step - loss: 10.6078 - mae: 10.6078\n",
            "Epoch 92/100\n",
            "2/2 [==============================] - 0s 10ms/step - loss: 18.4514 - mae: 18.4514\n",
            "Epoch 93/100\n",
            "2/2 [==============================] - 0s 7ms/step - loss: 7.4381 - mae: 7.4381\n",
            "Epoch 94/100\n",
            "2/2 [==============================] - 0s 11ms/step - loss: 17.7816 - mae: 17.7816\n",
            "Epoch 95/100\n",
            "2/2 [==============================] - 0s 7ms/step - loss: 11.1487 - mae: 11.1487\n",
            "Epoch 96/100\n",
            "2/2 [==============================] - 0s 6ms/step - loss: 19.4785 - mae: 19.4785\n",
            "Epoch 97/100\n",
            "2/2 [==============================] - 0s 8ms/step - loss: 12.5198 - mae: 12.5198\n",
            "Epoch 98/100\n",
            "2/2 [==============================] - 0s 11ms/step - loss: 10.3142 - mae: 10.3142\n",
            "Epoch 99/100\n",
            "2/2 [==============================] - 0s 9ms/step - loss: 13.8426 - mae: 13.8426\n",
            "Epoch 100/100\n",
            "2/2 [==============================] - 0s 6ms/step - loss: 20.1321 - mae: 20.1321\n"
          ]
        },
        {
          "output_type": "execute_result",
          "data": {
            "text/plain": [
              "<keras.src.callbacks.History at 0x7a966dcc7fd0>"
            ]
          },
          "metadata": {},
          "execution_count": 57
        }
      ]
    },
    {
      "cell_type": "code",
      "source": [
        "y_preds_2 = model_2.predict(X_test)\n",
        "plot_prediction(predictions=y_preds_2)"
      ],
      "metadata": {
        "id": "ommvkVNbLpyn",
        "colab": {
          "base_uri": "https://localhost:8080/",
          "height": 540
        },
        "outputId": "63e32a26-ac6b-495e-ed0e-2e8b7f07d7ab"
      },
      "execution_count": null,
      "outputs": [
        {
          "output_type": "stream",
          "name": "stdout",
          "text": [
            "1/1 [==============================] - 0s 49ms/step\n"
          ]
        },
        {
          "output_type": "display_data",
          "data": {
            "text/plain": [
              "<Figure size 1000x700 with 1 Axes>"
            ],
            "image/png": "[encoded data removed]"
          },
          "metadata": {}
        }
      ]
    },
    {
      "cell_type": "code",
      "source": [
        "mae_2 = mae(y_test, y_preds_2)\n",
        "mse_2 = mse(y_test, y_preds_2)\n",
        "mae_2, mse_2"
      ],
      "metadata": {
        "colab": {
          "base_uri": "https://localhost:8080/"
        },
        "id": "LUPFFWtxTZ4D",
        "outputId": "83cd3de6-ae00-4a75-cc09-8ac02113b8ee"
      },
      "execution_count": null,
      "outputs": [
        {
          "output_type": "execute_result",
          "data": {
            "text/plain": [
              "(<tf.Tensor: shape=(), dtype=float32, numpy=2.8861878>,\n",
              " <tf.Tensor: shape=(), dtype=float32, numpy=11.045566>)"
            ]
          },
          "metadata": {},
          "execution_count": 59
        }
      ]
    },
    {
      "cell_type": "markdown",
      "source": [
        "**Build model_3** - 2 layers, train for 500 epochs"
      ],
      "metadata": {
        "id": "tJU1u9VzUOHY"
      }
    },
    {
      "cell_type": "code",
      "source": [
        "tf.random.set_seed(42)\n",
        "# build model\n",
        "model_3 = tf.keras.Sequential([\n",
        "    tf.keras.layers.Dense(10),\n",
        "    tf.keras.layers.Dense(1)\n",
        "])\n",
        "# compile\n",
        "model_3.compile(loss=tf.keras.losses.mae,\n",
        "                optimizer=tf.keras.optimizers.SGD(),\n",
        "                metrics=[\"mae\"])\n",
        "# fit the model\n",
        "model_3.fit(tf.expand_dims(X_train, axis=-1), y_train, epochs=500, verbose=0)"
      ],
      "metadata": {
        "colab": {
          "base_uri": "https://localhost:8080/"
        },
        "id": "hcEWagiVVBVY",
        "outputId": "08e2fd1e-0785-4f7d-e5dc-493d8f155748"
      },
      "execution_count": null,
      "outputs": [
        {
          "output_type": "execute_result",
          "data": {
            "text/plain": [
              "<keras.src.callbacks.History at 0x7a966d8d7160>"
            ]
          },
          "metadata": {},
          "execution_count": 62
        }
      ]
    },
    {
      "cell_type": "code",
      "source": [
        "y_preds_3 = model_3.predict(X_test)\n",
        "plot_prediction(y_preds_3)"
      ],
      "metadata": {
        "colab": {
          "base_uri": "https://localhost:8080/",
          "height": 545
        },
        "id": "h8QvYKSYWeCi",
        "outputId": "7bddedc2-8f91-4c76-dfa7-53a51750147b"
      },
      "execution_count": null,
      "outputs": [
        {
          "output_type": "stream",
          "name": "stdout",
          "text": [
            "1/1 [==============================] - 0s 54ms/step\n"
          ]
        },
        {
          "output_type": "display_data",
          "data": {
            "text/plain": [
              "<Figure size 1000x700 with 1 Axes>"
            ],
            "image/png": "[encoded data removed]"
          },
          "metadata": {}
        }
      ]
    },
    {
      "cell_type": "code",
      "source": [
        "mae_3 = mae(y_test, y_preds_3)\n",
        "mse_3 = mse(y_test, y_preds_3)\n",
        "mae_3, mse_3"
      ],
      "metadata": {
        "colab": {
          "base_uri": "https://localhost:8080/"
        },
        "id": "jbIoQwVBWwyl",
        "outputId": "e313c3e5-e9e7-4413-b160-be4ff1123e49"
      },
      "execution_count": null,
      "outputs": [
        {
          "output_type": "execute_result",
          "data": {
            "text/plain": [
              "(<tf.Tensor: shape=(), dtype=float32, numpy=68.13613>,\n",
              " <tf.Tensor: shape=(), dtype=float32, numpy=4727.2954>)"
            ]
          },
          "metadata": {},
          "execution_count": 64
        }
      ]
    },
    {
      "cell_type": "markdown",
      "source": [
        "## Comparing our results"
      ],
      "metadata": {
        "id": "8uBC1dFpdS6l"
      }
    },
    {
      "cell_type": "code",
      "source": [
        "# compare using a pandas dataframe\n",
        "import pandas as pd\n",
        "model_results = [[\"model_1\", mae_1.numpy(), mse_1.numpy()],\n",
        "                 [\"model_2\", mae_2.numpy(), mse_2.numpy()],\n",
        "                 [\"model_3\", mae_3.numpy(), mse_3.numpy()]]\n",
        "results = pd.DataFrame(model_results, columns=[\"Model\", \"MAE\", \"MSE\"])\n",
        "results"
      ],
      "metadata": {
        "colab": {
          "base_uri": "https://localhost:8080/",
          "height": 143
        },
        "id": "JAM77OeFeLRU",
        "outputId": "cfd78a94-5879-4218-ab81-791ca62cf501"
      },
      "execution_count": null,
      "outputs": [
        {
          "output_type": "execute_result",
          "data": {
            "text/plain": [
              "     Model        MAE          MSE\n",
              "0  model_1   8.589047    80.256981\n",
              "1  model_2   2.886188    11.045566\n",
              "2  model_3  68.136131  4727.295410"
            ],
            "text/html": [
              "\n",
              "  <div id=\"df-b5f9829a-59ee-4715-a74a-c5ae7b753763\" class=\"colab-df-container\">\n",
              "    <div>\n",
              "<style scoped>\n",
              "    .dataframe tbody tr th:only-of-type {\n",
              "        vertical-align: middle;\n",
              "    }\n",
              "\n",
              "    .dataframe tbody tr th {\n",
              "        vertical-align: top;\n",
              "    }\n",
              "\n",
              "    .dataframe thead th {\n",
              "        text-align: right;\n",
              "    }\n",
              "</style>\n",
              "<table border=\"1\" class=\"dataframe\">\n",
              "  <thead>\n",
              "    <tr style=\"text-align: right;\">\n",
              "      <th></th>\n",
              "      <th>Model</th>\n",
              "      <th>MAE</th>\n",
              "      <th>MSE</th>\n",
              "    </tr>\n",
              "  </thead>\n",
              "  <tbody>\n",
              "    <tr>\n",
              "      <th>0</th>\n",
              "      <td>model_1</td>\n",
              "      <td>8.589047</td>\n",
              "      <td>80.256981</td>\n",
              "    </tr>\n",
              "    <tr>\n",
              "      <th>1</th>\n",
              "      <td>model_2</td>\n",
              "      <td>2.886188</td>\n",
              "      <td>11.045566</td>\n",
              "    </tr>\n",
              "    <tr>\n",
              "      <th>2</th>\n",
              "      <td>model_3</td>\n",
              "      <td>68.136131</td>\n",
              "      <td>4727.295410</td>\n",
              "    </tr>\n",
              "  </tbody>\n",
              "</table>\n",
              "</div>\n",
              "    <div class=\"colab-df-buttons\">\n",
              "\n",
              "  <div class=\"colab-df-container\">\n",
              "    <button class=\"colab-df-convert\" onclick=\"convertToInteractive('df-b5f9829a-59ee-4715-a74a-c5ae7b753763')\"\n",
              "            title=\"Convert this dataframe to an interactive table.\"\n",
              "            style=\"display:none;\">\n",
              "\n",
              "  <svg xmlns=\"http://www.w3.org/2000/svg\" height=\"24px\" viewBox=\"0 -960 960 960\">\n",
              "    <path d=\"M120-120v-720h720v720H120Zm60-500h600v-160H180v160Zm220 220h160v-160H400v160Zm0 220h160v-160H400v160ZM180-400h160v-160H180v160Zm440 0h160v-160H620v160ZM180-180h160v-160H180v160Zm440 0h160v-160H620v160Z\"/>\n",
              "  </svg>\n",
              "    </button>\n",
              "\n",
              "  <style>\n",
              "    .colab-df-container {\n",
              "      display:flex;\n",
              "      gap: 12px;\n",
              "    }\n",
              "\n",
              "    .colab-df-convert {\n",
              "      background-color: #E8F0FE;\n",
              "      border: none;\n",
              "      border-radius: 50%;\n",
              "      cursor: pointer;\n",
              "      display: none;\n",
              "      fill: #1967D2;\n",
              "      height: 32px;\n",
              "      padding: 0 0 0 0;\n",
              "      width: 32px;\n",
              "    }\n",
              "\n",
              "    .colab-df-convert:hover {\n",
              "      background-color: #E2EBFA;\n",
              "      box-shadow: 0px 1px 2px rgba(60, 64, 67, 0.3), 0px 1px 3px 1px rgba(60, 64, 67, 0.15);\n",
              "      fill: #174EA6;\n",
              "    }\n",
              "\n",
              "    .colab-df-buttons div {\n",
              "      margin-bottom: 4px;\n",
              "    }\n",
              "\n",
              "    [theme=dark] .colab-df-convert {\n",
              "      background-color: #3B4455;\n",
              "      fill: #D2E3FC;\n",
              "    }\n",
              "\n",
              "    [theme=dark] .colab-df-convert:hover {\n",
              "      background-color: #434B5C;\n",
              "      box-shadow: 0px 1px 3px 1px rgba(0, 0, 0, 0.15);\n",
              "      filter: drop-shadow(0px 1px 2px rgba(0, 0, 0, 0.3));\n",
              "      fill: #FFFFFF;\n",
              "    }\n",
              "  </style>\n",
              "\n",
              "    <script>\n",
              "      const buttonEl =\n",
              "        document.querySelector('#df-b5f9829a-59ee-4715-a74a-c5ae7b753763 button.colab-df-convert');\n",
              "      buttonEl.style.display =\n",
              "        google.colab.kernel.accessAllowed ? 'block' : 'none';\n",
              "\n",
              "      async function convertToInteractive(key) {\n",
              "        const element = document.querySelector('#df-b5f9829a-59ee-4715-a74a-c5ae7b753763');\n",
              "        const dataTable =\n",
              "          await google.colab.kernel.invokeFunction('convertToInteractive',\n",
              "                                                    [key], {});\n",
              "        if (!dataTable) return;\n",
              "\n",
              "        const docLinkHtml = 'Like what you see? Visit the ' +\n",
              "          '<a target=\"_blank\" href=https://colab.research.google.com/notebooks/data_table.ipynb>data table notebook</a>'\n",
              "          + ' to learn more about interactive tables.';\n",
              "        element.innerHTML = '';\n",
              "        dataTable['output_type'] = 'display_data';\n",
              "        await google.colab.output.renderOutput(dataTable, element);\n",
              "        const docLink = document.createElement('div');\n",
              "        docLink.innerHTML = docLinkHtml;\n",
              "        element.appendChild(docLink);\n",
              "      }\n",
              "    </script>\n",
              "  </div>\n",
              "\n",
              "\n",
              "<div id=\"df-286a7bd9-89aa-4033-a3bb-93940638c977\">\n",
              "  <button class=\"colab-df-quickchart\" onclick=\"quickchart('df-286a7bd9-89aa-4033-a3bb-93940638c977')\"\n",
              "            title=\"Suggest charts\"\n",
              "            style=\"display:none;\">\n",
              "\n",
              "<svg xmlns=\"http://www.w3.org/2000/svg\" height=\"24px\"viewBox=\"0 0 24 24\"\n",
              "     width=\"24px\">\n",
              "    <g>\n",
              "        <path d=\"M19 3H5c-1.1 0-2 .9-2 2v14c0 1.1.9 2 2 2h14c1.1 0 2-.9 2-2V5c0-1.1-.9-2-2-2zM9 17H7v-7h2v7zm4 0h-2V7h2v10zm4 0h-2v-4h2v4z\"/>\n",
              "    </g>\n",
              "</svg>\n",
              "  </button>\n",
              "\n",
              "<style>\n",
              "  .colab-df-quickchart {\n",
              "      --bg-color: #E8F0FE;\n",
              "      --fill-color: #1967D2;\n",
              "      --hover-bg-color: #E2EBFA;\n",
              "      --hover-fill-color: #174EA6;\n",
              "      --disabled-fill-color: #AAA;\n",
              "      --disabled-bg-color: #DDD;\n",
              "  }\n",
              "\n",
              "  [theme=dark] .colab-df-quickchart {\n",
              "      --bg-color: #3B4455;\n",
              "      --fill-color: #D2E3FC;\n",
              "      --hover-bg-color: #434B5C;\n",
              "      --hover-fill-color: #FFFFFF;\n",
              "      --disabled-bg-color: #3B4455;\n",
              "      --disabled-fill-color: #666;\n",
              "  }\n",
              "\n",
              "  .colab-df-quickchart {\n",
              "    background-color: var(--bg-color);\n",
              "    border: none;\n",
              "    border-radius: 50%;\n",
              "    cursor: pointer;\n",
              "    display: none;\n",
              "    fill: var(--fill-color);\n",
              "    height: 32px;\n",
              "    padding: 0;\n",
              "    width: 32px;\n",
              "  }\n",
              "\n",
              "  .colab-df-quickchart:hover {\n",
              "    background-color: var(--hover-bg-color);\n",
              "    box-shadow: 0 1px 2px rgba(60, 64, 67, 0.3), 0 1px 3px 1px rgba(60, 64, 67, 0.15);\n",
              "    fill: var(--button-hover-fill-color);\n",
              "  }\n",
              "\n",
              "  .colab-df-quickchart-complete:disabled,\n",
              "  .colab-df-quickchart-complete:disabled:hover {\n",
              "    background-color: var(--disabled-bg-color);\n",
              "    fill: var(--disabled-fill-color);\n",
              "    box-shadow: none;\n",
              "  }\n",
              "\n",
              "  .colab-df-spinner {\n",
              "    border: 2px solid var(--fill-color);\n",
              "    border-color: transparent;\n",
              "    border-bottom-color: var(--fill-color);\n",
              "    animation:\n",
              "      spin 1s steps(1) infinite;\n",
              "  }\n",
              "\n",
              "  @keyframes spin {\n",
              "    0% {\n",
              "      border-color: transparent;\n",
              "      border-bottom-color: var(--fill-color);\n",
              "      border-left-color: var(--fill-color);\n",
              "    }\n",
              "    20% {\n",
              "      border-color: transparent;\n",
              "      border-left-color: var(--fill-color);\n",
              "      border-top-color: var(--fill-color);\n",
              "    }\n",
              "    30% {\n",
              "      border-color: transparent;\n",
              "      border-left-color: var(--fill-color);\n",
              "      border-top-color: var(--fill-color);\n",
              "      border-right-color: var(--fill-color);\n",
              "    }\n",
              "    40% {\n",
              "      border-color: transparent;\n",
              "      border-right-color: var(--fill-color);\n",
              "      border-top-color: var(--fill-color);\n",
              "    }\n",
              "    60% {\n",
              "      border-color: transparent;\n",
              "      border-right-color: var(--fill-color);\n",
              "    }\n",
              "    80% {\n",
              "      border-color: transparent;\n",
              "      border-right-color: var(--fill-color);\n",
              "      border-bottom-color: var(--fill-color);\n",
              "    }\n",
              "    90% {\n",
              "      border-color: transparent;\n",
              "      border-bottom-color: var(--fill-color);\n",
              "    }\n",
              "  }\n",
              "</style>\n",
              "\n",
              "  <script>\n",
              "    async function quickchart(key) {\n",
              "      const quickchartButtonEl =\n",
              "        document.querySelector('#' + key + ' button');\n",
              "      quickchartButtonEl.disabled = true;  // To prevent multiple clicks.\n",
              "      quickchartButtonEl.classList.add('colab-df-spinner');\n",
              "      try {\n",
              "        const charts = await google.colab.kernel.invokeFunction(\n",
              "            'suggestCharts', [key], {});\n",
              "      } catch (error) {\n",
              "        console.error('Error during call to suggestCharts:', error);\n",
              "      }\n",
              "      quickchartButtonEl.classList.remove('colab-df-spinner');\n",
              "      quickchartButtonEl.classList.add('colab-df-quickchart-complete');\n",
              "    }\n",
              "    (() => {\n",
              "      let quickchartButtonEl =\n",
              "        document.querySelector('#df-286a7bd9-89aa-4033-a3bb-93940638c977 button');\n",
              "      quickchartButtonEl.style.display =\n",
              "        google.colab.kernel.accessAllowed ? 'block' : 'none';\n",
              "    })();\n",
              "  </script>\n",
              "</div>\n",
              "    </div>\n",
              "  </div>\n"
            ]
          },
          "metadata": {},
          "execution_count": 65
        }
      ]
    },
    {
      "cell_type": "code",
      "source": [
        "model_2.summary()"
      ],
      "metadata": {
        "colab": {
          "base_uri": "https://localhost:8080/"
        },
        "id": "SpUJC5THfCpJ",
        "outputId": "9fabe94e-751e-45e9-918c-c99ff8f0231b"
      },
      "execution_count": null,
      "outputs": [
        {
          "output_type": "stream",
          "name": "stdout",
          "text": [
            "Model: \"sequential_11\"\n",
            "_________________________________________________________________\n",
            " Layer (type)                Output Shape              Param #   \n",
            "=================================================================\n",
            " dense_15 (Dense)            (None, 40)                80        \n",
            "                                                                 \n",
            " dense_16 (Dense)            (None, 1)                 41        \n",
            "                                                                 \n",
            "=================================================================\n",
            "Total params: 121 (484.00 Byte)\n",
            "Trainable params: 121 (484.00 Byte)\n",
            "Non-trainable params: 0 (0.00 Byte)\n",
            "_________________________________________________________________\n"
          ]
        }
      ]
    },
    {
      "cell_type": "markdown",
      "source": [
        "## Tracking your experiments\n",
        "**Tools:** As you build more models, you'll want to look into\n",
        "* TensorBoard\n",
        "* Weights & Biases"
      ],
      "metadata": {
        "id": "M4reEmBbfHFx"
      }
    },
    {
      "cell_type": "markdown",
      "source": [
        "## Saving our models\n",
        "There are two main formats to save our models\n",
        "1. The SavedModel format\n",
        "2. The HDf5 format"
      ],
      "metadata": {
        "id": "jXaWJ8wRgV_6"
      }
    },
    {
      "cell_type": "code",
      "source": [
        "# save model using Savemodel format\n",
        "!mkdir saved_models"
      ],
      "metadata": {
        "id": "6EVbd2JKoLY9"
      },
      "execution_count": null,
      "outputs": []
    },
    {
      "cell_type": "code",
      "source": [
        "model_2.save(\"saved_models/best_model\")"
      ],
      "metadata": {
        "id": "2g-4jXpQpmyX"
      },
      "execution_count": null,
      "outputs": []
    },
    {
      "cell_type": "code",
      "source": [
        "# saving a model using hdf5\n",
        "model_2.save(\"saved_models/hdf5_best_model.h5\")"
      ],
      "metadata": {
        "colab": {
          "base_uri": "https://localhost:8080/"
        },
        "id": "xVrENNz7qQ86",
        "outputId": "848da8c8-dd4a-415c-8349-0c714314f3fb"
      },
      "execution_count": null,
      "outputs": [
        {
          "output_type": "stream",
          "name": "stderr",
          "text": [
            "/usr/local/lib/python3.10/dist-packages/keras/src/engine/training.py:3079: UserWarning: You are saving your model as an HDF5 file via `model.save()`. This file format is considered legacy. We recommend using instead the native Keras format, e.g. `model.save('my_model.keras')`.\n",
            "  saving_api.save_model(\n"
          ]
        }
      ]
    },
    {
      "cell_type": "markdown",
      "source": [
        "## Loading a saved model"
      ],
      "metadata": {
        "id": "wBRFrjQJq8iX"
      }
    },
    {
      "cell_type": "code",
      "source": [
        "# load the SavedModel format model\n",
        "loaded_SavedModel_format = tf.keras.models.load_model(\"saved_models/best_model\")\n",
        "loaded_SavedModel_format.summary()"
      ],
      "metadata": {
        "colab": {
          "base_uri": "https://localhost:8080/"
        },
        "id": "gR2TUesxrTO1",
        "outputId": "0d22bb8c-0fb5-4314-ad06-6af49a2c4a0c"
      },
      "execution_count": null,
      "outputs": [
        {
          "output_type": "stream",
          "name": "stdout",
          "text": [
            "Model: \"sequential_11\"\n",
            "_________________________________________________________________\n",
            " Layer (type)                Output Shape              Param #   \n",
            "=================================================================\n",
            " dense_15 (Dense)            (None, 40)                80        \n",
            "                                                                 \n",
            " dense_16 (Dense)            (None, 1)                 41        \n",
            "                                                                 \n",
            "=================================================================\n",
            "Total params: 121 (484.00 Byte)\n",
            "Trainable params: 121 (484.00 Byte)\n",
            "Non-trainable params: 0 (0.00 Byte)\n",
            "_________________________________________________________________\n"
          ]
        }
      ]
    },
    {
      "cell_type": "code",
      "source": [
        "# load the hdf5 model\n",
        "loaded_hdf5_format = tf.keras.models.load_model(\"saved_models/hdf5_best_model.h5\")"
      ],
      "metadata": {
        "id": "0jVAvIWMr199"
      },
      "execution_count": null,
      "outputs": []
    },
    {
      "cell_type": "code",
      "source": [
        "loaded_hdf5_format.summary()"
      ],
      "metadata": {
        "colab": {
          "base_uri": "https://localhost:8080/"
        },
        "id": "pF41Qo0It-86",
        "outputId": "9c3f19bb-c7b9-4f77-e5da-9ae054851212"
      },
      "execution_count": null,
      "outputs": [
        {
          "output_type": "stream",
          "name": "stdout",
          "text": [
            "Model: \"sequential_11\"\n",
            "_________________________________________________________________\n",
            " Layer (type)                Output Shape              Param #   \n",
            "=================================================================\n",
            " dense_15 (Dense)            (None, 40)                80        \n",
            "                                                                 \n",
            " dense_16 (Dense)            (None, 1)                 41        \n",
            "                                                                 \n",
            "=================================================================\n",
            "Total params: 121 (484.00 Byte)\n",
            "Trainable params: 121 (484.00 Byte)\n",
            "Non-trainable params: 0 (0.00 Byte)\n",
            "_________________________________________________________________\n"
          ]
        }
      ]
    },
    {
      "cell_type": "markdown",
      "source": [
        "## Download a model from Google Colab\n",
        "1. Go to the files tab, right click on the file and select download\n",
        "2. Use code (cell below)\n",
        "3. Save to google drive and copy it there (2nd cell below)"
      ],
      "metadata": {
        "id": "zDd4bdY3uC4W"
      }
    },
    {
      "cell_type": "code",
      "source": [
        "# download file\n",
        "from google.colab import files\n",
        "files.download(\"/content/saved_models/hdf5_best_model.h5\")"
      ],
      "metadata": {
        "colab": {
          "base_uri": "https://localhost:8080/",
          "height": 17
        },
        "id": "m2H0juNvvDCa",
        "outputId": "565615e6-b05e-42ed-f78b-582f5d9fdb08"
      },
      "execution_count": null,
      "outputs": [
        {
          "output_type": "display_data",
          "data": {
            "text/plain": [
              "<IPython.core.display.Javascript object>"
            ],
            "application/javascript": [
              "\n",
              "    async function download(id, filename, size) {\n",
              "      if (!google.colab.kernel.accessAllowed) {\n",
              "        return;\n",
              "      }\n",
              "      const div = document.createElement('div');\n",
              "      const label = document.createElement('label');\n",
              "      label.textContent = `Downloading \"${filename}\": `;\n",
              "      div.appendChild(label);\n",
              "      const progress = document.createElement('progress');\n",
              "      progress.max = size;\n",
              "      div.appendChild(progress);\n",
              "      document.body.appendChild(div);\n",
              "\n",
              "      const buffers = [];\n",
              "      let downloaded = 0;\n",
              "\n",
              "      const channel = await google.colab.kernel.comms.open(id);\n",
              "      // Send a message to notify the kernel that we're ready.\n",
              "      channel.send({})\n",
              "\n",
              "      for await (const message of channel.messages) {\n",
              "        // Send a message to notify the kernel that we're ready.\n",
              "        channel.send({})\n",
              "        if (message.buffers) {\n",
              "          for (const buffer of message.buffers) {\n",
              "            buffers.push(buffer);\n",
              "            downloaded += buffer.byteLength;\n",
              "            progress.value = downloaded;\n",
              "          }\n",
              "        }\n",
              "      }\n",
              "      const blob = new Blob(buffers, {type: 'application/binary'});\n",
              "      const a = document.createElement('a');\n",
              "      a.href = window.URL.createObjectURL(blob);\n",
              "      a.download = filename;\n",
              "      div.appendChild(a);\n",
              "      a.click();\n",
              "      div.remove();\n",
              "    }\n",
              "  "
            ]
          },
          "metadata": {}
        },
        {
          "output_type": "display_data",
          "data": {
            "text/plain": [
              "<IPython.core.display.Javascript object>"
            ],
            "application/javascript": [
              "download(\"download_13a11009-9db3-4d48-9c5b-12c8700ddb37\", \"hdf5_best_model.h5\", 21952)"
            ]
          },
          "metadata": {}
        }
      ]
    },
    {
      "cell_type": "code",
      "source": [
        "# save to google drive requires mounting google drive\n",
        "!cp /content/saved_models/hdf5_best_model.h5 /content/drive/MyDrive/Colab_Notebooks/Models"
      ],
      "metadata": {
        "id": "XmkCj69JvX6d"
      },
      "execution_count": null,
      "outputs": []
    },
    {
      "cell_type": "markdown",
      "source": [
        "## A larger Example"
      ],
      "metadata": {
        "id": "N7Es5WJww5MX"
      }
    },
    {
      "cell_type": "code",
      "source": [
        "# import required libraries\n",
        "import tensorflow as tf\n",
        "import pandas as pd\n",
        "import matplotlib.pyplot as plt"
      ],
      "metadata": {
        "id": "c9_utwohy_Uk"
      },
      "execution_count": null,
      "outputs": []
    },
    {
      "cell_type": "code",
      "source": [
        "# read the data\n",
        "insurance = pd.read_csv(\"https://raw.githubusercontent.com/stedy/Machine-Learning-with-R-datasets/master/insurance.csv\")\n",
        "insurance"
      ],
      "metadata": {
        "colab": {
          "base_uri": "https://localhost:8080/",
          "height": 423
        },
        "id": "1dNndUK3zFyf",
        "outputId": "c2e3f772-b116-4c62-84e8-db447be87cdb"
      },
      "execution_count": null,
      "outputs": [
        {
          "output_type": "execute_result",
          "data": {
            "text/plain": [
              "      age     sex     bmi  children smoker     region      charges\n",
              "0      19  female  27.900         0    yes  southwest  16884.92400\n",
              "1      18    male  33.770         1     no  southeast   1725.55230\n",
              "2      28    male  33.000         3     no  southeast   4449.46200\n",
              "3      33    male  22.705         0     no  northwest  21984.47061\n",
              "4      32    male  28.880         0     no  northwest   3866.85520\n",
              "...   ...     ...     ...       ...    ...        ...          ...\n",
              "1333   50    male  30.970         3     no  northwest  10600.54830\n",
              "1334   18  female  31.920         0     no  northeast   2205.98080\n",
              "1335   18  female  36.850         0     no  southeast   1629.83350\n",
              "1336   21  female  25.800         0     no  southwest   2007.94500\n",
              "1337   61  female  29.070         0    yes  northwest  29141.36030\n",
              "\n",
              "[1338 rows x 7 columns]"
            ],
            "text/html": [
              "\n",
              "  <div id=\"df-692856f1-5175-4f14-8d49-fe9a7ec97109\" class=\"colab-df-container\">\n",
              "    <div>\n",
              "<style scoped>\n",
              "    .dataframe tbody tr th:only-of-type {\n",
              "        vertical-align: middle;\n",
              "    }\n",
              "\n",
              "    .dataframe tbody tr th {\n",
              "        vertical-align: top;\n",
              "    }\n",
              "\n",
              "    .dataframe thead th {\n",
              "        text-align: right;\n",
              "    }\n",
              "</style>\n",
              "<table border=\"1\" class=\"dataframe\">\n",
              "  <thead>\n",
              "    <tr style=\"text-align: right;\">\n",
              "      <th></th>\n",
              "      <th>age</th>\n",
              "      <th>sex</th>\n",
              "      <th>bmi</th>\n",
              "      <th>children</th>\n",
              "      <th>smoker</th>\n",
              "      <th>region</th>\n",
              "      <th>charges</th>\n",
              "    </tr>\n",
              "  </thead>\n",
              "  <tbody>\n",
              "    <tr>\n",
              "      <th>0</th>\n",
              "      <td>19</td>\n",
              "      <td>female</td>\n",
              "      <td>27.900</td>\n",
              "      <td>0</td>\n",
              "      <td>yes</td>\n",
              "      <td>southwest</td>\n",
              "      <td>16884.92400</td>\n",
              "    </tr>\n",
              "    <tr>\n",
              "      <th>1</th>\n",
              "      <td>18</td>\n",
              "      <td>male</td>\n",
              "      <td>33.770</td>\n",
              "      <td>1</td>\n",
              "      <td>no</td>\n",
              "      <td>southeast</td>\n",
              "      <td>1725.55230</td>\n",
              "    </tr>\n",
              "    <tr>\n",
              "      <th>2</th>\n",
              "      <td>28</td>\n",
              "      <td>male</td>\n",
              "      <td>33.000</td>\n",
              "      <td>3</td>\n",
              "      <td>no</td>\n",
              "      <td>southeast</td>\n",
              "      <td>4449.46200</td>\n",
              "    </tr>\n",
              "    <tr>\n",
              "      <th>3</th>\n",
              "      <td>33</td>\n",
              "      <td>male</td>\n",
              "      <td>22.705</td>\n",
              "      <td>0</td>\n",
              "      <td>no</td>\n",
              "      <td>northwest</td>\n",
              "      <td>21984.47061</td>\n",
              "    </tr>\n",
              "    <tr>\n",
              "      <th>4</th>\n",
              "      <td>32</td>\n",
              "      <td>male</td>\n",
              "      <td>28.880</td>\n",
              "      <td>0</td>\n",
              "      <td>no</td>\n",
              "      <td>northwest</td>\n",
              "      <td>3866.85520</td>\n",
              "    </tr>\n",
              "    <tr>\n",
              "      <th>...</th>\n",
              "      <td>...</td>\n",
              "      <td>...</td>\n",
              "      <td>...</td>\n",
              "      <td>...</td>\n",
              "      <td>...</td>\n",
              "      <td>...</td>\n",
              "      <td>...</td>\n",
              "    </tr>\n",
              "    <tr>\n",
              "      <th>1333</th>\n",
              "      <td>50</td>\n",
              "      <td>male</td>\n",
              "      <td>30.970</td>\n",
              "      <td>3</td>\n",
              "      <td>no</td>\n",
              "      <td>northwest</td>\n",
              "      <td>10600.54830</td>\n",
              "    </tr>\n",
              "    <tr>\n",
              "      <th>1334</th>\n",
              "      <td>18</td>\n",
              "      <td>female</td>\n",
              "      <td>31.920</td>\n",
              "      <td>0</td>\n",
              "      <td>no</td>\n",
              "      <td>northeast</td>\n",
              "      <td>2205.98080</td>\n",
              "    </tr>\n",
              "    <tr>\n",
              "      <th>1335</th>\n",
              "      <td>18</td>\n",
              "      <td>female</td>\n",
              "      <td>36.850</td>\n",
              "      <td>0</td>\n",
              "      <td>no</td>\n",
              "      <td>southeast</td>\n",
              "      <td>1629.83350</td>\n",
              "    </tr>\n",
              "    <tr>\n",
              "      <th>1336</th>\n",
              "      <td>21</td>\n",
              "      <td>female</td>\n",
              "      <td>25.800</td>\n",
              "      <td>0</td>\n",
              "      <td>no</td>\n",
              "      <td>southwest</td>\n",
              "      <td>2007.94500</td>\n",
              "    </tr>\n",
              "    <tr>\n",
              "      <th>1337</th>\n",
              "      <td>61</td>\n",
              "      <td>female</td>\n",
              "      <td>29.070</td>\n",
              "      <td>0</td>\n",
              "      <td>yes</td>\n",
              "      <td>northwest</td>\n",
              "      <td>29141.36030</td>\n",
              "    </tr>\n",
              "  </tbody>\n",
              "</table>\n",
              "<p>1338 rows × 7 columns</p>\n",
              "</div>\n",
              "    <div class=\"colab-df-buttons\">\n",
              "\n",
              "  <div class=\"colab-df-container\">\n",
              "    <button class=\"colab-df-convert\" onclick=\"convertToInteractive('df-692856f1-5175-4f14-8d49-fe9a7ec97109')\"\n",
              "            title=\"Convert this dataframe to an interactive table.\"\n",
              "            style=\"display:none;\">\n",
              "\n",
              "  <svg xmlns=\"http://www.w3.org/2000/svg\" height=\"24px\" viewBox=\"0 -960 960 960\">\n",
              "    <path d=\"M120-120v-720h720v720H120Zm60-500h600v-160H180v160Zm220 220h160v-160H400v160Zm0 220h160v-160H400v160ZM180-400h160v-160H180v160Zm440 0h160v-160H620v160ZM180-180h160v-160H180v160Zm440 0h160v-160H620v160Z\"/>\n",
              "  </svg>\n",
              "    </button>\n",
              "\n",
              "  <style>\n",
              "    .colab-df-container {\n",
              "      display:flex;\n",
              "      gap: 12px;\n",
              "    }\n",
              "\n",
              "    .colab-df-convert {\n",
              "      background-color: #E8F0FE;\n",
              "      border: none;\n",
              "      border-radius: 50%;\n",
              "      cursor: pointer;\n",
              "      display: none;\n",
              "      fill: #1967D2;\n",
              "      height: 32px;\n",
              "      padding: 0 0 0 0;\n",
              "      width: 32px;\n",
              "    }\n",
              "\n",
              "    .colab-df-convert:hover {\n",
              "      background-color: #E2EBFA;\n",
              "      box-shadow: 0px 1px 2px rgba(60, 64, 67, 0.3), 0px 1px 3px 1px rgba(60, 64, 67, 0.15);\n",
              "      fill: #174EA6;\n",
              "    }\n",
              "\n",
              "    .colab-df-buttons div {\n",
              "      margin-bottom: 4px;\n",
              "    }\n",
              "\n",
              "    [theme=dark] .colab-df-convert {\n",
              "      background-color: #3B4455;\n",
              "      fill: #D2E3FC;\n",
              "    }\n",
              "\n",
              "    [theme=dark] .colab-df-convert:hover {\n",
              "      background-color: #434B5C;\n",
              "      box-shadow: 0px 1px 3px 1px rgba(0, 0, 0, 0.15);\n",
              "      filter: drop-shadow(0px 1px 2px rgba(0, 0, 0, 0.3));\n",
              "      fill: #FFFFFF;\n",
              "    }\n",
              "  </style>\n",
              "\n",
              "    <script>\n",
              "      const buttonEl =\n",
              "        document.querySelector('#df-692856f1-5175-4f14-8d49-fe9a7ec97109 button.colab-df-convert');\n",
              "      buttonEl.style.display =\n",
              "        google.colab.kernel.accessAllowed ? 'block' : 'none';\n",
              "\n",
              "      async function convertToInteractive(key) {\n",
              "        const element = document.querySelector('#df-692856f1-5175-4f14-8d49-fe9a7ec97109');\n",
              "        const dataTable =\n",
              "          await google.colab.kernel.invokeFunction('convertToInteractive',\n",
              "                                                    [key], {});\n",
              "        if (!dataTable) return;\n",
              "\n",
              "        const docLinkHtml = 'Like what you see? Visit the ' +\n",
              "          '<a target=\"_blank\" href=https://colab.research.google.com/notebooks/data_table.ipynb>data table notebook</a>'\n",
              "          + ' to learn more about interactive tables.';\n",
              "        element.innerHTML = '';\n",
              "        dataTable['output_type'] = 'display_data';\n",
              "        await google.colab.output.renderOutput(dataTable, element);\n",
              "        const docLink = document.createElement('div');\n",
              "        docLink.innerHTML = docLinkHtml;\n",
              "        element.appendChild(docLink);\n",
              "      }\n",
              "    </script>\n",
              "  </div>\n",
              "\n",
              "\n",
              "<div id=\"df-7e137577-fd52-4223-a835-b8960935c3a2\">\n",
              "  <button class=\"colab-df-quickchart\" onclick=\"quickchart('df-7e137577-fd52-4223-a835-b8960935c3a2')\"\n",
              "            title=\"Suggest charts\"\n",
              "            style=\"display:none;\">\n",
              "\n",
              "<svg xmlns=\"http://www.w3.org/2000/svg\" height=\"24px\"viewBox=\"0 0 24 24\"\n",
              "     width=\"24px\">\n",
              "    <g>\n",
              "        <path d=\"M19 3H5c-1.1 0-2 .9-2 2v14c0 1.1.9 2 2 2h14c1.1 0 2-.9 2-2V5c0-1.1-.9-2-2-2zM9 17H7v-7h2v7zm4 0h-2V7h2v10zm4 0h-2v-4h2v4z\"/>\n",
              "    </g>\n",
              "</svg>\n",
              "  </button>\n",
              "\n",
              "<style>\n",
              "  .colab-df-quickchart {\n",
              "      --bg-color: #E8F0FE;\n",
              "      --fill-color: #1967D2;\n",
              "      --hover-bg-color: #E2EBFA;\n",
              "      --hover-fill-color: #174EA6;\n",
              "      --disabled-fill-color: #AAA;\n",
              "      --disabled-bg-color: #DDD;\n",
              "  }\n",
              "\n",
              "  [theme=dark] .colab-df-quickchart {\n",
              "      --bg-color: #3B4455;\n",
              "      --fill-color: #D2E3FC;\n",
              "      --hover-bg-color: #434B5C;\n",
              "      --hover-fill-color: #FFFFFF;\n",
              "      --disabled-bg-color: #3B4455;\n",
              "      --disabled-fill-color: #666;\n",
              "  }\n",
              "\n",
              "  .colab-df-quickchart {\n",
              "    background-color: var(--bg-color);\n",
              "    border: none;\n",
              "    border-radius: 50%;\n",
              "    cursor: pointer;\n",
              "    display: none;\n",
              "    fill: var(--fill-color);\n",
              "    height: 32px;\n",
              "    padding: 0;\n",
              "    width: 32px;\n",
              "  }\n",
              "\n",
              "  .colab-df-quickchart:hover {\n",
              "    background-color: var(--hover-bg-color);\n",
              "    box-shadow: 0 1px 2px rgba(60, 64, 67, 0.3), 0 1px 3px 1px rgba(60, 64, 67, 0.15);\n",
              "    fill: var(--button-hover-fill-color);\n",
              "  }\n",
              "\n",
              "  .colab-df-quickchart-complete:disabled,\n",
              "  .colab-df-quickchart-complete:disabled:hover {\n",
              "    background-color: var(--disabled-bg-color);\n",
              "    fill: var(--disabled-fill-color);\n",
              "    box-shadow: none;\n",
              "  }\n",
              "\n",
              "  .colab-df-spinner {\n",
              "    border: 2px solid var(--fill-color);\n",
              "    border-color: transparent;\n",
              "    border-bottom-color: var(--fill-color);\n",
              "    animation:\n",
              "      spin 1s steps(1) infinite;\n",
              "  }\n",
              "\n",
              "  @keyframes spin {\n",
              "    0% {\n",
              "      border-color: transparent;\n",
              "      border-bottom-color: var(--fill-color);\n",
              "      border-left-color: var(--fill-color);\n",
              "    }\n",
              "    20% {\n",
              "      border-color: transparent;\n",
              "      border-left-color: var(--fill-color);\n",
              "      border-top-color: var(--fill-color);\n",
              "    }\n",
              "    30% {\n",
              "      border-color: transparent;\n",
              "      border-left-color: var(--fill-color);\n",
              "      border-top-color: var(--fill-color);\n",
              "      border-right-color: var(--fill-color);\n",
              "    }\n",
              "    40% {\n",
              "      border-color: transparent;\n",
              "      border-right-color: var(--fill-color);\n",
              "      border-top-color: var(--fill-color);\n",
              "    }\n",
              "    60% {\n",
              "      border-color: transparent;\n",
              "      border-right-color: var(--fill-color);\n",
              "    }\n",
              "    80% {\n",
              "      border-color: transparent;\n",
              "      border-right-color: var(--fill-color);\n",
              "      border-bottom-color: var(--fill-color);\n",
              "    }\n",
              "    90% {\n",
              "      border-color: transparent;\n",
              "      border-bottom-color: var(--fill-color);\n",
              "    }\n",
              "  }\n",
              "</style>\n",
              "\n",
              "  <script>\n",
              "    async function quickchart(key) {\n",
              "      const quickchartButtonEl =\n",
              "        document.querySelector('#' + key + ' button');\n",
              "      quickchartButtonEl.disabled = true;  // To prevent multiple clicks.\n",
              "      quickchartButtonEl.classList.add('colab-df-spinner');\n",
              "      try {\n",
              "        const charts = await google.colab.kernel.invokeFunction(\n",
              "            'suggestCharts', [key], {});\n",
              "      } catch (error) {\n",
              "        console.error('Error during call to suggestCharts:', error);\n",
              "      }\n",
              "      quickchartButtonEl.classList.remove('colab-df-spinner');\n",
              "      quickchartButtonEl.classList.add('colab-df-quickchart-complete');\n",
              "    }\n",
              "    (() => {\n",
              "      let quickchartButtonEl =\n",
              "        document.querySelector('#df-7e137577-fd52-4223-a835-b8960935c3a2 button');\n",
              "      quickchartButtonEl.style.display =\n",
              "        google.colab.kernel.accessAllowed ? 'block' : 'none';\n",
              "    })();\n",
              "  </script>\n",
              "</div>\n",
              "    </div>\n",
              "  </div>\n"
            ]
          },
          "metadata": {},
          "execution_count": 2
        }
      ]
    },
    {
      "cell_type": "code",
      "source": [
        "# encodeing categorical data\n",
        "insurance_onehot = pd.get_dummies(insurance)"
      ],
      "metadata": {
        "id": "RwdIVtZb0c0M"
      },
      "execution_count": null,
      "outputs": []
    },
    {
      "cell_type": "code",
      "source": [
        "insurance_onehot"
      ],
      "metadata": {
        "colab": {
          "base_uri": "https://localhost:8080/",
          "height": 443
        },
        "id": "1_oUlbgj10TY",
        "outputId": "fa89cfc9-ab73-455c-d94e-5460d367965c"
      },
      "execution_count": null,
      "outputs": [
        {
          "output_type": "execute_result",
          "data": {
            "text/plain": [
              "      age     bmi  children      charges  sex_female  sex_male  smoker_no  \\\n",
              "0      19  27.900         0  16884.92400           1         0          0   \n",
              "1      18  33.770         1   1725.55230           0         1          1   \n",
              "2      28  33.000         3   4449.46200           0         1          1   \n",
              "3      33  22.705         0  21984.47061           0         1          1   \n",
              "4      32  28.880         0   3866.85520           0         1          1   \n",
              "...   ...     ...       ...          ...         ...       ...        ...   \n",
              "1333   50  30.970         3  10600.54830           0         1          1   \n",
              "1334   18  31.920         0   2205.98080           1         0          1   \n",
              "1335   18  36.850         0   1629.83350           1         0          1   \n",
              "1336   21  25.800         0   2007.94500           1         0          1   \n",
              "1337   61  29.070         0  29141.36030           1         0          0   \n",
              "\n",
              "      smoker_yes  region_northeast  region_northwest  region_southeast  \\\n",
              "0              1                 0                 0                 0   \n",
              "1              0                 0                 0                 1   \n",
              "2              0                 0                 0                 1   \n",
              "3              0                 0                 1                 0   \n",
              "4              0                 0                 1                 0   \n",
              "...          ...               ...               ...               ...   \n",
              "1333           0                 0                 1                 0   \n",
              "1334           0                 1                 0                 0   \n",
              "1335           0                 0                 0                 1   \n",
              "1336           0                 0                 0                 0   \n",
              "1337           1                 0                 1                 0   \n",
              "\n",
              "      region_southwest  \n",
              "0                    1  \n",
              "1                    0  \n",
              "2                    0  \n",
              "3                    0  \n",
              "4                    0  \n",
              "...                ...  \n",
              "1333                 0  \n",
              "1334                 0  \n",
              "1335                 0  \n",
              "1336                 1  \n",
              "1337                 0  \n",
              "\n",
              "[1338 rows x 12 columns]"
            ],
            "text/html": [
              "\n",
              "  <div id=\"df-a0758119-131a-4fb2-a31c-0d10d7ebca19\" class=\"colab-df-container\">\n",
              "    <div>\n",
              "<style scoped>\n",
              "    .dataframe tbody tr th:only-of-type {\n",
              "        vertical-align: middle;\n",
              "    }\n",
              "\n",
              "    .dataframe tbody tr th {\n",
              "        vertical-align: top;\n",
              "    }\n",
              "\n",
              "    .dataframe thead th {\n",
              "        text-align: right;\n",
              "    }\n",
              "</style>\n",
              "<table border=\"1\" class=\"dataframe\">\n",
              "  <thead>\n",
              "    <tr style=\"text-align: right;\">\n",
              "      <th></th>\n",
              "      <th>age</th>\n",
              "      <th>bmi</th>\n",
              "      <th>children</th>\n",
              "      <th>charges</th>\n",
              "      <th>sex_female</th>\n",
              "      <th>sex_male</th>\n",
              "      <th>smoker_no</th>\n",
              "      <th>smoker_yes</th>\n",
              "      <th>region_northeast</th>\n",
              "      <th>region_northwest</th>\n",
              "      <th>region_southeast</th>\n",
              "      <th>region_southwest</th>\n",
              "    </tr>\n",
              "  </thead>\n",
              "  <tbody>\n",
              "    <tr>\n",
              "      <th>0</th>\n",
              "      <td>19</td>\n",
              "      <td>27.900</td>\n",
              "      <td>0</td>\n",
              "      <td>16884.92400</td>\n",
              "      <td>1</td>\n",
              "      <td>0</td>\n",
              "      <td>0</td>\n",
              "      <td>1</td>\n",
              "      <td>0</td>\n",
              "      <td>0</td>\n",
              "      <td>0</td>\n",
              "      <td>1</td>\n",
              "    </tr>\n",
              "    <tr>\n",
              "      <th>1</th>\n",
              "      <td>18</td>\n",
              "      <td>33.770</td>\n",
              "      <td>1</td>\n",
              "      <td>1725.55230</td>\n",
              "      <td>0</td>\n",
              "      <td>1</td>\n",
              "      <td>1</td>\n",
              "      <td>0</td>\n",
              "      <td>0</td>\n",
              "      <td>0</td>\n",
              "      <td>1</td>\n",
              "      <td>0</td>\n",
              "    </tr>\n",
              "    <tr>\n",
              "      <th>2</th>\n",
              "      <td>28</td>\n",
              "      <td>33.000</td>\n",
              "      <td>3</td>\n",
              "      <td>4449.46200</td>\n",
              "      <td>0</td>\n",
              "      <td>1</td>\n",
              "      <td>1</td>\n",
              "      <td>0</td>\n",
              "      <td>0</td>\n",
              "      <td>0</td>\n",
              "      <td>1</td>\n",
              "      <td>0</td>\n",
              "    </tr>\n",
              "    <tr>\n",
              "      <th>3</th>\n",
              "      <td>33</td>\n",
              "      <td>22.705</td>\n",
              "      <td>0</td>\n",
              "      <td>21984.47061</td>\n",
              "      <td>0</td>\n",
              "      <td>1</td>\n",
              "      <td>1</td>\n",
              "      <td>0</td>\n",
              "      <td>0</td>\n",
              "      <td>1</td>\n",
              "      <td>0</td>\n",
              "      <td>0</td>\n",
              "    </tr>\n",
              "    <tr>\n",
              "      <th>4</th>\n",
              "      <td>32</td>\n",
              "      <td>28.880</td>\n",
              "      <td>0</td>\n",
              "      <td>3866.85520</td>\n",
              "      <td>0</td>\n",
              "      <td>1</td>\n",
              "      <td>1</td>\n",
              "      <td>0</td>\n",
              "      <td>0</td>\n",
              "      <td>1</td>\n",
              "      <td>0</td>\n",
              "      <td>0</td>\n",
              "    </tr>\n",
              "    <tr>\n",
              "      <th>...</th>\n",
              "      <td>...</td>\n",
              "      <td>...</td>\n",
              "      <td>...</td>\n",
              "      <td>...</td>\n",
              "      <td>...</td>\n",
              "      <td>...</td>\n",
              "      <td>...</td>\n",
              "      <td>...</td>\n",
              "      <td>...</td>\n",
              "      <td>...</td>\n",
              "      <td>...</td>\n",
              "      <td>...</td>\n",
              "    </tr>\n",
              "    <tr>\n",
              "      <th>1333</th>\n",
              "      <td>50</td>\n",
              "      <td>30.970</td>\n",
              "      <td>3</td>\n",
              "      <td>10600.54830</td>\n",
              "      <td>0</td>\n",
              "      <td>1</td>\n",
              "      <td>1</td>\n",
              "      <td>0</td>\n",
              "      <td>0</td>\n",
              "      <td>1</td>\n",
              "      <td>0</td>\n",
              "      <td>0</td>\n",
              "    </tr>\n",
              "    <tr>\n",
              "      <th>1334</th>\n",
              "      <td>18</td>\n",
              "      <td>31.920</td>\n",
              "      <td>0</td>\n",
              "      <td>2205.98080</td>\n",
              "      <td>1</td>\n",
              "      <td>0</td>\n",
              "      <td>1</td>\n",
              "      <td>0</td>\n",
              "      <td>1</td>\n",
              "      <td>0</td>\n",
              "      <td>0</td>\n",
              "      <td>0</td>\n",
              "    </tr>\n",
              "    <tr>\n",
              "      <th>1335</th>\n",
              "      <td>18</td>\n",
              "      <td>36.850</td>\n",
              "      <td>0</td>\n",
              "      <td>1629.83350</td>\n",
              "      <td>1</td>\n",
              "      <td>0</td>\n",
              "      <td>1</td>\n",
              "      <td>0</td>\n",
              "      <td>0</td>\n",
              "      <td>0</td>\n",
              "      <td>1</td>\n",
              "      <td>0</td>\n",
              "    </tr>\n",
              "    <tr>\n",
              "      <th>1336</th>\n",
              "      <td>21</td>\n",
              "      <td>25.800</td>\n",
              "      <td>0</td>\n",
              "      <td>2007.94500</td>\n",
              "      <td>1</td>\n",
              "      <td>0</td>\n",
              "      <td>1</td>\n",
              "      <td>0</td>\n",
              "      <td>0</td>\n",
              "      <td>0</td>\n",
              "      <td>0</td>\n",
              "      <td>1</td>\n",
              "    </tr>\n",
              "    <tr>\n",
              "      <th>1337</th>\n",
              "      <td>61</td>\n",
              "      <td>29.070</td>\n",
              "      <td>0</td>\n",
              "      <td>29141.36030</td>\n",
              "      <td>1</td>\n",
              "      <td>0</td>\n",
              "      <td>0</td>\n",
              "      <td>1</td>\n",
              "      <td>0</td>\n",
              "      <td>1</td>\n",
              "      <td>0</td>\n",
              "      <td>0</td>\n",
              "    </tr>\n",
              "  </tbody>\n",
              "</table>\n",
              "<p>1338 rows × 12 columns</p>\n",
              "</div>\n",
              "    <div class=\"colab-df-buttons\">\n",
              "\n",
              "  <div class=\"colab-df-container\">\n",
              "    <button class=\"colab-df-convert\" onclick=\"convertToInteractive('df-a0758119-131a-4fb2-a31c-0d10d7ebca19')\"\n",
              "            title=\"Convert this dataframe to an interactive table.\"\n",
              "            style=\"display:none;\">\n",
              "\n",
              "  <svg xmlns=\"http://www.w3.org/2000/svg\" height=\"24px\" viewBox=\"0 -960 960 960\">\n",
              "    <path d=\"M120-120v-720h720v720H120Zm60-500h600v-160H180v160Zm220 220h160v-160H400v160Zm0 220h160v-160H400v160ZM180-400h160v-160H180v160Zm440 0h160v-160H620v160ZM180-180h160v-160H180v160Zm440 0h160v-160H620v160Z\"/>\n",
              "  </svg>\n",
              "    </button>\n",
              "\n",
              "  <style>\n",
              "    .colab-df-container {\n",
              "      display:flex;\n",
              "      gap: 12px;\n",
              "    }\n",
              "\n",
              "    .colab-df-convert {\n",
              "      background-color: #E8F0FE;\n",
              "      border: none;\n",
              "      border-radius: 50%;\n",
              "      cursor: pointer;\n",
              "      display: none;\n",
              "      fill: #1967D2;\n",
              "      height: 32px;\n",
              "      padding: 0 0 0 0;\n",
              "      width: 32px;\n",
              "    }\n",
              "\n",
              "    .colab-df-convert:hover {\n",
              "      background-color: #E2EBFA;\n",
              "      box-shadow: 0px 1px 2px rgba(60, 64, 67, 0.3), 0px 1px 3px 1px rgba(60, 64, 67, 0.15);\n",
              "      fill: #174EA6;\n",
              "    }\n",
              "\n",
              "    .colab-df-buttons div {\n",
              "      margin-bottom: 4px;\n",
              "    }\n",
              "\n",
              "    [theme=dark] .colab-df-convert {\n",
              "      background-color: #3B4455;\n",
              "      fill: #D2E3FC;\n",
              "    }\n",
              "\n",
              "    [theme=dark] .colab-df-convert:hover {\n",
              "      background-color: #434B5C;\n",
              "      box-shadow: 0px 1px 3px 1px rgba(0, 0, 0, 0.15);\n",
              "      filter: drop-shadow(0px 1px 2px rgba(0, 0, 0, 0.3));\n",
              "      fill: #FFFFFF;\n",
              "    }\n",
              "  </style>\n",
              "\n",
              "    <script>\n",
              "      const buttonEl =\n",
              "        document.querySelector('#df-a0758119-131a-4fb2-a31c-0d10d7ebca19 button.colab-df-convert');\n",
              "      buttonEl.style.display =\n",
              "        google.colab.kernel.accessAllowed ? 'block' : 'none';\n",
              "\n",
              "      async function convertToInteractive(key) {\n",
              "        const element = document.querySelector('#df-a0758119-131a-4fb2-a31c-0d10d7ebca19');\n",
              "        const dataTable =\n",
              "          await google.colab.kernel.invokeFunction('convertToInteractive',\n",
              "                                                    [key], {});\n",
              "        if (!dataTable) return;\n",
              "\n",
              "        const docLinkHtml = 'Like what you see? Visit the ' +\n",
              "          '<a target=\"_blank\" href=https://colab.research.google.com/notebooks/data_table.ipynb>data table notebook</a>'\n",
              "          + ' to learn more about interactive tables.';\n",
              "        element.innerHTML = '';\n",
              "        dataTable['output_type'] = 'display_data';\n",
              "        await google.colab.output.renderOutput(dataTable, element);\n",
              "        const docLink = document.createElement('div');\n",
              "        docLink.innerHTML = docLinkHtml;\n",
              "        element.appendChild(docLink);\n",
              "      }\n",
              "    </script>\n",
              "  </div>\n",
              "\n",
              "\n",
              "<div id=\"df-bf27b22f-3054-475a-a868-d3a6f30ecc68\">\n",
              "  <button class=\"colab-df-quickchart\" onclick=\"quickchart('df-bf27b22f-3054-475a-a868-d3a6f30ecc68')\"\n",
              "            title=\"Suggest charts\"\n",
              "            style=\"display:none;\">\n",
              "\n",
              "<svg xmlns=\"http://www.w3.org/2000/svg\" height=\"24px\"viewBox=\"0 0 24 24\"\n",
              "     width=\"24px\">\n",
              "    <g>\n",
              "        <path d=\"M19 3H5c-1.1 0-2 .9-2 2v14c0 1.1.9 2 2 2h14c1.1 0 2-.9 2-2V5c0-1.1-.9-2-2-2zM9 17H7v-7h2v7zm4 0h-2V7h2v10zm4 0h-2v-4h2v4z\"/>\n",
              "    </g>\n",
              "</svg>\n",
              "  </button>\n",
              "\n",
              "<style>\n",
              "  .colab-df-quickchart {\n",
              "      --bg-color: #E8F0FE;\n",
              "      --fill-color: #1967D2;\n",
              "      --hover-bg-color: #E2EBFA;\n",
              "      --hover-fill-color: #174EA6;\n",
              "      --disabled-fill-color: #AAA;\n",
              "      --disabled-bg-color: #DDD;\n",
              "  }\n",
              "\n",
              "  [theme=dark] .colab-df-quickchart {\n",
              "      --bg-color: #3B4455;\n",
              "      --fill-color: #D2E3FC;\n",
              "      --hover-bg-color: #434B5C;\n",
              "      --hover-fill-color: #FFFFFF;\n",
              "      --disabled-bg-color: #3B4455;\n",
              "      --disabled-fill-color: #666;\n",
              "  }\n",
              "\n",
              "  .colab-df-quickchart {\n",
              "    background-color: var(--bg-color);\n",
              "    border: none;\n",
              "    border-radius: 50%;\n",
              "    cursor: pointer;\n",
              "    display: none;\n",
              "    fill: var(--fill-color);\n",
              "    height: 32px;\n",
              "    padding: 0;\n",
              "    width: 32px;\n",
              "  }\n",
              "\n",
              "  .colab-df-quickchart:hover {\n",
              "    background-color: var(--hover-bg-color);\n",
              "    box-shadow: 0 1px 2px rgba(60, 64, 67, 0.3), 0 1px 3px 1px rgba(60, 64, 67, 0.15);\n",
              "    fill: var(--button-hover-fill-color);\n",
              "  }\n",
              "\n",
              "  .colab-df-quickchart-complete:disabled,\n",
              "  .colab-df-quickchart-complete:disabled:hover {\n",
              "    background-color: var(--disabled-bg-color);\n",
              "    fill: var(--disabled-fill-color);\n",
              "    box-shadow: none;\n",
              "  }\n",
              "\n",
              "  .colab-df-spinner {\n",
              "    border: 2px solid var(--fill-color);\n",
              "    border-color: transparent;\n",
              "    border-bottom-color: var(--fill-color);\n",
              "    animation:\n",
              "      spin 1s steps(1) infinite;\n",
              "  }\n",
              "\n",
              "  @keyframes spin {\n",
              "    0% {\n",
              "      border-color: transparent;\n",
              "      border-bottom-color: var(--fill-color);\n",
              "      border-left-color: var(--fill-color);\n",
              "    }\n",
              "    20% {\n",
              "      border-color: transparent;\n",
              "      border-left-color: var(--fill-color);\n",
              "      border-top-color: var(--fill-color);\n",
              "    }\n",
              "    30% {\n",
              "      border-color: transparent;\n",
              "      border-left-color: var(--fill-color);\n",
              "      border-top-color: var(--fill-color);\n",
              "      border-right-color: var(--fill-color);\n",
              "    }\n",
              "    40% {\n",
              "      border-color: transparent;\n",
              "      border-right-color: var(--fill-color);\n",
              "      border-top-color: var(--fill-color);\n",
              "    }\n",
              "    60% {\n",
              "      border-color: transparent;\n",
              "      border-right-color: var(--fill-color);\n",
              "    }\n",
              "    80% {\n",
              "      border-color: transparent;\n",
              "      border-right-color: var(--fill-color);\n",
              "      border-bottom-color: var(--fill-color);\n",
              "    }\n",
              "    90% {\n",
              "      border-color: transparent;\n",
              "      border-bottom-color: var(--fill-color);\n",
              "    }\n",
              "  }\n",
              "</style>\n",
              "\n",
              "  <script>\n",
              "    async function quickchart(key) {\n",
              "      const quickchartButtonEl =\n",
              "        document.querySelector('#' + key + ' button');\n",
              "      quickchartButtonEl.disabled = true;  // To prevent multiple clicks.\n",
              "      quickchartButtonEl.classList.add('colab-df-spinner');\n",
              "      try {\n",
              "        const charts = await google.colab.kernel.invokeFunction(\n",
              "            'suggestCharts', [key], {});\n",
              "      } catch (error) {\n",
              "        console.error('Error during call to suggestCharts:', error);\n",
              "      }\n",
              "      quickchartButtonEl.classList.remove('colab-df-spinner');\n",
              "      quickchartButtonEl.classList.add('colab-df-quickchart-complete');\n",
              "    }\n",
              "    (() => {\n",
              "      let quickchartButtonEl =\n",
              "        document.querySelector('#df-bf27b22f-3054-475a-a868-d3a6f30ecc68 button');\n",
              "      quickchartButtonEl.style.display =\n",
              "        google.colab.kernel.accessAllowed ? 'block' : 'none';\n",
              "    })();\n",
              "  </script>\n",
              "</div>\n",
              "    </div>\n",
              "  </div>\n"
            ]
          },
          "metadata": {},
          "execution_count": 4
        }
      ]
    },
    {
      "cell_type": "code",
      "source": [
        "# create X and y values\n",
        "X = insurance_onehot.drop(\"charges\", axis=1)\n",
        "y = insurance_onehot[\"charges\"]\n",
        "X, y"
      ],
      "metadata": {
        "colab": {
          "base_uri": "https://localhost:8080/"
        },
        "id": "mmJhO_u92H6K",
        "outputId": "23243f15-429d-4a0b-c7be-31804d37c5aa"
      },
      "execution_count": null,
      "outputs": [
        {
          "output_type": "execute_result",
          "data": {
            "text/plain": [
              "(      age     bmi  children  sex_female  sex_male  smoker_no  smoker_yes  \\\n",
              " 0      19  27.900         0           1         0          0           1   \n",
              " 1      18  33.770         1           0         1          1           0   \n",
              " 2      28  33.000         3           0         1          1           0   \n",
              " 3      33  22.705         0           0         1          1           0   \n",
              " 4      32  28.880         0           0         1          1           0   \n",
              " ...   ...     ...       ...         ...       ...        ...         ...   \n",
              " 1333   50  30.970         3           0         1          1           0   \n",
              " 1334   18  31.920         0           1         0          1           0   \n",
              " 1335   18  36.850         0           1         0          1           0   \n",
              " 1336   21  25.800         0           1         0          1           0   \n",
              " 1337   61  29.070         0           1         0          0           1   \n",
              " \n",
              "       region_northeast  region_northwest  region_southeast  region_southwest  \n",
              " 0                    0                 0                 0                 1  \n",
              " 1                    0                 0                 1                 0  \n",
              " 2                    0                 0                 1                 0  \n",
              " 3                    0                 1                 0                 0  \n",
              " 4                    0                 1                 0                 0  \n",
              " ...                ...               ...               ...               ...  \n",
              " 1333                 0                 1                 0                 0  \n",
              " 1334                 1                 0                 0                 0  \n",
              " 1335                 0                 0                 1                 0  \n",
              " 1336                 0                 0                 0                 1  \n",
              " 1337                 0                 1                 0                 0  \n",
              " \n",
              " [1338 rows x 11 columns],\n",
              " 0       16884.92400\n",
              " 1        1725.55230\n",
              " 2        4449.46200\n",
              " 3       21984.47061\n",
              " 4        3866.85520\n",
              "            ...     \n",
              " 1333    10600.54830\n",
              " 1334     2205.98080\n",
              " 1335     1629.83350\n",
              " 1336     2007.94500\n",
              " 1337    29141.36030\n",
              " Name: charges, Length: 1338, dtype: float64)"
            ]
          },
          "metadata": {},
          "execution_count": 5
        }
      ]
    },
    {
      "cell_type": "code",
      "source": [
        "from sklearn.model_selection import train_test_split\n",
        "X_train, X_test, y_train, y_test = train_test_split(X, y, test_size=0.2)"
      ],
      "metadata": {
        "id": "C0TJYWOx2gVa"
      },
      "execution_count": null,
      "outputs": []
    },
    {
      "cell_type": "code",
      "source": [
        "X_train, X_test"
      ],
      "metadata": {
        "colab": {
          "base_uri": "https://localhost:8080/"
        },
        "id": "O6kfy_5l_m-H",
        "outputId": "5ecb2986-d32d-49f8-dce0-e0e3e77c6b14"
      },
      "execution_count": null,
      "outputs": [
        {
          "output_type": "execute_result",
          "data": {
            "text/plain": [
              "(      age     bmi  children  sex_female  sex_male  smoker_no  smoker_yes  \\\n",
              " 836    36  31.500         0           0         1          1           0   \n",
              " 621    37  34.100         4           0         1          0           1   \n",
              " 867    57  43.700         1           0         1          1           0   \n",
              " 633    40  22.705         2           0         1          1           0   \n",
              " 790    39  41.800         0           1         0          1           0   \n",
              " ...   ...     ...       ...         ...       ...        ...         ...   \n",
              " 1177   40  27.400         1           1         0          1           0   \n",
              " 1281   47  27.645         2           1         0          0           1   \n",
              " 421    61  35.860         0           0         1          0           1   \n",
              " 1186   20  35.625         3           0         1          0           1   \n",
              " 35     19  20.425         0           0         1          1           0   \n",
              " \n",
              "       region_northeast  region_northwest  region_southeast  region_southwest  \n",
              " 836                  0                 0                 0                 1  \n",
              " 621                  0                 0                 0                 1  \n",
              " 867                  0                 0                 0                 1  \n",
              " 633                  1                 0                 0                 0  \n",
              " 790                  0                 0                 1                 0  \n",
              " ...                ...               ...               ...               ...  \n",
              " 1177                 0                 0                 0                 1  \n",
              " 1281                 0                 1                 0                 0  \n",
              " 421                  0                 0                 1                 0  \n",
              " 1186                 0                 1                 0                 0  \n",
              " 35                   0                 1                 0                 0  \n",
              " \n",
              " [1070 rows x 11 columns],\n",
              "       age     bmi  children  sex_female  sex_male  smoker_no  smoker_yes  \\\n",
              " 618    19  33.110         0           1         0          0           1   \n",
              " 261    20  26.840         1           1         0          0           1   \n",
              " 285    46  26.620         1           0         1          1           0   \n",
              " 1230   52  34.485         3           0         1          0           1   \n",
              " 804    23  26.510         0           0         1          1           0   \n",
              " ...   ...     ...       ...         ...       ...        ...         ...   \n",
              " 109    63  35.090         0           0         1          0           1   \n",
              " 1256   51  36.385         3           1         0          1           0   \n",
              " 848    27  24.100         0           1         0          1           0   \n",
              " 946    42  35.800         2           0         1          1           0   \n",
              " 1141   41  32.600         3           1         0          1           0   \n",
              " \n",
              "       region_northeast  region_northwest  region_southeast  region_southwest  \n",
              " 618                  0                 0                 1                 0  \n",
              " 261                  0                 0                 1                 0  \n",
              " 285                  0                 0                 1                 0  \n",
              " 1230                 0                 1                 0                 0  \n",
              " 804                  0                 0                 1                 0  \n",
              " ...                ...               ...               ...               ...  \n",
              " 109                  0                 0                 1                 0  \n",
              " 1256                 0                 1                 0                 0  \n",
              " 848                  0                 0                 0                 1  \n",
              " 946                  0                 0                 0                 1  \n",
              " 1141                 0                 0                 0                 1  \n",
              " \n",
              " [268 rows x 11 columns])"
            ]
          },
          "metadata": {},
          "execution_count": 7
        }
      ]
    },
    {
      "cell_type": "code",
      "source": [
        "# Build a neural network\n",
        "tf.random.set_seed(42)\n",
        "# build model\n",
        "insurance_model = tf.keras.Sequential([\n",
        "    tf.keras.layers.Dense(10),\n",
        "    tf.keras.layers.Dense(1)\n",
        "])\n",
        "\n",
        "# compile\n",
        "insurance_model.compile(loss=tf.keras.losses.mae,\n",
        "                        optimizer=tf.keras.optimizers.SGD(),\n",
        "                        metrics=[\"mae\"])\n",
        "# fit\n",
        "insurance_model.fit(tf.expand_dims(X_train, axis=-1), y_train, epochs=100)"
      ],
      "metadata": {
        "colab": {
          "base_uri": "https://localhost:8080/"
        },
        "id": "oPUj1Uyn_wyy",
        "outputId": "cebfa0b0-55fb-4cd1-9bcb-845824fae6c5"
      },
      "execution_count": null,
      "outputs": [
        {
          "output_type": "stream",
          "name": "stdout",
          "text": [
            "Epoch 1/100\n",
            "34/34 [==============================] - 2s 10ms/step - loss: 13125.3643 - mae: 13125.3643\n",
            "Epoch 2/100\n",
            "34/34 [==============================] - 0s 6ms/step - loss: 12212.1182 - mae: 12212.1182\n",
            "Epoch 3/100\n",
            "34/34 [==============================] - 0s 3ms/step - loss: 12064.7783 - mae: 12064.7783\n",
            "Epoch 4/100\n",
            "34/34 [==============================] - 0s 7ms/step - loss: 11989.7930 - mae: 11989.7930\n",
            "Epoch 5/100\n",
            "34/34 [==============================] - 0s 5ms/step - loss: 11879.4453 - mae: 11879.4453\n",
            "Epoch 6/100\n",
            "34/34 [==============================] - 0s 3ms/step - loss: 11697.3486 - mae: 11697.3486\n",
            "Epoch 7/100\n",
            "34/34 [==============================] - 0s 5ms/step - loss: 11379.6904 - mae: 11379.6904\n",
            "Epoch 8/100\n",
            "34/34 [==============================] - 0s 8ms/step - loss: 10877.9375 - mae: 10877.9375\n",
            "Epoch 9/100\n",
            "34/34 [==============================] - 0s 6ms/step - loss: 10252.9033 - mae: 10252.9033\n",
            "Epoch 10/100\n",
            "34/34 [==============================] - 0s 6ms/step - loss: 9619.7900 - mae: 9619.7900\n",
            "Epoch 11/100\n",
            "34/34 [==============================] - 0s 3ms/step - loss: 9129.8486 - mae: 9129.8486\n",
            "Epoch 12/100\n",
            "34/34 [==============================] - 0s 5ms/step - loss: 8795.0547 - mae: 8795.0547\n",
            "Epoch 13/100\n",
            "34/34 [==============================] - 0s 4ms/step - loss: 8647.2002 - mae: 8647.2002\n",
            "Epoch 14/100\n",
            "34/34 [==============================] - 0s 3ms/step - loss: 8528.4619 - mae: 8528.4619\n",
            "Epoch 15/100\n",
            "34/34 [==============================] - 0s 3ms/step - loss: 8614.5869 - mae: 8614.5869\n",
            "Epoch 16/100\n",
            "34/34 [==============================] - 0s 3ms/step - loss: 8544.3848 - mae: 8544.3848\n",
            "Epoch 17/100\n",
            "34/34 [==============================] - 0s 4ms/step - loss: 8408.5674 - mae: 8408.5674\n",
            "Epoch 18/100\n",
            "34/34 [==============================] - 0s 6ms/step - loss: 8416.9160 - mae: 8416.9160\n",
            "Epoch 19/100\n",
            "34/34 [==============================] - 0s 10ms/step - loss: 8481.3018 - mae: 8481.3018\n",
            "Epoch 20/100\n",
            "34/34 [==============================] - 0s 3ms/step - loss: 8424.1279 - mae: 8424.1279\n",
            "Epoch 21/100\n",
            "34/34 [==============================] - 0s 3ms/step - loss: 8381.8447 - mae: 8381.8447\n",
            "Epoch 22/100\n",
            "34/34 [==============================] - 0s 4ms/step - loss: 8424.8379 - mae: 8424.8379\n",
            "Epoch 23/100\n",
            "34/34 [==============================] - 0s 4ms/step - loss: 8456.3643 - mae: 8456.3643\n",
            "Epoch 24/100\n",
            "34/34 [==============================] - 0s 3ms/step - loss: 8445.2666 - mae: 8445.2666\n",
            "Epoch 25/100\n",
            "34/34 [==============================] - 0s 4ms/step - loss: 8435.5186 - mae: 8435.5186\n",
            "Epoch 26/100\n",
            "34/34 [==============================] - 0s 4ms/step - loss: 8436.1797 - mae: 8436.1797\n",
            "Epoch 27/100\n",
            "34/34 [==============================] - 0s 4ms/step - loss: 8385.1699 - mae: 8385.1699\n",
            "Epoch 28/100\n",
            "34/34 [==============================] - 0s 5ms/step - loss: 8505.4307 - mae: 8505.4307\n",
            "Epoch 29/100\n",
            "34/34 [==============================] - 0s 4ms/step - loss: 8478.2256 - mae: 8478.2256\n",
            "Epoch 30/100\n",
            "34/34 [==============================] - 0s 4ms/step - loss: 8430.4463 - mae: 8430.4463\n",
            "Epoch 31/100\n",
            "34/34 [==============================] - 0s 4ms/step - loss: 8431.8037 - mae: 8431.8037\n",
            "Epoch 32/100\n",
            "34/34 [==============================] - 0s 3ms/step - loss: 8492.8447 - mae: 8492.8447\n",
            "Epoch 33/100\n",
            "34/34 [==============================] - 0s 3ms/step - loss: 8446.1914 - mae: 8446.1914\n",
            "Epoch 34/100\n",
            "34/34 [==============================] - 0s 3ms/step - loss: 8418.2900 - mae: 8418.2900\n",
            "Epoch 35/100\n",
            "34/34 [==============================] - 0s 4ms/step - loss: 8434.8428 - mae: 8434.8428\n",
            "Epoch 36/100\n",
            "34/34 [==============================] - 0s 3ms/step - loss: 8368.9531 - mae: 8368.9531\n",
            "Epoch 37/100\n",
            "34/34 [==============================] - 0s 11ms/step - loss: 8322.0811 - mae: 8322.0811\n",
            "Epoch 38/100\n",
            "34/34 [==============================] - 1s 15ms/step - loss: 8432.4795 - mae: 8432.4795\n",
            "Epoch 39/100\n",
            "34/34 [==============================] - 1s 17ms/step - loss: 8408.3330 - mae: 8408.3330\n",
            "Epoch 40/100\n",
            "34/34 [==============================] - 0s 8ms/step - loss: 8378.2061 - mae: 8378.2061\n",
            "Epoch 41/100\n",
            "34/34 [==============================] - 0s 8ms/step - loss: 8440.2559 - mae: 8440.2559\n",
            "Epoch 42/100\n",
            "34/34 [==============================] - 0s 7ms/step - loss: 8378.1133 - mae: 8378.1133\n",
            "Epoch 43/100\n",
            "34/34 [==============================] - 0s 9ms/step - loss: 8365.2725 - mae: 8365.2725\n",
            "Epoch 44/100\n",
            "34/34 [==============================] - 0s 7ms/step - loss: 8417.1924 - mae: 8417.1924\n",
            "Epoch 45/100\n",
            "34/34 [==============================] - 0s 7ms/step - loss: 8440.2432 - mae: 8440.2432\n",
            "Epoch 46/100\n",
            "34/34 [==============================] - 0s 6ms/step - loss: 8415.1572 - mae: 8415.1572\n",
            "Epoch 47/100\n",
            "34/34 [==============================] - 0s 6ms/step - loss: 8381.9775 - mae: 8381.9775\n",
            "Epoch 48/100\n",
            "34/34 [==============================] - 0s 6ms/step - loss: 8347.3760 - mae: 8347.3760\n",
            "Epoch 49/100\n",
            "34/34 [==============================] - 0s 6ms/step - loss: 8384.4102 - mae: 8384.4102\n",
            "Epoch 50/100\n",
            "34/34 [==============================] - 0s 5ms/step - loss: 8385.4375 - mae: 8385.4375\n",
            "Epoch 51/100\n",
            "34/34 [==============================] - 0s 8ms/step - loss: 8369.8457 - mae: 8369.8457\n",
            "Epoch 52/100\n",
            "34/34 [==============================] - 0s 6ms/step - loss: 8382.5977 - mae: 8382.5977\n",
            "Epoch 53/100\n",
            "34/34 [==============================] - 0s 6ms/step - loss: 8378.8809 - mae: 8378.8809\n",
            "Epoch 54/100\n",
            "34/34 [==============================] - 0s 9ms/step - loss: 8351.8369 - mae: 8351.8369\n",
            "Epoch 55/100\n",
            "34/34 [==============================] - 0s 7ms/step - loss: 8330.3525 - mae: 8330.3525\n",
            "Epoch 56/100\n",
            "34/34 [==============================] - 0s 8ms/step - loss: 8300.4463 - mae: 8300.4463\n",
            "Epoch 57/100\n",
            "34/34 [==============================] - 0s 6ms/step - loss: 8350.3594 - mae: 8350.3594\n",
            "Epoch 58/100\n",
            "34/34 [==============================] - 0s 5ms/step - loss: 8314.6377 - mae: 8314.6377\n",
            "Epoch 59/100\n",
            "34/34 [==============================] - 0s 7ms/step - loss: 8336.1904 - mae: 8336.1904\n",
            "Epoch 60/100\n",
            "34/34 [==============================] - 0s 7ms/step - loss: 8344.8496 - mae: 8344.8496\n",
            "Epoch 61/100\n",
            "34/34 [==============================] - 0s 13ms/step - loss: 8329.6289 - mae: 8329.6289\n",
            "Epoch 62/100\n",
            "34/34 [==============================] - 0s 11ms/step - loss: 8308.7002 - mae: 8308.7002\n",
            "Epoch 63/100\n",
            "34/34 [==============================] - 0s 9ms/step - loss: 8350.7490 - mae: 8350.7490\n",
            "Epoch 64/100\n",
            "34/34 [==============================] - 0s 5ms/step - loss: 8365.5029 - mae: 8365.5029\n",
            "Epoch 65/100\n",
            "34/34 [==============================] - 0s 8ms/step - loss: 8366.4951 - mae: 8366.4951\n",
            "Epoch 66/100\n",
            "34/34 [==============================] - 0s 6ms/step - loss: 8383.2305 - mae: 8383.2305\n",
            "Epoch 67/100\n",
            "34/34 [==============================] - 0s 5ms/step - loss: 8313.5684 - mae: 8313.5684\n",
            "Epoch 68/100\n",
            "34/34 [==============================] - 0s 6ms/step - loss: 8360.5371 - mae: 8360.5371\n",
            "Epoch 69/100\n",
            "34/34 [==============================] - 0s 4ms/step - loss: 8370.3115 - mae: 8370.3115\n",
            "Epoch 70/100\n",
            "34/34 [==============================] - 0s 3ms/step - loss: 8356.1289 - mae: 8356.1289\n",
            "Epoch 71/100\n",
            "34/34 [==============================] - 0s 3ms/step - loss: 8343.1514 - mae: 8343.1514\n",
            "Epoch 72/100\n",
            "34/34 [==============================] - 0s 3ms/step - loss: 8325.2646 - mae: 8325.2646\n",
            "Epoch 73/100\n",
            "34/34 [==============================] - 0s 3ms/step - loss: 8323.4551 - mae: 8323.4551\n",
            "Epoch 74/100\n",
            "34/34 [==============================] - 0s 6ms/step - loss: 8335.5176 - mae: 8335.5176\n",
            "Epoch 75/100\n",
            "34/34 [==============================] - 0s 5ms/step - loss: 8356.0488 - mae: 8356.0488\n",
            "Epoch 76/100\n",
            "34/34 [==============================] - 0s 3ms/step - loss: 8325.3838 - mae: 8325.3838\n",
            "Epoch 77/100\n",
            "34/34 [==============================] - 0s 3ms/step - loss: 8379.9609 - mae: 8379.9609\n",
            "Epoch 78/100\n",
            "34/34 [==============================] - 0s 3ms/step - loss: 8327.6670 - mae: 8327.6670\n",
            "Epoch 79/100\n",
            "34/34 [==============================] - 0s 3ms/step - loss: 8377.9902 - mae: 8377.9902\n",
            "Epoch 80/100\n",
            "34/34 [==============================] - 0s 3ms/step - loss: 8330.2383 - mae: 8330.2383\n",
            "Epoch 81/100\n",
            "34/34 [==============================] - 0s 3ms/step - loss: 8331.8320 - mae: 8331.8320\n",
            "Epoch 82/100\n",
            "34/34 [==============================] - 0s 4ms/step - loss: 8319.2490 - mae: 8319.2490\n",
            "Epoch 83/100\n",
            "34/34 [==============================] - 0s 3ms/step - loss: 8323.6484 - mae: 8323.6484\n",
            "Epoch 84/100\n",
            "34/34 [==============================] - 0s 2ms/step - loss: 8332.6104 - mae: 8332.6104\n",
            "Epoch 85/100\n",
            "34/34 [==============================] - 0s 3ms/step - loss: 8384.6416 - mae: 8384.6416\n",
            "Epoch 86/100\n",
            "34/34 [==============================] - 0s 3ms/step - loss: 8358.3096 - mae: 8358.3096\n",
            "Epoch 87/100\n",
            "34/34 [==============================] - 0s 3ms/step - loss: 8305.6270 - mae: 8305.6270\n",
            "Epoch 88/100\n",
            "34/34 [==============================] - 0s 5ms/step - loss: 8338.2500 - mae: 8338.2500\n",
            "Epoch 89/100\n",
            "34/34 [==============================] - 0s 5ms/step - loss: 8341.0850 - mae: 8341.0850\n",
            "Epoch 90/100\n",
            "34/34 [==============================] - 0s 4ms/step - loss: 8372.9033 - mae: 8372.9033\n",
            "Epoch 91/100\n",
            "34/34 [==============================] - 0s 3ms/step - loss: 8367.2676 - mae: 8367.2676\n",
            "Epoch 92/100\n",
            "34/34 [==============================] - 0s 4ms/step - loss: 8313.6641 - mae: 8313.6641\n",
            "Epoch 93/100\n",
            "34/34 [==============================] - 0s 4ms/step - loss: 8340.5693 - mae: 8340.5693\n",
            "Epoch 94/100\n",
            "34/34 [==============================] - 0s 3ms/step - loss: 8337.6748 - mae: 8337.6748\n",
            "Epoch 95/100\n",
            "34/34 [==============================] - 0s 3ms/step - loss: 8307.3438 - mae: 8307.3438\n",
            "Epoch 96/100\n",
            "34/34 [==============================] - 0s 4ms/step - loss: 8305.1338 - mae: 8305.1338\n",
            "Epoch 97/100\n",
            "34/34 [==============================] - 0s 3ms/step - loss: 8326.1494 - mae: 8326.1494\n",
            "Epoch 98/100\n",
            "34/34 [==============================] - 0s 3ms/step - loss: 8317.8154 - mae: 8317.8154\n",
            "Epoch 99/100\n",
            "34/34 [==============================] - 0s 4ms/step - loss: 8307.1602 - mae: 8307.1602\n",
            "Epoch 100/100\n",
            "34/34 [==============================] - 0s 5ms/step - loss: 8327.5869 - mae: 8327.5869\n"
          ]
        },
        {
          "output_type": "execute_result",
          "data": {
            "text/plain": [
              "<keras.src.callbacks.History at 0x7ded142bcc40>"
            ]
          },
          "metadata": {},
          "execution_count": 8
        }
      ]
    },
    {
      "cell_type": "code",
      "source": [
        "# check the model on the test data\n",
        "insurance_model.evaluate(X_test, y_test)"
      ],
      "metadata": {
        "colab": {
          "base_uri": "https://localhost:8080/"
        },
        "id": "d0VF8-JyBDXj",
        "outputId": "eb589eaa-afcb-4d68-b94b-26f919b665bc"
      },
      "execution_count": null,
      "outputs": [
        {
          "output_type": "stream",
          "name": "stdout",
          "text": [
            "9/9 [==============================] - 0s 3ms/step - loss: 8721.8545 - mae: 8721.8545\n"
          ]
        },
        {
          "output_type": "execute_result",
          "data": {
            "text/plain": [
              "[8721.8544921875, 8721.8544921875]"
            ]
          },
          "metadata": {},
          "execution_count": 9
        }
      ]
    },
    {
      "cell_type": "code",
      "source": [
        "y_train.median(), y_train.mean()"
      ],
      "metadata": {
        "colab": {
          "base_uri": "https://localhost:8080/"
        },
        "id": "nW16NJreC9Ah",
        "outputId": "48fc176d-238c-423b-f07a-006b01557eac"
      },
      "execution_count": null,
      "outputs": [
        {
          "output_type": "execute_result",
          "data": {
            "text/plain": [
              "(9403.133, 13225.374713419626)"
            ]
          },
          "metadata": {},
          "execution_count": 10
        }
      ]
    },
    {
      "cell_type": "code",
      "source": [
        "# Improve the model by ading a layer and using the Adam Optimizer\n",
        "tf.random.set_seed(42)\n",
        "insurance_model_2 = tf.keras.Sequential([\n",
        "    tf.keras.layers.Dense(100),\n",
        "    tf.keras.layers.Dense(20),\n",
        "    tf.keras.layers.Dense(1)\n",
        "])\n",
        "insurance_model_2.compile(loss=tf.keras.losses.mae,\n",
        "                          optimizer=tf.keras.optimizers.Adam(learning_rate=0.001),\n",
        "                          metrics=[\"mse\"])\n",
        "insurance_model_2.fit(tf.expand_dims(X_train, axis=1), y_train, epochs=100, verbose=0)"
      ],
      "metadata": {
        "colab": {
          "base_uri": "https://localhost:8080/"
        },
        "id": "uTXdAzYxDGd7",
        "outputId": "2fd9fc43-cc91-40c2-c096-d5e38ba7bf9c"
      },
      "execution_count": null,
      "outputs": [
        {
          "output_type": "execute_result",
          "data": {
            "text/plain": [
              "<keras.src.callbacks.History at 0x7decffedabf0>"
            ]
          },
          "metadata": {},
          "execution_count": 12
        }
      ]
    },
    {
      "cell_type": "code",
      "source": [
        "insurance_model_2.evaluate(X_test, y_test)"
      ],
      "metadata": {
        "colab": {
          "base_uri": "https://localhost:8080/"
        },
        "id": "FQAl4S1kM0g_",
        "outputId": "55318fba-6065-4d1a-840e-9d685e5731ef"
      },
      "execution_count": null,
      "outputs": [
        {
          "output_type": "stream",
          "name": "stdout",
          "text": [
            "9/9 [==============================] - 0s 2ms/step - loss: 4280.3398 - mse: 71786232.0000\n"
          ]
        },
        {
          "output_type": "execute_result",
          "data": {
            "text/plain": [
              "[4280.33984375, 71786232.0]"
            ]
          },
          "metadata": {},
          "execution_count": 13
        }
      ]
    },
    {
      "cell_type": "code",
      "source": [
        "# Model 3: same as model 2 just train for longer\n",
        "tf.random.set_seed(42)\n",
        "\n",
        "insurance_model_3 = tf.keras.Sequential([\n",
        "    tf.keras.layers.Dense(100),\n",
        "    tf.keras.layers.Dense(20),\n",
        "    tf.keras.layers.Dense(1)\n",
        "])\n",
        "\n",
        "insurance_model_3.compile(loss=tf.keras.losses.mae,\n",
        "                          optimizer=tf.keras.optimizers.Adam(),\n",
        "                          metrics=[\"mae\"])\n",
        "\n",
        "history = insurance_model_3.fit(tf.expand_dims(X_train, axis=1), y_train, epochs=300,\n",
        "                      verbose=0)"
      ],
      "metadata": {
        "id": "0_xNq1G9NFqk"
      },
      "execution_count": null,
      "outputs": []
    },
    {
      "cell_type": "code",
      "source": [
        "insurance_model_3.evaluate(X_test, y_test)"
      ],
      "metadata": {
        "colab": {
          "base_uri": "https://localhost:8080/"
        },
        "id": "AAypmpenPGFY",
        "outputId": "4de57c6f-33a5-4bae-cebd-0668c2338de5"
      },
      "execution_count": null,
      "outputs": [
        {
          "output_type": "stream",
          "name": "stdout",
          "text": [
            "9/9 [==============================] - 1s 3ms/step - loss: 3627.6895 - mae: 3627.6895\n"
          ]
        },
        {
          "output_type": "execute_result",
          "data": {
            "text/plain": [
              "[3627.689453125, 3627.689453125]"
            ]
          },
          "metadata": {},
          "execution_count": 19
        }
      ]
    },
    {
      "cell_type": "code",
      "source": [
        "# plot the history (a.k.a loss curve or training curve)\n",
        "pd.DataFrame(history.history).plot()\n",
        "plt.ylabel(\"loss\")\n",
        "plt.xlabel(\"epochs\")"
      ],
      "metadata": {
        "colab": {
          "base_uri": "https://localhost:8080/",
          "height": 467
        },
        "id": "jeedt69hPY3x",
        "outputId": "0c4eff0e-2746-47e0-c0fb-3a3bc47b717e"
      },
      "execution_count": null,
      "outputs": [
        {
          "output_type": "execute_result",
          "data": {
            "text/plain": [
              "Text(0.5, 0, 'epochs')"
            ]
          },
          "metadata": {},
          "execution_count": 20
        },
        {
          "output_type": "display_data",
          "data": {
            "text/plain": [
              "<Figure size 640x480 with 1 Axes>"
            ],
            "image/png": "[encoded data removed]"
          },
          "metadata": {}
        }
      ]
    },
    {
      "cell_type": "markdown",
      "source": [
        "## Preprocessing Data (Normalization and Standardization)\n",
        "In terms of scaling values, neural networks tend to prefer normalization"
      ],
      "metadata": {
        "id": "A3CKBeHuQdp6"
      }
    },
    {
      "cell_type": "code",
      "source": [
        "import pandas as pd\n",
        "import matplotlib.pyplot as plt\n",
        "import tensorflow as tf\n",
        "\n",
        "insurance = pd.read_csv(\"https://raw.githubusercontent.com/stedy/Machine-Learning-with-R-datasets/master/insurance.csv\")\n",
        "insurance"
      ],
      "metadata": {
        "colab": {
          "base_uri": "https://localhost:8080/",
          "height": 423
        },
        "id": "gZW-tZhpRws9",
        "outputId": "e483a7ab-2e5b-4dd8-d5c4-4c8f28c3930f"
      },
      "execution_count": null,
      "outputs": [
        {
          "output_type": "execute_result",
          "data": {
            "text/plain": [
              "      age     sex     bmi  children smoker     region      charges\n",
              "0      19  female  27.900         0    yes  southwest  16884.92400\n",
              "1      18    male  33.770         1     no  southeast   1725.55230\n",
              "2      28    male  33.000         3     no  southeast   4449.46200\n",
              "3      33    male  22.705         0     no  northwest  21984.47061\n",
              "4      32    male  28.880         0     no  northwest   3866.85520\n",
              "...   ...     ...     ...       ...    ...        ...          ...\n",
              "1333   50    male  30.970         3     no  northwest  10600.54830\n",
              "1334   18  female  31.920         0     no  northeast   2205.98080\n",
              "1335   18  female  36.850         0     no  southeast   1629.83350\n",
              "1336   21  female  25.800         0     no  southwest   2007.94500\n",
              "1337   61  female  29.070         0    yes  northwest  29141.36030\n",
              "\n",
              "[1338 rows x 7 columns]"
            ],
            "text/html": [
              "\n",
              "  <div id=\"df-a9e04dd3-3829-43cc-a881-2e1f0638b3ac\" class=\"colab-df-container\">\n",
              "    <div>\n",
              "<style scoped>\n",
              "    .dataframe tbody tr th:only-of-type {\n",
              "        vertical-align: middle;\n",
              "    }\n",
              "\n",
              "    .dataframe tbody tr th {\n",
              "        vertical-align: top;\n",
              "    }\n",
              "\n",
              "    .dataframe thead th {\n",
              "        text-align: right;\n",
              "    }\n",
              "</style>\n",
              "<table border=\"1\" class=\"dataframe\">\n",
              "  <thead>\n",
              "    <tr style=\"text-align: right;\">\n",
              "      <th></th>\n",
              "      <th>age</th>\n",
              "      <th>sex</th>\n",
              "      <th>bmi</th>\n",
              "      <th>children</th>\n",
              "      <th>smoker</th>\n",
              "      <th>region</th>\n",
              "      <th>charges</th>\n",
              "    </tr>\n",
              "  </thead>\n",
              "  <tbody>\n",
              "    <tr>\n",
              "      <th>0</th>\n",
              "      <td>19</td>\n",
              "      <td>female</td>\n",
              "      <td>27.900</td>\n",
              "      <td>0</td>\n",
              "      <td>yes</td>\n",
              "      <td>southwest</td>\n",
              "      <td>16884.92400</td>\n",
              "    </tr>\n",
              "    <tr>\n",
              "      <th>1</th>\n",
              "      <td>18</td>\n",
              "      <td>male</td>\n",
              "      <td>33.770</td>\n",
              "      <td>1</td>\n",
              "      <td>no</td>\n",
              "      <td>southeast</td>\n",
              "      <td>1725.55230</td>\n",
              "    </tr>\n",
              "    <tr>\n",
              "      <th>2</th>\n",
              "      <td>28</td>\n",
              "      <td>male</td>\n",
              "      <td>33.000</td>\n",
              "      <td>3</td>\n",
              "      <td>no</td>\n",
              "      <td>southeast</td>\n",
              "      <td>4449.46200</td>\n",
              "    </tr>\n",
              "    <tr>\n",
              "      <th>3</th>\n",
              "      <td>33</td>\n",
              "      <td>male</td>\n",
              "      <td>22.705</td>\n",
              "      <td>0</td>\n",
              "      <td>no</td>\n",
              "      <td>northwest</td>\n",
              "      <td>21984.47061</td>\n",
              "    </tr>\n",
              "    <tr>\n",
              "      <th>4</th>\n",
              "      <td>32</td>\n",
              "      <td>male</td>\n",
              "      <td>28.880</td>\n",
              "      <td>0</td>\n",
              "      <td>no</td>\n",
              "      <td>northwest</td>\n",
              "      <td>3866.85520</td>\n",
              "    </tr>\n",
              "    <tr>\n",
              "      <th>...</th>\n",
              "      <td>...</td>\n",
              "      <td>...</td>\n",
              "      <td>...</td>\n",
              "      <td>...</td>\n",
              "      <td>...</td>\n",
              "      <td>...</td>\n",
              "      <td>...</td>\n",
              "    </tr>\n",
              "    <tr>\n",
              "      <th>1333</th>\n",
              "      <td>50</td>\n",
              "      <td>male</td>\n",
              "      <td>30.970</td>\n",
              "      <td>3</td>\n",
              "      <td>no</td>\n",
              "      <td>northwest</td>\n",
              "      <td>10600.54830</td>\n",
              "    </tr>\n",
              "    <tr>\n",
              "      <th>1334</th>\n",
              "      <td>18</td>\n",
              "      <td>female</td>\n",
              "      <td>31.920</td>\n",
              "      <td>0</td>\n",
              "      <td>no</td>\n",
              "      <td>northeast</td>\n",
              "      <td>2205.98080</td>\n",
              "    </tr>\n",
              "    <tr>\n",
              "      <th>1335</th>\n",
              "      <td>18</td>\n",
              "      <td>female</td>\n",
              "      <td>36.850</td>\n",
              "      <td>0</td>\n",
              "      <td>no</td>\n",
              "      <td>southeast</td>\n",
              "      <td>1629.83350</td>\n",
              "    </tr>\n",
              "    <tr>\n",
              "      <th>1336</th>\n",
              "      <td>21</td>\n",
              "      <td>female</td>\n",
              "      <td>25.800</td>\n",
              "      <td>0</td>\n",
              "      <td>no</td>\n",
              "      <td>southwest</td>\n",
              "      <td>2007.94500</td>\n",
              "    </tr>\n",
              "    <tr>\n",
              "      <th>1337</th>\n",
              "      <td>61</td>\n",
              "      <td>female</td>\n",
              "      <td>29.070</td>\n",
              "      <td>0</td>\n",
              "      <td>yes</td>\n",
              "      <td>northwest</td>\n",
              "      <td>29141.36030</td>\n",
              "    </tr>\n",
              "  </tbody>\n",
              "</table>\n",
              "<p>1338 rows × 7 columns</p>\n",
              "</div>\n",
              "    <div class=\"colab-df-buttons\">\n",
              "\n",
              "  <div class=\"colab-df-container\">\n",
              "    <button class=\"colab-df-convert\" onclick=\"convertToInteractive('df-a9e04dd3-3829-43cc-a881-2e1f0638b3ac')\"\n",
              "            title=\"Convert this dataframe to an interactive table.\"\n",
              "            style=\"display:none;\">\n",
              "\n",
              "  <svg xmlns=\"http://www.w3.org/2000/svg\" height=\"24px\" viewBox=\"0 -960 960 960\">\n",
              "    <path d=\"M120-120v-720h720v720H120Zm60-500h600v-160H180v160Zm220 220h160v-160H400v160Zm0 220h160v-160H400v160ZM180-400h160v-160H180v160Zm440 0h160v-160H620v160ZM180-180h160v-160H180v160Zm440 0h160v-160H620v160Z\"/>\n",
              "  </svg>\n",
              "    </button>\n",
              "\n",
              "  <style>\n",
              "    .colab-df-container {\n",
              "      display:flex;\n",
              "      gap: 12px;\n",
              "    }\n",
              "\n",
              "    .colab-df-convert {\n",
              "      background-color: #E8F0FE;\n",
              "      border: none;\n",
              "      border-radius: 50%;\n",
              "      cursor: pointer;\n",
              "      display: none;\n",
              "      fill: #1967D2;\n",
              "      height: 32px;\n",
              "      padding: 0 0 0 0;\n",
              "      width: 32px;\n",
              "    }\n",
              "\n",
              "    .colab-df-convert:hover {\n",
              "      background-color: #E2EBFA;\n",
              "      box-shadow: 0px 1px 2px rgba(60, 64, 67, 0.3), 0px 1px 3px 1px rgba(60, 64, 67, 0.15);\n",
              "      fill: #174EA6;\n",
              "    }\n",
              "\n",
              "    .colab-df-buttons div {\n",
              "      margin-bottom: 4px;\n",
              "    }\n",
              "\n",
              "    [theme=dark] .colab-df-convert {\n",
              "      background-color: #3B4455;\n",
              "      fill: #D2E3FC;\n",
              "    }\n",
              "\n",
              "    [theme=dark] .colab-df-convert:hover {\n",
              "      background-color: #434B5C;\n",
              "      box-shadow: 0px 1px 3px 1px rgba(0, 0, 0, 0.15);\n",
              "      filter: drop-shadow(0px 1px 2px rgba(0, 0, 0, 0.3));\n",
              "      fill: #FFFFFF;\n",
              "    }\n",
              "  </style>\n",
              "\n",
              "    <script>\n",
              "      const buttonEl =\n",
              "        document.querySelector('#df-a9e04dd3-3829-43cc-a881-2e1f0638b3ac button.colab-df-convert');\n",
              "      buttonEl.style.display =\n",
              "        google.colab.kernel.accessAllowed ? 'block' : 'none';\n",
              "\n",
              "      async function convertToInteractive(key) {\n",
              "        const element = document.querySelector('#df-a9e04dd3-3829-43cc-a881-2e1f0638b3ac');\n",
              "        const dataTable =\n",
              "          await google.colab.kernel.invokeFunction('convertToInteractive',\n",
              "                                                    [key], {});\n",
              "        if (!dataTable) return;\n",
              "\n",
              "        const docLinkHtml = 'Like what you see? Visit the ' +\n",
              "          '<a target=\"_blank\" href=https://colab.research.google.com/notebooks/data_table.ipynb>data table notebook</a>'\n",
              "          + ' to learn more about interactive tables.';\n",
              "        element.innerHTML = '';\n",
              "        dataTable['output_type'] = 'display_data';\n",
              "        await google.colab.output.renderOutput(dataTable, element);\n",
              "        const docLink = document.createElement('div');\n",
              "        docLink.innerHTML = docLinkHtml;\n",
              "        element.appendChild(docLink);\n",
              "      }\n",
              "    </script>\n",
              "  </div>\n",
              "\n",
              "\n",
              "<div id=\"df-d0296c99-785a-49c3-bafa-03ea218c9726\">\n",
              "  <button class=\"colab-df-quickchart\" onclick=\"quickchart('df-d0296c99-785a-49c3-bafa-03ea218c9726')\"\n",
              "            title=\"Suggest charts\"\n",
              "            style=\"display:none;\">\n",
              "\n",
              "<svg xmlns=\"http://www.w3.org/2000/svg\" height=\"24px\"viewBox=\"0 0 24 24\"\n",
              "     width=\"24px\">\n",
              "    <g>\n",
              "        <path d=\"M19 3H5c-1.1 0-2 .9-2 2v14c0 1.1.9 2 2 2h14c1.1 0 2-.9 2-2V5c0-1.1-.9-2-2-2zM9 17H7v-7h2v7zm4 0h-2V7h2v10zm4 0h-2v-4h2v4z\"/>\n",
              "    </g>\n",
              "</svg>\n",
              "  </button>\n",
              "\n",
              "<style>\n",
              "  .colab-df-quickchart {\n",
              "      --bg-color: #E8F0FE;\n",
              "      --fill-color: #1967D2;\n",
              "      --hover-bg-color: #E2EBFA;\n",
              "      --hover-fill-color: #174EA6;\n",
              "      --disabled-fill-color: #AAA;\n",
              "      --disabled-bg-color: #DDD;\n",
              "  }\n",
              "\n",
              "  [theme=dark] .colab-df-quickchart {\n",
              "      --bg-color: #3B4455;\n",
              "      --fill-color: #D2E3FC;\n",
              "      --hover-bg-color: #434B5C;\n",
              "      --hover-fill-color: #FFFFFF;\n",
              "      --disabled-bg-color: #3B4455;\n",
              "      --disabled-fill-color: #666;\n",
              "  }\n",
              "\n",
              "  .colab-df-quickchart {\n",
              "    background-color: var(--bg-color);\n",
              "    border: none;\n",
              "    border-radius: 50%;\n",
              "    cursor: pointer;\n",
              "    display: none;\n",
              "    fill: var(--fill-color);\n",
              "    height: 32px;\n",
              "    padding: 0;\n",
              "    width: 32px;\n",
              "  }\n",
              "\n",
              "  .colab-df-quickchart:hover {\n",
              "    background-color: var(--hover-bg-color);\n",
              "    box-shadow: 0 1px 2px rgba(60, 64, 67, 0.3), 0 1px 3px 1px rgba(60, 64, 67, 0.15);\n",
              "    fill: var(--button-hover-fill-color);\n",
              "  }\n",
              "\n",
              "  .colab-df-quickchart-complete:disabled,\n",
              "  .colab-df-quickchart-complete:disabled:hover {\n",
              "    background-color: var(--disabled-bg-color);\n",
              "    fill: var(--disabled-fill-color);\n",
              "    box-shadow: none;\n",
              "  }\n",
              "\n",
              "  .colab-df-spinner {\n",
              "    border: 2px solid var(--fill-color);\n",
              "    border-color: transparent;\n",
              "    border-bottom-color: var(--fill-color);\n",
              "    animation:\n",
              "      spin 1s steps(1) infinite;\n",
              "  }\n",
              "\n",
              "  @keyframes spin {\n",
              "    0% {\n",
              "      border-color: transparent;\n",
              "      border-bottom-color: var(--fill-color);\n",
              "      border-left-color: var(--fill-color);\n",
              "    }\n",
              "    20% {\n",
              "      border-color: transparent;\n",
              "      border-left-color: var(--fill-color);\n",
              "      border-top-color: var(--fill-color);\n",
              "    }\n",
              "    30% {\n",
              "      border-color: transparent;\n",
              "      border-left-color: var(--fill-color);\n",
              "      border-top-color: var(--fill-color);\n",
              "      border-right-color: var(--fill-color);\n",
              "    }\n",
              "    40% {\n",
              "      border-color: transparent;\n",
              "      border-right-color: var(--fill-color);\n",
              "      border-top-color: var(--fill-color);\n",
              "    }\n",
              "    60% {\n",
              "      border-color: transparent;\n",
              "      border-right-color: var(--fill-color);\n",
              "    }\n",
              "    80% {\n",
              "      border-color: transparent;\n",
              "      border-right-color: var(--fill-color);\n",
              "      border-bottom-color: var(--fill-color);\n",
              "    }\n",
              "    90% {\n",
              "      border-color: transparent;\n",
              "      border-bottom-color: var(--fill-color);\n",
              "    }\n",
              "  }\n",
              "</style>\n",
              "\n",
              "  <script>\n",
              "    async function quickchart(key) {\n",
              "      const quickchartButtonEl =\n",
              "        document.querySelector('#' + key + ' button');\n",
              "      quickchartButtonEl.disabled = true;  // To prevent multiple clicks.\n",
              "      quickchartButtonEl.classList.add('colab-df-spinner');\n",
              "      try {\n",
              "        const charts = await google.colab.kernel.invokeFunction(\n",
              "            'suggestCharts', [key], {});\n",
              "      } catch (error) {\n",
              "        console.error('Error during call to suggestCharts:', error);\n",
              "      }\n",
              "      quickchartButtonEl.classList.remove('colab-df-spinner');\n",
              "      quickchartButtonEl.classList.add('colab-df-quickchart-complete');\n",
              "    }\n",
              "    (() => {\n",
              "      let quickchartButtonEl =\n",
              "        document.querySelector('#df-d0296c99-785a-49c3-bafa-03ea218c9726 button');\n",
              "      quickchartButtonEl.style.display =\n",
              "        google.colab.kernel.accessAllowed ? 'block' : 'none';\n",
              "    })();\n",
              "  </script>\n",
              "</div>\n",
              "    </div>\n",
              "  </div>\n"
            ]
          },
          "metadata": {},
          "execution_count": 21
        }
      ]
    },
    {
      "cell_type": "markdown",
      "source": [
        "To prepare our data, we need a few classes from Scikit-Learn"
      ],
      "metadata": {
        "id": "utFpnxjaVK5D"
      }
    },
    {
      "cell_type": "code",
      "source": [
        "from sklearn.compose import make_column_transformer\n",
        "from sklearn.preprocessing import MinMaxScaler, OneHotEncoder\n",
        "from sklearn.model_selection import train_test_split\n",
        "\n",
        "# create a column transformer\n",
        "ct = make_column_transformer(\n",
        "    (MinMaxScaler(), [\"age\", \"bmi\", \"children\"]), # the columns to be scaled\n",
        "    (OneHotEncoder(handle_unknown=\"ignore\"), [\"sex\", \"smoker\", \"region\"])\n",
        ")\n",
        "\n",
        "# create X and y values\n",
        "X = insurance.drop(\"charges\", axis=1)\n",
        "y = insurance[\"charges\"]\n",
        "\n",
        "# split the data\n",
        "X_train, X_test, y_train, y_test = train_test_split(X, y, test_size=0.2,\n",
        "                                                    random_state=42)\n",
        "\n",
        "# fit the column transformer to our training data\n",
        "ct.fit(X_train)\n",
        "\n",
        "# tranform training and test with normalization(MinMaxScaler) and OneHotEncoder\n",
        "X_train_normal = ct.transform(X_train)\n",
        "X_test_normal = ct.transform(X_test)"
      ],
      "metadata": {
        "id": "MvB6xKcIU2Ag"
      },
      "execution_count": null,
      "outputs": []
    },
    {
      "cell_type": "code",
      "source": [
        "# What does our data look like\n",
        "X_train.loc[0]"
      ],
      "metadata": {
        "colab": {
          "base_uri": "https://localhost:8080/"
        },
        "id": "ztXux6ktYNBB",
        "outputId": "d4d39060-fc59-4121-d968-20273f3683e7"
      },
      "execution_count": null,
      "outputs": [
        {
          "output_type": "execute_result",
          "data": {
            "text/plain": [
              "age                19\n",
              "sex            female\n",
              "bmi              27.9\n",
              "children            0\n",
              "smoker            yes\n",
              "region      southwest\n",
              "Name: 0, dtype: object"
            ]
          },
          "metadata": {},
          "execution_count": 24
        }
      ]
    },
    {
      "cell_type": "code",
      "source": [
        "X_train_normal[0]"
      ],
      "metadata": {
        "colab": {
          "base_uri": "https://localhost:8080/"
        },
        "id": "omdPxijVZCfA",
        "outputId": "199e5872-2228-4ce9-cef3-54a66379d29e"
      },
      "execution_count": null,
      "outputs": [
        {
          "output_type": "execute_result",
          "data": {
            "text/plain": [
              "array([0.60869565, 0.10734463, 0.4       , 1.        , 0.        ,\n",
              "       1.        , 0.        , 0.        , 1.        , 0.        ,\n",
              "       0.        ])"
            ]
          },
          "metadata": {},
          "execution_count": 26
        }
      ]
    },
    {
      "cell_type": "code",
      "source": [
        "X_train.shape, X_train_normal.shape"
      ],
      "metadata": {
        "colab": {
          "base_uri": "https://localhost:8080/"
        },
        "id": "T0M-UVVqZItB",
        "outputId": "eb4e3f93-1d0a-49e2-bdd6-98538372de54"
      },
      "execution_count": null,
      "outputs": [
        {
          "output_type": "execute_result",
          "data": {
            "text/plain": [
              "((1070, 6), (1070, 11))"
            ]
          },
          "metadata": {},
          "execution_count": 27
        }
      ]
    },
    {
      "cell_type": "code",
      "source": [
        "# build a neural network to fit our preprocessed data\n",
        "tf.random.set_seed(42)\n",
        "insurance_model_4 = tf.keras.Sequential([\n",
        "    tf.keras.layers.Dense(100),\n",
        "    tf.keras.layers.Dense(20),\n",
        "    tf.keras.layers.Dense(1)\n",
        "])\n",
        "\n",
        "# compile\n",
        "insurance_model_4.compile(loss=tf.keras.losses.mae,\n",
        "                          optimizer=tf.keras.optimizers.Adam(),\n",
        "                          metrics=[\"mae\"])\n",
        "\n",
        "# fit the model\n",
        "insurance_model_4.fit(X_train_normal, y_train,\n",
        "                      epochs=300, verbose=0)"
      ],
      "metadata": {
        "colab": {
          "base_uri": "https://localhost:8080/"
        },
        "id": "QTNlhcK7Z6yP",
        "outputId": "5d3ce1a6-1906-4fb7-e51e-eb000ad02d94"
      },
      "execution_count": null,
      "outputs": [
        {
          "output_type": "execute_result",
          "data": {
            "text/plain": [
              "<keras.src.callbacks.History at 0x7ded0d062ec0>"
            ]
          },
          "metadata": {},
          "execution_count": 30
        }
      ]
    },
    {
      "cell_type": "code",
      "source": [
        "insurance_model_3.summary()"
      ],
      "metadata": {
        "colab": {
          "base_uri": "https://localhost:8080/"
        },
        "id": "M3I5vwb4anBB",
        "outputId": "075c21aa-9dfd-4122-e9d2-fa9bd304f2db"
      },
      "execution_count": null,
      "outputs": [
        {
          "output_type": "stream",
          "name": "stdout",
          "text": [
            "Model: \"sequential_5\"\n",
            "_________________________________________________________________\n",
            " Layer (type)                Output Shape              Param #   \n",
            "=================================================================\n",
            " dense_14 (Dense)            (None, 1, 100)            1200      \n",
            "                                                                 \n",
            " dense_15 (Dense)            (None, 1, 20)             2020      \n",
            "                                                                 \n",
            " dense_16 (Dense)            (None, 1, 1)              21        \n",
            "                                                                 \n",
            "=================================================================\n",
            "Total params: 3241 (12.66 KB)\n",
            "Trainable params: 3241 (12.66 KB)\n",
            "Non-trainable params: 0 (0.00 Byte)\n",
            "_________________________________________________________________\n"
          ]
        }
      ]
    },
    {
      "cell_type": "code",
      "source": [
        "# Evaluate our model\n",
        "insurance_model_4.evaluate(X_test_normal, y_test)"
      ],
      "metadata": {
        "colab": {
          "base_uri": "https://localhost:8080/"
        },
        "id": "R-VWdkkZaqc0",
        "outputId": "ee0774ca-c8f1-4e74-a447-040752793547"
      },
      "execution_count": null,
      "outputs": [
        {
          "output_type": "stream",
          "name": "stdout",
          "text": [
            "9/9 [==============================] - 0s 8ms/step - loss: 3161.6628 - mae: 3161.6628\n"
          ]
        },
        {
          "output_type": "execute_result",
          "data": {
            "text/plain": [
              "[3161.662841796875, 3161.662841796875]"
            ]
          },
          "metadata": {},
          "execution_count": 32
        }
      ]
    },
    {
      "cell_type": "markdown",
      "source": [
        "## Exercises"
      ],
      "metadata": {
        "id": "0_axvPWguOOZ"
      }
    },
    {
      "cell_type": "code",
      "source": [
        "# 1. Create your own regression data set and fit a model\n",
        "import tensorflow as tf\n",
        "tf.random.set_seed(42)\n",
        "X = tf.range(-150, 250)\n",
        "y = 2*X + 10\n",
        "X, y"
      ],
      "metadata": {
        "id": "q0fiuRVGcUP9",
        "colab": {
          "base_uri": "https://localhost:8080/"
        },
        "outputId": "c36bd9d4-7be1-47e1-8979-e6933d8b156d"
      },
      "execution_count": 5,
      "outputs": [
        {
          "output_type": "execute_result",
          "data": {
            "text/plain": [
              "(<tf.Tensor: shape=(400,), dtype=int32, numpy=\n",
              " array([-150, -149, -148, -147, -146, -145, -144, -143, -142, -141, -140,\n",
              "        -139, -138, -137, -136, -135, -134, -133, -132, -131, -130, -129,\n",
              "        -128, -127, -126, -125, -124, -123, -122, -121, -120, -119, -118,\n",
              "        -117, -116, -115, -114, -113, -112, -111, -110, -109, -108, -107,\n",
              "        -106, -105, -104, -103, -102, -101, -100,  -99,  -98,  -97,  -96,\n",
              "         -95,  -94,  -93,  -92,  -91,  -90,  -89,  -88,  -87,  -86,  -85,\n",
              "         -84,  -83,  -82,  -81,  -80,  -79,  -78,  -77,  -76,  -75,  -74,\n",
              "         -73,  -72,  -71,  -70,  -69,  -68,  -67,  -66,  -65,  -64,  -63,\n",
              "         -62,  -61,  -60,  -59,  -58,  -57,  -56,  -55,  -54,  -53,  -52,\n",
              "         -51,  -50,  -49,  -48,  -47,  -46,  -45,  -44,  -43,  -42,  -41,\n",
              "         -40,  -39,  -38,  -37,  -36,  -35,  -34,  -33,  -32,  -31,  -30,\n",
              "         -29,  -28,  -27,  -26,  -25,  -24,  -23,  -22,  -21,  -20,  -19,\n",
              "         -18,  -17,  -16,  -15,  -14,  -13,  -12,  -11,  -10,   -9,   -8,\n",
              "          -7,   -6,   -5,   -4,   -3,   -2,   -1,    0,    1,    2,    3,\n",
              "           4,    5,    6,    7,    8,    9,   10,   11,   12,   13,   14,\n",
              "          15,   16,   17,   18,   19,   20,   21,   22,   23,   24,   25,\n",
              "          26,   27,   28,   29,   30,   31,   32,   33,   34,   35,   36,\n",
              "          37,   38,   39,   40,   41,   42,   43,   44,   45,   46,   47,\n",
              "          48,   49,   50,   51,   52,   53,   54,   55,   56,   57,   58,\n",
              "          59,   60,   61,   62,   63,   64,   65,   66,   67,   68,   69,\n",
              "          70,   71,   72,   73,   74,   75,   76,   77,   78,   79,   80,\n",
              "          81,   82,   83,   84,   85,   86,   87,   88,   89,   90,   91,\n",
              "          92,   93,   94,   95,   96,   97,   98,   99,  100,  101,  102,\n",
              "         103,  104,  105,  106,  107,  108,  109,  110,  111,  112,  113,\n",
              "         114,  115,  116,  117,  118,  119,  120,  121,  122,  123,  124,\n",
              "         125,  126,  127,  128,  129,  130,  131,  132,  133,  134,  135,\n",
              "         136,  137,  138,  139,  140,  141,  142,  143,  144,  145,  146,\n",
              "         147,  148,  149,  150,  151,  152,  153,  154,  155,  156,  157,\n",
              "         158,  159,  160,  161,  162,  163,  164,  165,  166,  167,  168,\n",
              "         169,  170,  171,  172,  173,  174,  175,  176,  177,  178,  179,\n",
              "         180,  181,  182,  183,  184,  185,  186,  187,  188,  189,  190,\n",
              "         191,  192,  193,  194,  195,  196,  197,  198,  199,  200,  201,\n",
              "         202,  203,  204,  205,  206,  207,  208,  209,  210,  211,  212,\n",
              "         213,  214,  215,  216,  217,  218,  219,  220,  221,  222,  223,\n",
              "         224,  225,  226,  227,  228,  229,  230,  231,  232,  233,  234,\n",
              "         235,  236,  237,  238,  239,  240,  241,  242,  243,  244,  245,\n",
              "         246,  247,  248,  249], dtype=int32)>,\n",
              " <tf.Tensor: shape=(400,), dtype=int32, numpy=\n",
              " array([-290, -288, -286, -284, -282, -280, -278, -276, -274, -272, -270,\n",
              "        -268, -266, -264, -262, -260, -258, -256, -254, -252, -250, -248,\n",
              "        -246, -244, -242, -240, -238, -236, -234, -232, -230, -228, -226,\n",
              "        -224, -222, -220, -218, -216, -214, -212, -210, -208, -206, -204,\n",
              "        -202, -200, -198, -196, -194, -192, -190, -188, -186, -184, -182,\n",
              "        -180, -178, -176, -174, -172, -170, -168, -166, -164, -162, -160,\n",
              "        -158, -156, -154, -152, -150, -148, -146, -144, -142, -140, -138,\n",
              "        -136, -134, -132, -130, -128, -126, -124, -122, -120, -118, -116,\n",
              "        -114, -112, -110, -108, -106, -104, -102, -100,  -98,  -96,  -94,\n",
              "         -92,  -90,  -88,  -86,  -84,  -82,  -80,  -78,  -76,  -74,  -72,\n",
              "         -70,  -68,  -66,  -64,  -62,  -60,  -58,  -56,  -54,  -52,  -50,\n",
              "         -48,  -46,  -44,  -42,  -40,  -38,  -36,  -34,  -32,  -30,  -28,\n",
              "         -26,  -24,  -22,  -20,  -18,  -16,  -14,  -12,  -10,   -8,   -6,\n",
              "          -4,   -2,    0,    2,    4,    6,    8,   10,   12,   14,   16,\n",
              "          18,   20,   22,   24,   26,   28,   30,   32,   34,   36,   38,\n",
              "          40,   42,   44,   46,   48,   50,   52,   54,   56,   58,   60,\n",
              "          62,   64,   66,   68,   70,   72,   74,   76,   78,   80,   82,\n",
              "          84,   86,   88,   90,   92,   94,   96,   98,  100,  102,  104,\n",
              "         106,  108,  110,  112,  114,  116,  118,  120,  122,  124,  126,\n",
              "         128,  130,  132,  134,  136,  138,  140,  142,  144,  146,  148,\n",
              "         150,  152,  154,  156,  158,  160,  162,  164,  166,  168,  170,\n",
              "         172,  174,  176,  178,  180,  182,  184,  186,  188,  190,  192,\n",
              "         194,  196,  198,  200,  202,  204,  206,  208,  210,  212,  214,\n",
              "         216,  218,  220,  222,  224,  226,  228,  230,  232,  234,  236,\n",
              "         238,  240,  242,  244,  246,  248,  250,  252,  254,  256,  258,\n",
              "         260,  262,  264,  266,  268,  270,  272,  274,  276,  278,  280,\n",
              "         282,  284,  286,  288,  290,  292,  294,  296,  298,  300,  302,\n",
              "         304,  306,  308,  310,  312,  314,  316,  318,  320,  322,  324,\n",
              "         326,  328,  330,  332,  334,  336,  338,  340,  342,  344,  346,\n",
              "         348,  350,  352,  354,  356,  358,  360,  362,  364,  366,  368,\n",
              "         370,  372,  374,  376,  378,  380,  382,  384,  386,  388,  390,\n",
              "         392,  394,  396,  398,  400,  402,  404,  406,  408,  410,  412,\n",
              "         414,  416,  418,  420,  422,  424,  426,  428,  430,  432,  434,\n",
              "         436,  438,  440,  442,  444,  446,  448,  450,  452,  454,  456,\n",
              "         458,  460,  462,  464,  466,  468,  470,  472,  474,  476,  478,\n",
              "         480,  482,  484,  486,  488,  490,  492,  494,  496,  498,  500,\n",
              "         502,  504,  506,  508], dtype=int32)>)"
            ]
          },
          "metadata": {},
          "execution_count": 5
        }
      ]
    },
    {
      "cell_type": "code",
      "source": [
        "# plot the data\n",
        "import matplotlib.pyplot as plt\n",
        "plt.figure(figsize=(10, 7))\n",
        "plt.plot(X, y)"
      ],
      "metadata": {
        "colab": {
          "base_uri": "https://localhost:8080/",
          "height": 617
        },
        "id": "Cgj3CC5iM0qB",
        "outputId": "fd08b59d-ca50-4351-dfaf-79233a557a29"
      },
      "execution_count": 6,
      "outputs": [
        {
          "output_type": "execute_result",
          "data": {
            "text/plain": [
              "[<matplotlib.lines.Line2D at 0x7d0ddb118a90>]"
            ]
          },
          "metadata": {},
          "execution_count": 6
        },
        {
          "output_type": "display_data",
          "data": {
            "text/plain": [
              "<Figure size 1000x700 with 1 Axes>"
            ],
            "image/png": "[encoded data removed]"
          },
          "metadata": {}
        }
      ]
    },
    {
      "cell_type": "code",
      "source": [
        "# split the data into training and test sets\n",
        "X_train = X[:300]\n",
        "X_test = X[300:]\n",
        "y_train = y[:300]\n",
        "y_test = y[300:]\n",
        "\n",
        "len(X_train), len(X_test)"
      ],
      "metadata": {
        "colab": {
          "base_uri": "https://localhost:8080/"
        },
        "id": "cevqigKTPAm3",
        "outputId": "ed54763e-e00c-4760-b7cd-59395f0bcebd"
      },
      "execution_count": 8,
      "outputs": [
        {
          "output_type": "execute_result",
          "data": {
            "text/plain": [
              "(300, 100)"
            ]
          },
          "metadata": {},
          "execution_count": 8
        }
      ]
    },
    {
      "cell_type": "code",
      "source": [
        "# create our model with 4 hidden layers\n",
        "linear_model = tf.keras.Sequential([\n",
        "    tf.keras.layers.Dense(10),\n",
        "    tf.keras.layers.Dense(10),\n",
        "    # tf.keras.layers.Dense(1),\n",
        "    tf.keras.layers.Dense(1)\n",
        "], name=\"Linear_Model\")\n",
        "\n",
        "# compile the model\n",
        "linear_model.compile(loss=tf.keras.losses.mae,\n",
        "                     optimizer=tf.keras.optimizers.Adam(learning_rate=0.01),\n",
        "                     metrics=[\"mae\"])\n",
        "\n",
        "# fit the model\n",
        "linear_model.fit(tf.expand_dims(X_train, axis=1), y_train, epochs=200,\n",
        "                 verbose=1)"
      ],
      "metadata": {
        "colab": {
          "base_uri": "https://localhost:8080/"
        },
        "id": "PNdpfnBSPowc",
        "outputId": "d3aaa00b-4ee7-4207-c8df-44845e727361"
      },
      "execution_count": 48,
      "outputs": [
        {
          "output_type": "stream",
          "name": "stdout",
          "text": [
            "Epoch 1/200\n",
            "10/10 [==============================] - 1s 4ms/step - loss: 134.3831 - mae: 134.3831\n",
            "Epoch 2/200\n",
            "10/10 [==============================] - 0s 3ms/step - loss: 32.2925 - mae: 32.2925\n",
            "Epoch 3/200\n",
            "10/10 [==============================] - 0s 4ms/step - loss: 17.9113 - mae: 17.9113\n",
            "Epoch 4/200\n",
            "10/10 [==============================] - 0s 5ms/step - loss: 11.8290 - mae: 11.8290\n",
            "Epoch 5/200\n",
            "10/10 [==============================] - 0s 4ms/step - loss: 7.5851 - mae: 7.5851\n",
            "Epoch 6/200\n",
            "10/10 [==============================] - 0s 4ms/step - loss: 6.5261 - mae: 6.5261\n",
            "Epoch 7/200\n",
            "10/10 [==============================] - 0s 4ms/step - loss: 4.8684 - mae: 4.8684\n",
            "Epoch 8/200\n",
            "10/10 [==============================] - 0s 4ms/step - loss: 3.8195 - mae: 3.8195\n",
            "Epoch 9/200\n",
            "10/10 [==============================] - 0s 5ms/step - loss: 2.7808 - mae: 2.7808\n",
            "Epoch 10/200\n",
            "10/10 [==============================] - 0s 4ms/step - loss: 1.7486 - mae: 1.7486\n",
            "Epoch 11/200\n",
            "10/10 [==============================] - 0s 4ms/step - loss: 1.2392 - mae: 1.2392\n",
            "Epoch 12/200\n",
            "10/10 [==============================] - 0s 4ms/step - loss: 2.2932 - mae: 2.2932\n",
            "Epoch 13/200\n",
            "10/10 [==============================] - 0s 9ms/step - loss: 2.2758 - mae: 2.2758\n",
            "Epoch 14/200\n",
            "10/10 [==============================] - 0s 4ms/step - loss: 1.0748 - mae: 1.0748\n",
            "Epoch 15/200\n",
            "10/10 [==============================] - 0s 4ms/step - loss: 1.1766 - mae: 1.1766\n",
            "Epoch 16/200\n",
            "10/10 [==============================] - 0s 4ms/step - loss: 3.3661 - mae: 3.3661\n",
            "Epoch 17/200\n",
            "10/10 [==============================] - 0s 4ms/step - loss: 5.3736 - mae: 5.3736\n",
            "Epoch 18/200\n",
            "10/10 [==============================] - 0s 4ms/step - loss: 5.4430 - mae: 5.4430\n",
            "Epoch 19/200\n",
            "10/10 [==============================] - 0s 4ms/step - loss: 1.7557 - mae: 1.7557\n",
            "Epoch 20/200\n",
            "10/10 [==============================] - 0s 4ms/step - loss: 1.1562 - mae: 1.1562\n",
            "Epoch 21/200\n",
            "10/10 [==============================] - 0s 4ms/step - loss: 1.2625 - mae: 1.2625\n",
            "Epoch 22/200\n",
            "10/10 [==============================] - 0s 4ms/step - loss: 1.2098 - mae: 1.2098\n",
            "Epoch 23/200\n",
            "10/10 [==============================] - 0s 3ms/step - loss: 0.9151 - mae: 0.9151\n",
            "Epoch 24/200\n",
            "10/10 [==============================] - 0s 4ms/step - loss: 0.8982 - mae: 0.8982\n",
            "Epoch 25/200\n",
            "10/10 [==============================] - 0s 4ms/step - loss: 1.4059 - mae: 1.4059\n",
            "Epoch 26/200\n",
            "10/10 [==============================] - 0s 4ms/step - loss: 1.3553 - mae: 1.3553\n",
            "Epoch 27/200\n",
            "10/10 [==============================] - 0s 5ms/step - loss: 1.8833 - mae: 1.8833\n",
            "Epoch 28/200\n",
            "10/10 [==============================] - 0s 5ms/step - loss: 2.6051 - mae: 2.6051\n",
            "Epoch 29/200\n",
            "10/10 [==============================] - 0s 4ms/step - loss: 3.5208 - mae: 3.5208\n",
            "Epoch 30/200\n",
            "10/10 [==============================] - 0s 4ms/step - loss: 4.0111 - mae: 4.0111\n",
            "Epoch 31/200\n",
            "10/10 [==============================] - 0s 4ms/step - loss: 3.3627 - mae: 3.3627\n",
            "Epoch 32/200\n",
            "10/10 [==============================] - 0s 5ms/step - loss: 1.5428 - mae: 1.5428\n",
            "Epoch 33/200\n",
            "10/10 [==============================] - 0s 4ms/step - loss: 0.8317 - mae: 0.8317\n",
            "Epoch 34/200\n",
            "10/10 [==============================] - 0s 4ms/step - loss: 2.4369 - mae: 2.4369\n",
            "Epoch 35/200\n",
            "10/10 [==============================] - 0s 4ms/step - loss: 1.0654 - mae: 1.0654\n",
            "Epoch 36/200\n",
            "10/10 [==============================] - 0s 4ms/step - loss: 0.7644 - mae: 0.7644\n",
            "Epoch 37/200\n",
            "10/10 [==============================] - 0s 4ms/step - loss: 1.5661 - mae: 1.5661\n",
            "Epoch 38/200\n",
            "10/10 [==============================] - 0s 4ms/step - loss: 1.2244 - mae: 1.2244\n",
            "Epoch 39/200\n",
            "10/10 [==============================] - 0s 4ms/step - loss: 1.3671 - mae: 1.3671\n",
            "Epoch 40/200\n",
            "10/10 [==============================] - 0s 4ms/step - loss: 3.1407 - mae: 3.1407\n",
            "Epoch 41/200\n",
            "10/10 [==============================] - 0s 4ms/step - loss: 1.9391 - mae: 1.9391\n",
            "Epoch 42/200\n",
            "10/10 [==============================] - 0s 4ms/step - loss: 2.1106 - mae: 2.1106\n",
            "Epoch 43/200\n",
            "10/10 [==============================] - 0s 4ms/step - loss: 1.5899 - mae: 1.5899\n",
            "Epoch 44/200\n",
            "10/10 [==============================] - 0s 4ms/step - loss: 0.8048 - mae: 0.8048\n",
            "Epoch 45/200\n",
            "10/10 [==============================] - 0s 4ms/step - loss: 1.7484 - mae: 1.7484\n",
            "Epoch 46/200\n",
            "10/10 [==============================] - 0s 4ms/step - loss: 2.2842 - mae: 2.2842\n",
            "Epoch 47/200\n",
            "10/10 [==============================] - 0s 4ms/step - loss: 3.8131 - mae: 3.8131\n",
            "Epoch 48/200\n",
            "10/10 [==============================] - 0s 4ms/step - loss: 2.5738 - mae: 2.5738\n",
            "Epoch 49/200\n",
            "10/10 [==============================] - 0s 3ms/step - loss: 2.2528 - mae: 2.2528\n",
            "Epoch 50/200\n",
            "10/10 [==============================] - 0s 3ms/step - loss: 1.6425 - mae: 1.6425\n",
            "Epoch 51/200\n",
            "10/10 [==============================] - 0s 3ms/step - loss: 3.8073 - mae: 3.8073\n",
            "Epoch 52/200\n",
            "10/10 [==============================] - 0s 3ms/step - loss: 1.8422 - mae: 1.8422\n",
            "Epoch 53/200\n",
            "10/10 [==============================] - 0s 3ms/step - loss: 1.3349 - mae: 1.3349\n",
            "Epoch 54/200\n",
            "10/10 [==============================] - 0s 3ms/step - loss: 1.7523 - mae: 1.7523\n",
            "Epoch 55/200\n",
            "10/10 [==============================] - 0s 3ms/step - loss: 0.7126 - mae: 0.7126\n",
            "Epoch 56/200\n",
            "10/10 [==============================] - 0s 3ms/step - loss: 0.7318 - mae: 0.7318\n",
            "Epoch 57/200\n",
            "10/10 [==============================] - 0s 3ms/step - loss: 0.7652 - mae: 0.7652\n",
            "Epoch 58/200\n",
            "10/10 [==============================] - 0s 3ms/step - loss: 0.8558 - mae: 0.8558\n",
            "Epoch 59/200\n",
            "10/10 [==============================] - 0s 3ms/step - loss: 2.1019 - mae: 2.1019\n",
            "Epoch 60/200\n",
            "10/10 [==============================] - 0s 2ms/step - loss: 1.7999 - mae: 1.7999\n",
            "Epoch 61/200\n",
            "10/10 [==============================] - 0s 2ms/step - loss: 1.4968 - mae: 1.4968\n",
            "Epoch 62/200\n",
            "10/10 [==============================] - 0s 2ms/step - loss: 1.5193 - mae: 1.5193\n",
            "Epoch 63/200\n",
            "10/10 [==============================] - 0s 2ms/step - loss: 3.0445 - mae: 3.0445\n",
            "Epoch 64/200\n",
            "10/10 [==============================] - 0s 2ms/step - loss: 1.9949 - mae: 1.9949\n",
            "Epoch 65/200\n",
            "10/10 [==============================] - 0s 3ms/step - loss: 0.6824 - mae: 0.6824\n",
            "Epoch 66/200\n",
            "10/10 [==============================] - 0s 2ms/step - loss: 0.6342 - mae: 0.6342\n",
            "Epoch 67/200\n",
            "10/10 [==============================] - 0s 2ms/step - loss: 2.5726 - mae: 2.5726\n",
            "Epoch 68/200\n",
            "10/10 [==============================] - 0s 2ms/step - loss: 3.1161 - mae: 3.1161\n",
            "Epoch 69/200\n",
            "10/10 [==============================] - 0s 3ms/step - loss: 0.8891 - mae: 0.8891\n",
            "Epoch 70/200\n",
            "10/10 [==============================] - 0s 2ms/step - loss: 1.1794 - mae: 1.1794\n",
            "Epoch 71/200\n",
            "10/10 [==============================] - 0s 4ms/step - loss: 1.0135 - mae: 1.0135\n",
            "Epoch 72/200\n",
            "10/10 [==============================] - 0s 3ms/step - loss: 2.1960 - mae: 2.1960\n",
            "Epoch 73/200\n",
            "10/10 [==============================] - 0s 2ms/step - loss: 1.9602 - mae: 1.9602\n",
            "Epoch 74/200\n",
            "10/10 [==============================] - 0s 2ms/step - loss: 1.2337 - mae: 1.2337\n",
            "Epoch 75/200\n",
            "10/10 [==============================] - 0s 3ms/step - loss: 2.1198 - mae: 2.1198\n",
            "Epoch 76/200\n",
            "10/10 [==============================] - 0s 3ms/step - loss: 1.6984 - mae: 1.6984\n",
            "Epoch 77/200\n",
            "10/10 [==============================] - 0s 3ms/step - loss: 1.4586 - mae: 1.4586\n",
            "Epoch 78/200\n",
            "10/10 [==============================] - 0s 3ms/step - loss: 2.2050 - mae: 2.2050\n",
            "Epoch 79/200\n",
            "10/10 [==============================] - 0s 3ms/step - loss: 1.9665 - mae: 1.9665\n",
            "Epoch 80/200\n",
            "10/10 [==============================] - 0s 2ms/step - loss: 1.8899 - mae: 1.8899\n",
            "Epoch 81/200\n",
            "10/10 [==============================] - 0s 3ms/step - loss: 1.3453 - mae: 1.3453\n",
            "Epoch 82/200\n",
            "10/10 [==============================] - 0s 3ms/step - loss: 1.0138 - mae: 1.0138\n",
            "Epoch 83/200\n",
            "10/10 [==============================] - 0s 3ms/step - loss: 2.3085 - mae: 2.3085\n",
            "Epoch 84/200\n",
            "10/10 [==============================] - 0s 3ms/step - loss: 2.7893 - mae: 2.7893\n",
            "Epoch 85/200\n",
            "10/10 [==============================] - 0s 4ms/step - loss: 1.5564 - mae: 1.5564\n",
            "Epoch 86/200\n",
            "10/10 [==============================] - 0s 3ms/step - loss: 0.5593 - mae: 0.5593\n",
            "Epoch 87/200\n",
            "10/10 [==============================] - 0s 2ms/step - loss: 1.6543 - mae: 1.6543\n",
            "Epoch 88/200\n",
            "10/10 [==============================] - 0s 2ms/step - loss: 1.2856 - mae: 1.2856\n",
            "Epoch 89/200\n",
            "10/10 [==============================] - 0s 3ms/step - loss: 1.3556 - mae: 1.3556\n",
            "Epoch 90/200\n",
            "10/10 [==============================] - 0s 3ms/step - loss: 3.3897 - mae: 3.3897\n",
            "Epoch 91/200\n",
            "10/10 [==============================] - 0s 3ms/step - loss: 3.0990 - mae: 3.0990\n",
            "Epoch 92/200\n",
            "10/10 [==============================] - 0s 3ms/step - loss: 3.6040 - mae: 3.6040\n",
            "Epoch 93/200\n",
            "10/10 [==============================] - 0s 3ms/step - loss: 1.6713 - mae: 1.6713\n",
            "Epoch 94/200\n",
            "10/10 [==============================] - 0s 3ms/step - loss: 1.9185 - mae: 1.9185\n",
            "Epoch 95/200\n",
            "10/10 [==============================] - 0s 2ms/step - loss: 1.6934 - mae: 1.6934\n",
            "Epoch 96/200\n",
            "10/10 [==============================] - 0s 3ms/step - loss: 0.9837 - mae: 0.9837\n",
            "Epoch 97/200\n",
            "10/10 [==============================] - 0s 3ms/step - loss: 0.3359 - mae: 0.3359\n",
            "Epoch 98/200\n",
            "10/10 [==============================] - 0s 3ms/step - loss: 0.7730 - mae: 0.7730\n",
            "Epoch 99/200\n",
            "10/10 [==============================] - 0s 3ms/step - loss: 1.3240 - mae: 1.3240\n",
            "Epoch 100/200\n",
            "10/10 [==============================] - 0s 3ms/step - loss: 0.6549 - mae: 0.6549\n",
            "Epoch 101/200\n",
            "10/10 [==============================] - 0s 3ms/step - loss: 1.3609 - mae: 1.3609\n",
            "Epoch 102/200\n",
            "10/10 [==============================] - 0s 3ms/step - loss: 2.3056 - mae: 2.3056\n",
            "Epoch 103/200\n",
            "10/10 [==============================] - 0s 3ms/step - loss: 1.6875 - mae: 1.6875\n",
            "Epoch 104/200\n",
            "10/10 [==============================] - 0s 3ms/step - loss: 1.2457 - mae: 1.2457\n",
            "Epoch 105/200\n",
            "10/10 [==============================] - 0s 3ms/step - loss: 1.5886 - mae: 1.5886\n",
            "Epoch 106/200\n",
            "10/10 [==============================] - 0s 3ms/step - loss: 1.4025 - mae: 1.4025\n",
            "Epoch 107/200\n",
            "10/10 [==============================] - 0s 3ms/step - loss: 2.2534 - mae: 2.2534\n",
            "Epoch 108/200\n",
            "10/10 [==============================] - 0s 3ms/step - loss: 0.7973 - mae: 0.7973\n",
            "Epoch 109/200\n",
            "10/10 [==============================] - 0s 3ms/step - loss: 0.6308 - mae: 0.6308\n",
            "Epoch 110/200\n",
            "10/10 [==============================] - 0s 3ms/step - loss: 2.4178 - mae: 2.4178\n",
            "Epoch 111/200\n",
            "10/10 [==============================] - 0s 3ms/step - loss: 3.3713 - mae: 3.3713\n",
            "Epoch 112/200\n",
            "10/10 [==============================] - 0s 2ms/step - loss: 2.9089 - mae: 2.9089\n",
            "Epoch 113/200\n",
            "10/10 [==============================] - 0s 3ms/step - loss: 1.2019 - mae: 1.2019\n",
            "Epoch 114/200\n",
            "10/10 [==============================] - 0s 3ms/step - loss: 0.7301 - mae: 0.7301\n",
            "Epoch 115/200\n",
            "10/10 [==============================] - 0s 3ms/step - loss: 1.9966 - mae: 1.9966\n",
            "Epoch 116/200\n",
            "10/10 [==============================] - 0s 3ms/step - loss: 1.3677 - mae: 1.3677\n",
            "Epoch 117/200\n",
            "10/10 [==============================] - 0s 3ms/step - loss: 1.4795 - mae: 1.4795\n",
            "Epoch 118/200\n",
            "10/10 [==============================] - 0s 3ms/step - loss: 1.7341 - mae: 1.7341\n",
            "Epoch 119/200\n",
            "10/10 [==============================] - 0s 3ms/step - loss: 1.0358 - mae: 1.0358\n",
            "Epoch 120/200\n",
            "10/10 [==============================] - 0s 2ms/step - loss: 1.0975 - mae: 1.0975\n",
            "Epoch 121/200\n",
            "10/10 [==============================] - 0s 3ms/step - loss: 0.7641 - mae: 0.7641\n",
            "Epoch 122/200\n",
            "10/10 [==============================] - 0s 2ms/step - loss: 0.7764 - mae: 0.7764\n",
            "Epoch 123/200\n",
            "10/10 [==============================] - 0s 3ms/step - loss: 1.1129 - mae: 1.1129\n",
            "Epoch 124/200\n",
            "10/10 [==============================] - 0s 3ms/step - loss: 2.1052 - mae: 2.1052\n",
            "Epoch 125/200\n",
            "10/10 [==============================] - 0s 3ms/step - loss: 1.2706 - mae: 1.2706\n",
            "Epoch 126/200\n",
            "10/10 [==============================] - 0s 3ms/step - loss: 3.0730 - mae: 3.0730\n",
            "Epoch 127/200\n",
            "10/10 [==============================] - 0s 2ms/step - loss: 4.6320 - mae: 4.6320\n",
            "Epoch 128/200\n",
            "10/10 [==============================] - 0s 2ms/step - loss: 4.0421 - mae: 4.0421\n",
            "Epoch 129/200\n",
            "10/10 [==============================] - 0s 3ms/step - loss: 2.6685 - mae: 2.6685\n",
            "Epoch 130/200\n",
            "10/10 [==============================] - 0s 2ms/step - loss: 2.3415 - mae: 2.3415\n",
            "Epoch 131/200\n",
            "10/10 [==============================] - 0s 3ms/step - loss: 0.8813 - mae: 0.8813\n",
            "Epoch 132/200\n",
            "10/10 [==============================] - 0s 2ms/step - loss: 1.4586 - mae: 1.4586\n",
            "Epoch 133/200\n",
            "10/10 [==============================] - 0s 2ms/step - loss: 3.0457 - mae: 3.0457\n",
            "Epoch 134/200\n",
            "10/10 [==============================] - 0s 3ms/step - loss: 1.1364 - mae: 1.1364\n",
            "Epoch 135/200\n",
            "10/10 [==============================] - 0s 2ms/step - loss: 1.2494 - mae: 1.2494\n",
            "Epoch 136/200\n",
            "10/10 [==============================] - 0s 3ms/step - loss: 0.4191 - mae: 0.4191\n",
            "Epoch 137/200\n",
            "10/10 [==============================] - 0s 3ms/step - loss: 0.6135 - mae: 0.6135\n",
            "Epoch 138/200\n",
            "10/10 [==============================] - 0s 3ms/step - loss: 0.6758 - mae: 0.6758\n",
            "Epoch 139/200\n",
            "10/10 [==============================] - 0s 3ms/step - loss: 1.6081 - mae: 1.6081\n",
            "Epoch 140/200\n",
            "10/10 [==============================] - 0s 3ms/step - loss: 1.5103 - mae: 1.5103\n",
            "Epoch 141/200\n",
            "10/10 [==============================] - 0s 2ms/step - loss: 1.6988 - mae: 1.6988\n",
            "Epoch 142/200\n",
            "10/10 [==============================] - 0s 3ms/step - loss: 2.1659 - mae: 2.1659\n",
            "Epoch 143/200\n",
            "10/10 [==============================] - 0s 2ms/step - loss: 1.3222 - mae: 1.3222\n",
            "Epoch 144/200\n",
            "10/10 [==============================] - 0s 3ms/step - loss: 1.7721 - mae: 1.7721\n",
            "Epoch 145/200\n",
            "10/10 [==============================] - 0s 3ms/step - loss: 1.9413 - mae: 1.9413\n",
            "Epoch 146/200\n",
            "10/10 [==============================] - 0s 3ms/step - loss: 1.0438 - mae: 1.0438\n",
            "Epoch 147/200\n",
            "10/10 [==============================] - 0s 3ms/step - loss: 0.4631 - mae: 0.4631\n",
            "Epoch 148/200\n",
            "10/10 [==============================] - 0s 3ms/step - loss: 1.1405 - mae: 1.1405\n",
            "Epoch 149/200\n",
            "10/10 [==============================] - 0s 3ms/step - loss: 0.6535 - mae: 0.6535\n",
            "Epoch 150/200\n",
            "10/10 [==============================] - 0s 3ms/step - loss: 2.0095 - mae: 2.0095\n",
            "Epoch 151/200\n",
            "10/10 [==============================] - 0s 3ms/step - loss: 0.4230 - mae: 0.4230\n",
            "Epoch 152/200\n",
            "10/10 [==============================] - 0s 3ms/step - loss: 0.6579 - mae: 0.6579\n",
            "Epoch 153/200\n",
            "10/10 [==============================] - 0s 3ms/step - loss: 0.6321 - mae: 0.6321\n",
            "Epoch 154/200\n",
            "10/10 [==============================] - 0s 3ms/step - loss: 1.6537 - mae: 1.6537\n",
            "Epoch 155/200\n",
            "10/10 [==============================] - 0s 3ms/step - loss: 3.1123 - mae: 3.1123\n",
            "Epoch 156/200\n",
            "10/10 [==============================] - 0s 4ms/step - loss: 0.8127 - mae: 0.8127\n",
            "Epoch 157/200\n",
            "10/10 [==============================] - 0s 4ms/step - loss: 2.0167 - mae: 2.0167\n",
            "Epoch 158/200\n",
            "10/10 [==============================] - 0s 4ms/step - loss: 0.8736 - mae: 0.8736\n",
            "Epoch 159/200\n",
            "10/10 [==============================] - 0s 4ms/step - loss: 0.9086 - mae: 0.9086\n",
            "Epoch 160/200\n",
            "10/10 [==============================] - 0s 4ms/step - loss: 2.1016 - mae: 2.1016\n",
            "Epoch 161/200\n",
            "10/10 [==============================] - 0s 4ms/step - loss: 0.7662 - mae: 0.7662\n",
            "Epoch 162/200\n",
            "10/10 [==============================] - 0s 4ms/step - loss: 0.6523 - mae: 0.6523\n",
            "Epoch 163/200\n",
            "10/10 [==============================] - 0s 3ms/step - loss: 0.7752 - mae: 0.7752\n",
            "Epoch 164/200\n",
            "10/10 [==============================] - 0s 4ms/step - loss: 1.0931 - mae: 1.0931\n",
            "Epoch 165/200\n",
            "10/10 [==============================] - 0s 4ms/step - loss: 1.2052 - mae: 1.2052\n",
            "Epoch 166/200\n",
            "10/10 [==============================] - 0s 4ms/step - loss: 1.2093 - mae: 1.2093\n",
            "Epoch 167/200\n",
            "10/10 [==============================] - 0s 4ms/step - loss: 1.7065 - mae: 1.7065\n",
            "Epoch 168/200\n",
            "10/10 [==============================] - 0s 5ms/step - loss: 0.8277 - mae: 0.8277\n",
            "Epoch 169/200\n",
            "10/10 [==============================] - 0s 4ms/step - loss: 1.8093 - mae: 1.8093\n",
            "Epoch 170/200\n",
            "10/10 [==============================] - 0s 3ms/step - loss: 1.9603 - mae: 1.9603\n",
            "Epoch 171/200\n",
            "10/10 [==============================] - 0s 3ms/step - loss: 1.2775 - mae: 1.2775\n",
            "Epoch 172/200\n",
            "10/10 [==============================] - 0s 4ms/step - loss: 1.7805 - mae: 1.7805\n",
            "Epoch 173/200\n",
            "10/10 [==============================] - 0s 3ms/step - loss: 1.3736 - mae: 1.3736\n",
            "Epoch 174/200\n",
            "10/10 [==============================] - 0s 3ms/step - loss: 2.2490 - mae: 2.2490\n",
            "Epoch 175/200\n",
            "10/10 [==============================] - 0s 3ms/step - loss: 4.1199 - mae: 4.1199\n",
            "Epoch 176/200\n",
            "10/10 [==============================] - 0s 3ms/step - loss: 3.8479 - mae: 3.8479\n",
            "Epoch 177/200\n",
            "10/10 [==============================] - 0s 3ms/step - loss: 1.5986 - mae: 1.5986\n",
            "Epoch 178/200\n",
            "10/10 [==============================] - 0s 3ms/step - loss: 0.6008 - mae: 0.6008\n",
            "Epoch 179/200\n",
            "10/10 [==============================] - 0s 4ms/step - loss: 1.9302 - mae: 1.9302\n",
            "Epoch 180/200\n",
            "10/10 [==============================] - 0s 3ms/step - loss: 1.3539 - mae: 1.3539\n",
            "Epoch 181/200\n",
            "10/10 [==============================] - 0s 3ms/step - loss: 1.9094 - mae: 1.9094\n",
            "Epoch 182/200\n",
            "10/10 [==============================] - 0s 3ms/step - loss: 2.4856 - mae: 2.4856\n",
            "Epoch 183/200\n",
            "10/10 [==============================] - 0s 3ms/step - loss: 1.8319 - mae: 1.8319\n",
            "Epoch 184/200\n",
            "10/10 [==============================] - 0s 3ms/step - loss: 0.6293 - mae: 0.6293\n",
            "Epoch 185/200\n",
            "10/10 [==============================] - 0s 3ms/step - loss: 0.8950 - mae: 0.8950\n",
            "Epoch 186/200\n",
            "10/10 [==============================] - 0s 3ms/step - loss: 1.2660 - mae: 1.2660\n",
            "Epoch 187/200\n",
            "10/10 [==============================] - 0s 3ms/step - loss: 0.4513 - mae: 0.4513\n",
            "Epoch 188/200\n",
            "10/10 [==============================] - 0s 3ms/step - loss: 0.6057 - mae: 0.6057\n",
            "Epoch 189/200\n",
            "10/10 [==============================] - 0s 4ms/step - loss: 0.3172 - mae: 0.3172\n",
            "Epoch 190/200\n",
            "10/10 [==============================] - 0s 4ms/step - loss: 1.0923 - mae: 1.0923\n",
            "Epoch 191/200\n",
            "10/10 [==============================] - 0s 3ms/step - loss: 0.5237 - mae: 0.5237\n",
            "Epoch 192/200\n",
            "10/10 [==============================] - 0s 3ms/step - loss: 0.7243 - mae: 0.7243\n",
            "Epoch 193/200\n",
            "10/10 [==============================] - 0s 3ms/step - loss: 1.1195 - mae: 1.1195\n",
            "Epoch 194/200\n",
            "10/10 [==============================] - 0s 4ms/step - loss: 1.0697 - mae: 1.0697\n",
            "Epoch 195/200\n",
            "10/10 [==============================] - 0s 4ms/step - loss: 0.7907 - mae: 0.7907\n",
            "Epoch 196/200\n",
            "10/10 [==============================] - 0s 3ms/step - loss: 1.2039 - mae: 1.2039\n",
            "Epoch 197/200\n",
            "10/10 [==============================] - 0s 3ms/step - loss: 1.5537 - mae: 1.5537\n",
            "Epoch 198/200\n",
            "10/10 [==============================] - 0s 3ms/step - loss: 1.1850 - mae: 1.1850\n",
            "Epoch 199/200\n",
            "10/10 [==============================] - 0s 3ms/step - loss: 0.5582 - mae: 0.5582\n",
            "Epoch 200/200\n",
            "10/10 [==============================] - 0s 3ms/step - loss: 1.0136 - mae: 1.0136\n"
          ]
        },
        {
          "output_type": "execute_result",
          "data": {
            "text/plain": [
              "<keras.src.callbacks.History at 0x7d0dd5c4b160>"
            ]
          },
          "metadata": {},
          "execution_count": 48
        }
      ]
    },
    {
      "cell_type": "code",
      "source": [
        "linear_model.summary()"
      ],
      "metadata": {
        "colab": {
          "base_uri": "https://localhost:8080/"
        },
        "id": "y6PT9aYjaXzC",
        "outputId": "87a961f1-6994-4c9d-f49b-2dd7013a4fcd"
      },
      "execution_count": 49,
      "outputs": [
        {
          "output_type": "stream",
          "name": "stdout",
          "text": [
            "Model: \"Linear_Model\"\n",
            "_________________________________________________________________\n",
            " Layer (type)                Output Shape              Param #   \n",
            "=================================================================\n",
            " dense_61 (Dense)            (None, 10)                20        \n",
            "                                                                 \n",
            " dense_62 (Dense)            (None, 10)                110       \n",
            "                                                                 \n",
            " dense_63 (Dense)            (None, 1)                 11        \n",
            "                                                                 \n",
            "=================================================================\n",
            "Total params: 141 (564.00 Byte)\n",
            "Trainable params: 141 (564.00 Byte)\n",
            "Non-trainable params: 0 (0.00 Byte)\n",
            "_________________________________________________________________\n"
          ]
        }
      ]
    },
    {
      "cell_type": "code",
      "source": [
        "# function to plot our model's predictions against true value\n",
        "def plot_predictions(predictions, train_data=X_train, train_labels=y_train,\n",
        "                    test_data=X_test, test_labels=y_test):\n",
        "    \"\"\"\n",
        "    Plots training data, test data and compares predictions to ground true\n",
        "    \"\"\"\n",
        "    plt.figure(figsize=(10, 7))\n",
        "    # ploting the training data\n",
        "    plt.plot(train_data, train_labels, c='b', label=\"Training data\")\n",
        "    # plotting the testing data\n",
        "    plt.plot(test_data, test_labels, c='g', label=\"Testing data\")\n",
        "    # plot models predictions in red\n",
        "    plt.plot(test_data, predictions, c='r', label=\"Predictions\")\n",
        "    plt.legend()"
      ],
      "metadata": {
        "id": "kmSdIXFqY7Hl"
      },
      "execution_count": 50,
      "outputs": []
    },
    {
      "cell_type": "code",
      "source": [
        "# evaluate the model's performance\n",
        "y_preds = linear_model.predict(X_test)\n",
        "plot_predictions(predictions=y_preds)"
      ],
      "metadata": {
        "colab": {
          "base_uri": "https://localhost:8080/",
          "height": 617
        },
        "id": "_cmGrFeIYWpG",
        "outputId": "50545997-a865-4ab4-c6f9-1de0f207e55d"
      },
      "execution_count": 54,
      "outputs": [
        {
          "output_type": "stream",
          "name": "stdout",
          "text": [
            "4/4 [==============================] - 0s 7ms/step\n"
          ]
        },
        {
          "output_type": "display_data",
          "data": {
            "text/plain": [
              "<Figure size 1000x700 with 1 Axes>"
            ],
            "image/png": "[encoded data removed]"
          },
          "metadata": {}
        }
      ]
    },
    {
      "cell_type": "code",
      "source": [
        "# Evaluate model\n",
        "linear_model.evaluate(X_test, y_test)"
      ],
      "metadata": {
        "colab": {
          "base_uri": "https://localhost:8080/"
        },
        "id": "L3bwtnEoZwXk",
        "outputId": "2eca33c5-3ec8-4bd7-bf86-5beb1f4934e8"
      },
      "execution_count": 52,
      "outputs": [
        {
          "output_type": "stream",
          "name": "stdout",
          "text": [
            "4/4 [==============================] - 0s 5ms/step - loss: 0.3705 - mae: 0.3705\n"
          ]
        },
        {
          "output_type": "execute_result",
          "data": {
            "text/plain": [
              "[0.37051087617874146, 0.37051087617874146]"
            ]
          },
          "metadata": {},
          "execution_count": 52
        }
      ]
    },
    {
      "cell_type": "code",
      "source": [
        "linear_model.predict([200])"
      ],
      "metadata": {
        "colab": {
          "base_uri": "https://localhost:8080/"
        },
        "id": "a0zGMK3yaIHU",
        "outputId": "91533a42-d1ee-41a3-e3a8-e31f998a6ca9"
      },
      "execution_count": 60,
      "outputs": [
        {
          "output_type": "stream",
          "name": "stdout",
          "text": [
            "1/1 [==============================] - 0s 283ms/step\n"
          ]
        },
        {
          "output_type": "execute_result",
          "data": {
            "text/plain": [
              "array([[410.37146]], dtype=float32)"
            ]
          },
          "metadata": {},
          "execution_count": 60
        }
      ]
    },
    {
      "cell_type": "markdown",
      "source": [
        "Model seems to be doing pretty well"
      ],
      "metadata": {
        "id": "kf6sZdLnfJ7l"
      }
    },
    {
      "cell_type": "code",
      "source": [
        "# Modelling with the Boston pricing Dataset\n",
        "X, y = tf.keras.datasets.boston_housing.load_data(\n",
        "    path=\"/content/drive/MyDrive/Colab_Notebooks/boston_housing.npz\",\n",
        "    test_split=0.2,\n",
        "    seed=42\n",
        ")"
      ],
      "metadata": {
        "id": "ijTTJLVKfPuO"
      },
      "execution_count": 62,
      "outputs": []
    },
    {
      "cell_type": "code",
      "source": [
        "X"
      ],
      "metadata": {
        "colab": {
          "base_uri": "https://localhost:8080/"
        },
        "id": "e67b9iddxi4B",
        "outputId": "8d276c59-09a8-4305-d515-09cef1a6b248"
      },
      "execution_count": 63,
      "outputs": [
        {
          "output_type": "execute_result",
          "data": {
            "text/plain": [
              "(array([[9.1780e-02, 0.0000e+00, 4.0500e+00, ..., 1.6600e+01, 3.9550e+02,\n",
              "         9.0400e+00],\n",
              "        [5.6440e-02, 4.0000e+01, 6.4100e+00, ..., 1.7600e+01, 3.9690e+02,\n",
              "         3.5300e+00],\n",
              "        [1.0574e-01, 0.0000e+00, 2.7740e+01, ..., 2.0100e+01, 3.9011e+02,\n",
              "         1.8070e+01],\n",
              "        ...,\n",
              "        [3.0410e-02, 0.0000e+00, 5.1900e+00, ..., 2.0200e+01, 3.9481e+02,\n",
              "         1.0560e+01],\n",
              "        [5.2058e-01, 0.0000e+00, 6.2000e+00, ..., 1.7400e+01, 3.8845e+02,\n",
              "         9.5400e+00],\n",
              "        [2.5199e-01, 0.0000e+00, 1.0590e+01, ..., 1.8600e+01, 3.8943e+02,\n",
              "         1.8060e+01]]),\n",
              " array([23.6, 32.4, 13.6, 22.8, 16.1, 20. , 17.8, 14. , 19.6, 16.8, 21.5,\n",
              "        18.9,  7. , 21.2, 18.5, 29.8, 18.8, 10.2, 50. , 14.1, 25.2, 29.1,\n",
              "        12.7, 22.4, 14.2, 13.8, 20.3, 14.9, 21.7, 18.3, 23.1, 23.8, 15. ,\n",
              "        20.8, 19.1, 19.4, 34.7, 19.5, 24.4, 23.4, 19.7, 28.2, 50. , 17.4,\n",
              "        22.6, 15.1, 13.1, 24.2, 19.9, 24. , 18.9, 35.4, 15.2, 26.5, 43.5,\n",
              "        21.2, 18.4, 28.5, 23.9, 18.5, 25. , 35.4, 31.5, 20.2, 24.1, 20. ,\n",
              "        13.1, 24.8, 30.8, 12.7, 20. , 23.7, 10.8, 20.6, 20.8,  5. , 20.1,\n",
              "        48.5, 10.9,  7. , 20.9, 17.2, 20.9,  9.7, 19.4, 29. , 16.4, 25. ,\n",
              "        25. , 17.1, 23.2, 10.4, 19.6, 17.2, 27.5, 23. , 50. , 17.9,  9.6,\n",
              "        17.2, 22.5, 21.4, 12. , 19.9, 19.4, 13.4, 18.2, 24.6, 21.1, 24.7,\n",
              "         8.7, 27.5, 20.7, 36.2, 31.6, 11.7, 39.8, 13.9, 21.8, 23.7, 17.6,\n",
              "        24.4,  8.8, 19.2, 25.3, 20.4, 23.1, 37.9, 15.6, 45.4, 15.7, 22.6,\n",
              "        14.5, 18.7, 17.8, 16.1, 20.6, 31.6, 29.1, 15.6, 17.5, 22.5, 19.4,\n",
              "        19.3,  8.5, 20.6, 17. , 17.1, 14.5, 50. , 14.3, 12.6, 28.7, 21.2,\n",
              "        19.3, 23.1, 19.1, 25. , 33.4,  5. , 29.6, 18.7, 21.7, 23.1, 22.8,\n",
              "        21. , 48.8, 14.6, 16.6, 27.1, 20.1, 19.8, 21. , 41.3, 23.2, 20.4,\n",
              "        18.5, 29.4, 36.4, 24.4, 11.8, 13.8, 12.3, 17.8, 33.1, 26.7, 13.4,\n",
              "        14.4, 50. , 22. , 19.9, 23.8, 17.5, 12.7,  5.6, 31.1, 26.2, 19.4,\n",
              "        16.7, 13.8, 22.9, 15.3, 27.5, 36.1, 22.9, 24.5, 25. , 50. , 34.9,\n",
              "        31.7, 24.1, 22.1, 14.1, 42.8, 19.3, 32.2, 26.4, 21.8, 21.7,  8.3,\n",
              "        46.7, 43.1, 31.5, 10.5, 16.7, 20. , 33.3, 17.8, 50. , 20.5, 23.2,\n",
              "        13.1, 19.6, 22.8, 28.7, 30.7, 22.9, 21.9, 23.9, 32.7, 24.3, 21.5,\n",
              "        24.6,  8.5, 26.4, 23.1, 15. ,  8.8, 19.3, 23.9, 24.7, 19.8, 23.8,\n",
              "        13.3, 29. , 27.1, 34.6, 13.3, 15.6, 12.5, 14.6, 11. , 24.8, 17.3,\n",
              "         8.1, 21.4, 15.6, 23.3, 32. , 38.7, 30.1, 20.5, 32.5, 42.3, 24.3,\n",
              "        20.6, 22. , 18.2, 15. ,  6.3, 20.1, 21.4, 28.4, 30.1, 20.8, 23. ,\n",
              "        14.3, 11.7, 37.3, 17.1, 10.4, 23. , 22.7, 20.3, 21.7, 50. ,  8.4,\n",
              "        18.8, 37.2, 16.1, 16.5, 22.2, 20.6, 13.5, 48.3, 23.8, 22.7, 17.4,\n",
              "        30.3, 36. , 41.7, 18.3, 22. , 18.6, 44.8, 11.9, 18.7, 16.2, 22. ,\n",
              "         7.2, 20.4, 13.8, 13. , 18.4, 23.1, 21.2, 23.1, 23.5, 50. , 26.6,\n",
              "        22.2, 50. ,  8.3, 23.3, 21.7, 18.9, 18.4, 17.4, 13.4, 12.1, 26.6,\n",
              "        21.7, 28.4, 20.5, 22. , 13.9, 11.3, 29.9, 26.6, 10.5, 23.2, 24.4,\n",
              "        46. , 21.9,  7.5, 36.2, 44. , 17.8, 27.5, 37.6, 14.1, 28.1, 10.2,\n",
              "        19.1, 43.8, 27.9, 25. , 16. , 16.6, 13.2, 50. , 22.2, 32.9, 15.2,\n",
              "        14.8, 13.8, 24.3, 33.8, 22.3, 50. ,  9.5, 13.3, 22.2, 18.1, 18. ,\n",
              "        25. , 16.5, 23. , 20.1, 33. , 24.8, 18.2, 13.1, 34.9, 10.2, 19.9,\n",
              "        27.9, 23.3, 35.1, 12.8, 22. , 18.5, 25.1, 22.5]))"
            ]
          },
          "metadata": {},
          "execution_count": 63
        }
      ]
    },
    {
      "cell_type": "code",
      "source": [
        "X[1].shape"
      ],
      "metadata": {
        "colab": {
          "base_uri": "https://localhost:8080/"
        },
        "id": "tlecnw98yEPj",
        "outputId": "fde7366c-171f-4837-8ced-559c2d7c0a8a"
      },
      "execution_count": 65,
      "outputs": [
        {
          "output_type": "execute_result",
          "data": {
            "text/plain": [
              "(404,)"
            ]
          },
          "metadata": {},
          "execution_count": 65
        }
      ]
    },
    {
      "cell_type": "code",
      "source": [
        "X_train = X[0]\n",
        "y_train = X[1]\n",
        "X_test = y[0]\n",
        "y_test = y[1]\n",
        "X_train.shape, y_train.shape, X_test.shape, y_test.shape"
      ],
      "metadata": {
        "colab": {
          "base_uri": "https://localhost:8080/"
        },
        "id": "ipgYOQ-6yOLz",
        "outputId": "e64d7a74-aa0e-4f9e-dd03-5349b83aa834"
      },
      "execution_count": 70,
      "outputs": [
        {
          "output_type": "execute_result",
          "data": {
            "text/plain": [
              "((404, 13), (404,), (102, 13), (102,))"
            ]
          },
          "metadata": {},
          "execution_count": 70
        }
      ]
    },
    {
      "cell_type": "code",
      "source": [
        "# Create the model\n",
        "boston_model = tf.keras.Sequential([\n",
        "    tf.keras.layers.Dense(20, activation=\"relu\"),\n",
        "    tf.keras.layers.Dense(10, activation=\"relu\"),\n",
        "    tf.keras.layers.Dense(10, activation=\"relu\"),\n",
        "    tf.keras.layers.Dense(1, activation=\"relu\")\n",
        "])\n",
        "\n",
        "# compile\n",
        "boston_model.compile(loss=\"mae\", optimizer=\"adam\", metrics=[\"mae\"])\n",
        "\n",
        "# fit the model\n",
        "boston_model.fit(X_train, y_train, epochs=100)"
      ],
      "metadata": {
        "colab": {
          "base_uri": "https://localhost:8080/"
        },
        "id": "Y69Gllhayk28",
        "outputId": "b1e84666-6215-44a6-f31e-dcde003f4f3a"
      },
      "execution_count": 71,
      "outputs": [
        {
          "output_type": "stream",
          "name": "stdout",
          "text": [
            "Epoch 1/100\n",
            "13/13 [==============================] - 1s 4ms/step - loss: 30.5152 - mae: 30.5152\n",
            "Epoch 2/100\n",
            "13/13 [==============================] - 0s 4ms/step - loss: 13.1662 - mae: 13.1662\n",
            "Epoch 3/100\n",
            "13/13 [==============================] - 0s 4ms/step - loss: 8.2214 - mae: 8.2214\n",
            "Epoch 4/100\n",
            "13/13 [==============================] - 0s 5ms/step - loss: 5.8759 - mae: 5.8759\n",
            "Epoch 5/100\n",
            "13/13 [==============================] - 0s 4ms/step - loss: 5.5813 - mae: 5.5813\n",
            "Epoch 6/100\n",
            "13/13 [==============================] - 0s 4ms/step - loss: 5.3851 - mae: 5.3851\n",
            "Epoch 7/100\n",
            "13/13 [==============================] - 0s 4ms/step - loss: 5.2151 - mae: 5.2151\n",
            "Epoch 8/100\n",
            "13/13 [==============================] - 0s 5ms/step - loss: 5.2313 - mae: 5.2313\n",
            "Epoch 9/100\n",
            "13/13 [==============================] - 0s 4ms/step - loss: 5.1798 - mae: 5.1798\n",
            "Epoch 10/100\n",
            "13/13 [==============================] - 0s 3ms/step - loss: 5.0986 - mae: 5.0986\n",
            "Epoch 11/100\n",
            "13/13 [==============================] - 0s 4ms/step - loss: 5.0062 - mae: 5.0062\n",
            "Epoch 12/100\n",
            "13/13 [==============================] - 0s 4ms/step - loss: 4.9651 - mae: 4.9651\n",
            "Epoch 13/100\n",
            "13/13 [==============================] - 0s 4ms/step - loss: 4.8680 - mae: 4.8680\n",
            "Epoch 14/100\n",
            "13/13 [==============================] - 0s 3ms/step - loss: 4.8875 - mae: 4.8875\n",
            "Epoch 15/100\n",
            "13/13 [==============================] - 0s 4ms/step - loss: 4.8898 - mae: 4.8898\n",
            "Epoch 16/100\n",
            "13/13 [==============================] - 0s 4ms/step - loss: 4.8681 - mae: 4.8681\n",
            "Epoch 17/100\n",
            "13/13 [==============================] - 0s 4ms/step - loss: 4.7991 - mae: 4.7991\n",
            "Epoch 18/100\n",
            "13/13 [==============================] - 0s 4ms/step - loss: 4.7567 - mae: 4.7567\n",
            "Epoch 19/100\n",
            "13/13 [==============================] - 0s 4ms/step - loss: 4.8227 - mae: 4.8227\n",
            "Epoch 20/100\n",
            "13/13 [==============================] - 0s 4ms/step - loss: 4.7660 - mae: 4.7660\n",
            "Epoch 21/100\n",
            "13/13 [==============================] - 0s 4ms/step - loss: 4.7165 - mae: 4.7165\n",
            "Epoch 22/100\n",
            "13/13 [==============================] - 0s 4ms/step - loss: 4.7436 - mae: 4.7436\n",
            "Epoch 23/100\n",
            "13/13 [==============================] - 0s 3ms/step - loss: 4.6298 - mae: 4.6298\n",
            "Epoch 24/100\n",
            "13/13 [==============================] - 0s 4ms/step - loss: 4.5869 - mae: 4.5869\n",
            "Epoch 25/100\n",
            "13/13 [==============================] - 0s 3ms/step - loss: 4.5961 - mae: 4.5961\n",
            "Epoch 26/100\n",
            "13/13 [==============================] - 0s 4ms/step - loss: 4.6613 - mae: 4.6613\n",
            "Epoch 27/100\n",
            "13/13 [==============================] - 0s 3ms/step - loss: 4.8815 - mae: 4.8815\n",
            "Epoch 28/100\n",
            "13/13 [==============================] - 0s 3ms/step - loss: 4.6516 - mae: 4.6516\n",
            "Epoch 29/100\n",
            "13/13 [==============================] - 0s 4ms/step - loss: 4.5525 - mae: 4.5525\n",
            "Epoch 30/100\n",
            "13/13 [==============================] - 0s 4ms/step - loss: 4.7340 - mae: 4.7340\n",
            "Epoch 31/100\n",
            "13/13 [==============================] - 0s 4ms/step - loss: 4.7819 - mae: 4.7819\n",
            "Epoch 32/100\n",
            "13/13 [==============================] - 0s 4ms/step - loss: 4.4569 - mae: 4.4569\n",
            "Epoch 33/100\n",
            "13/13 [==============================] - 0s 3ms/step - loss: 4.4760 - mae: 4.4760\n",
            "Epoch 34/100\n",
            "13/13 [==============================] - 0s 3ms/step - loss: 4.5237 - mae: 4.5237\n",
            "Epoch 35/100\n",
            "13/13 [==============================] - 0s 3ms/step - loss: 4.6013 - mae: 4.6013\n",
            "Epoch 36/100\n",
            "13/13 [==============================] - 0s 4ms/step - loss: 4.5415 - mae: 4.5415\n",
            "Epoch 37/100\n",
            "13/13 [==============================] - 0s 3ms/step - loss: 4.5753 - mae: 4.5753\n",
            "Epoch 38/100\n",
            "13/13 [==============================] - 0s 3ms/step - loss: 4.6352 - mae: 4.6352\n",
            "Epoch 39/100\n",
            "13/13 [==============================] - 0s 4ms/step - loss: 4.6746 - mae: 4.6746\n",
            "Epoch 40/100\n",
            "13/13 [==============================] - 0s 4ms/step - loss: 4.6022 - mae: 4.6022\n",
            "Epoch 41/100\n",
            "13/13 [==============================] - 0s 5ms/step - loss: 4.4867 - mae: 4.4867\n",
            "Epoch 42/100\n",
            "13/13 [==============================] - 0s 4ms/step - loss: 4.4174 - mae: 4.4174\n",
            "Epoch 43/100\n",
            "13/13 [==============================] - 0s 4ms/step - loss: 4.3197 - mae: 4.3197\n",
            "Epoch 44/100\n",
            "13/13 [==============================] - 0s 4ms/step - loss: 4.2788 - mae: 4.2788\n",
            "Epoch 45/100\n",
            "13/13 [==============================] - 0s 4ms/step - loss: 4.2594 - mae: 4.2594\n",
            "Epoch 46/100\n",
            "13/13 [==============================] - 0s 3ms/step - loss: 4.2793 - mae: 4.2793\n",
            "Epoch 47/100\n",
            "13/13 [==============================] - 0s 3ms/step - loss: 4.2652 - mae: 4.2652\n",
            "Epoch 48/100\n",
            "13/13 [==============================] - 0s 4ms/step - loss: 4.3359 - mae: 4.3359\n",
            "Epoch 49/100\n",
            "13/13 [==============================] - 0s 3ms/step - loss: 4.2551 - mae: 4.2551\n",
            "Epoch 50/100\n",
            "13/13 [==============================] - 0s 3ms/step - loss: 4.2138 - mae: 4.2138\n",
            "Epoch 51/100\n",
            "13/13 [==============================] - 0s 3ms/step - loss: 4.4446 - mae: 4.4446\n",
            "Epoch 52/100\n",
            "13/13 [==============================] - 0s 4ms/step - loss: 4.2242 - mae: 4.2242\n",
            "Epoch 53/100\n",
            "13/13 [==============================] - 0s 3ms/step - loss: 4.1964 - mae: 4.1964\n",
            "Epoch 54/100\n",
            "13/13 [==============================] - 0s 3ms/step - loss: 4.1357 - mae: 4.1357\n",
            "Epoch 55/100\n",
            "13/13 [==============================] - 0s 3ms/step - loss: 4.6153 - mae: 4.6153\n",
            "Epoch 56/100\n",
            "13/13 [==============================] - 0s 3ms/step - loss: 4.7249 - mae: 4.7249\n",
            "Epoch 57/100\n",
            "13/13 [==============================] - 0s 3ms/step - loss: 4.2127 - mae: 4.2127\n",
            "Epoch 58/100\n",
            "13/13 [==============================] - 0s 3ms/step - loss: 4.2823 - mae: 4.2823\n",
            "Epoch 59/100\n",
            "13/13 [==============================] - 0s 3ms/step - loss: 4.1729 - mae: 4.1729\n",
            "Epoch 60/100\n",
            "13/13 [==============================] - 0s 5ms/step - loss: 4.1125 - mae: 4.1125\n",
            "Epoch 61/100\n",
            "13/13 [==============================] - 0s 4ms/step - loss: 4.1088 - mae: 4.1088\n",
            "Epoch 62/100\n",
            "13/13 [==============================] - 0s 3ms/step - loss: 4.0835 - mae: 4.0835\n",
            "Epoch 63/100\n",
            "13/13 [==============================] - 0s 4ms/step - loss: 4.1702 - mae: 4.1702\n",
            "Epoch 64/100\n",
            "13/13 [==============================] - 0s 4ms/step - loss: 4.1678 - mae: 4.1678\n",
            "Epoch 65/100\n",
            "13/13 [==============================] - 0s 4ms/step - loss: 4.1551 - mae: 4.1551\n",
            "Epoch 66/100\n",
            "13/13 [==============================] - 0s 4ms/step - loss: 4.2595 - mae: 4.2595\n",
            "Epoch 67/100\n",
            "13/13 [==============================] - 0s 4ms/step - loss: 4.1870 - mae: 4.1870\n",
            "Epoch 68/100\n",
            "13/13 [==============================] - 0s 5ms/step - loss: 4.0412 - mae: 4.0412\n",
            "Epoch 69/100\n",
            "13/13 [==============================] - 0s 4ms/step - loss: 4.1130 - mae: 4.1130\n",
            "Epoch 70/100\n",
            "13/13 [==============================] - 0s 4ms/step - loss: 4.2403 - mae: 4.2403\n",
            "Epoch 71/100\n",
            "13/13 [==============================] - 0s 4ms/step - loss: 4.1391 - mae: 4.1391\n",
            "Epoch 72/100\n",
            "13/13 [==============================] - 0s 4ms/step - loss: 4.0417 - mae: 4.0417\n",
            "Epoch 73/100\n",
            "13/13 [==============================] - 0s 5ms/step - loss: 3.9470 - mae: 3.9470\n",
            "Epoch 74/100\n",
            "13/13 [==============================] - 0s 4ms/step - loss: 3.9526 - mae: 3.9526\n",
            "Epoch 75/100\n",
            "13/13 [==============================] - 0s 3ms/step - loss: 3.9349 - mae: 3.9349\n",
            "Epoch 76/100\n",
            "13/13 [==============================] - 0s 4ms/step - loss: 4.0846 - mae: 4.0846\n",
            "Epoch 77/100\n",
            "13/13 [==============================] - 0s 4ms/step - loss: 4.0587 - mae: 4.0587\n",
            "Epoch 78/100\n",
            "13/13 [==============================] - 0s 5ms/step - loss: 3.9762 - mae: 3.9762\n",
            "Epoch 79/100\n",
            "13/13 [==============================] - 0s 4ms/step - loss: 4.1248 - mae: 4.1248\n",
            "Epoch 80/100\n",
            "13/13 [==============================] - 0s 4ms/step - loss: 3.9852 - mae: 3.9852\n",
            "Epoch 81/100\n",
            "13/13 [==============================] - 0s 3ms/step - loss: 3.9059 - mae: 3.9059\n",
            "Epoch 82/100\n",
            "13/13 [==============================] - 0s 4ms/step - loss: 3.8256 - mae: 3.8256\n",
            "Epoch 83/100\n",
            "13/13 [==============================] - 0s 4ms/step - loss: 3.8698 - mae: 3.8698\n",
            "Epoch 84/100\n",
            "13/13 [==============================] - 0s 3ms/step - loss: 3.9126 - mae: 3.9126\n",
            "Epoch 85/100\n",
            "13/13 [==============================] - 0s 17ms/step - loss: 3.8114 - mae: 3.8114\n",
            "Epoch 86/100\n",
            "13/13 [==============================] - 0s 22ms/step - loss: 3.7992 - mae: 3.7992\n",
            "Epoch 87/100\n",
            "13/13 [==============================] - 0s 21ms/step - loss: 3.7632 - mae: 3.7632\n",
            "Epoch 88/100\n",
            "13/13 [==============================] - 0s 22ms/step - loss: 3.7606 - mae: 3.7606\n",
            "Epoch 89/100\n",
            "13/13 [==============================] - 0s 19ms/step - loss: 3.8259 - mae: 3.8259\n",
            "Epoch 90/100\n",
            "13/13 [==============================] - 0s 10ms/step - loss: 3.6996 - mae: 3.6996\n",
            "Epoch 91/100\n",
            "13/13 [==============================] - 0s 17ms/step - loss: 3.9440 - mae: 3.9440\n",
            "Epoch 92/100\n",
            "13/13 [==============================] - 0s 12ms/step - loss: 3.9567 - mae: 3.9567\n",
            "Epoch 93/100\n",
            "13/13 [==============================] - 0s 13ms/step - loss: 3.9637 - mae: 3.9637\n",
            "Epoch 94/100\n",
            "13/13 [==============================] - 0s 3ms/step - loss: 3.7695 - mae: 3.7695\n",
            "Epoch 95/100\n",
            "13/13 [==============================] - 0s 3ms/step - loss: 3.7670 - mae: 3.7670\n",
            "Epoch 96/100\n",
            "13/13 [==============================] - 0s 3ms/step - loss: 3.7466 - mae: 3.7466\n",
            "Epoch 97/100\n",
            "13/13 [==============================] - 0s 4ms/step - loss: 3.7210 - mae: 3.7210\n",
            "Epoch 98/100\n",
            "13/13 [==============================] - 0s 4ms/step - loss: 3.7188 - mae: 3.7188\n",
            "Epoch 99/100\n",
            "13/13 [==============================] - 0s 4ms/step - loss: 3.6748 - mae: 3.6748\n",
            "Epoch 100/100\n",
            "13/13 [==============================] - 0s 4ms/step - loss: 3.7497 - mae: 3.7497\n"
          ]
        },
        {
          "output_type": "execute_result",
          "data": {
            "text/plain": [
              "<keras.src.callbacks.History at 0x7d0dc8d7eaa0>"
            ]
          },
          "metadata": {},
          "execution_count": 71
        }
      ]
    },
    {
      "cell_type": "code",
      "source": [
        "y_preds = boston_model.predict(X_test)\n",
        "y_preds"
      ],
      "metadata": {
        "colab": {
          "base_uri": "https://localhost:8080/"
        },
        "id": "eUbxN0pzBgbQ",
        "outputId": "23c644e7-f438-4758-b8a4-9d40996cdd5f"
      },
      "execution_count": 77,
      "outputs": [
        {
          "output_type": "stream",
          "name": "stdout",
          "text": [
            "4/4 [==============================] - 0s 5ms/step\n"
          ]
        },
        {
          "output_type": "execute_result",
          "data": {
            "text/plain": [
              "array([[19.342703 ],\n",
              "       [24.130367 ],\n",
              "       [16.682468 ],\n",
              "       [23.054533 ],\n",
              "       [19.632593 ],\n",
              "       [16.791014 ],\n",
              "       [24.404121 ],\n",
              "       [22.741592 ],\n",
              "       [22.42573  ],\n",
              "       [25.64317  ],\n",
              "       [24.758406 ],\n",
              "       [23.19781  ],\n",
              "       [24.927523 ],\n",
              "       [11.580988 ],\n",
              "       [22.68615  ],\n",
              "       [22.556528 ],\n",
              "       [35.662594 ],\n",
              "       [17.404856 ],\n",
              "       [24.173956 ],\n",
              "       [12.316362 ],\n",
              "       [27.934431 ],\n",
              "       [13.08174  ],\n",
              "       [17.751965 ],\n",
              "       [18.829657 ],\n",
              "       [11.4634495],\n",
              "       [25.468184 ],\n",
              "       [21.662703 ],\n",
              "       [ 6.268831 ],\n",
              "       [12.366507 ],\n",
              "       [30.540195 ],\n",
              "       [10.56648  ],\n",
              "       [15.757949 ],\n",
              "       [28.386656 ],\n",
              "       [22.675676 ],\n",
              "       [13.868207 ],\n",
              "       [27.482445 ],\n",
              "       [19.59051  ],\n",
              "       [33.095486 ],\n",
              "       [20.604465 ],\n",
              "       [21.639252 ],\n",
              "       [20.705341 ],\n",
              "       [33.287903 ],\n",
              "       [ 9.471615 ],\n",
              "       [29.619926 ],\n",
              "       [22.366488 ],\n",
              "       [19.870691 ],\n",
              "       [19.813402 ],\n",
              "       [ 8.249763 ],\n",
              "       [33.414455 ],\n",
              "       [16.330912 ],\n",
              "       [20.231089 ],\n",
              "       [22.872324 ],\n",
              "       [17.778389 ],\n",
              "       [16.973818 ],\n",
              "       [20.488117 ],\n",
              "       [17.320372 ],\n",
              "       [25.285046 ],\n",
              "       [11.27495  ],\n",
              "       [24.155891 ],\n",
              "       [23.431595 ],\n",
              "       [18.917206 ],\n",
              "       [23.323412 ],\n",
              "       [15.3561325],\n",
              "       [22.690556 ],\n",
              "       [11.74344  ],\n",
              "       [23.564857 ],\n",
              "       [19.993715 ],\n",
              "       [23.791935 ],\n",
              "       [18.51721  ],\n",
              "       [25.22148  ],\n",
              "       [16.165606 ],\n",
              "       [20.009342 ],\n",
              "       [29.534071 ],\n",
              "       [12.447152 ],\n",
              "       [23.707752 ],\n",
              "       [10.178491 ],\n",
              "       [23.11863  ],\n",
              "       [10.027186 ],\n",
              "       [22.856499 ],\n",
              "       [36.710995 ],\n",
              "       [29.387026 ],\n",
              "       [12.196612 ],\n",
              "       [19.218142 ],\n",
              "       [15.60691  ],\n",
              "       [18.18572  ],\n",
              "       [29.797354 ],\n",
              "       [18.498322 ],\n",
              "       [26.485739 ],\n",
              "       [12.938524 ],\n",
              "       [19.153273 ],\n",
              "       [ 9.311251 ],\n",
              "       [12.57043  ],\n",
              "       [19.605991 ],\n",
              "       [25.095154 ],\n",
              "       [13.689021 ],\n",
              "       [23.401329 ],\n",
              "       [20.183395 ],\n",
              "       [16.51849  ],\n",
              "       [20.146582 ],\n",
              "       [29.459461 ],\n",
              "       [11.538164 ],\n",
              "       [ 7.340512 ]], dtype=float32)"
            ]
          },
          "metadata": {},
          "execution_count": 77
        }
      ]
    },
    {
      "cell_type": "code",
      "source": [
        "boston_model.evaluate(X_test, y_test)"
      ],
      "metadata": {
        "colab": {
          "base_uri": "https://localhost:8080/"
        },
        "id": "rctX858qB-wJ",
        "outputId": "3afd21dc-ee24-49de-9ac3-a3e1861aadfb"
      },
      "execution_count": 79,
      "outputs": [
        {
          "output_type": "stream",
          "name": "stdout",
          "text": [
            "4/4 [==============================] - 1s 9ms/step - loss: 4.4501 - mae: 4.4501\n"
          ]
        },
        {
          "output_type": "execute_result",
          "data": {
            "text/plain": [
              "[4.450089454650879, 4.450089454650879]"
            ]
          },
          "metadata": {},
          "execution_count": 79
        }
      ]
    },
    {
      "cell_type": "code",
      "source": [
        "# create new model\n",
        "boston_model_2 = tf.keras.Sequential([\n",
        "    tf.keras.layers.Dense(50, activation=\"relu\"),\n",
        "    tf.keras.layers.Dense(20, activation=\"relu\"),\n",
        "    tf.keras.layers.Dense(20, activation=\"relu\"),\n",
        "    tf.keras.layers.Dense(1, activation=\"relu\")\n",
        "])\n",
        "\n",
        "# compile\n",
        "boston_model_2.compile(loss=\"mae\", metrics=[\"mae\"],\n",
        "                     optimizer=tf.optimizers.Adam(learning_rate=0.01))\n",
        "\n",
        "# fit the model\n",
        "boston_model_2.fit(X_train, y_train, epochs=200)"
      ],
      "metadata": {
        "colab": {
          "base_uri": "https://localhost:8080/"
        },
        "id": "6bAp4clqCIUw",
        "outputId": "5cb88434-b89b-4933-8e8d-a1dd5046fe09"
      },
      "execution_count": 83,
      "outputs": [
        {
          "output_type": "stream",
          "name": "stdout",
          "text": [
            "Epoch 1/200\n",
            "13/13 [==============================] - 2s 4ms/step - loss: 8.9324 - mae: 8.9324\n",
            "Epoch 2/200\n",
            "13/13 [==============================] - 0s 3ms/step - loss: 6.1367 - mae: 6.1367\n",
            "Epoch 3/200\n",
            "13/13 [==============================] - 0s 4ms/step - loss: 5.8283 - mae: 5.8283\n",
            "Epoch 4/200\n",
            "13/13 [==============================] - 0s 3ms/step - loss: 5.6823 - mae: 5.6823\n",
            "Epoch 5/200\n",
            "13/13 [==============================] - 0s 5ms/step - loss: 5.2656 - mae: 5.2656\n",
            "Epoch 6/200\n",
            "13/13 [==============================] - 0s 4ms/step - loss: 5.4279 - mae: 5.4279\n",
            "Epoch 7/200\n",
            "13/13 [==============================] - 0s 4ms/step - loss: 4.9073 - mae: 4.9073\n",
            "Epoch 8/200\n",
            "13/13 [==============================] - 0s 4ms/step - loss: 4.6803 - mae: 4.6803\n",
            "Epoch 9/200\n",
            "13/13 [==============================] - 0s 7ms/step - loss: 5.4804 - mae: 5.4804\n",
            "Epoch 10/200\n",
            "13/13 [==============================] - 0s 7ms/step - loss: 4.7727 - mae: 4.7727\n",
            "Epoch 11/200\n",
            "13/13 [==============================] - 0s 8ms/step - loss: 4.5202 - mae: 4.5202\n",
            "Epoch 12/200\n",
            "13/13 [==============================] - 0s 12ms/step - loss: 4.6650 - mae: 4.6650\n",
            "Epoch 13/200\n",
            "13/13 [==============================] - 0s 12ms/step - loss: 4.5463 - mae: 4.5463\n",
            "Epoch 14/200\n",
            "13/13 [==============================] - 0s 8ms/step - loss: 4.4364 - mae: 4.4364\n",
            "Epoch 15/200\n",
            "13/13 [==============================] - 0s 11ms/step - loss: 5.3977 - mae: 5.3977\n",
            "Epoch 16/200\n",
            "13/13 [==============================] - 0s 7ms/step - loss: 4.3717 - mae: 4.3717\n",
            "Epoch 17/200\n",
            "13/13 [==============================] - 0s 7ms/step - loss: 4.2989 - mae: 4.2989\n",
            "Epoch 18/200\n",
            "13/13 [==============================] - 0s 6ms/step - loss: 4.8378 - mae: 4.8378\n",
            "Epoch 19/200\n",
            "13/13 [==============================] - 0s 2ms/step - loss: 4.4328 - mae: 4.4328\n",
            "Epoch 20/200\n",
            "13/13 [==============================] - 0s 3ms/step - loss: 4.4317 - mae: 4.4317\n",
            "Epoch 21/200\n",
            "13/13 [==============================] - 0s 2ms/step - loss: 4.9798 - mae: 4.9798\n",
            "Epoch 22/200\n",
            "13/13 [==============================] - 0s 2ms/step - loss: 4.9260 - mae: 4.9260\n",
            "Epoch 23/200\n",
            "13/13 [==============================] - 0s 3ms/step - loss: 4.8561 - mae: 4.8561\n",
            "Epoch 24/200\n",
            "13/13 [==============================] - 0s 2ms/step - loss: 4.1901 - mae: 4.1901\n",
            "Epoch 25/200\n",
            "13/13 [==============================] - 0s 3ms/step - loss: 4.1789 - mae: 4.1789\n",
            "Epoch 26/200\n",
            "13/13 [==============================] - 0s 3ms/step - loss: 3.8547 - mae: 3.8547\n",
            "Epoch 27/200\n",
            "13/13 [==============================] - 0s 2ms/step - loss: 4.2603 - mae: 4.2603\n",
            "Epoch 28/200\n",
            "13/13 [==============================] - 0s 3ms/step - loss: 4.0918 - mae: 4.0918\n",
            "Epoch 29/200\n",
            "13/13 [==============================] - 0s 3ms/step - loss: 4.2899 - mae: 4.2899\n",
            "Epoch 30/200\n",
            "13/13 [==============================] - 0s 3ms/step - loss: 3.9952 - mae: 3.9952\n",
            "Epoch 31/200\n",
            "13/13 [==============================] - 0s 3ms/step - loss: 3.8118 - mae: 3.8118\n",
            "Epoch 32/200\n",
            "13/13 [==============================] - 0s 2ms/step - loss: 3.9073 - mae: 3.9073\n",
            "Epoch 33/200\n",
            "13/13 [==============================] - 0s 3ms/step - loss: 3.8156 - mae: 3.8156\n",
            "Epoch 34/200\n",
            "13/13 [==============================] - 0s 2ms/step - loss: 3.8588 - mae: 3.8588\n",
            "Epoch 35/200\n",
            "13/13 [==============================] - 0s 2ms/step - loss: 3.7856 - mae: 3.7856\n",
            "Epoch 36/200\n",
            "13/13 [==============================] - 0s 3ms/step - loss: 3.9502 - mae: 3.9502\n",
            "Epoch 37/200\n",
            "13/13 [==============================] - 0s 3ms/step - loss: 4.0808 - mae: 4.0808\n",
            "Epoch 38/200\n",
            "13/13 [==============================] - 0s 2ms/step - loss: 3.7562 - mae: 3.7562\n",
            "Epoch 39/200\n",
            "13/13 [==============================] - 0s 3ms/step - loss: 3.5945 - mae: 3.5945\n",
            "Epoch 40/200\n",
            "13/13 [==============================] - 0s 3ms/step - loss: 3.5852 - mae: 3.5852\n",
            "Epoch 41/200\n",
            "13/13 [==============================] - 0s 2ms/step - loss: 4.3229 - mae: 4.3229\n",
            "Epoch 42/200\n",
            "13/13 [==============================] - 0s 3ms/step - loss: 4.2321 - mae: 4.2321\n",
            "Epoch 43/200\n",
            "13/13 [==============================] - 0s 2ms/step - loss: 3.5574 - mae: 3.5574\n",
            "Epoch 44/200\n",
            "13/13 [==============================] - 0s 3ms/step - loss: 3.5559 - mae: 3.5559\n",
            "Epoch 45/200\n",
            "13/13 [==============================] - 0s 2ms/step - loss: 3.3963 - mae: 3.3963\n",
            "Epoch 46/200\n",
            "13/13 [==============================] - 0s 2ms/step - loss: 4.4885 - mae: 4.4885\n",
            "Epoch 47/200\n",
            "13/13 [==============================] - 0s 3ms/step - loss: 4.5410 - mae: 4.5410\n",
            "Epoch 48/200\n",
            "13/13 [==============================] - 0s 3ms/step - loss: 4.4350 - mae: 4.4350\n",
            "Epoch 49/200\n",
            "13/13 [==============================] - 0s 2ms/step - loss: 3.7608 - mae: 3.7608\n",
            "Epoch 50/200\n",
            "13/13 [==============================] - 0s 3ms/step - loss: 3.6122 - mae: 3.6122\n",
            "Epoch 51/200\n",
            "13/13 [==============================] - 0s 2ms/step - loss: 3.6413 - mae: 3.6413\n",
            "Epoch 52/200\n",
            "13/13 [==============================] - 0s 2ms/step - loss: 4.0976 - mae: 4.0976\n",
            "Epoch 53/200\n",
            "13/13 [==============================] - 0s 3ms/step - loss: 4.2747 - mae: 4.2747\n",
            "Epoch 54/200\n",
            "13/13 [==============================] - 0s 3ms/step - loss: 4.1851 - mae: 4.1851\n",
            "Epoch 55/200\n",
            "13/13 [==============================] - 0s 3ms/step - loss: 3.6149 - mae: 3.6149\n",
            "Epoch 56/200\n",
            "13/13 [==============================] - 0s 2ms/step - loss: 3.6683 - mae: 3.6683\n",
            "Epoch 57/200\n",
            "13/13 [==============================] - 0s 2ms/step - loss: 4.6332 - mae: 4.6332\n",
            "Epoch 58/200\n",
            "13/13 [==============================] - 0s 2ms/step - loss: 4.0140 - mae: 4.0140\n",
            "Epoch 59/200\n",
            "13/13 [==============================] - 0s 2ms/step - loss: 3.6082 - mae: 3.6082\n",
            "Epoch 60/200\n",
            "13/13 [==============================] - 0s 2ms/step - loss: 3.8257 - mae: 3.8257\n",
            "Epoch 61/200\n",
            "13/13 [==============================] - 0s 3ms/step - loss: 3.4600 - mae: 3.4600\n",
            "Epoch 62/200\n",
            "13/13 [==============================] - 0s 2ms/step - loss: 3.4972 - mae: 3.4972\n",
            "Epoch 63/200\n",
            "13/13 [==============================] - 0s 3ms/step - loss: 3.3453 - mae: 3.3453\n",
            "Epoch 64/200\n",
            "13/13 [==============================] - 0s 2ms/step - loss: 3.4551 - mae: 3.4551\n",
            "Epoch 65/200\n",
            "13/13 [==============================] - 0s 2ms/step - loss: 3.4988 - mae: 3.4988\n",
            "Epoch 66/200\n",
            "13/13 [==============================] - 0s 3ms/step - loss: 3.3922 - mae: 3.3922\n",
            "Epoch 67/200\n",
            "13/13 [==============================] - 0s 3ms/step - loss: 3.3997 - mae: 3.3997\n",
            "Epoch 68/200\n",
            "13/13 [==============================] - 0s 3ms/step - loss: 3.4192 - mae: 3.4192\n",
            "Epoch 69/200\n",
            "13/13 [==============================] - 0s 2ms/step - loss: 3.3999 - mae: 3.3999\n",
            "Epoch 70/200\n",
            "13/13 [==============================] - 0s 2ms/step - loss: 3.4585 - mae: 3.4585\n",
            "Epoch 71/200\n",
            "13/13 [==============================] - 0s 2ms/step - loss: 3.4697 - mae: 3.4697\n",
            "Epoch 72/200\n",
            "13/13 [==============================] - 0s 3ms/step - loss: 3.2604 - mae: 3.2604\n",
            "Epoch 73/200\n",
            "13/13 [==============================] - 0s 3ms/step - loss: 3.1669 - mae: 3.1669\n",
            "Epoch 74/200\n",
            "13/13 [==============================] - 0s 3ms/step - loss: 3.1218 - mae: 3.1218\n",
            "Epoch 75/200\n",
            "13/13 [==============================] - 0s 3ms/step - loss: 3.4597 - mae: 3.4597\n",
            "Epoch 76/200\n",
            "13/13 [==============================] - 0s 3ms/step - loss: 3.2598 - mae: 3.2598\n",
            "Epoch 77/200\n",
            "13/13 [==============================] - 0s 3ms/step - loss: 3.2237 - mae: 3.2237\n",
            "Epoch 78/200\n",
            "13/13 [==============================] - 0s 2ms/step - loss: 3.2473 - mae: 3.2473\n",
            "Epoch 79/200\n",
            "13/13 [==============================] - 0s 2ms/step - loss: 3.1108 - mae: 3.1108\n",
            "Epoch 80/200\n",
            "13/13 [==============================] - 0s 3ms/step - loss: 3.1576 - mae: 3.1576\n",
            "Epoch 81/200\n",
            "13/13 [==============================] - 0s 2ms/step - loss: 3.2430 - mae: 3.2430\n",
            "Epoch 82/200\n",
            "13/13 [==============================] - 0s 2ms/step - loss: 3.0676 - mae: 3.0676\n",
            "Epoch 83/200\n",
            "13/13 [==============================] - 0s 2ms/step - loss: 3.1351 - mae: 3.1351\n",
            "Epoch 84/200\n",
            "13/13 [==============================] - 0s 3ms/step - loss: 3.0806 - mae: 3.0806\n",
            "Epoch 85/200\n",
            "13/13 [==============================] - 0s 2ms/step - loss: 2.9214 - mae: 2.9214\n",
            "Epoch 86/200\n",
            "13/13 [==============================] - 0s 2ms/step - loss: 3.0382 - mae: 3.0382\n",
            "Epoch 87/200\n",
            "13/13 [==============================] - 0s 3ms/step - loss: 3.0907 - mae: 3.0907\n",
            "Epoch 88/200\n",
            "13/13 [==============================] - 0s 2ms/step - loss: 3.0233 - mae: 3.0233\n",
            "Epoch 89/200\n",
            "13/13 [==============================] - 0s 3ms/step - loss: 3.4208 - mae: 3.4208\n",
            "Epoch 90/200\n",
            "13/13 [==============================] - 0s 3ms/step - loss: 3.1904 - mae: 3.1904\n",
            "Epoch 91/200\n",
            "13/13 [==============================] - 0s 3ms/step - loss: 3.1523 - mae: 3.1523\n",
            "Epoch 92/200\n",
            "13/13 [==============================] - 0s 3ms/step - loss: 3.0835 - mae: 3.0835\n",
            "Epoch 93/200\n",
            "13/13 [==============================] - 0s 4ms/step - loss: 3.2987 - mae: 3.2987\n",
            "Epoch 94/200\n",
            "13/13 [==============================] - 0s 3ms/step - loss: 3.4662 - mae: 3.4662\n",
            "Epoch 95/200\n",
            "13/13 [==============================] - 0s 5ms/step - loss: 3.0138 - mae: 3.0138\n",
            "Epoch 96/200\n",
            "13/13 [==============================] - 0s 4ms/step - loss: 3.4675 - mae: 3.4675\n",
            "Epoch 97/200\n",
            "13/13 [==============================] - 0s 4ms/step - loss: 3.1310 - mae: 3.1310\n",
            "Epoch 98/200\n",
            "13/13 [==============================] - 0s 3ms/step - loss: 2.8911 - mae: 2.8911\n",
            "Epoch 99/200\n",
            "13/13 [==============================] - 0s 4ms/step - loss: 3.0950 - mae: 3.0950\n",
            "Epoch 100/200\n",
            "13/13 [==============================] - 0s 3ms/step - loss: 3.2900 - mae: 3.2900\n",
            "Epoch 101/200\n",
            "13/13 [==============================] - 0s 3ms/step - loss: 3.1252 - mae: 3.1252\n",
            "Epoch 102/200\n",
            "13/13 [==============================] - 0s 3ms/step - loss: 3.1364 - mae: 3.1364\n",
            "Epoch 103/200\n",
            "13/13 [==============================] - 0s 4ms/step - loss: 3.1183 - mae: 3.1183\n",
            "Epoch 104/200\n",
            "13/13 [==============================] - 0s 3ms/step - loss: 2.9335 - mae: 2.9335\n",
            "Epoch 105/200\n",
            "13/13 [==============================] - 0s 3ms/step - loss: 2.8632 - mae: 2.8632\n",
            "Epoch 106/200\n",
            "13/13 [==============================] - 0s 3ms/step - loss: 3.0787 - mae: 3.0787\n",
            "Epoch 107/200\n",
            "13/13 [==============================] - 0s 3ms/step - loss: 2.8288 - mae: 2.8288\n",
            "Epoch 108/200\n",
            "13/13 [==============================] - 0s 3ms/step - loss: 2.8032 - mae: 2.8032\n",
            "Epoch 109/200\n",
            "13/13 [==============================] - 0s 4ms/step - loss: 3.0888 - mae: 3.0888\n",
            "Epoch 110/200\n",
            "13/13 [==============================] - 0s 3ms/step - loss: 2.8871 - mae: 2.8871\n",
            "Epoch 111/200\n",
            "13/13 [==============================] - 0s 3ms/step - loss: 2.9823 - mae: 2.9823\n",
            "Epoch 112/200\n",
            "13/13 [==============================] - 0s 4ms/step - loss: 3.0923 - mae: 3.0923\n",
            "Epoch 113/200\n",
            "13/13 [==============================] - 0s 3ms/step - loss: 2.9159 - mae: 2.9159\n",
            "Epoch 114/200\n",
            "13/13 [==============================] - 0s 4ms/step - loss: 3.0056 - mae: 3.0056\n",
            "Epoch 115/200\n",
            "13/13 [==============================] - 0s 4ms/step - loss: 3.0135 - mae: 3.0135\n",
            "Epoch 116/200\n",
            "13/13 [==============================] - 0s 4ms/step - loss: 3.4302 - mae: 3.4302\n",
            "Epoch 117/200\n",
            "13/13 [==============================] - 0s 4ms/step - loss: 3.3207 - mae: 3.3207\n",
            "Epoch 118/200\n",
            "13/13 [==============================] - 0s 4ms/step - loss: 3.0266 - mae: 3.0266\n",
            "Epoch 119/200\n",
            "13/13 [==============================] - 0s 4ms/step - loss: 2.8811 - mae: 2.8811\n",
            "Epoch 120/200\n",
            "13/13 [==============================] - 0s 4ms/step - loss: 2.6862 - mae: 2.6862\n",
            "Epoch 121/200\n",
            "13/13 [==============================] - 0s 4ms/step - loss: 3.4292 - mae: 3.4292\n",
            "Epoch 122/200\n",
            "13/13 [==============================] - 0s 4ms/step - loss: 3.8448 - mae: 3.8448\n",
            "Epoch 123/200\n",
            "13/13 [==============================] - 0s 4ms/step - loss: 3.2062 - mae: 3.2062\n",
            "Epoch 124/200\n",
            "13/13 [==============================] - 0s 4ms/step - loss: 2.8975 - mae: 2.8975\n",
            "Epoch 125/200\n",
            "13/13 [==============================] - 0s 3ms/step - loss: 2.7706 - mae: 2.7706\n",
            "Epoch 126/200\n",
            "13/13 [==============================] - 0s 3ms/step - loss: 2.7951 - mae: 2.7951\n",
            "Epoch 127/200\n",
            "13/13 [==============================] - 0s 3ms/step - loss: 2.9153 - mae: 2.9153\n",
            "Epoch 128/200\n",
            "13/13 [==============================] - 0s 3ms/step - loss: 2.9661 - mae: 2.9661\n",
            "Epoch 129/200\n",
            "13/13 [==============================] - 0s 5ms/step - loss: 2.6872 - mae: 2.6872\n",
            "Epoch 130/200\n",
            "13/13 [==============================] - 0s 3ms/step - loss: 2.6647 - mae: 2.6647\n",
            "Epoch 131/200\n",
            "13/13 [==============================] - 0s 3ms/step - loss: 2.5786 - mae: 2.5786\n",
            "Epoch 132/200\n",
            "13/13 [==============================] - 0s 3ms/step - loss: 2.5901 - mae: 2.5901\n",
            "Epoch 133/200\n",
            "13/13 [==============================] - 0s 4ms/step - loss: 2.6625 - mae: 2.6625\n",
            "Epoch 134/200\n",
            "13/13 [==============================] - 0s 5ms/step - loss: 3.1937 - mae: 3.1937\n",
            "Epoch 135/200\n",
            "13/13 [==============================] - 0s 4ms/step - loss: 2.9165 - mae: 2.9165\n",
            "Epoch 136/200\n",
            "13/13 [==============================] - 0s 4ms/step - loss: 3.0860 - mae: 3.0860\n",
            "Epoch 137/200\n",
            "13/13 [==============================] - 0s 3ms/step - loss: 2.9947 - mae: 2.9947\n",
            "Epoch 138/200\n",
            "13/13 [==============================] - 0s 3ms/step - loss: 2.7278 - mae: 2.7278\n",
            "Epoch 139/200\n",
            "13/13 [==============================] - 0s 3ms/step - loss: 2.8297 - mae: 2.8297\n",
            "Epoch 140/200\n",
            "13/13 [==============================] - 0s 3ms/step - loss: 2.9221 - mae: 2.9221\n",
            "Epoch 141/200\n",
            "13/13 [==============================] - 0s 3ms/step - loss: 3.1646 - mae: 3.1646\n",
            "Epoch 142/200\n",
            "13/13 [==============================] - 0s 4ms/step - loss: 2.6985 - mae: 2.6985\n",
            "Epoch 143/200\n",
            "13/13 [==============================] - 0s 3ms/step - loss: 2.7964 - mae: 2.7964\n",
            "Epoch 144/200\n",
            "13/13 [==============================] - 0s 3ms/step - loss: 3.1005 - mae: 3.1005\n",
            "Epoch 145/200\n",
            "13/13 [==============================] - 0s 3ms/step - loss: 3.1702 - mae: 3.1702\n",
            "Epoch 146/200\n",
            "13/13 [==============================] - 0s 3ms/step - loss: 3.2505 - mae: 3.2505\n",
            "Epoch 147/200\n",
            "13/13 [==============================] - 0s 3ms/step - loss: 2.9165 - mae: 2.9165\n",
            "Epoch 148/200\n",
            "13/13 [==============================] - 0s 3ms/step - loss: 2.8511 - mae: 2.8511\n",
            "Epoch 149/200\n",
            "13/13 [==============================] - 0s 3ms/step - loss: 2.5602 - mae: 2.5602\n",
            "Epoch 150/200\n",
            "13/13 [==============================] - 0s 3ms/step - loss: 2.6951 - mae: 2.6951\n",
            "Epoch 151/200\n",
            "13/13 [==============================] - 0s 3ms/step - loss: 2.5598 - mae: 2.5598\n",
            "Epoch 152/200\n",
            "13/13 [==============================] - 0s 4ms/step - loss: 2.5677 - mae: 2.5677\n",
            "Epoch 153/200\n",
            "13/13 [==============================] - 0s 3ms/step - loss: 2.5315 - mae: 2.5315\n",
            "Epoch 154/200\n",
            "13/13 [==============================] - 0s 3ms/step - loss: 2.7022 - mae: 2.7022\n",
            "Epoch 155/200\n",
            "13/13 [==============================] - 0s 4ms/step - loss: 2.8067 - mae: 2.8067\n",
            "Epoch 156/200\n",
            "13/13 [==============================] - 0s 4ms/step - loss: 2.7464 - mae: 2.7464\n",
            "Epoch 157/200\n",
            "13/13 [==============================] - 0s 3ms/step - loss: 2.6680 - mae: 2.6680\n",
            "Epoch 158/200\n",
            "13/13 [==============================] - 0s 3ms/step - loss: 2.8640 - mae: 2.8640\n",
            "Epoch 159/200\n",
            "13/13 [==============================] - 0s 4ms/step - loss: 3.0571 - mae: 3.0571\n",
            "Epoch 160/200\n",
            "13/13 [==============================] - 0s 4ms/step - loss: 2.8874 - mae: 2.8874\n",
            "Epoch 161/200\n",
            "13/13 [==============================] - 0s 3ms/step - loss: 2.7226 - mae: 2.7226\n",
            "Epoch 162/200\n",
            "13/13 [==============================] - 0s 4ms/step - loss: 2.7161 - mae: 2.7161\n",
            "Epoch 163/200\n",
            "13/13 [==============================] - 0s 4ms/step - loss: 2.7919 - mae: 2.7919\n",
            "Epoch 164/200\n",
            "13/13 [==============================] - 0s 4ms/step - loss: 2.5674 - mae: 2.5674\n",
            "Epoch 165/200\n",
            "13/13 [==============================] - 0s 3ms/step - loss: 2.5895 - mae: 2.5895\n",
            "Epoch 166/200\n",
            "13/13 [==============================] - 0s 4ms/step - loss: 3.1498 - mae: 3.1498\n",
            "Epoch 167/200\n",
            "13/13 [==============================] - 0s 3ms/step - loss: 2.9360 - mae: 2.9360\n",
            "Epoch 168/200\n",
            "13/13 [==============================] - 0s 4ms/step - loss: 3.1423 - mae: 3.1423\n",
            "Epoch 169/200\n",
            "13/13 [==============================] - 0s 4ms/step - loss: 2.9994 - mae: 2.9994\n",
            "Epoch 170/200\n",
            "13/13 [==============================] - 0s 4ms/step - loss: 3.6808 - mae: 3.6808\n",
            "Epoch 171/200\n",
            "13/13 [==============================] - 0s 4ms/step - loss: 2.7940 - mae: 2.7940\n",
            "Epoch 172/200\n",
            "13/13 [==============================] - 0s 3ms/step - loss: 2.6405 - mae: 2.6405\n",
            "Epoch 173/200\n",
            "13/13 [==============================] - 0s 4ms/step - loss: 3.1967 - mae: 3.1967\n",
            "Epoch 174/200\n",
            "13/13 [==============================] - 0s 4ms/step - loss: 3.0807 - mae: 3.0807\n",
            "Epoch 175/200\n",
            "13/13 [==============================] - 0s 3ms/step - loss: 2.6464 - mae: 2.6464\n",
            "Epoch 176/200\n",
            "13/13 [==============================] - 0s 3ms/step - loss: 2.6346 - mae: 2.6346\n",
            "Epoch 177/200\n",
            "13/13 [==============================] - 0s 3ms/step - loss: 2.6677 - mae: 2.6677\n",
            "Epoch 178/200\n",
            "13/13 [==============================] - 0s 3ms/step - loss: 3.2775 - mae: 3.2775\n",
            "Epoch 179/200\n",
            "13/13 [==============================] - 0s 3ms/step - loss: 3.3055 - mae: 3.3055\n",
            "Epoch 180/200\n",
            "13/13 [==============================] - 0s 3ms/step - loss: 2.4806 - mae: 2.4806\n",
            "Epoch 181/200\n",
            "13/13 [==============================] - 0s 3ms/step - loss: 2.5470 - mae: 2.5470\n",
            "Epoch 182/200\n",
            "13/13 [==============================] - 0s 3ms/step - loss: 2.7991 - mae: 2.7991\n",
            "Epoch 183/200\n",
            "13/13 [==============================] - 0s 3ms/step - loss: 2.5271 - mae: 2.5271\n",
            "Epoch 184/200\n",
            "13/13 [==============================] - 0s 4ms/step - loss: 2.4834 - mae: 2.4834\n",
            "Epoch 185/200\n",
            "13/13 [==============================] - 0s 4ms/step - loss: 2.7841 - mae: 2.7841\n",
            "Epoch 186/200\n",
            "13/13 [==============================] - 0s 4ms/step - loss: 2.7563 - mae: 2.7563\n",
            "Epoch 187/200\n",
            "13/13 [==============================] - 0s 4ms/step - loss: 2.5702 - mae: 2.5702\n",
            "Epoch 188/200\n",
            "13/13 [==============================] - 0s 4ms/step - loss: 2.4885 - mae: 2.4885\n",
            "Epoch 189/200\n",
            "13/13 [==============================] - 0s 4ms/step - loss: 2.7848 - mae: 2.7848\n",
            "Epoch 190/200\n",
            "13/13 [==============================] - 0s 3ms/step - loss: 2.8893 - mae: 2.8893\n",
            "Epoch 191/200\n",
            "13/13 [==============================] - 0s 4ms/step - loss: 2.8819 - mae: 2.8819\n",
            "Epoch 192/200\n",
            "13/13 [==============================] - 0s 4ms/step - loss: 2.8470 - mae: 2.8470\n",
            "Epoch 193/200\n",
            "13/13 [==============================] - 0s 3ms/step - loss: 2.5605 - mae: 2.5605\n",
            "Epoch 194/200\n",
            "13/13 [==============================] - 0s 4ms/step - loss: 2.7617 - mae: 2.7617\n",
            "Epoch 195/200\n",
            "13/13 [==============================] - 0s 4ms/step - loss: 2.6811 - mae: 2.6811\n",
            "Epoch 196/200\n",
            "13/13 [==============================] - 0s 5ms/step - loss: 2.6876 - mae: 2.6876\n",
            "Epoch 197/200\n",
            "13/13 [==============================] - 0s 4ms/step - loss: 2.7360 - mae: 2.7360\n",
            "Epoch 198/200\n",
            "13/13 [==============================] - 0s 4ms/step - loss: 2.6183 - mae: 2.6183\n",
            "Epoch 199/200\n",
            "13/13 [==============================] - 0s 3ms/step - loss: 2.9647 - mae: 2.9647\n",
            "Epoch 200/200\n",
            "13/13 [==============================] - 0s 3ms/step - loss: 2.9344 - mae: 2.9344\n"
          ]
        },
        {
          "output_type": "execute_result",
          "data": {
            "text/plain": [
              "<keras.src.callbacks.History at 0x7d0dd94aba90>"
            ]
          },
          "metadata": {},
          "execution_count": 83
        }
      ]
    },
    {
      "cell_type": "code",
      "source": [
        "boston_model_2.evaluate(X_test, y_test)"
      ],
      "metadata": {
        "colab": {
          "base_uri": "https://localhost:8080/"
        },
        "id": "sxbA_HBmDju6",
        "outputId": "6e623c4c-5764-47cc-ede3-622acd976953"
      },
      "execution_count": 84,
      "outputs": [
        {
          "output_type": "stream",
          "name": "stdout",
          "text": [
            "4/4 [==============================] - 0s 6ms/step - loss: 2.8329 - mae: 2.8329\n"
          ]
        },
        {
          "output_type": "execute_result",
          "data": {
            "text/plain": [
              "[2.832879066467285, 2.832879066467285]"
            ]
          },
          "metadata": {},
          "execution_count": 84
        }
      ]
    },
    {
      "cell_type": "code",
      "source": [
        "# third model\n",
        "boston_model_3 = tf.keras.Sequential([\n",
        "    tf.keras.layers.Dense(100, activation=\"relu\"),\n",
        "    tf.keras.layers.Dense(50, activation=\"relu\"),\n",
        "    tf.keras.layers.Dense(50, activation=\"relu\"),\n",
        "    tf.keras.layers.Dense(1, activation=\"relu\")\n",
        "])\n",
        "\n",
        "# compile\n",
        "boston_model_3.compile(loss=\"mae\", metrics=[\"mae\"],\n",
        "                     optimizer=tf.optimizers.Adam(learning_rate=0.01))\n",
        "\n",
        "# fit the model\n",
        "boston_model_3.fit(X_train, y_train, epochs=300)"
      ],
      "metadata": {
        "colab": {
          "base_uri": "https://localhost:8080/"
        },
        "id": "vEpV2BsvDv9g",
        "outputId": "573f9bec-2ffe-4e23-db69-772be12b9520"
      },
      "execution_count": 86,
      "outputs": [
        {
          "output_type": "stream",
          "name": "stdout",
          "text": [
            "Epoch 1/300\n",
            "13/13 [==============================] - 3s 7ms/step - loss: 31.3972 - mae: 31.3972\n",
            "Epoch 2/300\n",
            "13/13 [==============================] - 0s 7ms/step - loss: 22.5057 - mae: 22.5057\n",
            "Epoch 3/300\n",
            "13/13 [==============================] - 0s 6ms/step - loss: 22.5057 - mae: 22.5057\n",
            "Epoch 4/300\n",
            "13/13 [==============================] - 0s 4ms/step - loss: 22.5057 - mae: 22.5057\n",
            "Epoch 5/300\n",
            "13/13 [==============================] - 0s 6ms/step - loss: 22.5057 - mae: 22.5057\n",
            "Epoch 6/300\n",
            "13/13 [==============================] - 0s 8ms/step - loss: 22.5057 - mae: 22.5057\n",
            "Epoch 7/300\n",
            "13/13 [==============================] - 0s 11ms/step - loss: 22.5057 - mae: 22.5057\n",
            "Epoch 8/300\n",
            "13/13 [==============================] - 0s 7ms/step - loss: 22.5057 - mae: 22.5057\n",
            "Epoch 9/300\n",
            "13/13 [==============================] - 0s 7ms/step - loss: 22.5057 - mae: 22.5057\n",
            "Epoch 10/300\n",
            "13/13 [==============================] - 0s 7ms/step - loss: 22.5057 - mae: 22.5057\n",
            "Epoch 11/300\n",
            "13/13 [==============================] - 0s 6ms/step - loss: 22.5057 - mae: 22.5057\n",
            "Epoch 12/300\n",
            "13/13 [==============================] - 0s 7ms/step - loss: 22.5057 - mae: 22.5057\n",
            "Epoch 13/300\n",
            "13/13 [==============================] - 0s 6ms/step - loss: 22.5057 - mae: 22.5057\n",
            "Epoch 14/300\n",
            "13/13 [==============================] - 0s 5ms/step - loss: 22.5057 - mae: 22.5057\n",
            "Epoch 15/300\n",
            "13/13 [==============================] - 0s 6ms/step - loss: 22.5057 - mae: 22.5057\n",
            "Epoch 16/300\n",
            "13/13 [==============================] - 0s 5ms/step - loss: 22.5057 - mae: 22.5057\n",
            "Epoch 17/300\n",
            "13/13 [==============================] - 0s 7ms/step - loss: 22.5057 - mae: 22.5057\n",
            "Epoch 18/300\n",
            "13/13 [==============================] - 0s 7ms/step - loss: 22.5057 - mae: 22.5057\n",
            "Epoch 19/300\n",
            "13/13 [==============================] - 0s 8ms/step - loss: 22.5057 - mae: 22.5057\n",
            "Epoch 20/300\n",
            "13/13 [==============================] - 0s 8ms/step - loss: 22.5057 - mae: 22.5057\n",
            "Epoch 21/300\n",
            "13/13 [==============================] - 0s 7ms/step - loss: 22.5057 - mae: 22.5057\n",
            "Epoch 22/300\n",
            "13/13 [==============================] - 0s 6ms/step - loss: 22.5057 - mae: 22.5057\n",
            "Epoch 23/300\n",
            "13/13 [==============================] - 0s 6ms/step - loss: 22.5057 - mae: 22.5057\n",
            "Epoch 24/300\n",
            "13/13 [==============================] - 0s 4ms/step - loss: 22.5057 - mae: 22.5057\n",
            "Epoch 25/300\n",
            "13/13 [==============================] - 0s 8ms/step - loss: 22.5057 - mae: 22.5057\n",
            "Epoch 26/300\n",
            "13/13 [==============================] - 0s 9ms/step - loss: 22.5057 - mae: 22.5057\n",
            "Epoch 27/300\n",
            "13/13 [==============================] - 0s 11ms/step - loss: 22.5057 - mae: 22.5057\n",
            "Epoch 28/300\n",
            "13/13 [==============================] - 0s 9ms/step - loss: 22.5057 - mae: 22.5057\n",
            "Epoch 29/300\n",
            "13/13 [==============================] - 0s 13ms/step - loss: 22.5057 - mae: 22.5057\n",
            "Epoch 30/300\n",
            "13/13 [==============================] - 0s 11ms/step - loss: 22.5057 - mae: 22.5057\n",
            "Epoch 31/300\n",
            "13/13 [==============================] - 0s 6ms/step - loss: 22.5057 - mae: 22.5057\n",
            "Epoch 32/300\n",
            "13/13 [==============================] - 0s 7ms/step - loss: 22.5057 - mae: 22.5057\n",
            "Epoch 33/300\n",
            "13/13 [==============================] - 0s 6ms/step - loss: 22.5057 - mae: 22.5057\n",
            "Epoch 34/300\n",
            "13/13 [==============================] - 0s 5ms/step - loss: 22.5057 - mae: 22.5057\n",
            "Epoch 35/300\n",
            "13/13 [==============================] - 0s 7ms/step - loss: 22.5057 - mae: 22.5057\n",
            "Epoch 36/300\n",
            "13/13 [==============================] - 0s 3ms/step - loss: 22.5057 - mae: 22.5057\n",
            "Epoch 37/300\n",
            "13/13 [==============================] - 0s 3ms/step - loss: 22.5057 - mae: 22.5057\n",
            "Epoch 38/300\n",
            "13/13 [==============================] - 0s 3ms/step - loss: 22.5057 - mae: 22.5057\n",
            "Epoch 39/300\n",
            "13/13 [==============================] - 0s 3ms/step - loss: 22.5057 - mae: 22.5057\n",
            "Epoch 40/300\n",
            "13/13 [==============================] - 0s 3ms/step - loss: 22.5057 - mae: 22.5057\n",
            "Epoch 41/300\n",
            "13/13 [==============================] - 0s 3ms/step - loss: 22.5057 - mae: 22.5057\n",
            "Epoch 42/300\n",
            "13/13 [==============================] - 0s 2ms/step - loss: 22.5057 - mae: 22.5057\n",
            "Epoch 43/300\n",
            "13/13 [==============================] - 0s 3ms/step - loss: 22.5057 - mae: 22.5057\n",
            "Epoch 44/300\n",
            "13/13 [==============================] - 0s 3ms/step - loss: 22.5057 - mae: 22.5057\n",
            "Epoch 45/300\n",
            "13/13 [==============================] - 0s 3ms/step - loss: 22.5057 - mae: 22.5057\n",
            "Epoch 46/300\n",
            "13/13 [==============================] - 0s 3ms/step - loss: 22.5057 - mae: 22.5057\n",
            "Epoch 47/300\n",
            "13/13 [==============================] - 0s 4ms/step - loss: 22.5057 - mae: 22.5057\n",
            "Epoch 48/300\n",
            "13/13 [==============================] - 0s 3ms/step - loss: 22.5057 - mae: 22.5057\n",
            "Epoch 49/300\n",
            "13/13 [==============================] - 0s 3ms/step - loss: 22.5057 - mae: 22.5057\n",
            "Epoch 50/300\n",
            "13/13 [==============================] - 0s 3ms/step - loss: 22.5057 - mae: 22.5057\n",
            "Epoch 51/300\n",
            "13/13 [==============================] - 0s 3ms/step - loss: 22.5057 - mae: 22.5057\n",
            "Epoch 52/300\n",
            "13/13 [==============================] - 0s 3ms/step - loss: 22.5057 - mae: 22.5057\n",
            "Epoch 53/300\n",
            "13/13 [==============================] - 0s 3ms/step - loss: 22.5057 - mae: 22.5057\n",
            "Epoch 54/300\n",
            "13/13 [==============================] - 0s 3ms/step - loss: 22.5057 - mae: 22.5057\n",
            "Epoch 55/300\n",
            "13/13 [==============================] - 0s 3ms/step - loss: 22.5057 - mae: 22.5057\n",
            "Epoch 56/300\n",
            "13/13 [==============================] - 0s 3ms/step - loss: 22.5057 - mae: 22.5057\n",
            "Epoch 57/300\n",
            "13/13 [==============================] - 0s 4ms/step - loss: 22.5057 - mae: 22.5057\n",
            "Epoch 58/300\n",
            "13/13 [==============================] - 0s 3ms/step - loss: 22.5057 - mae: 22.5057\n",
            "Epoch 59/300\n",
            "13/13 [==============================] - 0s 3ms/step - loss: 22.5057 - mae: 22.5057\n",
            "Epoch 60/300\n",
            "13/13 [==============================] - 0s 3ms/step - loss: 22.5057 - mae: 22.5057\n",
            "Epoch 61/300\n",
            "13/13 [==============================] - 0s 3ms/step - loss: 22.5057 - mae: 22.5057\n",
            "Epoch 62/300\n",
            "13/13 [==============================] - 0s 3ms/step - loss: 22.5057 - mae: 22.5057\n",
            "Epoch 63/300\n",
            "13/13 [==============================] - 0s 3ms/step - loss: 22.5057 - mae: 22.5057\n",
            "Epoch 64/300\n",
            "13/13 [==============================] - 0s 3ms/step - loss: 22.5057 - mae: 22.5057\n",
            "Epoch 65/300\n",
            "13/13 [==============================] - 0s 3ms/step - loss: 22.5057 - mae: 22.5057\n",
            "Epoch 66/300\n",
            "13/13 [==============================] - 0s 3ms/step - loss: 22.5057 - mae: 22.5057\n",
            "Epoch 67/300\n",
            "13/13 [==============================] - 0s 3ms/step - loss: 22.5057 - mae: 22.5057\n",
            "Epoch 68/300\n",
            "13/13 [==============================] - 0s 3ms/step - loss: 22.5057 - mae: 22.5057\n",
            "Epoch 69/300\n",
            "13/13 [==============================] - 0s 4ms/step - loss: 22.5057 - mae: 22.5057\n",
            "Epoch 70/300\n",
            "13/13 [==============================] - 0s 3ms/step - loss: 22.5057 - mae: 22.5057\n",
            "Epoch 71/300\n",
            "13/13 [==============================] - 0s 3ms/step - loss: 22.5057 - mae: 22.5057\n",
            "Epoch 72/300\n",
            "13/13 [==============================] - 0s 3ms/step - loss: 22.5057 - mae: 22.5057\n",
            "Epoch 73/300\n",
            "13/13 [==============================] - 0s 3ms/step - loss: 22.5057 - mae: 22.5057\n",
            "Epoch 74/300\n",
            "13/13 [==============================] - 0s 2ms/step - loss: 22.5057 - mae: 22.5057\n",
            "Epoch 75/300\n",
            "13/13 [==============================] - 0s 3ms/step - loss: 22.5057 - mae: 22.5057\n",
            "Epoch 76/300\n",
            "13/13 [==============================] - 0s 3ms/step - loss: 22.5057 - mae: 22.5057\n",
            "Epoch 77/300\n",
            "13/13 [==============================] - 0s 2ms/step - loss: 22.5057 - mae: 22.5057\n",
            "Epoch 78/300\n",
            "13/13 [==============================] - 0s 3ms/step - loss: 22.5057 - mae: 22.5057\n",
            "Epoch 79/300\n",
            "13/13 [==============================] - 0s 3ms/step - loss: 22.5057 - mae: 22.5057\n",
            "Epoch 80/300\n",
            "13/13 [==============================] - 0s 3ms/step - loss: 22.5057 - mae: 22.5057\n",
            "Epoch 81/300\n",
            "13/13 [==============================] - 0s 4ms/step - loss: 22.5057 - mae: 22.5057\n",
            "Epoch 82/300\n",
            "13/13 [==============================] - 0s 3ms/step - loss: 22.5057 - mae: 22.5057\n",
            "Epoch 83/300\n",
            "13/13 [==============================] - 0s 2ms/step - loss: 22.5057 - mae: 22.5057\n",
            "Epoch 84/300\n",
            "13/13 [==============================] - 0s 3ms/step - loss: 22.5057 - mae: 22.5057\n",
            "Epoch 85/300\n",
            "13/13 [==============================] - 0s 3ms/step - loss: 22.5057 - mae: 22.5057\n",
            "Epoch 86/300\n",
            "13/13 [==============================] - 0s 3ms/step - loss: 22.5057 - mae: 22.5057\n",
            "Epoch 87/300\n",
            "13/13 [==============================] - 0s 3ms/step - loss: 22.5057 - mae: 22.5057\n",
            "Epoch 88/300\n",
            "13/13 [==============================] - 0s 3ms/step - loss: 22.5057 - mae: 22.5057\n",
            "Epoch 89/300\n",
            "13/13 [==============================] - 0s 3ms/step - loss: 22.5057 - mae: 22.5057\n",
            "Epoch 90/300\n",
            "13/13 [==============================] - 0s 3ms/step - loss: 22.5057 - mae: 22.5057\n",
            "Epoch 91/300\n",
            "13/13 [==============================] - 0s 4ms/step - loss: 22.5057 - mae: 22.5057\n",
            "Epoch 92/300\n",
            "13/13 [==============================] - 0s 3ms/step - loss: 22.5057 - mae: 22.5057\n",
            "Epoch 93/300\n",
            "13/13 [==============================] - 0s 3ms/step - loss: 22.5057 - mae: 22.5057\n",
            "Epoch 94/300\n",
            "13/13 [==============================] - 0s 3ms/step - loss: 22.5057 - mae: 22.5057\n",
            "Epoch 95/300\n",
            "13/13 [==============================] - 0s 3ms/step - loss: 22.5057 - mae: 22.5057\n",
            "Epoch 96/300\n",
            "13/13 [==============================] - 0s 3ms/step - loss: 22.5057 - mae: 22.5057\n",
            "Epoch 97/300\n",
            "13/13 [==============================] - 0s 3ms/step - loss: 22.5057 - mae: 22.5057\n",
            "Epoch 98/300\n",
            "13/13 [==============================] - 0s 3ms/step - loss: 22.5057 - mae: 22.5057\n",
            "Epoch 99/300\n",
            "13/13 [==============================] - 0s 3ms/step - loss: 22.5057 - mae: 22.5057\n",
            "Epoch 100/300\n",
            "13/13 [==============================] - 0s 3ms/step - loss: 22.5057 - mae: 22.5057\n",
            "Epoch 101/300\n",
            "13/13 [==============================] - 0s 2ms/step - loss: 22.5057 - mae: 22.5057\n",
            "Epoch 102/300\n",
            "13/13 [==============================] - 0s 3ms/step - loss: 22.5057 - mae: 22.5057\n",
            "Epoch 103/300\n",
            "13/13 [==============================] - 0s 3ms/step - loss: 22.5057 - mae: 22.5057\n",
            "Epoch 104/300\n",
            "13/13 [==============================] - 0s 3ms/step - loss: 22.5057 - mae: 22.5057\n",
            "Epoch 105/300\n",
            "13/13 [==============================] - 0s 3ms/step - loss: 22.5057 - mae: 22.5057\n",
            "Epoch 106/300\n",
            "13/13 [==============================] - 0s 3ms/step - loss: 22.5057 - mae: 22.5057\n",
            "Epoch 107/300\n",
            "13/13 [==============================] - 0s 3ms/step - loss: 22.5057 - mae: 22.5057\n",
            "Epoch 108/300\n",
            "13/13 [==============================] - 0s 3ms/step - loss: 22.5057 - mae: 22.5057\n",
            "Epoch 109/300\n",
            "13/13 [==============================] - 0s 3ms/step - loss: 22.5057 - mae: 22.5057\n",
            "Epoch 110/300\n",
            "13/13 [==============================] - 0s 3ms/step - loss: 22.5057 - mae: 22.5057\n",
            "Epoch 111/300\n",
            "13/13 [==============================] - 0s 3ms/step - loss: 22.5057 - mae: 22.5057\n",
            "Epoch 112/300\n",
            "13/13 [==============================] - 0s 3ms/step - loss: 22.5057 - mae: 22.5057\n",
            "Epoch 113/300\n",
            "13/13 [==============================] - 0s 3ms/step - loss: 22.5057 - mae: 22.5057\n",
            "Epoch 114/300\n",
            "13/13 [==============================] - 0s 4ms/step - loss: 22.5057 - mae: 22.5057\n",
            "Epoch 115/300\n",
            "13/13 [==============================] - 0s 2ms/step - loss: 22.5057 - mae: 22.5057\n",
            "Epoch 116/300\n",
            "13/13 [==============================] - 0s 3ms/step - loss: 22.5057 - mae: 22.5057\n",
            "Epoch 117/300\n",
            "13/13 [==============================] - 0s 3ms/step - loss: 22.5057 - mae: 22.5057\n",
            "Epoch 118/300\n",
            "13/13 [==============================] - 0s 3ms/step - loss: 22.5057 - mae: 22.5057\n",
            "Epoch 119/300\n",
            "13/13 [==============================] - 0s 3ms/step - loss: 22.5057 - mae: 22.5057\n",
            "Epoch 120/300\n",
            "13/13 [==============================] - 0s 3ms/step - loss: 22.5057 - mae: 22.5057\n",
            "Epoch 121/300\n",
            "13/13 [==============================] - 0s 3ms/step - loss: 22.5057 - mae: 22.5057\n",
            "Epoch 122/300\n",
            "13/13 [==============================] - 0s 3ms/step - loss: 22.5057 - mae: 22.5057\n",
            "Epoch 123/300\n",
            "13/13 [==============================] - 0s 3ms/step - loss: 22.5057 - mae: 22.5057\n",
            "Epoch 124/300\n",
            "13/13 [==============================] - 0s 3ms/step - loss: 22.5057 - mae: 22.5057\n",
            "Epoch 125/300\n",
            "13/13 [==============================] - 0s 3ms/step - loss: 22.5057 - mae: 22.5057\n",
            "Epoch 126/300\n",
            "13/13 [==============================] - 0s 3ms/step - loss: 22.5057 - mae: 22.5057\n",
            "Epoch 127/300\n",
            "13/13 [==============================] - 0s 3ms/step - loss: 22.5057 - mae: 22.5057\n",
            "Epoch 128/300\n",
            "13/13 [==============================] - 0s 3ms/step - loss: 22.5057 - mae: 22.5057\n",
            "Epoch 129/300\n",
            "13/13 [==============================] - 0s 3ms/step - loss: 22.5057 - mae: 22.5057\n",
            "Epoch 130/300\n",
            "13/13 [==============================] - 0s 3ms/step - loss: 22.5057 - mae: 22.5057\n",
            "Epoch 131/300\n",
            "13/13 [==============================] - 0s 3ms/step - loss: 22.5057 - mae: 22.5057\n",
            "Epoch 132/300\n",
            "13/13 [==============================] - 0s 3ms/step - loss: 22.5057 - mae: 22.5057\n",
            "Epoch 133/300\n",
            "13/13 [==============================] - 0s 3ms/step - loss: 22.5057 - mae: 22.5057\n",
            "Epoch 134/300\n",
            "13/13 [==============================] - 0s 3ms/step - loss: 22.5057 - mae: 22.5057\n",
            "Epoch 135/300\n",
            "13/13 [==============================] - 0s 3ms/step - loss: 22.5057 - mae: 22.5057\n",
            "Epoch 136/300\n",
            "13/13 [==============================] - 0s 3ms/step - loss: 22.5057 - mae: 22.5057\n",
            "Epoch 137/300\n",
            "13/13 [==============================] - 0s 4ms/step - loss: 22.5057 - mae: 22.5057\n",
            "Epoch 138/300\n",
            "13/13 [==============================] - 0s 3ms/step - loss: 22.5057 - mae: 22.5057\n",
            "Epoch 139/300\n",
            "13/13 [==============================] - 0s 3ms/step - loss: 22.5057 - mae: 22.5057\n",
            "Epoch 140/300\n",
            "13/13 [==============================] - 0s 2ms/step - loss: 22.5057 - mae: 22.5057\n",
            "Epoch 141/300\n",
            "13/13 [==============================] - 0s 3ms/step - loss: 22.5057 - mae: 22.5057\n",
            "Epoch 142/300\n",
            "13/13 [==============================] - 0s 3ms/step - loss: 22.5057 - mae: 22.5057\n",
            "Epoch 143/300\n",
            "13/13 [==============================] - 0s 3ms/step - loss: 22.5057 - mae: 22.5057\n",
            "Epoch 144/300\n",
            "13/13 [==============================] - 0s 3ms/step - loss: 22.5057 - mae: 22.5057\n",
            "Epoch 145/300\n",
            "13/13 [==============================] - 0s 3ms/step - loss: 22.5057 - mae: 22.5057\n",
            "Epoch 146/300\n",
            "13/13 [==============================] - 0s 3ms/step - loss: 22.5057 - mae: 22.5057\n",
            "Epoch 147/300\n",
            "13/13 [==============================] - 0s 3ms/step - loss: 22.5057 - mae: 22.5057\n",
            "Epoch 148/300\n",
            "13/13 [==============================] - 0s 3ms/step - loss: 22.5057 - mae: 22.5057\n",
            "Epoch 149/300\n",
            "13/13 [==============================] - 0s 3ms/step - loss: 22.5057 - mae: 22.5057\n",
            "Epoch 150/300\n",
            "13/13 [==============================] - 0s 3ms/step - loss: 22.5057 - mae: 22.5057\n",
            "Epoch 151/300\n",
            "13/13 [==============================] - 0s 3ms/step - loss: 22.5057 - mae: 22.5057\n",
            "Epoch 152/300\n",
            "13/13 [==============================] - 0s 3ms/step - loss: 22.5057 - mae: 22.5057\n",
            "Epoch 153/300\n",
            "13/13 [==============================] - 0s 3ms/step - loss: 22.5057 - mae: 22.5057\n",
            "Epoch 154/300\n",
            "13/13 [==============================] - 0s 3ms/step - loss: 22.5057 - mae: 22.5057\n",
            "Epoch 155/300\n",
            "13/13 [==============================] - 0s 3ms/step - loss: 22.5057 - mae: 22.5057\n",
            "Epoch 156/300\n",
            "13/13 [==============================] - 0s 3ms/step - loss: 22.5057 - mae: 22.5057\n",
            "Epoch 157/300\n",
            "13/13 [==============================] - 0s 3ms/step - loss: 22.5057 - mae: 22.5057\n",
            "Epoch 158/300\n",
            "13/13 [==============================] - 0s 3ms/step - loss: 22.5057 - mae: 22.5057\n",
            "Epoch 159/300\n",
            "13/13 [==============================] - 0s 3ms/step - loss: 22.5057 - mae: 22.5057\n",
            "Epoch 160/300\n",
            "13/13 [==============================] - 0s 4ms/step - loss: 22.5057 - mae: 22.5057\n",
            "Epoch 161/300\n",
            "13/13 [==============================] - 0s 3ms/step - loss: 22.5057 - mae: 22.5057\n",
            "Epoch 162/300\n",
            "13/13 [==============================] - 0s 3ms/step - loss: 22.5057 - mae: 22.5057\n",
            "Epoch 163/300\n",
            "13/13 [==============================] - 0s 3ms/step - loss: 22.5057 - mae: 22.5057\n",
            "Epoch 164/300\n",
            "13/13 [==============================] - 0s 3ms/step - loss: 22.5057 - mae: 22.5057\n",
            "Epoch 165/300\n",
            "13/13 [==============================] - 0s 3ms/step - loss: 22.5057 - mae: 22.5057\n",
            "Epoch 166/300\n",
            "13/13 [==============================] - 0s 3ms/step - loss: 22.5057 - mae: 22.5057\n",
            "Epoch 167/300\n",
            "13/13 [==============================] - 0s 3ms/step - loss: 22.5057 - mae: 22.5057\n",
            "Epoch 168/300\n",
            "13/13 [==============================] - 0s 3ms/step - loss: 22.5057 - mae: 22.5057\n",
            "Epoch 169/300\n",
            "13/13 [==============================] - 0s 3ms/step - loss: 22.5057 - mae: 22.5057\n",
            "Epoch 170/300\n",
            "13/13 [==============================] - 0s 3ms/step - loss: 22.5057 - mae: 22.5057\n",
            "Epoch 171/300\n",
            "13/13 [==============================] - 0s 3ms/step - loss: 22.5057 - mae: 22.5057\n",
            "Epoch 172/300\n",
            "13/13 [==============================] - 0s 3ms/step - loss: 22.5057 - mae: 22.5057\n",
            "Epoch 173/300\n",
            "13/13 [==============================] - 0s 3ms/step - loss: 22.5057 - mae: 22.5057\n",
            "Epoch 174/300\n",
            "13/13 [==============================] - 0s 3ms/step - loss: 22.5057 - mae: 22.5057\n",
            "Epoch 175/300\n",
            "13/13 [==============================] - 0s 3ms/step - loss: 22.5057 - mae: 22.5057\n",
            "Epoch 176/300\n",
            "13/13 [==============================] - 0s 3ms/step - loss: 22.5057 - mae: 22.5057\n",
            "Epoch 177/300\n",
            "13/13 [==============================] - 0s 3ms/step - loss: 22.5057 - mae: 22.5057\n",
            "Epoch 178/300\n",
            "13/13 [==============================] - 0s 3ms/step - loss: 22.5057 - mae: 22.5057\n",
            "Epoch 179/300\n",
            "13/13 [==============================] - 0s 3ms/step - loss: 22.5057 - mae: 22.5057\n",
            "Epoch 180/300\n",
            "13/13 [==============================] - 0s 3ms/step - loss: 22.5057 - mae: 22.5057\n",
            "Epoch 181/300\n",
            "13/13 [==============================] - 0s 3ms/step - loss: 22.5057 - mae: 22.5057\n",
            "Epoch 182/300\n",
            "13/13 [==============================] - 0s 4ms/step - loss: 22.5057 - mae: 22.5057\n",
            "Epoch 183/300\n",
            "13/13 [==============================] - 0s 3ms/step - loss: 22.5057 - mae: 22.5057\n",
            "Epoch 184/300\n",
            "13/13 [==============================] - 0s 3ms/step - loss: 22.5057 - mae: 22.5057\n",
            "Epoch 185/300\n",
            "13/13 [==============================] - 0s 3ms/step - loss: 22.5057 - mae: 22.5057\n",
            "Epoch 186/300\n",
            "13/13 [==============================] - 0s 3ms/step - loss: 22.5057 - mae: 22.5057\n",
            "Epoch 187/300\n",
            "13/13 [==============================] - 0s 3ms/step - loss: 22.5057 - mae: 22.5057\n",
            "Epoch 188/300\n",
            "13/13 [==============================] - 0s 3ms/step - loss: 22.5057 - mae: 22.5057\n",
            "Epoch 189/300\n",
            "13/13 [==============================] - 0s 3ms/step - loss: 22.5057 - mae: 22.5057\n",
            "Epoch 190/300\n",
            "13/13 [==============================] - 0s 3ms/step - loss: 22.5057 - mae: 22.5057\n",
            "Epoch 191/300\n",
            "13/13 [==============================] - 0s 3ms/step - loss: 22.5057 - mae: 22.5057\n",
            "Epoch 192/300\n",
            "13/13 [==============================] - 0s 3ms/step - loss: 22.5057 - mae: 22.5057\n",
            "Epoch 193/300\n",
            "13/13 [==============================] - 0s 3ms/step - loss: 22.5057 - mae: 22.5057\n",
            "Epoch 194/300\n",
            "13/13 [==============================] - 0s 3ms/step - loss: 22.5057 - mae: 22.5057\n",
            "Epoch 195/300\n",
            "13/13 [==============================] - 0s 3ms/step - loss: 22.5057 - mae: 22.5057\n",
            "Epoch 196/300\n",
            "13/13 [==============================] - 0s 3ms/step - loss: 22.5057 - mae: 22.5057\n",
            "Epoch 197/300\n",
            "13/13 [==============================] - 0s 3ms/step - loss: 22.5057 - mae: 22.5057\n",
            "Epoch 198/300\n",
            "13/13 [==============================] - 0s 3ms/step - loss: 22.5057 - mae: 22.5057\n",
            "Epoch 199/300\n",
            "13/13 [==============================] - 0s 3ms/step - loss: 22.5057 - mae: 22.5057\n",
            "Epoch 200/300\n",
            "13/13 [==============================] - 0s 3ms/step - loss: 22.5057 - mae: 22.5057\n",
            "Epoch 201/300\n",
            "13/13 [==============================] - 0s 3ms/step - loss: 22.5057 - mae: 22.5057\n",
            "Epoch 202/300\n",
            "13/13 [==============================] - 0s 3ms/step - loss: 22.5057 - mae: 22.5057\n",
            "Epoch 203/300\n",
            "13/13 [==============================] - 0s 3ms/step - loss: 22.5057 - mae: 22.5057\n",
            "Epoch 204/300\n",
            "13/13 [==============================] - 0s 3ms/step - loss: 22.5057 - mae: 22.5057\n",
            "Epoch 205/300\n",
            "13/13 [==============================] - 0s 3ms/step - loss: 22.5057 - mae: 22.5057\n",
            "Epoch 206/300\n",
            "13/13 [==============================] - 0s 3ms/step - loss: 22.5057 - mae: 22.5057\n",
            "Epoch 207/300\n",
            "13/13 [==============================] - 0s 3ms/step - loss: 22.5057 - mae: 22.5057\n",
            "Epoch 208/300\n",
            "13/13 [==============================] - 0s 3ms/step - loss: 22.5057 - mae: 22.5057\n",
            "Epoch 209/300\n",
            "13/13 [==============================] - 0s 3ms/step - loss: 22.5057 - mae: 22.5057\n",
            "Epoch 210/300\n",
            "13/13 [==============================] - 0s 3ms/step - loss: 22.5057 - mae: 22.5057\n",
            "Epoch 211/300\n",
            "13/13 [==============================] - 0s 3ms/step - loss: 22.5057 - mae: 22.5057\n",
            "Epoch 212/300\n",
            "13/13 [==============================] - 0s 3ms/step - loss: 22.5057 - mae: 22.5057\n",
            "Epoch 213/300\n",
            "13/13 [==============================] - 0s 3ms/step - loss: 22.5057 - mae: 22.5057\n",
            "Epoch 214/300\n",
            "13/13 [==============================] - 0s 3ms/step - loss: 22.5057 - mae: 22.5057\n",
            "Epoch 215/300\n",
            "13/13 [==============================] - 0s 3ms/step - loss: 22.5057 - mae: 22.5057\n",
            "Epoch 216/300\n",
            "13/13 [==============================] - 0s 3ms/step - loss: 22.5057 - mae: 22.5057\n",
            "Epoch 217/300\n",
            "13/13 [==============================] - 0s 3ms/step - loss: 22.5057 - mae: 22.5057\n",
            "Epoch 218/300\n",
            "13/13 [==============================] - 0s 3ms/step - loss: 22.5057 - mae: 22.5057\n",
            "Epoch 219/300\n",
            "13/13 [==============================] - 0s 3ms/step - loss: 22.5057 - mae: 22.5057\n",
            "Epoch 220/300\n",
            "13/13 [==============================] - 0s 3ms/step - loss: 22.5057 - mae: 22.5057\n",
            "Epoch 221/300\n",
            "13/13 [==============================] - 0s 4ms/step - loss: 22.5057 - mae: 22.5057\n",
            "Epoch 222/300\n",
            "13/13 [==============================] - 0s 4ms/step - loss: 22.5057 - mae: 22.5057\n",
            "Epoch 223/300\n",
            "13/13 [==============================] - 0s 5ms/step - loss: 22.5057 - mae: 22.5057\n",
            "Epoch 224/300\n",
            "13/13 [==============================] - 0s 5ms/step - loss: 22.5057 - mae: 22.5057\n",
            "Epoch 225/300\n",
            "13/13 [==============================] - 0s 5ms/step - loss: 22.5057 - mae: 22.5057\n",
            "Epoch 226/300\n",
            "13/13 [==============================] - 0s 4ms/step - loss: 22.5057 - mae: 22.5057\n",
            "Epoch 227/300\n",
            "13/13 [==============================] - 0s 5ms/step - loss: 22.5057 - mae: 22.5057\n",
            "Epoch 228/300\n",
            "13/13 [==============================] - 0s 3ms/step - loss: 22.5057 - mae: 22.5057\n",
            "Epoch 229/300\n",
            "13/13 [==============================] - 0s 4ms/step - loss: 22.5057 - mae: 22.5057\n",
            "Epoch 230/300\n",
            "13/13 [==============================] - 0s 5ms/step - loss: 22.5057 - mae: 22.5057\n",
            "Epoch 231/300\n",
            "13/13 [==============================] - 0s 4ms/step - loss: 22.5057 - mae: 22.5057\n",
            "Epoch 232/300\n",
            "13/13 [==============================] - 0s 4ms/step - loss: 22.5057 - mae: 22.5057\n",
            "Epoch 233/300\n",
            "13/13 [==============================] - 0s 4ms/step - loss: 22.5057 - mae: 22.5057\n",
            "Epoch 234/300\n",
            "13/13 [==============================] - 0s 4ms/step - loss: 22.5057 - mae: 22.5057\n",
            "Epoch 235/300\n",
            "13/13 [==============================] - 0s 4ms/step - loss: 22.5057 - mae: 22.5057\n",
            "Epoch 236/300\n",
            "13/13 [==============================] - 0s 3ms/step - loss: 22.5057 - mae: 22.5057\n",
            "Epoch 237/300\n",
            "13/13 [==============================] - 0s 5ms/step - loss: 22.5057 - mae: 22.5057\n",
            "Epoch 238/300\n",
            "13/13 [==============================] - 0s 4ms/step - loss: 22.5057 - mae: 22.5057\n",
            "Epoch 239/300\n",
            "13/13 [==============================] - 0s 4ms/step - loss: 22.5057 - mae: 22.5057\n",
            "Epoch 240/300\n",
            "13/13 [==============================] - 0s 4ms/step - loss: 22.5057 - mae: 22.5057\n",
            "Epoch 241/300\n",
            "13/13 [==============================] - 0s 3ms/step - loss: 22.5057 - mae: 22.5057\n",
            "Epoch 242/300\n",
            "13/13 [==============================] - 0s 3ms/step - loss: 22.5057 - mae: 22.5057\n",
            "Epoch 243/300\n",
            "13/13 [==============================] - 0s 5ms/step - loss: 22.5057 - mae: 22.5057\n",
            "Epoch 244/300\n",
            "13/13 [==============================] - 0s 4ms/step - loss: 22.5057 - mae: 22.5057\n",
            "Epoch 245/300\n",
            "13/13 [==============================] - 0s 4ms/step - loss: 22.5057 - mae: 22.5057\n",
            "Epoch 246/300\n",
            "13/13 [==============================] - 0s 3ms/step - loss: 22.5057 - mae: 22.5057\n",
            "Epoch 247/300\n",
            "13/13 [==============================] - 0s 3ms/step - loss: 22.5057 - mae: 22.5057\n",
            "Epoch 248/300\n",
            "13/13 [==============================] - 0s 3ms/step - loss: 22.5057 - mae: 22.5057\n",
            "Epoch 249/300\n",
            "13/13 [==============================] - 0s 3ms/step - loss: 22.5057 - mae: 22.5057\n",
            "Epoch 250/300\n",
            "13/13 [==============================] - 0s 3ms/step - loss: 22.5057 - mae: 22.5057\n",
            "Epoch 251/300\n",
            "13/13 [==============================] - 0s 3ms/step - loss: 22.5057 - mae: 22.5057\n",
            "Epoch 252/300\n",
            "13/13 [==============================] - 0s 3ms/step - loss: 22.5057 - mae: 22.5057\n",
            "Epoch 253/300\n",
            "13/13 [==============================] - 0s 4ms/step - loss: 22.5057 - mae: 22.5057\n",
            "Epoch 254/300\n",
            "13/13 [==============================] - 0s 4ms/step - loss: 22.5057 - mae: 22.5057\n",
            "Epoch 255/300\n",
            "13/13 [==============================] - 0s 4ms/step - loss: 22.5057 - mae: 22.5057\n",
            "Epoch 256/300\n",
            "13/13 [==============================] - 0s 4ms/step - loss: 22.5057 - mae: 22.5057\n",
            "Epoch 257/300\n",
            "13/13 [==============================] - 0s 4ms/step - loss: 22.5057 - mae: 22.5057\n",
            "Epoch 258/300\n",
            "13/13 [==============================] - 0s 4ms/step - loss: 22.5057 - mae: 22.5057\n",
            "Epoch 259/300\n",
            "13/13 [==============================] - 0s 4ms/step - loss: 22.5057 - mae: 22.5057\n",
            "Epoch 260/300\n",
            "13/13 [==============================] - 0s 4ms/step - loss: 22.5057 - mae: 22.5057\n",
            "Epoch 261/300\n",
            "13/13 [==============================] - 0s 3ms/step - loss: 22.5057 - mae: 22.5057\n",
            "Epoch 262/300\n",
            "13/13 [==============================] - 0s 3ms/step - loss: 22.5057 - mae: 22.5057\n",
            "Epoch 263/300\n",
            "13/13 [==============================] - 0s 3ms/step - loss: 22.5057 - mae: 22.5057\n",
            "Epoch 264/300\n",
            "13/13 [==============================] - 0s 3ms/step - loss: 22.5057 - mae: 22.5057\n",
            "Epoch 265/300\n",
            "13/13 [==============================] - 0s 3ms/step - loss: 22.5057 - mae: 22.5057\n",
            "Epoch 266/300\n",
            "13/13 [==============================] - 0s 4ms/step - loss: 22.5057 - mae: 22.5057\n",
            "Epoch 267/300\n",
            "13/13 [==============================] - 0s 4ms/step - loss: 22.5057 - mae: 22.5057\n",
            "Epoch 268/300\n",
            "13/13 [==============================] - 0s 3ms/step - loss: 22.5057 - mae: 22.5057\n",
            "Epoch 269/300\n",
            "13/13 [==============================] - 0s 4ms/step - loss: 22.5057 - mae: 22.5057\n",
            "Epoch 270/300\n",
            "13/13 [==============================] - 0s 3ms/step - loss: 22.5057 - mae: 22.5057\n",
            "Epoch 271/300\n",
            "13/13 [==============================] - 0s 4ms/step - loss: 22.5057 - mae: 22.5057\n",
            "Epoch 272/300\n",
            "13/13 [==============================] - 0s 4ms/step - loss: 22.5057 - mae: 22.5057\n",
            "Epoch 273/300\n",
            "13/13 [==============================] - 0s 3ms/step - loss: 22.5057 - mae: 22.5057\n",
            "Epoch 274/300\n",
            "13/13 [==============================] - 0s 3ms/step - loss: 22.5057 - mae: 22.5057\n",
            "Epoch 275/300\n",
            "13/13 [==============================] - 0s 3ms/step - loss: 22.5057 - mae: 22.5057\n",
            "Epoch 276/300\n",
            "13/13 [==============================] - 0s 4ms/step - loss: 22.5057 - mae: 22.5057\n",
            "Epoch 277/300\n",
            "13/13 [==============================] - 0s 4ms/step - loss: 22.5057 - mae: 22.5057\n",
            "Epoch 278/300\n",
            "13/13 [==============================] - 0s 4ms/step - loss: 22.5057 - mae: 22.5057\n",
            "Epoch 279/300\n",
            "13/13 [==============================] - 0s 4ms/step - loss: 22.5057 - mae: 22.5057\n",
            "Epoch 280/300\n",
            "13/13 [==============================] - 0s 4ms/step - loss: 22.5057 - mae: 22.5057\n",
            "Epoch 281/300\n",
            "13/13 [==============================] - 0s 4ms/step - loss: 22.5057 - mae: 22.5057\n",
            "Epoch 282/300\n",
            "13/13 [==============================] - 0s 5ms/step - loss: 22.5057 - mae: 22.5057\n",
            "Epoch 283/300\n",
            "13/13 [==============================] - 0s 4ms/step - loss: 22.5057 - mae: 22.5057\n",
            "Epoch 284/300\n",
            "13/13 [==============================] - 0s 3ms/step - loss: 22.5057 - mae: 22.5057\n",
            "Epoch 285/300\n",
            "13/13 [==============================] - 0s 3ms/step - loss: 22.5057 - mae: 22.5057\n",
            "Epoch 286/300\n",
            "13/13 [==============================] - 0s 3ms/step - loss: 22.5057 - mae: 22.5057\n",
            "Epoch 287/300\n",
            "13/13 [==============================] - 0s 5ms/step - loss: 22.5057 - mae: 22.5057\n",
            "Epoch 288/300\n",
            "13/13 [==============================] - 0s 4ms/step - loss: 22.5057 - mae: 22.5057\n",
            "Epoch 289/300\n",
            "13/13 [==============================] - 0s 4ms/step - loss: 22.5057 - mae: 22.5057\n",
            "Epoch 290/300\n",
            "13/13 [==============================] - 0s 4ms/step - loss: 22.5057 - mae: 22.5057\n",
            "Epoch 291/300\n",
            "13/13 [==============================] - 0s 5ms/step - loss: 22.5057 - mae: 22.5057\n",
            "Epoch 292/300\n",
            "13/13 [==============================] - 0s 4ms/step - loss: 22.5057 - mae: 22.5057\n",
            "Epoch 293/300\n",
            "13/13 [==============================] - 0s 4ms/step - loss: 22.5057 - mae: 22.5057\n",
            "Epoch 294/300\n",
            "13/13 [==============================] - 0s 5ms/step - loss: 22.5057 - mae: 22.5057\n",
            "Epoch 295/300\n",
            "13/13 [==============================] - 0s 4ms/step - loss: 22.5057 - mae: 22.5057\n",
            "Epoch 296/300\n",
            "13/13 [==============================] - 0s 4ms/step - loss: 22.5057 - mae: 22.5057\n",
            "Epoch 297/300\n",
            "13/13 [==============================] - 0s 4ms/step - loss: 22.5057 - mae: 22.5057\n",
            "Epoch 298/300\n",
            "13/13 [==============================] - 0s 4ms/step - loss: 22.5057 - mae: 22.5057\n",
            "Epoch 299/300\n",
            "13/13 [==============================] - 0s 3ms/step - loss: 22.5057 - mae: 22.5057\n",
            "Epoch 300/300\n",
            "13/13 [==============================] - 0s 5ms/step - loss: 22.5057 - mae: 22.5057\n"
          ]
        },
        {
          "output_type": "execute_result",
          "data": {
            "text/plain": [
              "<keras.src.callbacks.History at 0x7d0dd84043d0>"
            ]
          },
          "metadata": {},
          "execution_count": 86
        }
      ]
    },
    {
      "cell_type": "markdown",
      "source": [
        "My best model seems to be `boston_model_2`."
      ],
      "metadata": {
        "id": "EF4GbCabEDiO"
      }
    },
    {
      "cell_type": "code",
      "source": [
        "boston_model_2.summary()"
      ],
      "metadata": {
        "colab": {
          "base_uri": "https://localhost:8080/"
        },
        "id": "5GtvdxM0EyXc",
        "outputId": "884d24eb-0040-4892-f657-23989b628dd4"
      },
      "execution_count": 88,
      "outputs": [
        {
          "output_type": "stream",
          "name": "stdout",
          "text": [
            "Model: \"sequential_4\"\n",
            "_________________________________________________________________\n",
            " Layer (type)                Output Shape              Param #   \n",
            "=================================================================\n",
            " dense_80 (Dense)            (None, 50)                700       \n",
            "                                                                 \n",
            " dense_81 (Dense)            (None, 20)                1020      \n",
            "                                                                 \n",
            " dense_82 (Dense)            (None, 20)                420       \n",
            "                                                                 \n",
            " dense_83 (Dense)            (None, 1)                 21        \n",
            "                                                                 \n",
            "=================================================================\n",
            "Total params: 2161 (8.44 KB)\n",
            "Trainable params: 2161 (8.44 KB)\n",
            "Non-trainable params: 0 (0.00 Byte)\n",
            "_________________________________________________________________\n"
          ]
        }
      ]
    },
    {
      "cell_type": "code",
      "source": [
        "# saving my model\n",
        "boston_model_2.save(\"saved_models/boston_pricing_model.h5\")"
      ],
      "metadata": {
        "colab": {
          "base_uri": "https://localhost:8080/"
        },
        "id": "g0BDJ2frE1TR",
        "outputId": "fcf23a04-67bf-4fcd-fae5-546ba85134d0"
      },
      "execution_count": 89,
      "outputs": [
        {
          "output_type": "stream",
          "name": "stderr",
          "text": [
            "/usr/local/lib/python3.10/dist-packages/keras/src/engine/training.py:3079: UserWarning: You are saving your model as an HDF5 file via `model.save()`. This file format is considered legacy. We recommend using instead the native Keras format, e.g. `model.save('my_model.keras')`.\n",
            "  saving_api.save_model(\n"
          ]
        }
      ]
    },
    {
      "cell_type": "code",
      "source": [],
      "metadata": {
        "id": "nb-HgtE3FwF_"
      },
      "execution_count": null,
      "outputs": []
    }
  ]
}