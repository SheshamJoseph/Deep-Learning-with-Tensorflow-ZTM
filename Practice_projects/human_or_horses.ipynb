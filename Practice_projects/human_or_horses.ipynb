{
 "cells": [
  {
   "cell_type": "markdown",
   "metadata": {},
   "source": [
    "# Humans or Horses...\n",
    "\n",
    "Here we build a Convolution Neural Network to distinguish whether the content of an image is human or a horse. The dataset used for this project contains over a thousand 300x300 pixel images of horses and humans in different poses. This notebook uses the steps in the book **AI and Machine Learning for Coders**, chapter 3 from page 42, as a guide"
   ]
  },
  {
   "cell_type": "markdown",
   "metadata": {},
   "source": [
    "### First fetch the dataset and visualize a few images"
   ]
  }
 ],
 "metadata": {
  "kernelspec": {
   "display_name": "baseEnv",
   "language": "python",
   "name": "python3"
  },
  "language_info": {
   "name": "python",
   "version": "3.10.12"
  }
 },
 "nbformat": 4,
 "nbformat_minor": 2
}
