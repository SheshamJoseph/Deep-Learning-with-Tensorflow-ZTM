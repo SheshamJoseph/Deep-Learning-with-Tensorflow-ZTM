{
  "nbformat": 4,
  "nbformat_minor": 0,
  "metadata": {
    "colab": {
      "provenance": [],
      "authorship_tag": "ABX9TyMWupx3PoKEink1fj9MFOHW"
    },
    "kernelspec": {
      "name": "python3",
      "display_name": "Python 3"
    },
    "language_info": {
      "name": "python"
    }
  },
  "cells": [
    {
      "cell_type": "markdown",
      "source": [
        "# This notebook covers some of the most fundamental concepts of tensors using tensorflow\n",
        "\n",
        "More specifically\n",
        "* Introduction to tensors\n",
        "* Getting information from tensors\n",
        "* Manipulating tensors\n",
        "* Tensors and Numpy\n",
        "* Using @tf.function (to speed up regular Pyhton functions)\n",
        "* Using GPUs with Tensorflow (or TPUs)\n",
        "* few Exercises"
      ],
      "metadata": {
        "id": "o0zc8o6lrDkm"
      }
    },
    {
      "cell_type": "markdown",
      "source": [
        "# Introduction to Tensors"
      ],
      "metadata": {
        "id": "f0wVQAZkrlSc"
      }
    },
    {
      "cell_type": "code",
      "source": [
        "# Import Tensorflow\n",
        "import tensorflow as tf\n",
        "print(tf.__version__)"
      ],
      "metadata": {
        "colab": {
          "base_uri": "https://localhost:8080/"
        },
        "id": "6DuAl-ZTsig2",
        "outputId": "b076f2f4-1c8e-4030-fae5-c69a30f2c160"
      },
      "execution_count": null,
      "outputs": [
        {
          "output_type": "stream",
          "name": "stdout",
          "text": [
            "2.14.0\n"
          ]
        }
      ]
    },
    {
      "cell_type": "code",
      "source": [
        "# creating tensors using tf.constant()\n",
        "scalar = tf.constant(7)\n",
        "scalar"
      ],
      "metadata": {
        "colab": {
          "base_uri": "https://localhost:8080/"
        },
        "id": "Wp3olKRTsrsq",
        "outputId": "e62f4c4f-cb5e-4c27-d64c-cf4e30988ce8"
      },
      "execution_count": null,
      "outputs": [
        {
          "output_type": "execute_result",
          "data": {
            "text/plain": [
              "<tf.Tensor: shape=(), dtype=int32, numpy=7>"
            ]
          },
          "metadata": {},
          "execution_count": 3
        }
      ]
    },
    {
      "cell_type": "code",
      "source": [
        "# checking the number of dimensions\n",
        "scalar.ndim"
      ],
      "metadata": {
        "colab": {
          "base_uri": "https://localhost:8080/"
        },
        "id": "heqr72BEtBta",
        "outputId": "1b77428a-d589-44d8-a10b-6a819fd71be4"
      },
      "execution_count": null,
      "outputs": [
        {
          "output_type": "execute_result",
          "data": {
            "text/plain": [
              "0"
            ]
          },
          "metadata": {},
          "execution_count": 4
        }
      ]
    },
    {
      "cell_type": "code",
      "source": [
        "# create a vector\n",
        "vector = tf.constant([10, 7])\n",
        "vector"
      ],
      "metadata": {
        "colab": {
          "base_uri": "https://localhost:8080/"
        },
        "id": "w5IlFGIjtiKV",
        "outputId": "8676f4c9-c4ae-4375-8174-c5931c89c2d5"
      },
      "execution_count": null,
      "outputs": [
        {
          "output_type": "execute_result",
          "data": {
            "text/plain": [
              "<tf.Tensor: shape=(2,), dtype=int32, numpy=array([10,  7], dtype=int32)>"
            ]
          },
          "metadata": {},
          "execution_count": 5
        }
      ]
    },
    {
      "cell_type": "code",
      "source": [
        "vector.ndim"
      ],
      "metadata": {
        "colab": {
          "base_uri": "https://localhost:8080/"
        },
        "id": "Iq-M2n8Ytrks",
        "outputId": "1cb53b97-bc2e-45a0-9c6f-86901d451b40"
      },
      "execution_count": null,
      "outputs": [
        {
          "output_type": "execute_result",
          "data": {
            "text/plain": [
              "1"
            ]
          },
          "metadata": {},
          "execution_count": 6
        }
      ]
    },
    {
      "cell_type": "code",
      "source": [
        "# creating a matrix\n",
        "matrix = tf.constant([[10,7],\n",
        "                      [12, 4]])\n",
        "matrix"
      ],
      "metadata": {
        "colab": {
          "base_uri": "https://localhost:8080/"
        },
        "id": "I3be2Muhttr8",
        "outputId": "48b8a6ca-a20d-4b16-caae-e3f3d75a1f69"
      },
      "execution_count": null,
      "outputs": [
        {
          "output_type": "execute_result",
          "data": {
            "text/plain": [
              "<tf.Tensor: shape=(2, 2), dtype=int32, numpy=\n",
              "array([[10,  7],\n",
              "       [12,  4]], dtype=int32)>"
            ]
          },
          "metadata": {},
          "execution_count": 7
        }
      ]
    },
    {
      "cell_type": "code",
      "source": [
        "matrix.ndim"
      ],
      "metadata": {
        "colab": {
          "base_uri": "https://localhost:8080/"
        },
        "id": "bxOYM0Rot5UP",
        "outputId": "d66aa0a9-9a3e-4554-966a-a31776239c0f"
      },
      "execution_count": null,
      "outputs": [
        {
          "output_type": "execute_result",
          "data": {
            "text/plain": [
              "2"
            ]
          },
          "metadata": {},
          "execution_count": 8
        }
      ]
    },
    {
      "cell_type": "code",
      "source": [
        "# create another matrix and specify dtype\n",
        "another_matrix = tf.constant([[10, 7],\n",
        "                              [14, 6],\n",
        "                              [2, 6]], dtype=tf.float16)\n",
        "another_matrix"
      ],
      "metadata": {
        "colab": {
          "base_uri": "https://localhost:8080/"
        },
        "id": "sU7rni3auHJt",
        "outputId": "a9d46f11-6d6b-4099-8bad-c7455b281fc2"
      },
      "execution_count": null,
      "outputs": [
        {
          "output_type": "execute_result",
          "data": {
            "text/plain": [
              "<tf.Tensor: shape=(3, 2), dtype=float16, numpy=\n",
              "array([[10.,  7.],\n",
              "       [14.,  6.],\n",
              "       [ 2.,  6.]], dtype=float16)>"
            ]
          },
          "metadata": {},
          "execution_count": 9
        }
      ]
    },
    {
      "cell_type": "code",
      "source": [
        "another_matrix.ndim"
      ],
      "metadata": {
        "colab": {
          "base_uri": "https://localhost:8080/"
        },
        "id": "ynZNREibuqCB",
        "outputId": "55ea661d-392b-4fab-adb8-8ae42d2ee84e"
      },
      "execution_count": null,
      "outputs": [
        {
          "output_type": "execute_result",
          "data": {
            "text/plain": [
              "2"
            ]
          },
          "metadata": {},
          "execution_count": 10
        }
      ]
    },
    {
      "cell_type": "code",
      "source": [
        "# creating a tensor\n",
        "tensor = tf.constant([[[10, 4, 8],\n",
        "                       [2, 5, 8]],\n",
        "                      [[6, 8, 10],\n",
        "                       [90, 5, 9]],\n",
        "                      [[20, 4, 0],\n",
        "                       [4, 45, 6]]])\n",
        "tensor"
      ],
      "metadata": {
        "colab": {
          "base_uri": "https://localhost:8080/"
        },
        "id": "0OYdPsweuuFb",
        "outputId": "34de46ad-a915-4720-b3c9-06c5f6f41d09"
      },
      "execution_count": null,
      "outputs": [
        {
          "output_type": "execute_result",
          "data": {
            "text/plain": [
              "<tf.Tensor: shape=(3, 2, 3), dtype=int32, numpy=\n",
              "array([[[10,  4,  8],\n",
              "        [ 2,  5,  8]],\n",
              "\n",
              "       [[ 6,  8, 10],\n",
              "        [90,  5,  9]],\n",
              "\n",
              "       [[20,  4,  0],\n",
              "        [ 4, 45,  6]]], dtype=int32)>"
            ]
          },
          "metadata": {},
          "execution_count": 11
        }
      ]
    },
    {
      "cell_type": "code",
      "source": [
        "tensor.ndim"
      ],
      "metadata": {
        "colab": {
          "base_uri": "https://localhost:8080/"
        },
        "id": "gGptrnjBvTlX",
        "outputId": "ff06fc97-477e-4b8a-d241-42b7ac2d55c3"
      },
      "execution_count": null,
      "outputs": [
        {
          "output_type": "execute_result",
          "data": {
            "text/plain": [
              "3"
            ]
          },
          "metadata": {},
          "execution_count": 12
        }
      ]
    },
    {
      "cell_type": "markdown",
      "source": [
        "## Creating tensors using tf.Variable"
      ],
      "metadata": {
        "id": "5amfaieUvVkC"
      }
    },
    {
      "cell_type": "code",
      "source": [
        "tf.Variable"
      ],
      "metadata": {
        "colab": {
          "base_uri": "https://localhost:8080/"
        },
        "id": "qz5lNOIywu36",
        "outputId": "802e5e55-4c4e-401f-f312-ff89e73c1a9c"
      },
      "execution_count": null,
      "outputs": [
        {
          "output_type": "execute_result",
          "data": {
            "text/plain": [
              "tensorflow.python.ops.variables.Variable"
            ]
          },
          "metadata": {},
          "execution_count": 13
        }
      ]
    },
    {
      "cell_type": "code",
      "source": [
        "# create the same tensor as above\n",
        "changeable_tensor = tf.Variable([10, 7])\n",
        "unchangeable_tensor = tf.constant([20, 12])\n",
        "changeable_tensor, unchangeable_tensor"
      ],
      "metadata": {
        "colab": {
          "base_uri": "https://localhost:8080/"
        },
        "id": "wxOat7F_wxmB",
        "outputId": "924df6c7-c08d-4eac-fbc5-0d5874cea1a4"
      },
      "execution_count": null,
      "outputs": [
        {
          "output_type": "execute_result",
          "data": {
            "text/plain": [
              "(<tf.Variable 'Variable:0' shape=(2,) dtype=int32, numpy=array([10,  7], dtype=int32)>,\n",
              " <tf.Tensor: shape=(2,), dtype=int32, numpy=array([20, 12], dtype=int32)>)"
            ]
          },
          "metadata": {},
          "execution_count": 14
        }
      ]
    },
    {
      "cell_type": "code",
      "source": [
        "# try to change an element in changeable_tensor\n",
        "changeable_tensor[0].assign(21)\n",
        "changeable_tensor"
      ],
      "metadata": {
        "colab": {
          "base_uri": "https://localhost:8080/"
        },
        "id": "HPVkRoWsxUvZ",
        "outputId": "74623d5e-1d74-42e8-c895-12b495652c9c"
      },
      "execution_count": null,
      "outputs": [
        {
          "output_type": "execute_result",
          "data": {
            "text/plain": [
              "<tf.Variable 'Variable:0' shape=(2,) dtype=int32, numpy=array([21,  7], dtype=int32)>"
            ]
          },
          "metadata": {},
          "execution_count": 15
        }
      ]
    },
    {
      "cell_type": "code",
      "source": [
        "# this will throw an error as constant tensors can't have values changed\n",
        "\n",
        "# unchangeable_tensor[0].assign(7)\n",
        "# unchangeable_tensor"
      ],
      "metadata": {
        "id": "DloWuEXXx8X8"
      },
      "execution_count": null,
      "outputs": []
    },
    {
      "cell_type": "markdown",
      "source": [
        "## Creating random tensors\n",
        "Random tensors are tensors of arbitrary size which contain random numbers"
      ],
      "metadata": {
        "id": "wlXgD52k8LjE"
      }
    },
    {
      "cell_type": "code",
      "source": [
        "from tensorflow._api.v2 import random\n",
        "# create two random tensors\n",
        "random_1 = tf.random.Generator.from_seed(42)\n",
        "random_1 = random_1.normal(shape=(3, 2))\n",
        "random_1"
      ],
      "metadata": {
        "colab": {
          "base_uri": "https://localhost:8080/"
        },
        "id": "DrV9wOMB8skN",
        "outputId": "b52f50a2-116d-4f61-83ef-5d6c4db71137"
      },
      "execution_count": null,
      "outputs": [
        {
          "output_type": "execute_result",
          "data": {
            "text/plain": [
              "<tf.Tensor: shape=(3, 2), dtype=float32, numpy=\n",
              "array([[-0.7565803 , -0.06854702],\n",
              "       [ 0.07595026, -1.2573844 ],\n",
              "       [-0.23193763, -1.8107855 ]], dtype=float32)>"
            ]
          },
          "metadata": {},
          "execution_count": 17
        }
      ]
    },
    {
      "cell_type": "code",
      "source": [
        "random_2 = tf.random.Generator.from_seed(42)\n",
        "random_2 = random_2.normal(shape=(3, 2))\n",
        "random_1, random_2, random_1 == random_2"
      ],
      "metadata": {
        "colab": {
          "base_uri": "https://localhost:8080/"
        },
        "id": "8HxqM9jh_JLg",
        "outputId": "1cded95d-4d29-4d3d-b9ea-bad58253ade3"
      },
      "execution_count": null,
      "outputs": [
        {
          "output_type": "execute_result",
          "data": {
            "text/plain": [
              "(<tf.Tensor: shape=(3, 2), dtype=float32, numpy=\n",
              " array([[-0.7565803 , -0.06854702],\n",
              "        [ 0.07595026, -1.2573844 ],\n",
              "        [-0.23193763, -1.8107855 ]], dtype=float32)>,\n",
              " <tf.Tensor: shape=(3, 2), dtype=float32, numpy=\n",
              " array([[-0.7565803 , -0.06854702],\n",
              "        [ 0.07595026, -1.2573844 ],\n",
              "        [-0.23193763, -1.8107855 ]], dtype=float32)>,\n",
              " <tf.Tensor: shape=(3, 2), dtype=bool, numpy=\n",
              " array([[ True,  True],\n",
              "        [ True,  True],\n",
              "        [ True,  True]])>)"
            ]
          },
          "metadata": {},
          "execution_count": 18
        }
      ]
    },
    {
      "cell_type": "markdown",
      "source": [
        "## Shuffle tensors"
      ],
      "metadata": {
        "id": "mAEpVXfq-24h"
      }
    },
    {
      "cell_type": "code",
      "source": [
        "not_shuffled = tf.constant([[10, 24],\n",
        "                           [14, 56],\n",
        "                           [7, 5]])\n",
        "# setting a global level seed\n",
        "tf.random.set_seed(42)\n",
        "tf.random.shuffle(not_shuffled, seed=42)"
      ],
      "metadata": {
        "colab": {
          "base_uri": "https://localhost:8080/"
        },
        "id": "5DL-FEfmFlEo",
        "outputId": "b5a10a4e-8dbe-4f18-858d-86c0074ce758"
      },
      "execution_count": null,
      "outputs": [
        {
          "output_type": "execute_result",
          "data": {
            "text/plain": [
              "<tf.Tensor: shape=(3, 2), dtype=int32, numpy=\n",
              "array([[10, 24],\n",
              "       [14, 56],\n",
              "       [ 7,  5]], dtype=int32)>"
            ]
          },
          "metadata": {},
          "execution_count": 19
        }
      ]
    },
    {
      "cell_type": "markdown",
      "source": [
        "## Other ways to create tensors"
      ],
      "metadata": {
        "id": "otZVhfL0JYvh"
      }
    },
    {
      "cell_type": "code",
      "source": [
        "# create a tensor of all ones\n",
        "tf.ones([10, 7])"
      ],
      "metadata": {
        "colab": {
          "base_uri": "https://localhost:8080/"
        },
        "id": "utRsmzXnRrRu",
        "outputId": "4c3b47fa-9820-4846-eaf5-458eee648fe6"
      },
      "execution_count": null,
      "outputs": [
        {
          "output_type": "execute_result",
          "data": {
            "text/plain": [
              "<tf.Tensor: shape=(10, 7), dtype=float32, numpy=\n",
              "array([[1., 1., 1., 1., 1., 1., 1.],\n",
              "       [1., 1., 1., 1., 1., 1., 1.],\n",
              "       [1., 1., 1., 1., 1., 1., 1.],\n",
              "       [1., 1., 1., 1., 1., 1., 1.],\n",
              "       [1., 1., 1., 1., 1., 1., 1.],\n",
              "       [1., 1., 1., 1., 1., 1., 1.],\n",
              "       [1., 1., 1., 1., 1., 1., 1.],\n",
              "       [1., 1., 1., 1., 1., 1., 1.],\n",
              "       [1., 1., 1., 1., 1., 1., 1.],\n",
              "       [1., 1., 1., 1., 1., 1., 1.]], dtype=float32)>"
            ]
          },
          "metadata": {},
          "execution_count": 20
        }
      ]
    },
    {
      "cell_type": "code",
      "source": [
        "# create a tensor of all zeros\n",
        "tf.zeros(shape=(3, 4))"
      ],
      "metadata": {
        "colab": {
          "base_uri": "https://localhost:8080/"
        },
        "id": "07ZRDJrnR7H2",
        "outputId": "cbc38eca-0656-48e2-ad5b-efd3d5e73ae7"
      },
      "execution_count": null,
      "outputs": [
        {
          "output_type": "execute_result",
          "data": {
            "text/plain": [
              "<tf.Tensor: shape=(3, 4), dtype=float32, numpy=\n",
              "array([[0., 0., 0., 0.],\n",
              "       [0., 0., 0., 0.],\n",
              "       [0., 0., 0., 0.]], dtype=float32)>"
            ]
          },
          "metadata": {},
          "execution_count": 21
        }
      ]
    },
    {
      "cell_type": "code",
      "source": [
        "# turn numpy arrays into tensors\n",
        "import numpy as np\n",
        "numpy_A = np.arange(1, 25, dtype=np.int32)\n",
        "numpy_A"
      ],
      "metadata": {
        "colab": {
          "base_uri": "https://localhost:8080/"
        },
        "id": "dDYKPUFPSMFm",
        "outputId": "381006b5-342d-4dbe-91fa-edead2babea1"
      },
      "execution_count": null,
      "outputs": [
        {
          "output_type": "execute_result",
          "data": {
            "text/plain": [
              "array([ 1,  2,  3,  4,  5,  6,  7,  8,  9, 10, 11, 12, 13, 14, 15, 16, 17,\n",
              "       18, 19, 20, 21, 22, 23, 24], dtype=int32)"
            ]
          },
          "metadata": {},
          "execution_count": 22
        }
      ]
    },
    {
      "cell_type": "code",
      "source": [
        "tf.constant(numpy_A)"
      ],
      "metadata": {
        "colab": {
          "base_uri": "https://localhost:8080/"
        },
        "id": "tGupjwZDTHTH",
        "outputId": "0d43930f-2270-4f17-8560-8cbeea9f82e7"
      },
      "execution_count": null,
      "outputs": [
        {
          "output_type": "execute_result",
          "data": {
            "text/plain": [
              "<tf.Tensor: shape=(24,), dtype=int32, numpy=\n",
              "array([ 1,  2,  3,  4,  5,  6,  7,  8,  9, 10, 11, 12, 13, 14, 15, 16, 17,\n",
              "       18, 19, 20, 21, 22, 23, 24], dtype=int32)>"
            ]
          },
          "metadata": {},
          "execution_count": 23
        }
      ]
    },
    {
      "cell_type": "markdown",
      "source": [
        "# Getting information from our tensors, namely:\n",
        "* Shape\n",
        "* Axis or Dimension\n",
        "* Size\n",
        "* Rank"
      ],
      "metadata": {
        "id": "ST2dJTofTPNL"
      }
    },
    {
      "cell_type": "code",
      "source": [
        "# create a rank 4 tensor (4 dimensions)\n",
        "rank_4_tensor = tf.zeros(shape=[2, 3, 4, 5])\n",
        "rank_4_tensor"
      ],
      "metadata": {
        "colab": {
          "base_uri": "https://localhost:8080/"
        },
        "id": "1hDCPTviT4AT",
        "outputId": "b0e5ac69-2949-4b03-b66a-036c2801e8d5"
      },
      "execution_count": null,
      "outputs": [
        {
          "output_type": "execute_result",
          "data": {
            "text/plain": [
              "<tf.Tensor: shape=(2, 3, 4, 5), dtype=float32, numpy=\n",
              "array([[[[0., 0., 0., 0., 0.],\n",
              "         [0., 0., 0., 0., 0.],\n",
              "         [0., 0., 0., 0., 0.],\n",
              "         [0., 0., 0., 0., 0.]],\n",
              "\n",
              "        [[0., 0., 0., 0., 0.],\n",
              "         [0., 0., 0., 0., 0.],\n",
              "         [0., 0., 0., 0., 0.],\n",
              "         [0., 0., 0., 0., 0.]],\n",
              "\n",
              "        [[0., 0., 0., 0., 0.],\n",
              "         [0., 0., 0., 0., 0.],\n",
              "         [0., 0., 0., 0., 0.],\n",
              "         [0., 0., 0., 0., 0.]]],\n",
              "\n",
              "\n",
              "       [[[0., 0., 0., 0., 0.],\n",
              "         [0., 0., 0., 0., 0.],\n",
              "         [0., 0., 0., 0., 0.],\n",
              "         [0., 0., 0., 0., 0.]],\n",
              "\n",
              "        [[0., 0., 0., 0., 0.],\n",
              "         [0., 0., 0., 0., 0.],\n",
              "         [0., 0., 0., 0., 0.],\n",
              "         [0., 0., 0., 0., 0.]],\n",
              "\n",
              "        [[0., 0., 0., 0., 0.],\n",
              "         [0., 0., 0., 0., 0.],\n",
              "         [0., 0., 0., 0., 0.],\n",
              "         [0., 0., 0., 0., 0.]]]], dtype=float32)>"
            ]
          },
          "metadata": {},
          "execution_count": 24
        }
      ]
    },
    {
      "cell_type": "code",
      "source": [
        "rank_4_tensor[0]"
      ],
      "metadata": {
        "colab": {
          "base_uri": "https://localhost:8080/"
        },
        "id": "QJjd5UldV7d7",
        "outputId": "01555a60-11eb-41eb-ac3f-17095a7fadd1"
      },
      "execution_count": null,
      "outputs": [
        {
          "output_type": "execute_result",
          "data": {
            "text/plain": [
              "<tf.Tensor: shape=(3, 4, 5), dtype=float32, numpy=\n",
              "array([[[0., 0., 0., 0., 0.],\n",
              "        [0., 0., 0., 0., 0.],\n",
              "        [0., 0., 0., 0., 0.],\n",
              "        [0., 0., 0., 0., 0.]],\n",
              "\n",
              "       [[0., 0., 0., 0., 0.],\n",
              "        [0., 0., 0., 0., 0.],\n",
              "        [0., 0., 0., 0., 0.],\n",
              "        [0., 0., 0., 0., 0.]],\n",
              "\n",
              "       [[0., 0., 0., 0., 0.],\n",
              "        [0., 0., 0., 0., 0.],\n",
              "        [0., 0., 0., 0., 0.],\n",
              "        [0., 0., 0., 0., 0.]]], dtype=float32)>"
            ]
          },
          "metadata": {},
          "execution_count": 25
        }
      ]
    },
    {
      "cell_type": "code",
      "source": [
        "rank_4_tensor.shape, rank_4_tensor.ndim, tf.size(rank_4_tensor)"
      ],
      "metadata": {
        "colab": {
          "base_uri": "https://localhost:8080/"
        },
        "id": "FHNPWcPeWWNV",
        "outputId": "edf3b343-b8d9-4f04-d8cc-0cef4d5eedb2"
      },
      "execution_count": null,
      "outputs": [
        {
          "output_type": "execute_result",
          "data": {
            "text/plain": [
              "(TensorShape([2, 3, 4, 5]), 4, <tf.Tensor: shape=(), dtype=int32, numpy=120>)"
            ]
          },
          "metadata": {},
          "execution_count": 26
        }
      ]
    },
    {
      "cell_type": "code",
      "source": [
        "print(\"Datatype of every element : \", rank_4_tensor.dtype)\n",
        "print(\"Number of dimensions : \", rank_4_tensor.ndim)\n",
        "print(\"Shape of tensor : \", rank_4_tensor.shape)\n",
        "print(\"Elements along the 0 axis : \", rank_4_tensor.shape[0])\n",
        "print(\"Elements along the last axis : \", rank_4_tensor.shape[-1])\n",
        "print(\"Total number of elements : \", tf.size(rank_4_tensor))\n"
      ],
      "metadata": {
        "colab": {
          "base_uri": "https://localhost:8080/"
        },
        "id": "At7Hs1TXWmCX",
        "outputId": "4b1b95ab-7c70-4b1a-8399-ddfdbff0ef5b"
      },
      "execution_count": null,
      "outputs": [
        {
          "output_type": "stream",
          "name": "stdout",
          "text": [
            "Datatype of every element :  <dtype: 'float32'>\n",
            "Number of dimensions :  4\n",
            "Shape of tensor :  (2, 3, 4, 5)\n",
            "Elements along the 0 axis :  2\n",
            "Elements along the last axis :  5\n",
            "Total number of elements :  tf.Tensor(120, shape=(), dtype=int32)\n"
          ]
        }
      ]
    },
    {
      "cell_type": "markdown",
      "source": [
        "### Indexing Tensors"
      ],
      "metadata": {
        "id": "5Ue4tFm5XlbV"
      }
    },
    {
      "cell_type": "code",
      "source": [
        "# getting the first 3 elements of each dimension\n",
        "rank_4_tensor[:2, :2, :2, :2]"
      ],
      "metadata": {
        "colab": {
          "base_uri": "https://localhost:8080/"
        },
        "id": "LHhg15BaZC-g",
        "outputId": "cffd82dc-4c25-4365-cfe7-cf137ec76e45"
      },
      "execution_count": null,
      "outputs": [
        {
          "output_type": "execute_result",
          "data": {
            "text/plain": [
              "<tf.Tensor: shape=(2, 2, 2, 2), dtype=float32, numpy=\n",
              "array([[[[0., 0.],\n",
              "         [0., 0.]],\n",
              "\n",
              "        [[0., 0.],\n",
              "         [0., 0.]]],\n",
              "\n",
              "\n",
              "       [[[0., 0.],\n",
              "         [0., 0.]],\n",
              "\n",
              "        [[0., 0.],\n",
              "         [0., 0.]]]], dtype=float32)>"
            ]
          },
          "metadata": {},
          "execution_count": 28
        }
      ]
    },
    {
      "cell_type": "code",
      "source": [
        "# get the first element from each dimensionfrom each index except the final one\n",
        "rank_4_tensor[:1, :1, :, :1]"
      ],
      "metadata": {
        "colab": {
          "base_uri": "https://localhost:8080/"
        },
        "id": "x7xINJcJZcgw",
        "outputId": "31d38adc-0636-4a00-d7ca-6f3f97b8c5c3"
      },
      "execution_count": null,
      "outputs": [
        {
          "output_type": "execute_result",
          "data": {
            "text/plain": [
              "<tf.Tensor: shape=(1, 1, 4, 1), dtype=float32, numpy=\n",
              "array([[[[0.],\n",
              "         [0.],\n",
              "         [0.],\n",
              "         [0.]]]], dtype=float32)>"
            ]
          },
          "metadata": {},
          "execution_count": 29
        }
      ]
    },
    {
      "cell_type": "code",
      "source": [
        "# Create a rank 2 tensor\n",
        "rank_2_tensor = tf.constant([[12, 0],\n",
        "                             [3, 9]])\n",
        "rank_2_tensor.shape, rank_2_tensor.ndim"
      ],
      "metadata": {
        "id": "6ffHenuFaFrQ",
        "colab": {
          "base_uri": "https://localhost:8080/"
        },
        "outputId": "3c0f5ecb-3cf1-4411-fdfa-3af91a48d65f"
      },
      "execution_count": null,
      "outputs": [
        {
          "output_type": "execute_result",
          "data": {
            "text/plain": [
              "(TensorShape([2, 2]), 2)"
            ]
          },
          "metadata": {},
          "execution_count": 30
        }
      ]
    },
    {
      "cell_type": "code",
      "source": [
        "# to get the last item of each row of our rank_2_tensor\n",
        "rank_2_tensor[:, -1]"
      ],
      "metadata": {
        "colab": {
          "base_uri": "https://localhost:8080/"
        },
        "id": "ADpFXCGvkmOY",
        "outputId": "3d503a50-7ba0-4846-f5f2-a88fce477304"
      },
      "execution_count": null,
      "outputs": [
        {
          "output_type": "execute_result",
          "data": {
            "text/plain": [
              "<tf.Tensor: shape=(2,), dtype=int32, numpy=array([0, 9], dtype=int32)>"
            ]
          },
          "metadata": {},
          "execution_count": 31
        }
      ]
    },
    {
      "cell_type": "code",
      "source": [
        "# Add in extra dimension to our rank_2_tensor\n",
        "# i.e changing the number of dimensons while retaining the information from the\n",
        "# original tensor\n",
        "rank_3_tensor = rank_2_tensor[..., tf.newaxis]\n",
        "rank_3_tensor"
      ],
      "metadata": {
        "colab": {
          "base_uri": "https://localhost:8080/"
        },
        "id": "kHW93mjZk69P",
        "outputId": "50724750-ff91-4f93-e29d-a1dbd42e160a"
      },
      "execution_count": null,
      "outputs": [
        {
          "output_type": "execute_result",
          "data": {
            "text/plain": [
              "<tf.Tensor: shape=(2, 2, 1), dtype=int32, numpy=\n",
              "array([[[12],\n",
              "        [ 0]],\n",
              "\n",
              "       [[ 3],\n",
              "        [ 9]]], dtype=int32)>"
            ]
          },
          "metadata": {},
          "execution_count": 32
        }
      ]
    },
    {
      "cell_type": "code",
      "source": [
        "# Alternative to tf.newaxis\n",
        "tf.expand_dims(rank_2_tensor, axis=-1)  # -1 means expand the final axis"
      ],
      "metadata": {
        "colab": {
          "base_uri": "https://localhost:8080/"
        },
        "id": "63enW6hXltOR",
        "outputId": "b02f12b4-1e03-42b5-80d3-2f0e845dadd7"
      },
      "execution_count": null,
      "outputs": [
        {
          "output_type": "execute_result",
          "data": {
            "text/plain": [
              "<tf.Tensor: shape=(2, 2, 1), dtype=int32, numpy=\n",
              "array([[[12],\n",
              "        [ 0]],\n",
              "\n",
              "       [[ 3],\n",
              "        [ 9]]], dtype=int32)>"
            ]
          },
          "metadata": {},
          "execution_count": 33
        }
      ]
    },
    {
      "cell_type": "markdown",
      "source": [
        "## Manipulating Tensors (Tensor Operations)\n",
        "### Basic Operations\n",
        "* `+, -, *, /`"
      ],
      "metadata": {
        "id": "FeQJeJf9mtys"
      }
    },
    {
      "cell_type": "code",
      "source": [
        "# Using the addition operator\n",
        "tensor = tf.constant([[12, 4], [2, 3]])\n",
        "tensor + 10, tensor"
      ],
      "metadata": {
        "colab": {
          "base_uri": "https://localhost:8080/"
        },
        "id": "t-LVBrI5nMph",
        "outputId": "ecf0b517-ba70-402a-85a6-25f45d43f6a9"
      },
      "execution_count": null,
      "outputs": [
        {
          "output_type": "execute_result",
          "data": {
            "text/plain": [
              "(<tf.Tensor: shape=(2, 2), dtype=int32, numpy=\n",
              " array([[22, 14],\n",
              "        [12, 13]], dtype=int32)>,\n",
              " <tf.Tensor: shape=(2, 2), dtype=int32, numpy=\n",
              " array([[12,  4],\n",
              "        [ 2,  3]], dtype=int32)>)"
            ]
          },
          "metadata": {},
          "execution_count": 34
        }
      ]
    },
    {
      "cell_type": "code",
      "source": [
        "# Matrix multiplication in tensorflow\n",
        "tf.matmul(tensor, tensor)\n"
      ],
      "metadata": {
        "colab": {
          "base_uri": "https://localhost:8080/"
        },
        "id": "W9bu5gAVoGAe",
        "outputId": "1e168247-66f9-4854-c2d6-969f5515e748"
      },
      "execution_count": null,
      "outputs": [
        {
          "output_type": "execute_result",
          "data": {
            "text/plain": [
              "<tf.Tensor: shape=(2, 2), dtype=int32, numpy=\n",
              "array([[152,  60],\n",
              "       [ 30,  17]], dtype=int32)>"
            ]
          },
          "metadata": {},
          "execution_count": 35
        }
      ]
    },
    {
      "cell_type": "code",
      "source": [
        "tf.matmul(tf.constant([[1, 2, 5], [7, 2, 1], [3, 3, 3]]), tf.constant([[3, 5], [6, 7], [1, 8]]))"
      ],
      "metadata": {
        "colab": {
          "base_uri": "https://localhost:8080/"
        },
        "id": "G6TtU3Y-plqh",
        "outputId": "930da548-e859-4391-fb08-3e7232fd3361"
      },
      "execution_count": null,
      "outputs": [
        {
          "output_type": "execute_result",
          "data": {
            "text/plain": [
              "<tf.Tensor: shape=(3, 2), dtype=int32, numpy=\n",
              "array([[20, 59],\n",
              "       [34, 57],\n",
              "       [30, 60]], dtype=int32)>"
            ]
          },
          "metadata": {},
          "execution_count": 36
        }
      ]
    },
    {
      "cell_type": "code",
      "source": [
        "# matrix multiplication using the python '@' operator\n",
        "tensor @ tensor"
      ],
      "metadata": {
        "colab": {
          "base_uri": "https://localhost:8080/"
        },
        "id": "M481cLwcpsFn",
        "outputId": "e25da9c6-6c02-41b5-fc24-c2444ed43f8e"
      },
      "execution_count": null,
      "outputs": [
        {
          "output_type": "execute_result",
          "data": {
            "text/plain": [
              "<tf.Tensor: shape=(2, 2), dtype=int32, numpy=\n",
              "array([[152,  60],\n",
              "       [ 30,  17]], dtype=int32)>"
            ]
          },
          "metadata": {},
          "execution_count": 37
        }
      ]
    },
    {
      "cell_type": "code",
      "source": [
        "tf.transpose(tensor)"
      ],
      "metadata": {
        "colab": {
          "base_uri": "https://localhost:8080/"
        },
        "id": "8WxDOwYh7q9b",
        "outputId": "59d328f9-be84-47da-aa23-ba7c55767d32"
      },
      "execution_count": null,
      "outputs": [
        {
          "output_type": "execute_result",
          "data": {
            "text/plain": [
              "<tf.Tensor: shape=(2, 2), dtype=int32, numpy=\n",
              "array([[12,  2],\n",
              "       [ 4,  3]], dtype=int32)>"
            ]
          },
          "metadata": {},
          "execution_count": 38
        }
      ]
    },
    {
      "cell_type": "code",
      "source": [
        "X = tf.constant([[2, 4],\n",
        "                 [3, 8],\n",
        "                 [14, 5]])\n",
        "tf.reshape(X, shape=(2, 3))"
      ],
      "metadata": {
        "colab": {
          "base_uri": "https://localhost:8080/"
        },
        "id": "XeU4kt6R9W7m",
        "outputId": "7ac6af99-b2e5-494e-a3d9-8d5f13a0ee2b"
      },
      "execution_count": null,
      "outputs": [
        {
          "output_type": "execute_result",
          "data": {
            "text/plain": [
              "<tf.Tensor: shape=(2, 3), dtype=int32, numpy=\n",
              "array([[ 2,  4,  3],\n",
              "       [ 8, 14,  5]], dtype=int32)>"
            ]
          },
          "metadata": {},
          "execution_count": 39
        }
      ]
    },
    {
      "cell_type": "code",
      "source": [
        "tf.transpose(X)"
      ],
      "metadata": {
        "colab": {
          "base_uri": "https://localhost:8080/"
        },
        "id": "xKZwOQz99_01",
        "outputId": "eafcd354-be56-4b60-9dcb-fb2e4a4032eb"
      },
      "execution_count": null,
      "outputs": [
        {
          "output_type": "execute_result",
          "data": {
            "text/plain": [
              "<tf.Tensor: shape=(2, 3), dtype=int32, numpy=\n",
              "array([[ 2,  3, 14],\n",
              "       [ 4,  8,  5]], dtype=int32)>"
            ]
          },
          "metadata": {},
          "execution_count": 40
        }
      ]
    },
    {
      "cell_type": "code",
      "source": [
        "# Performing matrix multiplication using tf.tensordot()\n",
        "tf.tensordot(X, tensor, axes=1)"
      ],
      "metadata": {
        "colab": {
          "base_uri": "https://localhost:8080/"
        },
        "id": "pR_heJiE-Gnv",
        "outputId": "72e0e16d-6875-4a45-f292-0681a9db5c5e"
      },
      "execution_count": null,
      "outputs": [
        {
          "output_type": "execute_result",
          "data": {
            "text/plain": [
              "<tf.Tensor: shape=(3, 2), dtype=int32, numpy=\n",
              "array([[ 32,  20],\n",
              "       [ 52,  36],\n",
              "       [178,  71]], dtype=int32)>"
            ]
          },
          "metadata": {},
          "execution_count": 41
        }
      ]
    },
    {
      "cell_type": "markdown",
      "source": [
        "## Changing the Datatype of your tensor"
      ],
      "metadata": {
        "id": "HD9GckDJ_nPh"
      }
    },
    {
      "cell_type": "code",
      "source": [
        "# Creating a new tensor with default datatype (float32)\n",
        "B = tf.constant([1.2, 2.4, 4.8])\n",
        "B.dtype"
      ],
      "metadata": {
        "colab": {
          "base_uri": "https://localhost:8080/"
        },
        "id": "v-x74pClAwYd",
        "outputId": "c7e2acc5-cb22-4af7-c47f-66b84a27ef14"
      },
      "execution_count": null,
      "outputs": [
        {
          "output_type": "execute_result",
          "data": {
            "text/plain": [
              "tf.float32"
            ]
          },
          "metadata": {},
          "execution_count": 42
        }
      ]
    },
    {
      "cell_type": "code",
      "source": [
        "C = tf.constant([2, 3])\n",
        "C.dtype"
      ],
      "metadata": {
        "colab": {
          "base_uri": "https://localhost:8080/"
        },
        "id": "Ogt4nzyDBCXz",
        "outputId": "8bb70db1-b1c6-4dfb-a044-4963ad89d8a2"
      },
      "execution_count": null,
      "outputs": [
        {
          "output_type": "execute_result",
          "data": {
            "text/plain": [
              "tf.int32"
            ]
          },
          "metadata": {},
          "execution_count": 43
        }
      ]
    },
    {
      "cell_type": "code",
      "source": [
        "# change from float32 to float16\n",
        "D = tf.cast(B, dtype=tf.float16)\n",
        "D.dtype, D"
      ],
      "metadata": {
        "colab": {
          "base_uri": "https://localhost:8080/"
        },
        "id": "onbpiV2IBRdp",
        "outputId": "b90451a9-7d69-4c40-aaa6-94332a61a579"
      },
      "execution_count": null,
      "outputs": [
        {
          "output_type": "execute_result",
          "data": {
            "text/plain": [
              "(tf.float16,\n",
              " <tf.Tensor: shape=(3,), dtype=float16, numpy=array([1.2, 2.4, 4.8], dtype=float16)>)"
            ]
          },
          "metadata": {},
          "execution_count": 44
        }
      ]
    },
    {
      "cell_type": "code",
      "source": [
        "E = tf.cast(C, dtype=tf.float32)\n",
        "E, E.dtype"
      ],
      "metadata": {
        "colab": {
          "base_uri": "https://localhost:8080/"
        },
        "id": "A-i9HxCuCF_y",
        "outputId": "c50afa3a-ebf7-4834-9c63-9b452eebbc46"
      },
      "execution_count": null,
      "outputs": [
        {
          "output_type": "execute_result",
          "data": {
            "text/plain": [
              "(<tf.Tensor: shape=(2,), dtype=float32, numpy=array([2., 3.], dtype=float32)>,\n",
              " tf.float32)"
            ]
          },
          "metadata": {},
          "execution_count": 45
        }
      ]
    },
    {
      "cell_type": "markdown",
      "source": [
        "## Aggregating Tensors\n",
        "Aggregating tensors = condensing them from multiple values down to a smaller amount of values"
      ],
      "metadata": {
        "id": "_am31hOgCfp4"
      }
    },
    {
      "cell_type": "code",
      "source": [
        "D = tf.constant([-1, -5])\n",
        "D, tf.abs(D)"
      ],
      "metadata": {
        "colab": {
          "base_uri": "https://localhost:8080/"
        },
        "id": "4FkhiNJsC1vh",
        "outputId": "8ef558e3-f34f-4e1a-8405-25d01eda5202"
      },
      "execution_count": null,
      "outputs": [
        {
          "output_type": "execute_result",
          "data": {
            "text/plain": [
              "(<tf.Tensor: shape=(2,), dtype=int32, numpy=array([-1, -5], dtype=int32)>,\n",
              " <tf.Tensor: shape=(2,), dtype=int32, numpy=array([1, 5], dtype=int32)>)"
            ]
          },
          "metadata": {},
          "execution_count": 46
        }
      ]
    },
    {
      "cell_type": "markdown",
      "source": [
        "**Forms of aggregation**\n",
        "* find the minimum\n",
        "* find the maximum\n",
        "* find the mean\n",
        "*find the sum of a tensor"
      ],
      "metadata": {
        "id": "cVHI28U8Ds1L"
      }
    },
    {
      "cell_type": "code",
      "source": [
        "# Create a random tensor with values between 0 and 100\n",
        "T = tf.constant(np.random.randint(0, 100, size=50))\n",
        "T"
      ],
      "metadata": {
        "colab": {
          "base_uri": "https://localhost:8080/"
        },
        "id": "dAAfh8fJExeg",
        "outputId": "17ae778d-4985-41b3-c5c5-50ed45576563"
      },
      "execution_count": null,
      "outputs": [
        {
          "output_type": "execute_result",
          "data": {
            "text/plain": [
              "<tf.Tensor: shape=(50,), dtype=int64, numpy=\n",
              "array([38, 77,  9,  5, 66, 92, 90,  1, 37, 68, 38, 20, 10, 89, 58, 82, 81,\n",
              "       52, 20, 15, 80, 57, 44, 30, 80, 26, 24, 71, 18, 30, 92, 48, 80, 32,\n",
              "       34, 68, 80, 89, 54, 35, 90, 22, 82, 16, 75, 19, 52, 16, 87, 38])>"
            ]
          },
          "metadata": {},
          "execution_count": 47
        }
      ]
    },
    {
      "cell_type": "code",
      "source": [
        "# find the minimum\n",
        "tf.reduce_min(T)"
      ],
      "metadata": {
        "colab": {
          "base_uri": "https://localhost:8080/"
        },
        "id": "9cE7c5LgFJge",
        "outputId": "80bdaf76-aaf0-4394-f765-dd8322ad829a"
      },
      "execution_count": null,
      "outputs": [
        {
          "output_type": "execute_result",
          "data": {
            "text/plain": [
              "<tf.Tensor: shape=(), dtype=int64, numpy=1>"
            ]
          },
          "metadata": {},
          "execution_count": 48
        }
      ]
    },
    {
      "cell_type": "code",
      "source": [
        "# Find the maximum\n",
        "tf.reduce_max(T)"
      ],
      "metadata": {
        "colab": {
          "base_uri": "https://localhost:8080/"
        },
        "id": "AQUpoEucFS36",
        "outputId": "226a8f56-c1d5-4887-d4a7-409700bd093e"
      },
      "execution_count": null,
      "outputs": [
        {
          "output_type": "execute_result",
          "data": {
            "text/plain": [
              "<tf.Tensor: shape=(), dtype=int64, numpy=92>"
            ]
          },
          "metadata": {},
          "execution_count": 49
        }
      ]
    },
    {
      "cell_type": "code",
      "source": [
        "# find the mean\n",
        "tf.reduce_mean(T)"
      ],
      "metadata": {
        "colab": {
          "base_uri": "https://localhost:8080/"
        },
        "id": "ZFUpketfFY90",
        "outputId": "fcf0b2b2-90f2-42cd-f9af-3e7e548457f9"
      },
      "execution_count": null,
      "outputs": [
        {
          "output_type": "execute_result",
          "data": {
            "text/plain": [
              "<tf.Tensor: shape=(), dtype=int64, numpy=50>"
            ]
          },
          "metadata": {},
          "execution_count": 50
        }
      ]
    },
    {
      "cell_type": "code",
      "source": [
        "# findthe sum\n",
        "tf.reduce_sum(T)"
      ],
      "metadata": {
        "colab": {
          "base_uri": "https://localhost:8080/"
        },
        "id": "v26GbP4EFmC7",
        "outputId": "78f61ce5-8b58-49ca-a10a-b28c85f1e3ac"
      },
      "execution_count": null,
      "outputs": [
        {
          "output_type": "execute_result",
          "data": {
            "text/plain": [
              "<tf.Tensor: shape=(), dtype=int64, numpy=2517>"
            ]
          },
          "metadata": {},
          "execution_count": 51
        }
      ]
    },
    {
      "cell_type": "code",
      "source": [
        "# find the variance\n",
        "tf.math.reduce_variance(tf.cast(T, dtype=tf.float32))\n",
        "# find the standard deviation\n",
        "tf.math.reduce_std(tf.cast(T, dtype=tf.float32))"
      ],
      "metadata": {
        "colab": {
          "base_uri": "https://localhost:8080/"
        },
        "id": "SxNX7-hkFvVV",
        "outputId": "d18dabec-40ef-46f8-abf5-0b05ccdffc21"
      },
      "execution_count": null,
      "outputs": [
        {
          "output_type": "execute_result",
          "data": {
            "text/plain": [
              "<tf.Tensor: shape=(), dtype=float32, numpy=28.245075>"
            ]
          },
          "metadata": {},
          "execution_count": 52
        }
      ]
    },
    {
      "cell_type": "markdown",
      "source": [
        "### Find the positional maximum and minimum"
      ],
      "metadata": {
        "id": "pYu41xcYGYnh"
      }
    },
    {
      "cell_type": "code",
      "source": [
        "# create a new tensor for finding positional maximum and minimum\n",
        "tf.random.set_seed(42)\n",
        "F = tf.random.uniform(shape=[50])\n",
        "F"
      ],
      "metadata": {
        "colab": {
          "base_uri": "https://localhost:8080/"
        },
        "id": "Z1NoKyVaNc1I",
        "outputId": "915f9fb5-f5bb-4a05-b411-515c1fcb7701"
      },
      "execution_count": null,
      "outputs": [
        {
          "output_type": "execute_result",
          "data": {
            "text/plain": [
              "<tf.Tensor: shape=(50,), dtype=float32, numpy=\n",
              "array([0.6645621 , 0.44100678, 0.3528825 , 0.46448255, 0.03366041,\n",
              "       0.68467236, 0.74011743, 0.8724445 , 0.22632635, 0.22319686,\n",
              "       0.3103881 , 0.7223358 , 0.13318717, 0.5480639 , 0.5746088 ,\n",
              "       0.8996835 , 0.00946367, 0.5212307 , 0.6345445 , 0.1993283 ,\n",
              "       0.72942245, 0.54583454, 0.10756552, 0.6767061 , 0.6602763 ,\n",
              "       0.33695042, 0.60141766, 0.21062577, 0.8527372 , 0.44062173,\n",
              "       0.9485276 , 0.23752594, 0.81179297, 0.5263394 , 0.494308  ,\n",
              "       0.21612847, 0.8457197 , 0.8718841 , 0.3083862 , 0.6868038 ,\n",
              "       0.23764038, 0.7817228 , 0.9671384 , 0.06870162, 0.79873943,\n",
              "       0.66028714, 0.5871513 , 0.16461694, 0.7381023 , 0.32054043],\n",
              "      dtype=float32)>"
            ]
          },
          "metadata": {},
          "execution_count": 53
        }
      ]
    },
    {
      "cell_type": "code",
      "source": [
        "# find the positional max\n",
        "tf.argmax(F)"
      ],
      "metadata": {
        "colab": {
          "base_uri": "https://localhost:8080/"
        },
        "id": "-9C8rlWsObGo",
        "outputId": "52950cbd-9dd7-46bc-8be2-942ed8e7419e"
      },
      "execution_count": null,
      "outputs": [
        {
          "output_type": "execute_result",
          "data": {
            "text/plain": [
              "<tf.Tensor: shape=(), dtype=int64, numpy=42>"
            ]
          },
          "metadata": {},
          "execution_count": 54
        }
      ]
    },
    {
      "cell_type": "code",
      "source": [
        "# index on our largest value\n",
        "F[tf.argmax(F)]"
      ],
      "metadata": {
        "colab": {
          "base_uri": "https://localhost:8080/"
        },
        "id": "2tCPX6egOz_v",
        "outputId": "9c914b55-4ae0-4f22-d7d0-e1b1210d1a21"
      },
      "execution_count": null,
      "outputs": [
        {
          "output_type": "execute_result",
          "data": {
            "text/plain": [
              "<tf.Tensor: shape=(), dtype=float32, numpy=0.9671384>"
            ]
          },
          "metadata": {},
          "execution_count": 55
        }
      ]
    },
    {
      "cell_type": "code",
      "source": [
        "# find the max value of F\n",
        "tf.reduce_max(F)"
      ],
      "metadata": {
        "colab": {
          "base_uri": "https://localhost:8080/"
        },
        "id": "V_AIIA24Pcay",
        "outputId": "78de4393-ee3b-492c-c8e1-d4fa58252cba"
      },
      "execution_count": null,
      "outputs": [
        {
          "output_type": "execute_result",
          "data": {
            "text/plain": [
              "<tf.Tensor: shape=(), dtype=float32, numpy=0.9671384>"
            ]
          },
          "metadata": {},
          "execution_count": 56
        }
      ]
    },
    {
      "cell_type": "code",
      "source": [
        "# Check for equality\n",
        "assert F[tf.argmax(F)] == tf.reduce_max(F)"
      ],
      "metadata": {
        "id": "XTO-Ti49PlJ7"
      },
      "execution_count": null,
      "outputs": []
    },
    {
      "cell_type": "code",
      "source": [
        "# finding positional minimum\n",
        "tf.argmin(F)"
      ],
      "metadata": {
        "colab": {
          "base_uri": "https://localhost:8080/"
        },
        "id": "twuFRcMVP0XS",
        "outputId": "4f3eb7a6-4321-4857-e1fc-725d8be6bf14"
      },
      "execution_count": null,
      "outputs": [
        {
          "output_type": "execute_result",
          "data": {
            "text/plain": [
              "<tf.Tensor: shape=(), dtype=int64, numpy=16>"
            ]
          },
          "metadata": {},
          "execution_count": 58
        }
      ]
    },
    {
      "cell_type": "code",
      "source": [
        "F[tf.argmin(F)]"
      ],
      "metadata": {
        "colab": {
          "base_uri": "https://localhost:8080/"
        },
        "id": "Qr6UpEdeQKqV",
        "outputId": "aebeee0d-348e-4fd0-9180-8082eccedc2a"
      },
      "execution_count": null,
      "outputs": [
        {
          "output_type": "execute_result",
          "data": {
            "text/plain": [
              "<tf.Tensor: shape=(), dtype=float32, numpy=0.009463668>"
            ]
          },
          "metadata": {},
          "execution_count": 59
        }
      ]
    },
    {
      "cell_type": "markdown",
      "source": [
        "### Removing all single dimensions"
      ],
      "metadata": {
        "id": "kgLPDVGsQP9G"
      }
    },
    {
      "cell_type": "code",
      "source": [
        "tf.random.set_seed(42)\n",
        "G = tf.constant(tf.random.uniform(shape=[50]), shape=(1, 1, 1, 1, 50))\n",
        "G, G.shape"
      ],
      "metadata": {
        "colab": {
          "base_uri": "https://localhost:8080/"
        },
        "id": "JgVRaVaIQhng",
        "outputId": "d5246b5f-3cd7-4f6c-fa52-b0ddd2e1fb61"
      },
      "execution_count": null,
      "outputs": [
        {
          "output_type": "execute_result",
          "data": {
            "text/plain": [
              "(<tf.Tensor: shape=(1, 1, 1, 1, 50), dtype=float32, numpy=\n",
              " array([[[[[0.6645621 , 0.44100678, 0.3528825 , 0.46448255, 0.03366041,\n",
              "            0.68467236, 0.74011743, 0.8724445 , 0.22632635, 0.22319686,\n",
              "            0.3103881 , 0.7223358 , 0.13318717, 0.5480639 , 0.5746088 ,\n",
              "            0.8996835 , 0.00946367, 0.5212307 , 0.6345445 , 0.1993283 ,\n",
              "            0.72942245, 0.54583454, 0.10756552, 0.6767061 , 0.6602763 ,\n",
              "            0.33695042, 0.60141766, 0.21062577, 0.8527372 , 0.44062173,\n",
              "            0.9485276 , 0.23752594, 0.81179297, 0.5263394 , 0.494308  ,\n",
              "            0.21612847, 0.8457197 , 0.8718841 , 0.3083862 , 0.6868038 ,\n",
              "            0.23764038, 0.7817228 , 0.9671384 , 0.06870162, 0.79873943,\n",
              "            0.66028714, 0.5871513 , 0.16461694, 0.7381023 , 0.32054043]]]]],\n",
              "       dtype=float32)>,\n",
              " TensorShape([1, 1, 1, 1, 50]))"
            ]
          },
          "metadata": {},
          "execution_count": 60
        }
      ]
    },
    {
      "cell_type": "code",
      "source": [
        "G_squeezed = tf.squeeze(G)\n",
        "G_squeezed, G_squeezed.shape"
      ],
      "metadata": {
        "colab": {
          "base_uri": "https://localhost:8080/"
        },
        "id": "KqRC04UOQ28K",
        "outputId": "143532d2-c427-43f6-fafa-62a77ba3627f"
      },
      "execution_count": null,
      "outputs": [
        {
          "output_type": "execute_result",
          "data": {
            "text/plain": [
              "(<tf.Tensor: shape=(50,), dtype=float32, numpy=\n",
              " array([0.6645621 , 0.44100678, 0.3528825 , 0.46448255, 0.03366041,\n",
              "        0.68467236, 0.74011743, 0.8724445 , 0.22632635, 0.22319686,\n",
              "        0.3103881 , 0.7223358 , 0.13318717, 0.5480639 , 0.5746088 ,\n",
              "        0.8996835 , 0.00946367, 0.5212307 , 0.6345445 , 0.1993283 ,\n",
              "        0.72942245, 0.54583454, 0.10756552, 0.6767061 , 0.6602763 ,\n",
              "        0.33695042, 0.60141766, 0.21062577, 0.8527372 , 0.44062173,\n",
              "        0.9485276 , 0.23752594, 0.81179297, 0.5263394 , 0.494308  ,\n",
              "        0.21612847, 0.8457197 , 0.8718841 , 0.3083862 , 0.6868038 ,\n",
              "        0.23764038, 0.7817228 , 0.9671384 , 0.06870162, 0.79873943,\n",
              "        0.66028714, 0.5871513 , 0.16461694, 0.7381023 , 0.32054043],\n",
              "       dtype=float32)>,\n",
              " TensorShape([50]))"
            ]
          },
          "metadata": {},
          "execution_count": 61
        }
      ]
    },
    {
      "cell_type": "markdown",
      "source": [
        "### One-hot encoding"
      ],
      "metadata": {
        "id": "MLvxJ5NbRmzH"
      }
    },
    {
      "cell_type": "code",
      "source": [
        "# create a list of indices\n",
        "some_list = [0,1,2,3]\n",
        "\n",
        "# one-hot encode our list\n",
        "tf.one_hot(some_list, depth=4)"
      ],
      "metadata": {
        "colab": {
          "base_uri": "https://localhost:8080/"
        },
        "id": "IJKMHXANRy_x",
        "outputId": "c1ffbe98-3ea3-4e5e-f265-f0298825312e"
      },
      "execution_count": null,
      "outputs": [
        {
          "output_type": "execute_result",
          "data": {
            "text/plain": [
              "<tf.Tensor: shape=(4, 4), dtype=float32, numpy=\n",
              "array([[1., 0., 0., 0.],\n",
              "       [0., 1., 0., 0.],\n",
              "       [0., 0., 1., 0.],\n",
              "       [0., 0., 0., 1.]], dtype=float32)>"
            ]
          },
          "metadata": {},
          "execution_count": 62
        }
      ]
    },
    {
      "cell_type": "code",
      "source": [
        "# specify custom values for one-hot encoding\n",
        "tf.one_hot(some_list, on_value=\"true\", off_value=\"false\", depth=4)"
      ],
      "metadata": {
        "colab": {
          "base_uri": "https://localhost:8080/"
        },
        "id": "jRxJSQxQ1PhV",
        "outputId": "a4932c16-0948-48b4-94ba-5eec19b5ca5b"
      },
      "execution_count": null,
      "outputs": [
        {
          "output_type": "execute_result",
          "data": {
            "text/plain": [
              "<tf.Tensor: shape=(4, 4), dtype=string, numpy=\n",
              "array([[b'true', b'false', b'false', b'false'],\n",
              "       [b'false', b'true', b'false', b'false'],\n",
              "       [b'false', b'false', b'true', b'false'],\n",
              "       [b'false', b'false', b'false', b'true']], dtype=object)>"
            ]
          },
          "metadata": {},
          "execution_count": 63
        }
      ]
    },
    {
      "cell_type": "markdown",
      "source": [
        "# Finding access to GPUs"
      ],
      "metadata": {
        "id": "k1ipa-lA1gza"
      }
    },
    {
      "cell_type": "code",
      "source": [
        "tf.config.list_physical_devices()"
      ],
      "metadata": {
        "colab": {
          "base_uri": "https://localhost:8080/"
        },
        "id": "n0I-JvcF3pv6",
        "outputId": "bfd9391c-05b1-46ca-99eb-cf330e2d2661"
      },
      "execution_count": null,
      "outputs": [
        {
          "output_type": "execute_result",
          "data": {
            "text/plain": [
              "[PhysicalDevice(name='/physical_device:CPU:0', device_type='CPU')]"
            ]
          },
          "metadata": {},
          "execution_count": 64
        }
      ]
    },
    {
      "cell_type": "markdown",
      "source": [
        "# Exercises"
      ],
      "metadata": {
        "id": "EZwAKT1T35jL"
      }
    },
    {
      "cell_type": "code",
      "source": [
        "# 1. Create a vector, scalar matrix and tensor with values of your choosing using\n",
        "#    tf.constant()\n",
        "\n",
        "scalar = tf.constant(5)\n",
        "vector = tf.constant([1, 2, 4])\n",
        "matrix = tf.constant([[12, 4, 6],\n",
        "                      [4, 6, 2],\n",
        "                      [8, 24, 6]])\n",
        "tensor = tf.constant([[[2, 4, 5],\n",
        "                       [2, 7, 0]],\n",
        "                      [[3, 6, 6],\n",
        "                       [1, 1, 0]],\n",
        "                      [[5, 7, 8],\n",
        "                       [5, 7, 3]]])"
      ],
      "metadata": {
        "id": "y4KtdEmGlaew"
      },
      "execution_count": null,
      "outputs": []
    },
    {
      "cell_type": "code",
      "source": [
        "# 2. Find the shape, rank(ndim) and size of the tensors created in 1\n",
        "print(f\"Scalar\\nShape:{scalar.shape}, Rank:{scalar.ndim}, Size:{tf.size(scalar)}\")\n",
        "print(f\"Vector\\nShape:{vector.shape}, Rank:{vector.ndim}, Size:{tf.size(vector)}\")\n",
        "print(f\"Matrix\\nShape:{matrix.shape}, Rank:{matrix.ndim}, Size:{tf.size(matrix)}\")\n",
        "print(f\"Tensor\\nShape:{tensor.shape}, Rank:{tensor.ndim}, Size:{tf.size(tensor)}\")"
      ],
      "metadata": {
        "colab": {
          "base_uri": "https://localhost:8080/"
        },
        "id": "doHIeA4mmjGP",
        "outputId": "c12f1080-fed8-4def-f416-a23b0399733a"
      },
      "execution_count": null,
      "outputs": [
        {
          "output_type": "stream",
          "name": "stdout",
          "text": [
            "Scalar\n",
            "Shape:(), Rank:0, Size:1\n",
            "Vector\n",
            "Shape:(3,), Rank:1, Size:3\n",
            "Matrix\n",
            "Shape:(3, 3), Rank:2, Size:9\n",
            "Tensor\n",
            "Shape:(3, 2, 3), Rank:3, Size:18\n"
          ]
        }
      ]
    },
    {
      "cell_type": "code",
      "source": [
        "# 3. Create two tensors containing random values between 0 and 1 with shape [5, 300]\n",
        "tensor_a = tf.constant(tf.random.uniform(shape=[5, 300], minval=0, maxval=1))\n",
        "tensor_b = tf.constant(tf.random.uniform(shape=[5, 300], minval=0, maxval=1))\n",
        "tensor_a, tensor_b"
      ],
      "metadata": {
        "colab": {
          "base_uri": "https://localhost:8080/"
        },
        "id": "1vH7V8knnS6T",
        "outputId": "8d73ad75-7005-49e3-c309-bd314e61ac69"
      },
      "execution_count": null,
      "outputs": [
        {
          "output_type": "execute_result",
          "data": {
            "text/plain": [
              "(<tf.Tensor: shape=(5, 300), dtype=float32, numpy=\n",
              " array([[0.7413678 , 0.62854624, 0.01738465, ..., 0.4851334 , 0.21059811,\n",
              "         0.25082767],\n",
              "        [0.10842848, 0.48783147, 0.8240961 , ..., 0.9204427 , 0.36046863,\n",
              "         0.28176582],\n",
              "        [0.7326695 , 0.46489418, 0.13622475, ..., 0.28130388, 0.63987684,\n",
              "         0.9987265 ],\n",
              "        [0.01447165, 0.7845044 , 0.33475304, ..., 0.56194997, 0.0209924 ,\n",
              "         0.1740731 ],\n",
              "        [0.90936875, 0.19861352, 0.9481231 , ..., 0.3573054 , 0.13161755,\n",
              "         0.22565222]], dtype=float32)>,\n",
              " <tf.Tensor: shape=(5, 300), dtype=float32, numpy=\n",
              " array([[0.7402308 , 0.33938193, 0.5692506 , ..., 0.08656633, 0.19666708,\n",
              "         0.7110305 ],\n",
              "        [0.13257599, 0.81292987, 0.01284087, ..., 0.02695906, 0.2927854 ,\n",
              "         0.06227863],\n",
              "        [0.282601  , 0.47868013, 0.77569485, ..., 0.28239357, 0.632112  ,\n",
              "         0.44452012],\n",
              "        [0.02029276, 0.7841259 , 0.16919017, ..., 0.26143157, 0.43055534,\n",
              "         0.47421408],\n",
              "        [0.2616079 , 0.00913954, 0.20257103, ..., 0.3548187 , 0.9939178 ,\n",
              "         0.35239196]], dtype=float32)>)"
            ]
          },
          "metadata": {},
          "execution_count": 74
        }
      ]
    },
    {
      "cell_type": "code",
      "source": [
        "# 4. Multiply the two matrices in 3 using matrix multiplication\n",
        "tf.matmul(tensor_a, tf.transpose(tensor_b))"
      ],
      "metadata": {
        "colab": {
          "base_uri": "https://localhost:8080/"
        },
        "id": "WoQd82PBrRcy",
        "outputId": "2819f574-36a3-457d-c1f3-53dc288fadc2"
      },
      "execution_count": null,
      "outputs": [
        {
          "output_type": "execute_result",
          "data": {
            "text/plain": [
              "<tf.Tensor: shape=(5, 5), dtype=float32, numpy=\n",
              "array([[72.63513 , 73.275154, 72.47874 , 73.895355, 77.06909 ],\n",
              "       [76.148026, 77.38722 , 76.156006, 78.4779  , 77.93587 ],\n",
              "       [74.061386, 75.79873 , 74.00405 , 74.954445, 74.857666],\n",
              "       [72.6186  , 77.07387 , 72.674484, 75.91608 , 73.15646 ],\n",
              "       [74.65547 , 76.221756, 75.43701 , 76.92053 , 76.65762 ]],\n",
              "      dtype=float32)>"
            ]
          },
          "metadata": {},
          "execution_count": 75
        }
      ]
    },
    {
      "cell_type": "code",
      "source": [
        "# 5. Multiply the two matrices in 3 using dot product\n",
        "tf.tensordot(tensor_a, tf.transpose(tensor_b), axes=1)"
      ],
      "metadata": {
        "colab": {
          "base_uri": "https://localhost:8080/"
        },
        "id": "XjK6Lp5JsffD",
        "outputId": "cfc73594-e00c-4404-f55f-9e0458ac29b8"
      },
      "execution_count": null,
      "outputs": [
        {
          "output_type": "execute_result",
          "data": {
            "text/plain": [
              "<tf.Tensor: shape=(5, 5), dtype=float32, numpy=\n",
              "array([[72.63513 , 73.275154, 72.47874 , 73.895355, 77.06909 ],\n",
              "       [76.148026, 77.38722 , 76.156006, 78.4779  , 77.93587 ],\n",
              "       [74.061386, 75.79873 , 74.00405 , 74.954445, 74.857666],\n",
              "       [72.6186  , 77.07387 , 72.674484, 75.91608 , 73.15646 ],\n",
              "       [74.65547 , 76.221756, 75.43701 , 76.92053 , 76.65762 ]],\n",
              "      dtype=float32)>"
            ]
          },
          "metadata": {},
          "execution_count": 76
        }
      ]
    },
    {
      "cell_type": "code",
      "source": [
        "# 6. Create a tensor with random values from 0 to 1 with shape [224, 224, 3]\n",
        "tensor_c = tf.constant(tf.random.uniform(shape=[224, 224, 3], minval=0, maxval=1))\n",
        "tensor_c"
      ],
      "metadata": {
        "colab": {
          "base_uri": "https://localhost:8080/"
        },
        "id": "15Pn-f5as1vw",
        "outputId": "ea82aec3-71d4-4640-dc46-bcc9621712d6"
      },
      "execution_count": null,
      "outputs": [
        {
          "output_type": "execute_result",
          "data": {
            "text/plain": [
              "<tf.Tensor: shape=(224, 224, 3), dtype=float32, numpy=\n",
              "array([[[8.0315602e-01, 4.9777734e-01, 3.7054038e-01],\n",
              "        [9.1186738e-01, 6.3764203e-01, 1.8209696e-01],\n",
              "        [6.3791955e-01, 2.7701473e-01, 4.2271137e-02],\n",
              "        ...,\n",
              "        [1.0830712e-01, 4.5979273e-01, 2.5716281e-01],\n",
              "        [8.7138689e-01, 1.8434000e-01, 4.4757760e-01],\n",
              "        [7.4110627e-02, 9.0852141e-01, 5.3693414e-01]],\n",
              "\n",
              "       [[5.5596435e-01, 6.8776274e-01, 7.6051474e-02],\n",
              "        [1.6737962e-01, 7.1785092e-01, 2.7642274e-01],\n",
              "        [2.6995218e-01, 3.2203627e-01, 8.8224900e-01],\n",
              "        ...,\n",
              "        [4.8168826e-01, 5.0150025e-01, 8.6756039e-01],\n",
              "        [4.1261053e-01, 1.2770486e-01, 5.8186901e-01],\n",
              "        [2.5495613e-01, 3.9036548e-01, 9.8529553e-01]],\n",
              "\n",
              "       [[8.0935180e-01, 1.9740558e-01, 3.5899937e-01],\n",
              "        [1.1216915e-01, 9.1016293e-04, 3.6382091e-01],\n",
              "        [5.1202202e-01, 3.9188230e-01, 8.8335538e-01],\n",
              "        ...,\n",
              "        [2.0133841e-01, 9.1663551e-01, 1.9890130e-01],\n",
              "        [8.0388057e-01, 3.9227080e-01, 2.9688942e-01],\n",
              "        [8.9319050e-01, 2.9692888e-01, 2.6492047e-01]],\n",
              "\n",
              "       ...,\n",
              "\n",
              "       [[7.3653197e-01, 5.9242892e-01, 8.1022096e-01],\n",
              "        [3.2385099e-01, 9.4225824e-01, 8.4279275e-01],\n",
              "        [5.2548873e-01, 8.8999271e-02, 1.2152910e-01],\n",
              "        ...,\n",
              "        [4.4721401e-01, 2.0952868e-01, 9.3782067e-02],\n",
              "        [5.1644707e-01, 7.4352753e-01, 7.4530303e-01],\n",
              "        [4.3693781e-03, 1.0793984e-01, 1.7783213e-01]],\n",
              "\n",
              "       [[7.6054347e-01, 8.0798697e-01, 3.9492905e-01],\n",
              "        [4.0577006e-01, 9.6265435e-02, 8.8253260e-01],\n",
              "        [6.7700970e-01, 7.8380144e-01, 9.3841922e-01],\n",
              "        ...,\n",
              "        [3.1409883e-01, 2.0651186e-01, 5.1043892e-01],\n",
              "        [6.6967010e-02, 3.1983531e-01, 7.4677360e-01],\n",
              "        [7.0548081e-01, 8.2629704e-01, 7.0540214e-01]],\n",
              "\n",
              "       [[6.4126742e-01, 5.8223104e-01, 5.1815867e-02],\n",
              "        [6.2203467e-01, 5.7224095e-01, 9.0543139e-01],\n",
              "        [9.6411026e-01, 2.6061213e-01, 7.4845552e-02],\n",
              "        ...,\n",
              "        [5.8922923e-01, 1.2655807e-01, 7.0523393e-01],\n",
              "        [9.5485377e-01, 6.6495812e-01, 6.4105380e-01],\n",
              "        [4.4474745e-01, 9.7424459e-01, 9.1788459e-01]]], dtype=float32)>"
            ]
          },
          "metadata": {},
          "execution_count": 77
        }
      ]
    },
    {
      "cell_type": "code",
      "source": [
        "# 7. Find the min and max values of the tensor created in 6\n",
        "min = tf.reduce_min(tensor_c, axis=1)\n",
        "max = tf.reduce_max(tensor_c, axis=1)\n",
        "\n",
        "min, max"
      ],
      "metadata": {
        "colab": {
          "base_uri": "https://localhost:8080/"
        },
        "id": "m65seRJ-vKG5",
        "outputId": "b1fd3970-1a06-4d2c-f0f8-e8cfb08e7faf"
      },
      "execution_count": null,
      "outputs": [
        {
          "output_type": "execute_result",
          "data": {
            "text/plain": [
              "(<tf.Tensor: shape=(224, 3), dtype=float32, numpy=\n",
              " array([[1.10803843e-02, 1.02496147e-02, 6.97255135e-04],\n",
              "        [3.66926193e-04, 6.02853298e-03, 4.84395027e-03],\n",
              "        [8.86380672e-03, 9.10162926e-04, 6.86645508e-05],\n",
              "        [1.87039375e-04, 1.58452988e-03, 5.38277626e-03],\n",
              "        [8.89182091e-04, 3.49676609e-03, 4.27591801e-03],\n",
              "        [3.31401825e-05, 1.68085098e-04, 9.56428051e-03],\n",
              "        [4.85968590e-03, 2.46119499e-03, 1.16758347e-02],\n",
              "        [6.48498535e-05, 4.37498093e-05, 2.20274925e-03],\n",
              "        [1.88767910e-03, 1.06034279e-02, 2.22861767e-03],\n",
              "        [4.14001942e-03, 6.28113747e-03, 8.30888748e-04],\n",
              "        [1.28412247e-03, 7.01785088e-04, 1.09546185e-02],\n",
              "        [5.67162037e-03, 7.28201866e-03, 4.90629673e-03],\n",
              "        [8.90970230e-03, 3.02195549e-04, 5.37037849e-03],\n",
              "        [9.31501389e-04, 5.12826443e-03, 4.44579124e-03],\n",
              "        [1.33991241e-03, 2.27785110e-03, 4.25422192e-03],\n",
              "        [1.10207796e-02, 5.41090965e-04, 4.89103794e-03],\n",
              "        [4.62865829e-03, 1.92129612e-03, 4.76241112e-04],\n",
              "        [1.17182732e-04, 1.88136101e-02, 1.88684464e-03],\n",
              "        [9.84668732e-04, 3.06367874e-03, 5.50675392e-03],\n",
              "        [1.32620335e-03, 8.44001770e-04, 1.92904472e-03],\n",
              "        [7.59720802e-04, 1.16443634e-03, 1.73211098e-04],\n",
              "        [7.14385509e-03, 2.13456154e-03, 3.17335129e-03],\n",
              "        [4.10616398e-03, 8.13865662e-03, 4.24611568e-03],\n",
              "        [6.99877739e-04, 7.23993778e-03, 2.76553631e-03],\n",
              "        [7.84528255e-03, 7.40313530e-03, 2.54392624e-03],\n",
              "        [5.33580780e-03, 4.36651707e-03, 2.01261044e-03],\n",
              "        [5.39731979e-03, 1.07812881e-03, 1.36957169e-02],\n",
              "        [2.68113613e-03, 2.25782394e-03, 1.08611584e-03],\n",
              "        [2.46727467e-03, 1.15919113e-03, 8.44252110e-03],\n",
              "        [8.84509087e-03, 1.21188164e-03, 2.81620026e-03],\n",
              "        [2.06828117e-03, 2.96425819e-03, 6.35027885e-04],\n",
              "        [2.34174728e-03, 2.19786167e-03, 2.30145454e-03],\n",
              "        [2.08663940e-02, 2.55632401e-03, 1.90639496e-03],\n",
              "        [9.64879990e-04, 7.37023354e-03, 3.33166122e-03],\n",
              "        [1.64413452e-03, 1.39236450e-04, 8.95142555e-03],\n",
              "        [1.69765949e-03, 5.05769253e-03, 3.73721123e-03],\n",
              "        [2.98643112e-03, 1.22146606e-02, 3.66091728e-03],\n",
              "        [2.44984627e-02, 1.22539997e-02, 5.32233715e-03],\n",
              "        [1.58405304e-03, 4.02331352e-04, 4.04715538e-04],\n",
              "        [2.43067741e-03, 9.46998596e-04, 1.27807856e-02],\n",
              "        [2.74538994e-04, 6.29520416e-03, 8.67593288e-03],\n",
              "        [3.97408009e-03, 6.15632534e-03, 5.39004803e-03],\n",
              "        [5.23066521e-03, 1.33919716e-03, 1.73101425e-02],\n",
              "        [1.58905983e-03, 1.57237053e-04, 3.47292423e-03],\n",
              "        [1.12017393e-02, 3.80706787e-03, 2.95424461e-02],\n",
              "        [6.23893738e-03, 4.20212746e-04, 6.39307499e-03],\n",
              "        [8.15749168e-03, 6.09600544e-03, 1.53867006e-02],\n",
              "        [2.43294239e-03, 1.54972076e-05, 1.79362297e-03],\n",
              "        [1.91056728e-03, 1.07431412e-03, 2.30431557e-04],\n",
              "        [8.59808922e-03, 1.24692917e-04, 7.22408295e-04],\n",
              "        [8.88931751e-03, 3.45683098e-03, 2.66528130e-03],\n",
              "        [1.83570385e-03, 6.00850582e-03, 8.67366791e-04],\n",
              "        [3.47864628e-03, 4.35113907e-04, 5.75006008e-03],\n",
              "        [8.48531723e-03, 2.10380554e-03, 2.83348560e-03],\n",
              "        [1.83641911e-03, 1.16050243e-03, 5.34844398e-03],\n",
              "        [1.52909756e-03, 2.28941441e-03, 1.62410736e-03],\n",
              "        [2.49159336e-03, 5.55038452e-04, 4.00817394e-03],\n",
              "        [7.88807869e-04, 2.31158733e-03, 2.84540653e-03],\n",
              "        [1.11567974e-03, 4.97531891e-03, 1.52933598e-03],\n",
              "        [3.74317169e-04, 1.01244450e-03, 4.27663326e-03],\n",
              "        [8.92400742e-04, 7.50863552e-03, 1.03867054e-02],\n",
              "        [8.30769539e-03, 5.77569008e-04, 9.00542736e-03],\n",
              "        [8.96108150e-03, 3.77297401e-04, 1.17504597e-03],\n",
              "        [9.08458233e-03, 3.01361084e-04, 1.03299618e-02],\n",
              "        [4.21357155e-03, 3.01051140e-03, 2.05922127e-03],\n",
              "        [3.06963921e-03, 1.74522400e-03, 1.24279261e-02],\n",
              "        [1.15300417e-02, 4.95433807e-04, 1.21951103e-04],\n",
              "        [5.16605377e-03, 4.29987907e-04, 1.69289112e-03],\n",
              "        [1.79204941e-02, 3.40294838e-03, 2.03728676e-03],\n",
              "        [4.42862511e-04, 1.09817982e-02, 8.59141350e-04],\n",
              "        [6.63924217e-03, 2.23255157e-03, 6.91866875e-03],\n",
              "        [2.62379646e-04, 5.22017479e-04, 7.97533989e-03],\n",
              "        [1.85588598e-02, 7.08520412e-03, 6.76631927e-04],\n",
              "        [8.22103024e-03, 1.07800961e-03, 1.94531679e-02],\n",
              "        [7.62593746e-03, 6.96492195e-03, 1.52719021e-03],\n",
              "        [7.88545609e-03, 1.45655870e-02, 1.66913271e-02],\n",
              "        [2.75731087e-04, 1.19967461e-02, 1.53779984e-04],\n",
              "        [5.75232506e-03, 2.41994858e-04, 7.20179081e-03],\n",
              "        [6.87718391e-03, 6.51466846e-03, 3.46136093e-03],\n",
              "        [1.87993050e-04, 2.19821930e-03, 4.37521935e-03],\n",
              "        [1.15922689e-02, 1.12818480e-02, 1.73687935e-03],\n",
              "        [3.84807587e-04, 3.01110744e-03, 3.47125530e-03],\n",
              "        [1.88148022e-03, 5.88965416e-03, 2.39968300e-03],\n",
              "        [2.09105015e-03, 2.84683704e-03, 1.75452232e-03],\n",
              "        [2.28059292e-03, 2.64525414e-04, 8.00848007e-03],\n",
              "        [7.55429268e-04, 5.16033173e-03, 3.91840935e-04],\n",
              "        [8.13663006e-03, 4.20749187e-03, 2.58207321e-04],\n",
              "        [1.19614601e-03, 2.97594070e-03, 1.80327892e-03],\n",
              "        [3.31842899e-03, 3.92568111e-03, 8.67283344e-03],\n",
              "        [1.19749308e-02, 1.75845623e-03, 4.27186489e-03],\n",
              "        [1.88386440e-03, 3.63492966e-03, 1.06060505e-02],\n",
              "        [1.17856264e-02, 9.23800468e-03, 3.40449810e-03],\n",
              "        [8.48603249e-03, 1.07601881e-02, 2.20060349e-03],\n",
              "        [7.12490082e-03, 2.11465359e-03, 2.59947777e-03],\n",
              "        [6.02245331e-04, 3.19719315e-04, 1.84752941e-02],\n",
              "        [9.19103622e-04, 7.02798367e-03, 1.35946274e-03],\n",
              "        [1.83701515e-04, 8.05854797e-04, 2.90966034e-03],\n",
              "        [1.14858150e-03, 6.24978542e-03, 2.67028809e-04],\n",
              "        [2.20859051e-03, 7.27701187e-03, 1.38829947e-02],\n",
              "        [8.33272934e-05, 3.52311134e-03, 3.83937359e-03],\n",
              "        [8.80193710e-03, 3.69691849e-03, 1.17921829e-03],\n",
              "        [7.42185116e-03, 1.26873255e-02, 7.24315643e-04],\n",
              "        [2.92539597e-04, 1.35719776e-02, 1.77621841e-03],\n",
              "        [8.62240791e-04, 7.07209110e-03, 4.06515598e-03],\n",
              "        [1.44982338e-03, 5.50842285e-03, 1.63745880e-02],\n",
              "        [5.55872917e-03, 2.41208076e-03, 2.16126442e-04],\n",
              "        [1.70326233e-03, 3.96168232e-03, 3.87978554e-03],\n",
              "        [1.87945366e-03, 9.50562954e-03, 2.35676765e-03],\n",
              "        [8.20100307e-03, 7.42316246e-04, 4.68492508e-04],\n",
              "        [2.26652622e-03, 3.85522842e-04, 6.39629364e-03],\n",
              "        [1.37186050e-03, 2.14076042e-03, 2.20727921e-03],\n",
              "        [4.03320789e-03, 9.71269608e-03, 1.18446350e-03],\n",
              "        [1.41118765e-02, 1.85322762e-03, 6.92188740e-03],\n",
              "        [1.29973888e-03, 3.21984291e-04, 5.22768497e-03],\n",
              "        [7.54892826e-03, 6.23941422e-04, 9.77945328e-03],\n",
              "        [4.90033627e-03, 4.50789928e-03, 4.56213951e-03],\n",
              "        [2.32696533e-04, 6.32584095e-03, 5.86962700e-03],\n",
              "        [6.68263435e-03, 8.86750221e-03, 5.77378273e-03],\n",
              "        [1.98519230e-03, 3.17859650e-03, 1.59263611e-03],\n",
              "        [1.67250633e-03, 7.87258148e-04, 1.29206181e-02],\n",
              "        [1.19413137e-02, 2.63810158e-04, 1.47819519e-05],\n",
              "        [1.53577328e-03, 7.49826431e-05, 5.84685802e-03],\n",
              "        [6.66415691e-03, 2.75409222e-03, 4.92167473e-03],\n",
              "        [1.32684708e-02, 5.15699387e-03, 8.71753693e-03],\n",
              "        [6.77227974e-04, 2.28941441e-03, 6.50441647e-03],\n",
              "        [8.59260559e-03, 4.02927399e-05, 4.89401817e-03],\n",
              "        [1.94787979e-04, 1.15327835e-02, 2.68304348e-03],\n",
              "        [3.61287594e-03, 9.01460648e-04, 2.75659561e-03],\n",
              "        [1.64270401e-03, 3.80825996e-03, 1.10547543e-02],\n",
              "        [7.24411011e-03, 6.57594204e-03, 1.87885761e-03],\n",
              "        [3.23367119e-03, 4.22537327e-03, 2.39861012e-03],\n",
              "        [6.08682632e-04, 2.60043144e-03, 1.16647482e-02],\n",
              "        [2.84850597e-03, 2.52115726e-03, 5.45656681e-03],\n",
              "        [3.02159786e-03, 3.36647034e-03, 7.27653503e-04],\n",
              "        [3.35216522e-04, 1.54900551e-03, 4.81104851e-03],\n",
              "        [9.37461853e-04, 1.63447857e-03, 9.16838646e-04],\n",
              "        [4.05263901e-03, 3.06844711e-04, 3.34572792e-03],\n",
              "        [8.38243961e-03, 1.31082535e-03, 5.73575497e-03],\n",
              "        [5.00786304e-03, 2.22146511e-03, 2.43818760e-03],\n",
              "        [1.57582760e-03, 8.83340836e-03, 1.43921375e-03],\n",
              "        [1.64556503e-03, 1.45721436e-03, 4.49824333e-03],\n",
              "        [1.76932812e-02, 1.62760019e-02, 3.07106972e-03],\n",
              "        [8.16679001e-03, 8.38029385e-03, 5.48481941e-03],\n",
              "        [2.32946873e-03, 3.80945206e-03, 4.97412682e-03],\n",
              "        [6.43861294e-03, 9.84668732e-03, 1.00512505e-02],\n",
              "        [7.35926628e-03, 6.40153885e-05, 7.43007660e-03],\n",
              "        [1.78062916e-03, 6.14750385e-03, 5.09941578e-03],\n",
              "        [1.14094019e-02, 1.49559975e-03, 3.45706940e-04],\n",
              "        [3.34680080e-03, 2.50506401e-03, 1.42053366e-02],\n",
              "        [3.34072113e-03, 6.14881516e-04, 1.81078911e-04],\n",
              "        [2.16782093e-03, 3.77893448e-04, 9.23156738e-04],\n",
              "        [2.86674500e-03, 2.48849392e-03, 1.13487244e-04],\n",
              "        [3.21996212e-03, 2.63810158e-04, 5.37395477e-04],\n",
              "        [8.31723213e-04, 2.47073174e-03, 3.35061550e-03],\n",
              "        [3.39055061e-03, 9.48309898e-04, 8.95094872e-03],\n",
              "        [1.44624710e-03, 3.91185284e-03, 1.74045563e-03],\n",
              "        [2.94327736e-03, 5.57351112e-03, 1.39129162e-03],\n",
              "        [3.19910049e-03, 6.35743141e-04, 1.37376785e-03],\n",
              "        [5.12731075e-03, 1.39927864e-02, 2.72822380e-03],\n",
              "        [7.04061985e-03, 1.12063885e-02, 3.10492516e-03],\n",
              "        [3.19528580e-03, 3.31199169e-03, 5.83934784e-03],\n",
              "        [5.37407398e-03, 9.68241692e-03, 1.50531530e-02],\n",
              "        [3.26609612e-03, 9.74059105e-04, 8.09717178e-03],\n",
              "        [2.68709660e-03, 6.54470921e-03, 2.35152245e-03],\n",
              "        [2.59995461e-04, 4.68969345e-04, 8.97049904e-03],\n",
              "        [8.37326050e-04, 9.23645496e-03, 1.48081779e-03],\n",
              "        [3.42619419e-03, 5.07831573e-04, 5.17189503e-03],\n",
              "        [4.70638275e-03, 3.96347046e-03, 1.55373812e-02],\n",
              "        [5.33711910e-03, 8.74531269e-03, 1.12915039e-03],\n",
              "        [2.21014023e-03, 1.55174732e-03, 4.55379486e-05],\n",
              "        [2.80737877e-04, 2.15911865e-03, 8.58294964e-03],\n",
              "        [7.83336163e-03, 1.77659988e-02, 2.86221504e-03],\n",
              "        [2.04825401e-03, 2.60591507e-04, 5.53119183e-03],\n",
              "        [2.45606899e-03, 3.17060947e-03, 7.26306438e-03],\n",
              "        [1.51634216e-04, 3.01444530e-03, 1.29580498e-03],\n",
              "        [4.88877296e-04, 2.73942947e-04, 8.13627243e-03],\n",
              "        [2.78067589e-03, 6.42538071e-05, 5.04159927e-03],\n",
              "        [1.06501579e-03, 8.17096233e-03, 1.21212006e-03],\n",
              "        [8.91923904e-04, 6.55150414e-03, 6.08086586e-04],\n",
              "        [2.26712227e-03, 2.90572643e-03, 1.08858347e-02],\n",
              "        [7.61222839e-03, 3.65543365e-03, 1.87474489e-02],\n",
              "        [7.11321831e-04, 4.11868095e-04, 4.72462177e-03],\n",
              "        [1.30964518e-02, 1.09556913e-02, 3.40402126e-03],\n",
              "        [5.54168224e-03, 2.36511230e-03, 1.78468227e-03],\n",
              "        [6.28709793e-04, 9.92679596e-03, 2.20870972e-03],\n",
              "        [3.92174721e-03, 7.64191151e-03, 7.96794891e-04],\n",
              "        [3.71229649e-03, 2.93576717e-03, 8.98957253e-03],\n",
              "        [6.47306442e-05, 9.08529758e-03, 9.26017761e-04],\n",
              "        [1.56319141e-03, 1.25157833e-02, 3.06189060e-03],\n",
              "        [6.74676895e-03, 4.35519218e-03, 4.74357605e-03],\n",
              "        [1.32048130e-03, 3.05783749e-03, 1.81007385e-03],\n",
              "        [1.13618374e-03, 4.45199013e-03, 1.75666809e-02],\n",
              "        [6.80518150e-03, 3.50236893e-04, 8.04448128e-03],\n",
              "        [1.95753574e-03, 4.87148762e-03, 7.87603855e-03],\n",
              "        [2.59721279e-03, 3.02565098e-03, 9.82880592e-04],\n",
              "        [3.88586521e-03, 5.55729866e-03, 6.60181046e-04],\n",
              "        [2.43330002e-03, 1.27971172e-03, 1.37714148e-02],\n",
              "        [3.08263302e-03, 3.08454037e-03, 8.10861588e-04],\n",
              "        [2.75444984e-03, 2.62343884e-03, 2.68697739e-03],\n",
              "        [7.66301155e-03, 2.04740763e-02, 7.12835789e-03],\n",
              "        [8.58223438e-03, 3.73864174e-03, 6.24597073e-03],\n",
              "        [9.11521912e-03, 5.23567200e-04, 7.61008263e-03],\n",
              "        [1.32381916e-03, 1.98304653e-03, 1.63955688e-02],\n",
              "        [6.53386116e-04, 9.41395760e-04, 5.88178635e-04],\n",
              "        [6.07633591e-03, 3.07703018e-03, 6.95943832e-04],\n",
              "        [4.54437733e-03, 6.30033016e-03, 8.87429714e-03],\n",
              "        [7.80117512e-03, 2.44438648e-03, 7.96473026e-03],\n",
              "        [2.24518776e-03, 1.09950304e-02, 4.34029102e-03],\n",
              "        [2.03967094e-04, 7.89737701e-03, 3.02588940e-03],\n",
              "        [6.55627251e-03, 5.57780266e-04, 2.84481049e-03],\n",
              "        [1.79052353e-04, 2.50816345e-03, 2.98380852e-03],\n",
              "        [5.39839268e-03, 1.06275082e-03, 2.59280205e-04],\n",
              "        [3.88538837e-03, 2.96735764e-03, 7.88021088e-03],\n",
              "        [1.00040436e-03, 3.39508057e-04, 4.50563431e-03],\n",
              "        [3.92818451e-03, 2.39253044e-04, 1.09434128e-03],\n",
              "        [9.00137424e-03, 5.23948669e-03, 5.52415848e-04],\n",
              "        [2.87699699e-03, 3.47065926e-03, 9.20295715e-05],\n",
              "        [5.30445576e-03, 1.48272514e-03, 6.09052181e-03],\n",
              "        [1.42693520e-04, 2.94959545e-03, 5.16164303e-03],\n",
              "        [7.64822960e-03, 1.41143799e-04, 1.81162357e-03],\n",
              "        [6.40988350e-04, 4.12821770e-03, 1.72793865e-03],\n",
              "        [3.90315056e-03, 1.18279457e-03, 2.42221355e-03],\n",
              "        [5.21063805e-04, 1.44612789e-03, 9.25171375e-03],\n",
              "        [1.43003464e-03, 4.97078896e-03, 2.52997875e-03]], dtype=float32)>,\n",
              " <tf.Tensor: shape=(224, 3), dtype=float32, numpy=\n",
              " array([[0.9967668 , 0.98945487, 0.99522185],\n",
              "        [0.9966396 , 0.996575  , 0.994668  ],\n",
              "        [0.9972496 , 0.9928163 , 0.9929354 ],\n",
              "        [0.9999273 , 0.99630845, 0.99556243],\n",
              "        [0.9978795 , 0.9981626 , 0.9880016 ],\n",
              "        [0.9983088 , 0.9975748 , 0.99935305],\n",
              "        [0.9982828 , 0.99923384, 0.9959214 ],\n",
              "        [0.9901577 , 0.98445237, 0.99297345],\n",
              "        [0.99237657, 0.9954705 , 0.999362  ],\n",
              "        [0.9967642 , 0.97973526, 0.9981868 ],\n",
              "        [0.9995266 , 0.9995254 , 0.99920833],\n",
              "        [0.9997618 , 0.99943125, 0.9798409 ],\n",
              "        [0.99953353, 0.9984261 , 0.99613595],\n",
              "        [0.9998963 , 0.99567866, 0.99894536],\n",
              "        [0.9975736 , 0.99079704, 0.9978955 ],\n",
              "        [0.99926376, 0.99873924, 0.999768  ],\n",
              "        [0.9963157 , 0.99567676, 0.99945056],\n",
              "        [0.9989797 , 0.9905093 , 0.9974258 ],\n",
              "        [0.99462783, 0.9966128 , 0.99975467],\n",
              "        [0.99731755, 0.99944544, 0.9947181 ],\n",
              "        [0.99702585, 0.99486756, 0.9964547 ],\n",
              "        [0.9985814 , 0.99626696, 0.9998832 ],\n",
              "        [0.9897382 , 0.99721646, 0.9946197 ],\n",
              "        [0.9973222 , 0.9995965 , 0.99574447],\n",
              "        [0.9938595 , 0.995525  , 0.99981844],\n",
              "        [0.99846864, 0.99949014, 0.9997128 ],\n",
              "        [0.99769187, 0.9980782 , 0.9877937 ],\n",
              "        [0.9999949 , 0.9996902 , 0.9929136 ],\n",
              "        [0.99874747, 0.99153185, 0.9954592 ],\n",
              "        [0.99904764, 0.9990926 , 0.99936426],\n",
              "        [0.9973867 , 0.9953898 , 0.9938649 ],\n",
              "        [0.9981798 , 0.99296725, 0.9924586 ],\n",
              "        [0.9981278 , 0.9989916 , 0.9995116 ],\n",
              "        [0.9982358 , 0.9989213 , 0.9833479 ],\n",
              "        [0.9919764 , 0.99960446, 0.9919139 ],\n",
              "        [0.99747396, 0.986696  , 0.9966872 ],\n",
              "        [0.9733708 , 0.99915993, 0.99781513],\n",
              "        [0.9853394 , 0.99926436, 0.9949515 ],\n",
              "        [0.9978055 , 0.99730146, 0.9986166 ],\n",
              "        [0.9986479 , 0.98716676, 0.996058  ],\n",
              "        [0.99668753, 0.99843097, 0.9972842 ],\n",
              "        [0.99939024, 0.9991871 , 0.99538815],\n",
              "        [0.9974817 , 0.99652255, 0.9995506 ],\n",
              "        [0.99564314, 0.9950869 , 0.9979539 ],\n",
              "        [0.9895443 , 0.99562025, 0.99137187],\n",
              "        [0.99880695, 0.9995072 , 0.9914013 ],\n",
              "        [0.99718285, 0.99918175, 0.9983151 ],\n",
              "        [0.99766016, 0.99955535, 0.9915979 ],\n",
              "        [0.9882164 , 0.99842584, 0.9986702 ],\n",
              "        [0.99678314, 0.99415755, 0.98905253],\n",
              "        [0.9818144 , 0.99193096, 0.9973526 ],\n",
              "        [0.99592066, 0.9992411 , 0.9962127 ],\n",
              "        [0.99905586, 0.9946896 , 0.99334455],\n",
              "        [0.99577796, 0.995842  , 0.9947442 ],\n",
              "        [0.99857986, 0.9993957 , 0.99522686],\n",
              "        [0.99480915, 0.9992678 , 0.9931209 ],\n",
              "        [0.99399424, 0.99848926, 0.9948578 ],\n",
              "        [0.9790033 , 0.99318707, 0.9915707 ],\n",
              "        [0.99839914, 0.9873785 , 0.9850843 ],\n",
              "        [0.99355423, 0.99849594, 0.99970174],\n",
              "        [0.9979584 , 0.99495363, 0.9965588 ],\n",
              "        [0.9986787 , 0.99115515, 0.99949837],\n",
              "        [0.9963374 , 0.9934559 , 0.9984219 ],\n",
              "        [0.9972904 , 0.9997095 , 0.98702633],\n",
              "        [0.99567866, 0.9904108 , 0.9937352 ],\n",
              "        [0.9985701 , 0.99852157, 0.9921335 ],\n",
              "        [0.9977797 , 0.9960034 , 0.988323  ],\n",
              "        [0.9858695 , 0.99856234, 0.99987864],\n",
              "        [0.99572587, 0.9999523 , 0.9904816 ],\n",
              "        [0.98746324, 0.98293614, 0.99403155],\n",
              "        [0.9979063 , 0.99726045, 0.99758065],\n",
              "        [0.9964851 , 0.98995554, 0.9972333 ],\n",
              "        [0.9945719 , 0.99617827, 0.99917316],\n",
              "        [0.99254787, 0.99810016, 0.99982   ],\n",
              "        [0.98966527, 0.998121  , 0.9976933 ],\n",
              "        [0.99694026, 0.99844587, 0.99143267],\n",
              "        [0.99928737, 0.9997655 , 0.99812615],\n",
              "        [0.9920238 , 0.99576783, 0.9990442 ],\n",
              "        [0.99933386, 0.9944042 , 0.9991677 ],\n",
              "        [0.9934006 , 0.99823225, 0.9955498 ],\n",
              "        [0.9995185 , 0.9964318 , 0.9995271 ],\n",
              "        [0.99931693, 0.99907136, 0.99611413],\n",
              "        [0.99510217, 0.9951104 , 0.99542654],\n",
              "        [0.9725579 , 0.9962392 , 0.998585  ],\n",
              "        [0.994033  , 0.99643874, 0.99653697],\n",
              "        [0.993876  , 0.9987718 , 0.99867964],\n",
              "        [0.9943911 , 0.9990568 , 0.9973564 ],\n",
              "        [0.98985744, 0.9976727 , 0.9879619 ],\n",
              "        [0.99273694, 0.9984571 , 0.9932308 ],\n",
              "        [0.9948065 , 0.99922276, 0.97652626],\n",
              "        [0.9805684 , 0.99651456, 0.99945736],\n",
              "        [0.99043727, 0.9940531 , 0.9998964 ],\n",
              "        [0.9925692 , 0.99872994, 0.983073  ],\n",
              "        [0.995883  , 0.9966012 , 0.9986714 ],\n",
              "        [0.9967308 , 0.9981017 , 0.99990773],\n",
              "        [0.99762976, 0.9996176 , 0.99495244],\n",
              "        [0.99489605, 0.99510443, 0.9978844 ],\n",
              "        [0.9923631 , 0.98497987, 0.999871  ],\n",
              "        [0.998392  , 0.99857914, 0.9989207 ],\n",
              "        [0.99897146, 0.9971802 , 0.99689186],\n",
              "        [0.9985509 , 0.9902004 , 0.99562705],\n",
              "        [0.99904084, 0.99471843, 0.99809575],\n",
              "        [0.9985993 , 0.9927356 , 0.99906516],\n",
              "        [0.99524164, 0.99850273, 0.9998857 ],\n",
              "        [0.9931104 , 0.9930184 , 0.99507284],\n",
              "        [0.99963725, 0.99272287, 0.9958235 ],\n",
              "        [0.9874393 , 0.99848866, 0.99816775],\n",
              "        [0.99182284, 0.99919426, 0.99122036],\n",
              "        [0.9998976 , 0.9971466 , 0.9993948 ],\n",
              "        [0.9966892 , 0.99351764, 0.9942244 ],\n",
              "        [0.997501  , 0.9953834 , 0.99725044],\n",
              "        [0.99585104, 0.99677575, 0.9995028 ],\n",
              "        [0.99677074, 0.9961189 , 0.9989517 ],\n",
              "        [0.9916824 , 0.9974474 , 0.9977249 ],\n",
              "        [0.9930476 , 0.99723446, 0.9996482 ],\n",
              "        [0.9874922 , 0.9944719 , 0.9911026 ],\n",
              "        [0.9840486 , 0.99831474, 0.99839926],\n",
              "        [0.9995488 , 0.99777985, 0.9884591 ],\n",
              "        [0.9991578 , 0.99983287, 0.9976053 ],\n",
              "        [0.99013174, 0.9975835 , 0.99657905],\n",
              "        [0.99782467, 0.9931121 , 0.99750996],\n",
              "        [0.9960389 , 0.99750626, 0.9996668 ],\n",
              "        [0.99427104, 0.99700165, 0.98736966],\n",
              "        [0.9938297 , 0.99606407, 0.9926629 ],\n",
              "        [0.99883175, 0.99993217, 0.998924  ],\n",
              "        [0.9985689 , 0.9976927 , 0.9940584 ],\n",
              "        [0.99880767, 0.99950016, 0.9966817 ],\n",
              "        [0.9967772 , 0.9853171 , 0.9968624 ],\n",
              "        [0.99945366, 0.9958167 , 0.9869214 ],\n",
              "        [0.99854124, 0.99190915, 0.99507296],\n",
              "        [0.9873625 , 0.9967905 , 0.9997399 ],\n",
              "        [0.99703026, 0.9889003 , 0.99689007],\n",
              "        [0.992664  , 0.9770732 , 0.9965056 ],\n",
              "        [0.9934403 , 0.99621606, 0.9954418 ],\n",
              "        [0.9999627 , 0.997646  , 0.9988835 ],\n",
              "        [0.9973533 , 0.99951565, 0.9991083 ],\n",
              "        [0.99547243, 0.9957776 , 0.9942944 ],\n",
              "        [0.99801314, 0.99648595, 0.9987278 ],\n",
              "        [0.9884622 , 0.99791205, 0.9952345 ],\n",
              "        [0.99434745, 0.99934256, 0.99853885],\n",
              "        [0.99539626, 0.99763715, 0.9998622 ],\n",
              "        [0.9924725 , 0.9955462 , 0.9941968 ],\n",
              "        [0.9994999 , 0.9928864 , 0.992571  ],\n",
              "        [0.99545   , 0.97797954, 0.9942441 ],\n",
              "        [0.9984555 , 0.9995434 , 0.99527395],\n",
              "        [0.9995159 , 0.999362  , 0.9948547 ],\n",
              "        [0.9900894 , 0.9989824 , 0.98982835],\n",
              "        [0.99974644, 0.991537  , 0.99502814],\n",
              "        [0.9971591 , 0.9992789 , 0.9877999 ],\n",
              "        [0.99021184, 0.993065  , 0.9855794 ],\n",
              "        [0.9950547 , 0.9931853 , 0.9916378 ],\n",
              "        [0.996812  , 0.9987998 , 0.99730885],\n",
              "        [0.99962664, 0.9959402 , 0.9993087 ],\n",
              "        [0.99028134, 0.9999968 , 0.9981861 ],\n",
              "        [0.9978149 , 0.99866843, 0.9837264 ],\n",
              "        [0.98260546, 0.99954236, 0.9992583 ],\n",
              "        [0.9999939 , 0.9932898 , 0.99589324],\n",
              "        [0.99681973, 0.9988109 , 0.99968004],\n",
              "        [0.99541104, 0.9990723 , 0.99683845],\n",
              "        [0.99785006, 0.99684453, 0.9997721 ],\n",
              "        [0.9973774 , 0.99630785, 0.99975884],\n",
              "        [0.9925245 , 0.9950839 , 0.99818134],\n",
              "        [0.99919355, 0.9971963 , 0.99879146],\n",
              "        [0.98100305, 0.99477375, 0.9982923 ],\n",
              "        [0.99089193, 0.9979298 , 0.99573696],\n",
              "        [0.99618554, 0.99350727, 0.9989537 ],\n",
              "        [0.9994209 , 0.98611474, 0.9979373 ],\n",
              "        [0.99795985, 0.9984685 , 0.9928775 ],\n",
              "        [0.99992883, 0.99936736, 0.9982506 ],\n",
              "        [0.9992962 , 0.9957268 , 0.98108137],\n",
              "        [0.99903166, 0.9996058 , 0.9994049 ],\n",
              "        [0.992903  , 0.9964229 , 0.99569964],\n",
              "        [0.9980444 , 0.9921825 , 0.99314   ],\n",
              "        [0.9988005 , 0.9888011 , 0.9951873 ],\n",
              "        [0.9957173 , 0.99888635, 0.99372625],\n",
              "        [0.99380744, 0.9952011 , 0.9997705 ],\n",
              "        [0.9847481 , 0.9954748 , 0.98929584],\n",
              "        [0.9944918 , 0.997491  , 0.9998231 ],\n",
              "        [0.9994316 , 0.99687195, 0.99431443],\n",
              "        [0.9975885 , 0.9972745 , 0.9986532 ],\n",
              "        [0.99538636, 0.99108076, 0.9962965 ],\n",
              "        [0.9982176 , 0.9915898 , 0.99942625],\n",
              "        [0.98610663, 0.990345  , 0.9951744 ],\n",
              "        [0.99865746, 0.98411644, 0.98992956],\n",
              "        [0.99803185, 0.99430037, 0.9974239 ],\n",
              "        [0.9949626 , 0.98955107, 0.99691045],\n",
              "        [0.9965817 , 0.9981854 , 0.99309945],\n",
              "        [0.9988353 , 0.9934901 , 0.99126923],\n",
              "        [0.9984369 , 0.995731  , 0.9998559 ],\n",
              "        [0.99894345, 0.9960718 , 0.9894297 ],\n",
              "        [0.9979136 , 0.99814236, 0.9980558 ],\n",
              "        [0.9948238 , 0.9982716 , 0.99897695],\n",
              "        [0.9948238 , 0.9985844 , 0.99704397],\n",
              "        [0.9986433 , 0.9958905 , 0.98960817],\n",
              "        [0.9940525 , 0.995044  , 0.99957025],\n",
              "        [0.99701667, 0.9939811 , 0.99642813],\n",
              "        [0.9998672 , 0.99119747, 0.9992845 ],\n",
              "        [0.987798  , 0.9948373 , 0.9844805 ],\n",
              "        [0.99910045, 0.999756  , 0.990155  ],\n",
              "        [0.99399304, 0.9952785 , 0.98724055],\n",
              "        [0.9881059 , 0.9945357 , 0.9985007 ],\n",
              "        [0.99952054, 0.9987191 , 0.9967433 ],\n",
              "        [0.99595284, 0.99720633, 0.98850846],\n",
              "        [0.99825835, 0.9977894 , 0.9928411 ],\n",
              "        [0.9967835 , 0.9836458 , 0.9926127 ],\n",
              "        [0.9922174 , 0.9968697 , 0.99962354],\n",
              "        [0.9986415 , 0.9997138 , 0.9983078 ],\n",
              "        [0.997653  , 0.9879062 , 0.99836695],\n",
              "        [0.981501  , 0.99554765, 0.99409056],\n",
              "        [0.9989953 , 0.99096096, 0.99910307],\n",
              "        [0.99934196, 0.9978875 , 0.99793935],\n",
              "        [0.9998313 , 0.99677956, 0.99759364],\n",
              "        [0.99966097, 0.99160576, 0.995551  ],\n",
              "        [0.99972904, 0.98576295, 0.9985783 ],\n",
              "        [0.99598825, 0.9868406 , 0.99492896],\n",
              "        [0.9984933 , 0.9919325 , 0.9980395 ],\n",
              "        [0.99749124, 0.9934225 , 0.9980247 ],\n",
              "        [0.9943229 , 0.9999615 , 0.9975643 ],\n",
              "        [0.9983201 , 0.99996686, 0.9989778 ],\n",
              "        [0.9979248 , 0.9967115 , 0.9975804 ],\n",
              "        [0.994261  , 0.9994503 , 0.9988208 ],\n",
              "        [0.98060095, 0.9981644 , 0.9984944 ],\n",
              "        [0.9988495 , 0.99774706, 0.99837756],\n",
              "        [0.99765325, 0.99455225, 0.9968662 ]], dtype=float32)>)"
            ]
          },
          "metadata": {},
          "execution_count": 81
        }
      ]
    },
    {
      "cell_type": "code",
      "source": [
        "# 8. Create a tensor with random values of shape [1, 224, 224, 3] then squeeze\n",
        "#    to change the shape to [224, 224, 3]\n",
        "tensor_d = tf.constant(tf.random.uniform(shape=[1, 224, 224, 3]))\n",
        "tensor_d"
      ],
      "metadata": {
        "colab": {
          "base_uri": "https://localhost:8080/"
        },
        "id": "xDrULFs2vegZ",
        "outputId": "1d51e138-a4dc-4c78-9aed-6bb4acafca53"
      },
      "execution_count": null,
      "outputs": [
        {
          "output_type": "execute_result",
          "data": {
            "text/plain": [
              "<tf.Tensor: shape=(1, 224, 224, 3), dtype=float32, numpy=\n",
              "array([[[[0.95831835, 0.01680839, 0.3156035 ],\n",
              "         [0.16013157, 0.7148702 , 0.7892921 ],\n",
              "         [0.11484027, 0.33310425, 0.21091413],\n",
              "         ...,\n",
              "         [0.6279857 , 0.85051286, 0.9490392 ],\n",
              "         [0.62438786, 0.2802421 , 0.18754554],\n",
              "         [0.9087832 , 0.46846092, 0.5317346 ]],\n",
              "\n",
              "        [[0.85744655, 0.51288927, 0.18603599],\n",
              "         [0.04882693, 0.78045344, 0.79377043],\n",
              "         [0.9356363 , 0.32798207, 0.15949786],\n",
              "         ...,\n",
              "         [0.6933085 , 0.5420611 , 0.1860913 ],\n",
              "         [0.7326596 , 0.9234495 , 0.07200372],\n",
              "         [0.5471792 , 0.24985266, 0.14673471]],\n",
              "\n",
              "        [[0.5033684 , 0.7000841 , 0.21468806],\n",
              "         [0.9304948 , 0.17212296, 0.720364  ],\n",
              "         [0.6657183 , 0.17304075, 0.7110392 ],\n",
              "         ...,\n",
              "         [0.35423398, 0.126225  , 0.24436975],\n",
              "         [0.096439  , 0.06387579, 0.32836854],\n",
              "         [0.15067935, 0.6084572 , 0.47766674]],\n",
              "\n",
              "        ...,\n",
              "\n",
              "        [[0.23573959, 0.42224514, 0.9151635 ],\n",
              "         [0.38158715, 0.32973826, 0.5171102 ],\n",
              "         [0.06080973, 0.31411576, 0.22626662],\n",
              "         ...,\n",
              "         [0.5705669 , 0.4921385 , 0.09957004],\n",
              "         [0.7411188 , 0.02490544, 0.6451397 ],\n",
              "         [0.87311184, 0.7771938 , 0.7208451 ]],\n",
              "\n",
              "        [[0.9943476 , 0.7494216 , 0.04249358],\n",
              "         [0.0224061 , 0.5791631 , 0.7543137 ],\n",
              "         [0.84515274, 0.6103951 , 0.5505407 ],\n",
              "         ...,\n",
              "         [0.1359564 , 0.47180867, 0.4215784 ],\n",
              "         [0.1299932 , 0.5381433 , 0.71466696],\n",
              "         [0.15192771, 0.8817011 , 0.2109077 ]],\n",
              "\n",
              "        [[0.603493  , 0.16534615, 0.6985712 ],\n",
              "         [0.15773225, 0.8743893 , 0.58997643],\n",
              "         [0.80147445, 0.37448967, 0.8073541 ],\n",
              "         ...,\n",
              "         [0.65353775, 0.7825564 , 0.45476055],\n",
              "         [0.45565426, 0.39367366, 0.925439  ],\n",
              "         [0.05451977, 0.5806842 , 0.01799083]]]], dtype=float32)>"
            ]
          },
          "metadata": {},
          "execution_count": 82
        }
      ]
    },
    {
      "cell_type": "code",
      "source": [
        "tensor_d_squeezed = tf.squeeze(tensor_d)\n",
        "tensor_d_squeezed.shape"
      ],
      "metadata": {
        "colab": {
          "base_uri": "https://localhost:8080/"
        },
        "id": "05uonAyB2mTH",
        "outputId": "16e3b69c-b863-4584-940c-6f065bfb02e2"
      },
      "execution_count": null,
      "outputs": [
        {
          "output_type": "execute_result",
          "data": {
            "text/plain": [
              "TensorShape([224, 224, 3])"
            ]
          },
          "metadata": {},
          "execution_count": 85
        }
      ]
    },
    {
      "cell_type": "code",
      "source": [
        "# 9. Create a tensor with shape [10] using your choice of values then find the\n",
        "#    index with the max value\n",
        "tensor_e = tf.constant([1, 4, 5, 7, 0, 1, 4, 2, 3, 6])\n",
        "tensor_e.shape"
      ],
      "metadata": {
        "colab": {
          "base_uri": "https://localhost:8080/"
        },
        "id": "CSsesn5B3Kuv",
        "outputId": "dd7c6494-f988-4fb1-ebc6-5d823bcda359"
      },
      "execution_count": null,
      "outputs": [
        {
          "output_type": "execute_result",
          "data": {
            "text/plain": [
              "TensorShape([10])"
            ]
          },
          "metadata": {},
          "execution_count": 90
        }
      ]
    },
    {
      "cell_type": "code",
      "source": [
        "max_index = tf.argmax(tensor_e)\n",
        "max_index"
      ],
      "metadata": {
        "colab": {
          "base_uri": "https://localhost:8080/"
        },
        "id": "THN1yohB4DJK",
        "outputId": "d200901c-8c53-46a5-cae7-bf85fd60acc3"
      },
      "execution_count": null,
      "outputs": [
        {
          "output_type": "execute_result",
          "data": {
            "text/plain": [
              "<tf.Tensor: shape=(), dtype=int64, numpy=3>"
            ]
          },
          "metadata": {},
          "execution_count": 91
        }
      ]
    },
    {
      "cell_type": "code",
      "source": [
        "# 10. One-hot encode thetensor created in 9\n",
        "tf.one_hot(tensor_e, depth=10)"
      ],
      "metadata": {
        "colab": {
          "base_uri": "https://localhost:8080/"
        },
        "id": "MaZnIcx-4P90",
        "outputId": "09a4f55d-5f90-422a-e5e5-c7d794359300"
      },
      "execution_count": null,
      "outputs": [
        {
          "output_type": "execute_result",
          "data": {
            "text/plain": [
              "<tf.Tensor: shape=(10, 10), dtype=float32, numpy=\n",
              "array([[0., 1., 0., 0., 0., 0., 0., 0., 0., 0.],\n",
              "       [0., 0., 0., 0., 1., 0., 0., 0., 0., 0.],\n",
              "       [0., 0., 0., 0., 0., 1., 0., 0., 0., 0.],\n",
              "       [0., 0., 0., 0., 0., 0., 0., 1., 0., 0.],\n",
              "       [1., 0., 0., 0., 0., 0., 0., 0., 0., 0.],\n",
              "       [0., 1., 0., 0., 0., 0., 0., 0., 0., 0.],\n",
              "       [0., 0., 0., 0., 1., 0., 0., 0., 0., 0.],\n",
              "       [0., 0., 1., 0., 0., 0., 0., 0., 0., 0.],\n",
              "       [0., 0., 0., 1., 0., 0., 0., 0., 0., 0.],\n",
              "       [0., 0., 0., 0., 0., 0., 1., 0., 0., 0.]], dtype=float32)>"
            ]
          },
          "metadata": {},
          "execution_count": 92
        }
      ]
    },
    {
      "cell_type": "code",
      "source": [],
      "metadata": {
        "id": "ph5IW3E24f_U"
      },
      "execution_count": null,
      "outputs": []
    }
  ]
}